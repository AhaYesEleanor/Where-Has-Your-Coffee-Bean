{
 "cells": [
  {
   "cell_type": "code",
   "execution_count": 601,
   "metadata": {},
   "outputs": [],
   "source": [
    "import pandas as pd\n",
    "import numpy as np\n",
    "import matplotlib\n",
    "import matplotlib.pyplot as plt\n",
    "import seaborn as sns\n",
    "import pickle\n",
    "\n",
    "import warnings\n",
    "warnings.filterwarnings('ignore')\n",
    "\n",
    "from sklearn.pipeline import make_pipeline\n",
    "from sklearn.preprocessing import StandardScaler\n",
    "from sklearn.model_selection import train_test_split\n",
    "from sklearn.model_selection import cross_val_score\n",
    "from sklearn.metrics import classification_report\n",
    "from sklearn.metrics import accuracy_score\n",
    "from sklearn.metrics import confusion_matrix\n",
    "from sklearn.metrics import log_loss\n",
    "\n",
    "from sklearn.ensemble import VotingClassifier\n",
    "from sklearn.ensemble import RandomForestClassifier\n",
    "from sklearn.svm import SVC\n",
    "from sklearn.linear_model import SGDClassifier\n",
    "from sklearn.gaussian_process import GaussianProcessClassifier\n",
    "from sklearn.gaussian_process.kernels import RBF\n",
    "from sklearn.tree import DecisionTreeClassifier\n",
    "from sklearn.naive_bayes import GaussianNB\n",
    "from sklearn.gaussian_process.kernels import ExpSineSquared\n",
    "\n",
    "from hyperopt import fmin, hp, tpe, Trials\n",
    "\n",
    "from copy import deepcopy"
   ]
  },
  {
   "cell_type": "code",
   "execution_count": 483,
   "metadata": {},
   "outputs": [],
   "source": [
    "font = {'family' : 'helvetica',\n",
    "        'weight' : 'normal',\n",
    "        'size'   : 12}\n",
    "\n",
    "plt.rc('font', **font)\n",
    "plt.rcParams.update({'figure.autolayout': True})"
   ]
  },
  {
   "cell_type": "code",
   "execution_count": 2,
   "metadata": {},
   "outputs": [],
   "source": [
    "# Opening the cleaned data:\n",
    "with open('to_model_top_4_classes.pickle', 'rb') as f:\n",
    "    to_model = pickle.load(f)"
   ]
  },
  {
   "cell_type": "markdown",
   "metadata": {},
   "source": [
    "## Train / Test Split"
   ]
  },
  {
   "cell_type": "code",
   "execution_count": 4,
   "metadata": {},
   "outputs": [],
   "source": [
    "X = to_model.drop(columns='Country.of.Origin')\n",
    "y = to_model['Country.of.Origin']\n",
    "X_train, X_test, y_train, y_test = train_test_split(X,y, test_size=0.2, stratify=y, random_state=42)"
   ]
  },
  {
   "cell_type": "code",
   "execution_count": 5,
   "metadata": {},
   "outputs": [
    {
     "data": {
      "text/html": [
       "<div>\n",
       "<style scoped>\n",
       "    .dataframe tbody tr th:only-of-type {\n",
       "        vertical-align: middle;\n",
       "    }\n",
       "\n",
       "    .dataframe tbody tr th {\n",
       "        vertical-align: top;\n",
       "    }\n",
       "\n",
       "    .dataframe thead th {\n",
       "        text-align: right;\n",
       "    }\n",
       "</style>\n",
       "<table border=\"1\" class=\"dataframe\">\n",
       "  <thead>\n",
       "    <tr style=\"text-align: right;\">\n",
       "      <th></th>\n",
       "      <th>Aroma</th>\n",
       "      <th>Flavor</th>\n",
       "      <th>Aftertaste</th>\n",
       "      <th>Acidity</th>\n",
       "      <th>Body</th>\n",
       "      <th>Balance</th>\n",
       "      <th>Sweetness</th>\n",
       "      <th>Uniformity</th>\n",
       "      <th>Clean.Cup</th>\n",
       "    </tr>\n",
       "  </thead>\n",
       "  <tbody>\n",
       "    <tr>\n",
       "      <th>1066</th>\n",
       "      <td>7.17</td>\n",
       "      <td>7.42</td>\n",
       "      <td>6.83</td>\n",
       "      <td>7.50</td>\n",
       "      <td>7.17</td>\n",
       "      <td>7.25</td>\n",
       "      <td>10.0</td>\n",
       "      <td>10.0</td>\n",
       "      <td>10.0</td>\n",
       "    </tr>\n",
       "    <tr>\n",
       "      <th>651</th>\n",
       "      <td>7.67</td>\n",
       "      <td>7.58</td>\n",
       "      <td>7.58</td>\n",
       "      <td>7.75</td>\n",
       "      <td>7.67</td>\n",
       "      <td>6.83</td>\n",
       "      <td>10.0</td>\n",
       "      <td>10.0</td>\n",
       "      <td>10.0</td>\n",
       "    </tr>\n",
       "  </tbody>\n",
       "</table>\n",
       "</div>"
      ],
      "text/plain": [
       "      Aroma  Flavor  Aftertaste  Acidity  Body  Balance  Sweetness  \\\n",
       "1066   7.17    7.42        6.83     7.50  7.17     7.25       10.0   \n",
       "651    7.67    7.58        7.58     7.75  7.67     6.83       10.0   \n",
       "\n",
       "      Uniformity  Clean.Cup  \n",
       "1066        10.0       10.0  \n",
       "651         10.0       10.0  "
      ]
     },
     "execution_count": 5,
     "metadata": {},
     "output_type": "execute_result"
    }
   ],
   "source": [
    "X_train.sample(2)"
   ]
  },
  {
   "cell_type": "code",
   "execution_count": 6,
   "metadata": {},
   "outputs": [
    {
     "data": {
      "text/plain": [
       "array(['Brazil', 'Guatemala', 'Colombia', 'Mexico'], dtype=object)"
      ]
     },
     "execution_count": 6,
     "metadata": {},
     "output_type": "execute_result"
    }
   ],
   "source": [
    "y_train.unique()"
   ]
  },
  {
   "cell_type": "markdown",
   "metadata": {},
   "source": [
    "## Defining Error Metrics of Interest and setting up Cross Validation"
   ]
  },
  {
   "cell_type": "code",
   "execution_count": 6,
   "metadata": {},
   "outputs": [],
   "source": [
    "def validate_model(unfitted_model):\n",
    "    logloss = -1 * cross_val_score(unfitted_model, X_train, y_train, cv=8, scoring='neg_log_loss').mean()\n",
    "    acc = cross_val_score(unfitted_model, X_train, y_train, cv=8, scoring='accuracy').mean()\n",
    "    return logloss, acc"
   ]
  },
  {
   "cell_type": "code",
   "execution_count": null,
   "metadata": {},
   "outputs": [],
   "source": []
  },
  {
   "cell_type": "markdown",
   "metadata": {},
   "source": [
    "## Multinomial Logistic Regression"
   ]
  },
  {
   "cell_type": "code",
   "execution_count": 199,
   "metadata": {},
   "outputs": [],
   "source": [
    "from sklearn.linear_model import LogisticRegression"
   ]
  },
  {
   "cell_type": "code",
   "execution_count": 200,
   "metadata": {},
   "outputs": [
    {
     "data": {
      "text/plain": [
       "(1.1912723051875245, 0.5436864405862243)"
      ]
     },
     "execution_count": 200,
     "metadata": {},
     "output_type": "execute_result"
    }
   ],
   "source": [
    "model_lr = LogisticRegression()\n",
    "model_lr.fit(X_train, y_train)\n",
    "predict_lr = model_lr.predict(X_test)\n",
    "\n",
    "validate_model(model_lr)"
   ]
  },
  {
   "cell_type": "code",
   "execution_count": null,
   "metadata": {},
   "outputs": [],
   "source": []
  },
  {
   "cell_type": "markdown",
   "metadata": {},
   "source": [
    "## K Nearest Neighbors"
   ]
  },
  {
   "cell_type": "code",
   "execution_count": 201,
   "metadata": {},
   "outputs": [],
   "source": [
    "from sklearn.neighbors import KNeighborsClassifier"
   ]
  },
  {
   "cell_type": "code",
   "execution_count": 202,
   "metadata": {},
   "outputs": [
    {
     "data": {
      "text/plain": [
       "(6.033981029149847, 0.4833450519733865)"
      ]
     },
     "execution_count": 202,
     "metadata": {},
     "output_type": "execute_result"
    }
   ],
   "source": [
    "model_knn = KNeighborsClassifier()\n",
    "model_knn.fit(X_train, y_train)\n",
    "predict_knn = model_lr.predict(X_test)\n",
    "\n",
    "validate_model(model_knn)"
   ]
  },
  {
   "cell_type": "markdown",
   "metadata": {},
   "source": [
    "## Support Vector Machine Classifier"
   ]
  },
  {
   "cell_type": "code",
   "execution_count": 203,
   "metadata": {},
   "outputs": [
    {
     "data": {
      "text/plain": [
       "(1.1745026738232878, 0.4975404387805253)"
      ]
     },
     "execution_count": 203,
     "metadata": {},
     "output_type": "execute_result"
    }
   ],
   "source": [
    "from sklearn.svm import SVC\n",
    "model_svc = SVC(probability=True)\n",
    "model_svc.fit(X_train,y_train)\n",
    "\n",
    "validate_model(model_svc)"
   ]
  },
  {
   "cell_type": "markdown",
   "metadata": {},
   "source": [
    "## Random Forest"
   ]
  },
  {
   "cell_type": "code",
   "execution_count": 7,
   "metadata": {},
   "outputs": [
    {
     "data": {
      "text/plain": [
       "-1.1651806198476231"
      ]
     },
     "execution_count": 7,
     "metadata": {},
     "output_type": "execute_result"
    }
   ],
   "source": [
    "from sklearn.ensemble import RandomForestClassifier\n",
    "model_rfc = RandomForestClassifier(random_state=4444, max_depth=4)\n",
    "model_rfc.fit(X_train,y_train)\n",
    "predict_rfc = model_rfc.predict(X_test)\n",
    "\n",
    "cross_val_score(model_rfc, X_train, y_train, cv=8, scoring='neg_log_loss').mean()"
   ]
  },
  {
   "cell_type": "code",
   "execution_count": 8,
   "metadata": {},
   "outputs": [],
   "source": [
    "with open('rfc_model.pickle', 'wb') as f:\n",
    "    pickle.dump(model_rfc, f)"
   ]
  },
  {
   "cell_type": "code",
   "execution_count": 9,
   "metadata": {},
   "outputs": [
    {
     "data": {
      "text/plain": [
       "Aroma         7.537573\n",
       "Flavor        7.491932\n",
       "Aftertaste    7.348068\n",
       "Acidity       7.515658\n",
       "Body          7.485094\n",
       "Balance       7.490872\n",
       "Sweetness     9.933829\n",
       "Uniformity    9.845692\n",
       "Clean.Cup     9.818684\n",
       "dtype: float64"
      ]
     },
     "execution_count": 9,
     "metadata": {},
     "output_type": "execute_result"
    }
   ],
   "source": [
    "X_train.mean()"
   ]
  },
  {
   "cell_type": "code",
   "execution_count": 10,
   "metadata": {},
   "outputs": [
    {
     "data": {
      "text/plain": [
       "array(['Brazil', 'Colombia', 'Guatemala', 'Mexico'], dtype=object)"
      ]
     },
     "execution_count": 10,
     "metadata": {},
     "output_type": "execute_result"
    }
   ],
   "source": [
    "model_rfc.classes_"
   ]
  },
  {
   "cell_type": "code",
   "execution_count": 11,
   "metadata": {},
   "outputs": [],
   "source": [
    "from sklearn.metrics import confusion_matrix\n",
    "\n",
    "conf_mat = confusion_matrix(y_test, predict_rfc, labels=['Brazil','Colombia','Guatemala','Mexico'])"
   ]
  },
  {
   "cell_type": "code",
   "execution_count": 12,
   "metadata": {},
   "outputs": [
    {
     "data": {
      "text/plain": [
       "Mexico       47\n",
       "Colombia     37\n",
       "Guatemala    36\n",
       "Brazil       27\n",
       "Name: Country.of.Origin, dtype: int64"
      ]
     },
     "execution_count": 12,
     "metadata": {},
     "output_type": "execute_result"
    }
   ],
   "source": [
    "y_test.value_counts()"
   ]
  },
  {
   "cell_type": "code",
   "execution_count": 13,
   "metadata": {},
   "outputs": [],
   "source": [
    "class_dict = {'Brazil':0, 'Colombia':1, 'Guatemala':2, 'Mexico':3}"
   ]
  },
  {
   "cell_type": "code",
   "execution_count": 14,
   "metadata": {},
   "outputs": [
    {
     "data": {
      "image/png": "[encoded data removed]",
      "text/plain": [
       "<Figure size 432x288 with 2 Axes>"
      ]
     },
     "metadata": {},
     "output_type": "display_data"
    }
   ],
   "source": [
    "conf_heatmap = sns.heatmap(conf_mat, annot=True, xticklabels=['Brazil','Colombia','Guatemala','Mexico'], \n",
    "            yticklabels=['Brazil','Colombia','Guatemala','Mexico'])\n",
    "conf_heatmap.figure.savefig('conf_heatmap.png')"
   ]
  },
  {
   "cell_type": "code",
   "execution_count": 31,
   "metadata": {},
   "outputs": [
    {
     "data": {
      "image/png": "[encoded data removed]",
      "text/plain": [
       "<Figure size 576x576 with 2 Axes>"
      ]
     },
     "metadata": {},
     "output_type": "display_data"
    }
   ],
   "source": [
    "x = X_test['Body']\n",
    "y = y_test.apply(lambda x: class_dict[x])\n",
    "label = pd.Series(predict_rfc).apply(lambda x: class_dict[x])\n",
    "colors = ['coral','green','blue','purple']\n",
    "countries = ['Brazil','Colombia','Guatemala','Mexico']\n",
    "\n",
    "fig = plt.figure(figsize=(8,8))\n",
    "plt.scatter(x, y, c=label, cmap=matplotlib.colors.ListedColormap(colors), alpha=0.7)\n",
    "\n",
    "cb = plt.colorbar()\n",
    "loc = np.arange(0,max(label),max(label)/float(len(colors)))\n",
    "cb.set_ticks([0.5,1,2,2.5])\n",
    "cb.set_ticklabels(countries)\n",
    "plt.savefig('label_scatter.png')"
   ]
  },
  {
   "cell_type": "markdown",
   "metadata": {},
   "source": [
    "## Neural Net"
   ]
  },
  {
   "cell_type": "code",
   "execution_count": 213,
   "metadata": {},
   "outputs": [],
   "source": [
    "from sklearn.preprocessing import LabelEncoder\n",
    "from keras.utils import np_utils\n",
    "ohe = LabelEncoder().fit(np.array(y_train).ravel())\n",
    "y_train_t = ohe.transform(np.array(y_train).ravel())\n",
    "y_test_t = ohe.transform(np.array(y_test).ravel())\n",
    "y_train_t = np_utils.to_categorical(np.array(y_train_t).ravel())\n",
    "y_test_t = np_utils.to_categorical(np.array(y_test_t).ravel())"
   ]
  },
  {
   "cell_type": "code",
   "execution_count": 214,
   "metadata": {},
   "outputs": [
    {
     "data": {
      "text/plain": [
       "252        Brazil\n",
       "1276    Guatemala\n",
       "704      Colombia\n",
       "819        Brazil\n",
       "212      Colombia\n",
       "Name: Country.of.Origin, dtype: object"
      ]
     },
     "execution_count": 214,
     "metadata": {},
     "output_type": "execute_result"
    }
   ],
   "source": [
    "y_train.head()"
   ]
  },
  {
   "cell_type": "code",
   "execution_count": 215,
   "metadata": {},
   "outputs": [
    {
     "data": {
      "text/plain": [
       "array([[1., 0., 0., 0.],\n",
       "       [0., 0., 1., 0.],\n",
       "       [0., 1., 0., 0.],\n",
       "       [1., 0., 0., 0.],\n",
       "       [0., 1., 0., 0.]], dtype=float32)"
      ]
     },
     "execution_count": 215,
     "metadata": {},
     "output_type": "execute_result"
    }
   ],
   "source": [
    "y_train_t[0:5]"
   ]
  },
  {
   "cell_type": "code",
   "execution_count": 216,
   "metadata": {},
   "outputs": [],
   "source": [
    "y_test_cat = y_test.apply(lambda x: 0 if x=='Brazil'\n",
    "                                  else (1 if x=='Colombia'\n",
    "                                  else (2 if x=='Guatemala'\n",
    "                                       else 3)))"
   ]
  },
  {
   "cell_type": "code",
   "execution_count": 217,
   "metadata": {},
   "outputs": [
    {
     "data": {
      "text/plain": [
       "470      Colombia\n",
       "1113    Guatemala\n",
       "397      Colombia\n",
       "191     Guatemala\n",
       "1190       Mexico\n",
       "Name: Country.of.Origin, dtype: object"
      ]
     },
     "execution_count": 217,
     "metadata": {},
     "output_type": "execute_result"
    }
   ],
   "source": [
    "y_test.head()"
   ]
  },
  {
   "cell_type": "code",
   "execution_count": 218,
   "metadata": {},
   "outputs": [
    {
     "data": {
      "text/plain": [
       "470     1\n",
       "1113    2\n",
       "397     1\n",
       "191     2\n",
       "1190    3\n",
       "Name: Country.of.Origin, dtype: int64"
      ]
     },
     "execution_count": 218,
     "metadata": {},
     "output_type": "execute_result"
    }
   ],
   "source": [
    "y_test_cat.head()"
   ]
  },
  {
   "cell_type": "code",
   "execution_count": 219,
   "metadata": {},
   "outputs": [],
   "source": [
    "from keras.models import Sequential\n",
    "from keras.layers import Dense"
   ]
  },
  {
   "cell_type": "code",
   "execution_count": 220,
   "metadata": {},
   "outputs": [
    {
     "data": {
      "text/plain": [
       "(585, 9)"
      ]
     },
     "execution_count": 220,
     "metadata": {},
     "output_type": "execute_result"
    }
   ],
   "source": [
    "X_train.shape"
   ]
  },
  {
   "cell_type": "code",
   "execution_count": 221,
   "metadata": {},
   "outputs": [
    {
     "ename": "ValueError",
     "evalue": "Error when checking input: expected dense_3_input to have shape (14,) but got array with shape (9,)",
     "output_type": "error",
     "traceback": [
      "\u001b[0;31m---------------------------------------------------------------------------\u001b[0m",
      "\u001b[0;31mValueError\u001b[0m                                Traceback (most recent call last)",
      "\u001b[0;32m<ipython-input-221-73972b0cb6ef>\u001b[0m in \u001b[0;36m<module>\u001b[0;34m()\u001b[0m\n\u001b[1;32m      4\u001b[0m \u001b[0;34m\u001b[0m\u001b[0m\n\u001b[1;32m      5\u001b[0m \u001b[0mmodel\u001b[0m\u001b[0;34m.\u001b[0m\u001b[0mcompile\u001b[0m\u001b[0;34m(\u001b[0m\u001b[0mloss\u001b[0m\u001b[0;34m=\u001b[0m\u001b[0;34m'categorical_crossentropy'\u001b[0m\u001b[0;34m,\u001b[0m \u001b[0moptimizer\u001b[0m\u001b[0;34m=\u001b[0m\u001b[0;34m'adam'\u001b[0m\u001b[0;34m,\u001b[0m \u001b[0mmetrics\u001b[0m\u001b[0;34m=\u001b[0m\u001b[0;34m[\u001b[0m\u001b[0;34m'accuracy'\u001b[0m\u001b[0;34m]\u001b[0m\u001b[0;34m)\u001b[0m\u001b[0;34m\u001b[0m\u001b[0m\n\u001b[0;32m----> 6\u001b[0;31m \u001b[0mmodel\u001b[0m\u001b[0;34m.\u001b[0m\u001b[0mfit\u001b[0m\u001b[0;34m(\u001b[0m\u001b[0mX_train\u001b[0m\u001b[0;34m,\u001b[0m \u001b[0my_train_t\u001b[0m\u001b[0;34m,\u001b[0m \u001b[0mepochs\u001b[0m\u001b[0;34m=\u001b[0m\u001b[0;36m200\u001b[0m\u001b[0;34m,\u001b[0m \u001b[0mbatch_size\u001b[0m\u001b[0;34m=\u001b[0m\u001b[0;36m10\u001b[0m\u001b[0;34m)\u001b[0m\u001b[0;34m\u001b[0m\u001b[0m\n\u001b[0m",
      "\u001b[0;32m~/anaconda3/lib/python3.6/site-packages/keras/engine/training.py\u001b[0m in \u001b[0;36mfit\u001b[0;34m(self, x, y, batch_size, epochs, verbose, callbacks, validation_split, validation_data, shuffle, class_weight, sample_weight, initial_epoch, steps_per_epoch, validation_steps, **kwargs)\u001b[0m\n\u001b[1;32m    953\u001b[0m             \u001b[0msample_weight\u001b[0m\u001b[0;34m=\u001b[0m\u001b[0msample_weight\u001b[0m\u001b[0;34m,\u001b[0m\u001b[0;34m\u001b[0m\u001b[0m\n\u001b[1;32m    954\u001b[0m             \u001b[0mclass_weight\u001b[0m\u001b[0;34m=\u001b[0m\u001b[0mclass_weight\u001b[0m\u001b[0;34m,\u001b[0m\u001b[0;34m\u001b[0m\u001b[0m\n\u001b[0;32m--> 955\u001b[0;31m             batch_size=batch_size)\n\u001b[0m\u001b[1;32m    956\u001b[0m         \u001b[0;31m# Prepare validation data.\u001b[0m\u001b[0;34m\u001b[0m\u001b[0;34m\u001b[0m\u001b[0m\n\u001b[1;32m    957\u001b[0m         \u001b[0mdo_validation\u001b[0m \u001b[0;34m=\u001b[0m \u001b[0;32mFalse\u001b[0m\u001b[0;34m\u001b[0m\u001b[0m\n",
      "\u001b[0;32m~/anaconda3/lib/python3.6/site-packages/keras/engine/training.py\u001b[0m in \u001b[0;36m_standardize_user_data\u001b[0;34m(self, x, y, sample_weight, class_weight, check_array_lengths, batch_size)\u001b[0m\n\u001b[1;32m    752\u001b[0m             \u001b[0mfeed_input_shapes\u001b[0m\u001b[0;34m,\u001b[0m\u001b[0;34m\u001b[0m\u001b[0m\n\u001b[1;32m    753\u001b[0m             \u001b[0mcheck_batch_axis\u001b[0m\u001b[0;34m=\u001b[0m\u001b[0;32mFalse\u001b[0m\u001b[0;34m,\u001b[0m  \u001b[0;31m# Don't enforce the batch size.\u001b[0m\u001b[0;34m\u001b[0m\u001b[0m\n\u001b[0;32m--> 754\u001b[0;31m             exception_prefix='input')\n\u001b[0m\u001b[1;32m    755\u001b[0m \u001b[0;34m\u001b[0m\u001b[0m\n\u001b[1;32m    756\u001b[0m         \u001b[0;32mif\u001b[0m \u001b[0my\u001b[0m \u001b[0;32mis\u001b[0m \u001b[0;32mnot\u001b[0m \u001b[0;32mNone\u001b[0m\u001b[0;34m:\u001b[0m\u001b[0;34m\u001b[0m\u001b[0m\n",
      "\u001b[0;32m~/anaconda3/lib/python3.6/site-packages/keras/engine/training_utils.py\u001b[0m in \u001b[0;36mstandardize_input_data\u001b[0;34m(data, names, shapes, check_batch_axis, exception_prefix)\u001b[0m\n\u001b[1;32m    134\u001b[0m                             \u001b[0;34m': expected '\u001b[0m \u001b[0;34m+\u001b[0m \u001b[0mnames\u001b[0m\u001b[0;34m[\u001b[0m\u001b[0mi\u001b[0m\u001b[0;34m]\u001b[0m \u001b[0;34m+\u001b[0m \u001b[0;34m' to have shape '\u001b[0m \u001b[0;34m+\u001b[0m\u001b[0;34m\u001b[0m\u001b[0m\n\u001b[1;32m    135\u001b[0m                             \u001b[0mstr\u001b[0m\u001b[0;34m(\u001b[0m\u001b[0mshape\u001b[0m\u001b[0;34m)\u001b[0m \u001b[0;34m+\u001b[0m \u001b[0;34m' but got array with shape '\u001b[0m \u001b[0;34m+\u001b[0m\u001b[0;34m\u001b[0m\u001b[0m\n\u001b[0;32m--> 136\u001b[0;31m                             str(data_shape))\n\u001b[0m\u001b[1;32m    137\u001b[0m     \u001b[0;32mreturn\u001b[0m \u001b[0mdata\u001b[0m\u001b[0;34m\u001b[0m\u001b[0m\n\u001b[1;32m    138\u001b[0m \u001b[0;34m\u001b[0m\u001b[0m\n",
      "\u001b[0;31mValueError\u001b[0m: Error when checking input: expected dense_3_input to have shape (14,) but got array with shape (9,)"
     ]
    }
   ],
   "source": [
    "model = Sequential()\n",
    "model.add(Dense(20, input_dim=14, activation='tanh'))\n",
    "model.add(Dense(4, activation='softmax'))\n",
    "\n",
    "model.compile(loss='categorical_crossentropy', optimizer='adam', metrics=['accuracy'])\n",
    "model.fit(X_train, y_train_t, epochs=200, batch_size=10)"
   ]
  },
  {
   "cell_type": "code",
   "execution_count": 222,
   "metadata": {},
   "outputs": [
    {
     "ename": "ValueError",
     "evalue": "Error when checking input: expected dense_3_input to have shape (14,) but got array with shape (9,)",
     "output_type": "error",
     "traceback": [
      "\u001b[0;31m---------------------------------------------------------------------------\u001b[0m",
      "\u001b[0;31mValueError\u001b[0m                                Traceback (most recent call last)",
      "\u001b[0;32m<ipython-input-222-d5c02466ef74>\u001b[0m in \u001b[0;36m<module>\u001b[0;34m()\u001b[0m\n\u001b[0;32m----> 1\u001b[0;31m \u001b[0mevaluation\u001b[0m \u001b[0;34m=\u001b[0m \u001b[0mmodel\u001b[0m\u001b[0;34m.\u001b[0m\u001b[0mevaluate\u001b[0m\u001b[0;34m(\u001b[0m\u001b[0mX_test\u001b[0m\u001b[0;34m,\u001b[0m \u001b[0my_test_t\u001b[0m\u001b[0;34m)\u001b[0m\u001b[0;34m\u001b[0m\u001b[0m\n\u001b[0m\u001b[1;32m      2\u001b[0m \u001b[0mprint\u001b[0m\u001b[0;34m(\u001b[0m\u001b[0;34m\"\\nLoss on Test = %.3f, Accuracy on Test = %.3f\"\u001b[0m\u001b[0;34m%\u001b[0m\u001b[0;34m(\u001b[0m\u001b[0mevaluation\u001b[0m\u001b[0;34m[\u001b[0m\u001b[0;36m0\u001b[0m\u001b[0;34m]\u001b[0m\u001b[0;34m,\u001b[0m \u001b[0mevaluation\u001b[0m\u001b[0;34m[\u001b[0m\u001b[0;36m1\u001b[0m\u001b[0;34m]\u001b[0m\u001b[0;34m)\u001b[0m\u001b[0;34m)\u001b[0m\u001b[0;34m\u001b[0m\u001b[0m\n",
      "\u001b[0;32m~/anaconda3/lib/python3.6/site-packages/keras/engine/training.py\u001b[0m in \u001b[0;36mevaluate\u001b[0;34m(self, x, y, batch_size, verbose, sample_weight, steps)\u001b[0m\n\u001b[1;32m   1103\u001b[0m             \u001b[0mx\u001b[0m\u001b[0;34m,\u001b[0m \u001b[0my\u001b[0m\u001b[0;34m,\u001b[0m\u001b[0;34m\u001b[0m\u001b[0m\n\u001b[1;32m   1104\u001b[0m             \u001b[0msample_weight\u001b[0m\u001b[0;34m=\u001b[0m\u001b[0msample_weight\u001b[0m\u001b[0;34m,\u001b[0m\u001b[0;34m\u001b[0m\u001b[0m\n\u001b[0;32m-> 1105\u001b[0;31m             batch_size=batch_size)\n\u001b[0m\u001b[1;32m   1106\u001b[0m         \u001b[0;31m# Prepare inputs, delegate logic to `test_loop`.\u001b[0m\u001b[0;34m\u001b[0m\u001b[0;34m\u001b[0m\u001b[0m\n\u001b[1;32m   1107\u001b[0m         \u001b[0;32mif\u001b[0m \u001b[0mself\u001b[0m\u001b[0;34m.\u001b[0m\u001b[0m_uses_dynamic_learning_phase\u001b[0m\u001b[0;34m(\u001b[0m\u001b[0;34m)\u001b[0m\u001b[0;34m:\u001b[0m\u001b[0;34m\u001b[0m\u001b[0m\n",
      "\u001b[0;32m~/anaconda3/lib/python3.6/site-packages/keras/engine/training.py\u001b[0m in \u001b[0;36m_standardize_user_data\u001b[0;34m(self, x, y, sample_weight, class_weight, check_array_lengths, batch_size)\u001b[0m\n\u001b[1;32m    752\u001b[0m             \u001b[0mfeed_input_shapes\u001b[0m\u001b[0;34m,\u001b[0m\u001b[0;34m\u001b[0m\u001b[0m\n\u001b[1;32m    753\u001b[0m             \u001b[0mcheck_batch_axis\u001b[0m\u001b[0;34m=\u001b[0m\u001b[0;32mFalse\u001b[0m\u001b[0;34m,\u001b[0m  \u001b[0;31m# Don't enforce the batch size.\u001b[0m\u001b[0;34m\u001b[0m\u001b[0m\n\u001b[0;32m--> 754\u001b[0;31m             exception_prefix='input')\n\u001b[0m\u001b[1;32m    755\u001b[0m \u001b[0;34m\u001b[0m\u001b[0m\n\u001b[1;32m    756\u001b[0m         \u001b[0;32mif\u001b[0m \u001b[0my\u001b[0m \u001b[0;32mis\u001b[0m \u001b[0;32mnot\u001b[0m \u001b[0;32mNone\u001b[0m\u001b[0;34m:\u001b[0m\u001b[0;34m\u001b[0m\u001b[0m\n",
      "\u001b[0;32m~/anaconda3/lib/python3.6/site-packages/keras/engine/training_utils.py\u001b[0m in \u001b[0;36mstandardize_input_data\u001b[0;34m(data, names, shapes, check_batch_axis, exception_prefix)\u001b[0m\n\u001b[1;32m    134\u001b[0m                             \u001b[0;34m': expected '\u001b[0m \u001b[0;34m+\u001b[0m \u001b[0mnames\u001b[0m\u001b[0;34m[\u001b[0m\u001b[0mi\u001b[0m\u001b[0;34m]\u001b[0m \u001b[0;34m+\u001b[0m \u001b[0;34m' to have shape '\u001b[0m \u001b[0;34m+\u001b[0m\u001b[0;34m\u001b[0m\u001b[0m\n\u001b[1;32m    135\u001b[0m                             \u001b[0mstr\u001b[0m\u001b[0;34m(\u001b[0m\u001b[0mshape\u001b[0m\u001b[0;34m)\u001b[0m \u001b[0;34m+\u001b[0m \u001b[0;34m' but got array with shape '\u001b[0m \u001b[0;34m+\u001b[0m\u001b[0;34m\u001b[0m\u001b[0m\n\u001b[0;32m--> 136\u001b[0;31m                             str(data_shape))\n\u001b[0m\u001b[1;32m    137\u001b[0m     \u001b[0;32mreturn\u001b[0m \u001b[0mdata\u001b[0m\u001b[0;34m\u001b[0m\u001b[0m\n\u001b[1;32m    138\u001b[0m \u001b[0;34m\u001b[0m\u001b[0m\n",
      "\u001b[0;31mValueError\u001b[0m: Error when checking input: expected dense_3_input to have shape (14,) but got array with shape (9,)"
     ]
    }
   ],
   "source": [
    "evaluation = model.evaluate(X_test, y_test_t)\n",
    "print(\"\\nLoss on Test = %.3f, Accuracy on Test = %.3f\"%(evaluation[0], evaluation[1]))"
   ]
  },
  {
   "cell_type": "code",
   "execution_count": 223,
   "metadata": {},
   "outputs": [
    {
     "ename": "ValueError",
     "evalue": "Error when checking input: expected dense_3_input to have shape (14,) but got array with shape (9,)",
     "output_type": "error",
     "traceback": [
      "\u001b[0;31m---------------------------------------------------------------------------\u001b[0m",
      "\u001b[0;31mValueError\u001b[0m                                Traceback (most recent call last)",
      "\u001b[0;32m<ipython-input-223-c81555ef0de5>\u001b[0m in \u001b[0;36m<module>\u001b[0;34m()\u001b[0m\n\u001b[0;32m----> 1\u001b[0;31m \u001b[0my_pred_t\u001b[0m \u001b[0;34m=\u001b[0m \u001b[0mpd\u001b[0m\u001b[0;34m.\u001b[0m\u001b[0mDataFrame\u001b[0m\u001b[0;34m(\u001b[0m\u001b[0mmodel\u001b[0m\u001b[0;34m.\u001b[0m\u001b[0mpredict_classes\u001b[0m\u001b[0;34m(\u001b[0m\u001b[0mX_test\u001b[0m\u001b[0;34m)\u001b[0m\u001b[0;34m)\u001b[0m\u001b[0;34m\u001b[0m\u001b[0m\n\u001b[0m",
      "\u001b[0;32m~/anaconda3/lib/python3.6/site-packages/keras/engine/sequential.py\u001b[0m in \u001b[0;36mpredict_classes\u001b[0;34m(self, x, batch_size, verbose)\u001b[0m\n\u001b[1;32m    270\u001b[0m             \u001b[0mA\u001b[0m \u001b[0mnumpy\u001b[0m \u001b[0marray\u001b[0m \u001b[0mof\u001b[0m \u001b[0;32mclass\u001b[0m \u001b[0mpredictions\u001b[0m\u001b[0;34m.\u001b[0m\u001b[0;34m\u001b[0m\u001b[0m\n\u001b[1;32m    271\u001b[0m         \"\"\"\n\u001b[0;32m--> 272\u001b[0;31m         \u001b[0mproba\u001b[0m \u001b[0;34m=\u001b[0m \u001b[0mself\u001b[0m\u001b[0;34m.\u001b[0m\u001b[0mpredict\u001b[0m\u001b[0;34m(\u001b[0m\u001b[0mx\u001b[0m\u001b[0;34m,\u001b[0m \u001b[0mbatch_size\u001b[0m\u001b[0;34m=\u001b[0m\u001b[0mbatch_size\u001b[0m\u001b[0;34m,\u001b[0m \u001b[0mverbose\u001b[0m\u001b[0;34m=\u001b[0m\u001b[0mverbose\u001b[0m\u001b[0;34m)\u001b[0m\u001b[0;34m\u001b[0m\u001b[0m\n\u001b[0m\u001b[1;32m    273\u001b[0m         \u001b[0;32mif\u001b[0m \u001b[0mproba\u001b[0m\u001b[0;34m.\u001b[0m\u001b[0mshape\u001b[0m\u001b[0;34m[\u001b[0m\u001b[0;34m-\u001b[0m\u001b[0;36m1\u001b[0m\u001b[0;34m]\u001b[0m \u001b[0;34m>\u001b[0m \u001b[0;36m1\u001b[0m\u001b[0;34m:\u001b[0m\u001b[0;34m\u001b[0m\u001b[0m\n\u001b[1;32m    274\u001b[0m             \u001b[0;32mreturn\u001b[0m \u001b[0mproba\u001b[0m\u001b[0;34m.\u001b[0m\u001b[0margmax\u001b[0m\u001b[0;34m(\u001b[0m\u001b[0maxis\u001b[0m\u001b[0;34m=\u001b[0m\u001b[0;34m-\u001b[0m\u001b[0;36m1\u001b[0m\u001b[0;34m)\u001b[0m\u001b[0;34m\u001b[0m\u001b[0m\n",
      "\u001b[0;32m~/anaconda3/lib/python3.6/site-packages/keras/engine/training.py\u001b[0m in \u001b[0;36mpredict\u001b[0;34m(self, x, batch_size, verbose, steps)\u001b[0m\n\u001b[1;32m   1150\u001b[0m                              'argument.')\n\u001b[1;32m   1151\u001b[0m         \u001b[0;31m# Validate user data.\u001b[0m\u001b[0;34m\u001b[0m\u001b[0;34m\u001b[0m\u001b[0m\n\u001b[0;32m-> 1152\u001b[0;31m         \u001b[0mx\u001b[0m\u001b[0;34m,\u001b[0m \u001b[0m_\u001b[0m\u001b[0;34m,\u001b[0m \u001b[0m_\u001b[0m \u001b[0;34m=\u001b[0m \u001b[0mself\u001b[0m\u001b[0;34m.\u001b[0m\u001b[0m_standardize_user_data\u001b[0m\u001b[0;34m(\u001b[0m\u001b[0mx\u001b[0m\u001b[0;34m)\u001b[0m\u001b[0;34m\u001b[0m\u001b[0m\n\u001b[0m\u001b[1;32m   1153\u001b[0m         \u001b[0;32mif\u001b[0m \u001b[0mself\u001b[0m\u001b[0;34m.\u001b[0m\u001b[0mstateful\u001b[0m\u001b[0;34m:\u001b[0m\u001b[0;34m\u001b[0m\u001b[0m\n\u001b[1;32m   1154\u001b[0m             \u001b[0;32mif\u001b[0m \u001b[0mx\u001b[0m\u001b[0;34m[\u001b[0m\u001b[0;36m0\u001b[0m\u001b[0;34m]\u001b[0m\u001b[0;34m.\u001b[0m\u001b[0mshape\u001b[0m\u001b[0;34m[\u001b[0m\u001b[0;36m0\u001b[0m\u001b[0;34m]\u001b[0m \u001b[0;34m>\u001b[0m \u001b[0mbatch_size\u001b[0m \u001b[0;32mand\u001b[0m \u001b[0mx\u001b[0m\u001b[0;34m[\u001b[0m\u001b[0;36m0\u001b[0m\u001b[0;34m]\u001b[0m\u001b[0;34m.\u001b[0m\u001b[0mshape\u001b[0m\u001b[0;34m[\u001b[0m\u001b[0;36m0\u001b[0m\u001b[0;34m]\u001b[0m \u001b[0;34m%\u001b[0m \u001b[0mbatch_size\u001b[0m \u001b[0;34m!=\u001b[0m \u001b[0;36m0\u001b[0m\u001b[0;34m:\u001b[0m\u001b[0;34m\u001b[0m\u001b[0m\n",
      "\u001b[0;32m~/anaconda3/lib/python3.6/site-packages/keras/engine/training.py\u001b[0m in \u001b[0;36m_standardize_user_data\u001b[0;34m(self, x, y, sample_weight, class_weight, check_array_lengths, batch_size)\u001b[0m\n\u001b[1;32m    752\u001b[0m             \u001b[0mfeed_input_shapes\u001b[0m\u001b[0;34m,\u001b[0m\u001b[0;34m\u001b[0m\u001b[0m\n\u001b[1;32m    753\u001b[0m             \u001b[0mcheck_batch_axis\u001b[0m\u001b[0;34m=\u001b[0m\u001b[0;32mFalse\u001b[0m\u001b[0;34m,\u001b[0m  \u001b[0;31m# Don't enforce the batch size.\u001b[0m\u001b[0;34m\u001b[0m\u001b[0m\n\u001b[0;32m--> 754\u001b[0;31m             exception_prefix='input')\n\u001b[0m\u001b[1;32m    755\u001b[0m \u001b[0;34m\u001b[0m\u001b[0m\n\u001b[1;32m    756\u001b[0m         \u001b[0;32mif\u001b[0m \u001b[0my\u001b[0m \u001b[0;32mis\u001b[0m \u001b[0;32mnot\u001b[0m \u001b[0;32mNone\u001b[0m\u001b[0;34m:\u001b[0m\u001b[0;34m\u001b[0m\u001b[0m\n",
      "\u001b[0;32m~/anaconda3/lib/python3.6/site-packages/keras/engine/training_utils.py\u001b[0m in \u001b[0;36mstandardize_input_data\u001b[0;34m(data, names, shapes, check_batch_axis, exception_prefix)\u001b[0m\n\u001b[1;32m    134\u001b[0m                             \u001b[0;34m': expected '\u001b[0m \u001b[0;34m+\u001b[0m \u001b[0mnames\u001b[0m\u001b[0;34m[\u001b[0m\u001b[0mi\u001b[0m\u001b[0;34m]\u001b[0m \u001b[0;34m+\u001b[0m \u001b[0;34m' to have shape '\u001b[0m \u001b[0;34m+\u001b[0m\u001b[0;34m\u001b[0m\u001b[0m\n\u001b[1;32m    135\u001b[0m                             \u001b[0mstr\u001b[0m\u001b[0;34m(\u001b[0m\u001b[0mshape\u001b[0m\u001b[0;34m)\u001b[0m \u001b[0;34m+\u001b[0m \u001b[0;34m' but got array with shape '\u001b[0m \u001b[0;34m+\u001b[0m\u001b[0;34m\u001b[0m\u001b[0m\n\u001b[0;32m--> 136\u001b[0;31m                             str(data_shape))\n\u001b[0m\u001b[1;32m    137\u001b[0m     \u001b[0;32mreturn\u001b[0m \u001b[0mdata\u001b[0m\u001b[0;34m\u001b[0m\u001b[0m\n\u001b[1;32m    138\u001b[0m \u001b[0;34m\u001b[0m\u001b[0m\n",
      "\u001b[0;31mValueError\u001b[0m: Error when checking input: expected dense_3_input to have shape (14,) but got array with shape (9,)"
     ]
    }
   ],
   "source": [
    "y_pred_t = pd.DataFrame(model.predict_classes(X_test))"
   ]
  },
  {
   "cell_type": "code",
   "execution_count": 224,
   "metadata": {},
   "outputs": [
    {
     "ename": "NameError",
     "evalue": "name 'y_pred_t' is not defined",
     "output_type": "error",
     "traceback": [
      "\u001b[0;31m---------------------------------------------------------------------------\u001b[0m",
      "\u001b[0;31mNameError\u001b[0m                                 Traceback (most recent call last)",
      "\u001b[0;32m<ipython-input-224-17683c9dff95>\u001b[0m in \u001b[0;36m<module>\u001b[0;34m()\u001b[0m\n\u001b[1;32m      1\u001b[0m \u001b[0;32mfrom\u001b[0m \u001b[0msklearn\u001b[0m\u001b[0;34m.\u001b[0m\u001b[0mmetrics\u001b[0m \u001b[0;32mimport\u001b[0m \u001b[0mconfusion_matrix\u001b[0m\u001b[0;34m\u001b[0m\u001b[0m\n\u001b[1;32m      2\u001b[0m \u001b[0;34m\u001b[0m\u001b[0m\n\u001b[0;32m----> 3\u001b[0;31m \u001b[0mconfusion_matrix\u001b[0m\u001b[0;34m(\u001b[0m\u001b[0my_test_cat\u001b[0m\u001b[0;34m,\u001b[0m\u001b[0my_pred_t\u001b[0m\u001b[0;34m)\u001b[0m\u001b[0;34m\u001b[0m\u001b[0m\n\u001b[0m",
      "\u001b[0;31mNameError\u001b[0m: name 'y_pred_t' is not defined"
     ]
    }
   ],
   "source": [
    "from sklearn.metrics import confusion_matrix\n",
    "\n",
    "confusion_matrix(y_test_cat,y_pred_t)"
   ]
  },
  {
   "cell_type": "markdown",
   "metadata": {},
   "source": [
    "### Looking at Altitude as target variable"
   ]
  },
  {
   "cell_type": "code",
   "execution_count": 225,
   "metadata": {},
   "outputs": [
    {
     "ename": "NameError",
     "evalue": "name 'arabica' is not defined",
     "output_type": "error",
     "traceback": [
      "\u001b[0;31m---------------------------------------------------------------------------\u001b[0m",
      "\u001b[0;31mNameError\u001b[0m                                 Traceback (most recent call last)",
      "\u001b[0;32m<ipython-input-225-3133e78aef3c>\u001b[0m in \u001b[0;36m<module>\u001b[0;34m()\u001b[0m\n\u001b[0;32m----> 1\u001b[0;31m \u001b[0mhas_alt\u001b[0m \u001b[0;34m=\u001b[0m \u001b[0marabica\u001b[0m\u001b[0;34m[\u001b[0m\u001b[0;34m~\u001b[0m\u001b[0marabica\u001b[0m\u001b[0;34m.\u001b[0m\u001b[0maltitude_high_meters\u001b[0m\u001b[0;34m.\u001b[0m\u001b[0misna\u001b[0m\u001b[0;34m(\u001b[0m\u001b[0;34m)\u001b[0m\u001b[0;34m]\u001b[0m\u001b[0;34m\u001b[0m\u001b[0m\n\u001b[0m",
      "\u001b[0;31mNameError\u001b[0m: name 'arabica' is not defined"
     ]
    }
   ],
   "source": [
    "has_alt = arabica[~arabica.altitude_high_meters.isna()]"
   ]
  },
  {
   "cell_type": "code",
   "execution_count": 226,
   "metadata": {},
   "outputs": [
    {
     "ename": "NameError",
     "evalue": "name 'has_alt' is not defined",
     "output_type": "error",
     "traceback": [
      "\u001b[0;31m---------------------------------------------------------------------------\u001b[0m",
      "\u001b[0;31mNameError\u001b[0m                                 Traceback (most recent call last)",
      "\u001b[0;32m<ipython-input-226-ff480eef232c>\u001b[0m in \u001b[0;36m<module>\u001b[0;34m()\u001b[0m\n\u001b[0;32m----> 1\u001b[0;31m \u001b[0mhas_alt\u001b[0m\u001b[0;34m.\u001b[0m\u001b[0munit_of_measurement\u001b[0m\u001b[0;34m.\u001b[0m\u001b[0mvalue_counts\u001b[0m\u001b[0;34m(\u001b[0m\u001b[0;34m)\u001b[0m\u001b[0;34m\u001b[0m\u001b[0m\n\u001b[0m",
      "\u001b[0;31mNameError\u001b[0m: name 'has_alt' is not defined"
     ]
    }
   ],
   "source": [
    "has_alt.unit_of_measurement.value_counts()"
   ]
  },
  {
   "cell_type": "code",
   "execution_count": 227,
   "metadata": {},
   "outputs": [
    {
     "ename": "NameError",
     "evalue": "name 'has_alt' is not defined",
     "output_type": "error",
     "traceback": [
      "\u001b[0;31m---------------------------------------------------------------------------\u001b[0m",
      "\u001b[0;31mNameError\u001b[0m                                 Traceback (most recent call last)",
      "\u001b[0;32m<ipython-input-227-94cd484efe95>\u001b[0m in \u001b[0;36m<module>\u001b[0;34m()\u001b[0m\n\u001b[0;32m----> 1\u001b[0;31m \u001b[0mhas_alt\u001b[0m \u001b[0;34m=\u001b[0m \u001b[0mhas_alt\u001b[0m\u001b[0;34m[\u001b[0m\u001b[0mhas_alt\u001b[0m\u001b[0;34m.\u001b[0m\u001b[0munit_of_measurement\u001b[0m\u001b[0;34m==\u001b[0m\u001b[0;34m'm'\u001b[0m\u001b[0;34m]\u001b[0m\u001b[0;34m\u001b[0m\u001b[0m\n\u001b[0m",
      "\u001b[0;31mNameError\u001b[0m: name 'has_alt' is not defined"
     ]
    }
   ],
   "source": [
    "has_alt = has_alt[has_alt.unit_of_measurement=='m']"
   ]
  },
  {
   "cell_type": "code",
   "execution_count": 228,
   "metadata": {},
   "outputs": [
    {
     "ename": "NameError",
     "evalue": "name 'has_alt' is not defined",
     "output_type": "error",
     "traceback": [
      "\u001b[0;31m---------------------------------------------------------------------------\u001b[0m",
      "\u001b[0;31mNameError\u001b[0m                                 Traceback (most recent call last)",
      "\u001b[0;32m<ipython-input-228-7a3050617edf>\u001b[0m in \u001b[0;36m<module>\u001b[0;34m()\u001b[0m\n\u001b[0;32m----> 1\u001b[0;31m \u001b[0mhas_alt\u001b[0m\u001b[0;34m.\u001b[0m\u001b[0maltitude_high_meters\u001b[0m\u001b[0;34m.\u001b[0m\u001b[0mdescribe\u001b[0m\u001b[0;34m(\u001b[0m\u001b[0;34m)\u001b[0m\u001b[0;34m\u001b[0m\u001b[0m\n\u001b[0m",
      "\u001b[0;31mNameError\u001b[0m: name 'has_alt' is not defined"
     ]
    }
   ],
   "source": [
    "has_alt.altitude_high_meters.describe()"
   ]
  },
  {
   "cell_type": "code",
   "execution_count": 229,
   "metadata": {},
   "outputs": [
    {
     "ename": "NameError",
     "evalue": "name 'has_alt' is not defined",
     "output_type": "error",
     "traceback": [
      "\u001b[0;31m---------------------------------------------------------------------------\u001b[0m",
      "\u001b[0;31mNameError\u001b[0m                                 Traceback (most recent call last)",
      "\u001b[0;32m<ipython-input-229-785c62706d82>\u001b[0m in \u001b[0;36m<module>\u001b[0;34m()\u001b[0m\n\u001b[0;32m----> 1\u001b[0;31m \u001b[0mhas_alt\u001b[0m\u001b[0;34m.\u001b[0m\u001b[0maltitude_mean_meters\u001b[0m\u001b[0;34m.\u001b[0m\u001b[0mquantile\u001b[0m\u001b[0;34m(\u001b[0m\u001b[0;36m0.333333\u001b[0m\u001b[0;34m)\u001b[0m\u001b[0;34m\u001b[0m\u001b[0m\n\u001b[0m",
      "\u001b[0;31mNameError\u001b[0m: name 'has_alt' is not defined"
     ]
    }
   ],
   "source": [
    "has_alt.altitude_mean_meters.quantile(0.333333)"
   ]
  },
  {
   "cell_type": "code",
   "execution_count": 42,
   "metadata": {},
   "outputs": [
    {
     "data": {
      "text/plain": [
       "1550.0"
      ]
     },
     "execution_count": 42,
     "metadata": {},
     "output_type": "execute_result"
    }
   ],
   "source": [
    "has_alt.altitude_mean_meters.quantile(00.66666)"
   ]
  },
  {
   "cell_type": "code",
   "execution_count": 43,
   "metadata": {},
   "outputs": [],
   "source": [
    "has_alt['alt_type'] = has_alt['altitude_mean_meters'].apply(lambda x: 'low' if x<=1200 \n",
    "                                                                       else ('med' if x<=1550 else 'high'))"
   ]
  },
  {
   "cell_type": "code",
   "execution_count": 44,
   "metadata": {},
   "outputs": [],
   "source": [
    "columns_to_model = ['alt_type','Aroma',\n",
    "       'Flavor', 'Aftertaste', 'Acidity', 'Body', 'Balance', 'Uniformity',\n",
    "       'Clean.Cup', 'Sweetness', 'Cupper.Points', 'Total.Cup.Points',\n",
    "       'Moisture', 'Category.One.Defects', 'Category.Two.Defects']"
   ]
  },
  {
   "cell_type": "code",
   "execution_count": 45,
   "metadata": {},
   "outputs": [],
   "source": [
    "to_model = has_alt[columns_to_model]"
   ]
  },
  {
   "cell_type": "code",
   "execution_count": 46,
   "metadata": {},
   "outputs": [],
   "source": [
    "X = to_model.drop(columns='alt_type')\n",
    "y = to_model['alt_type']\n",
    "X_train, X_test, y_train, y_test = train_test_split(X,y,test_size=0.3)"
   ]
  },
  {
   "cell_type": "code",
   "execution_count": 47,
   "metadata": {},
   "outputs": [
    {
     "data": {
      "text/plain": [
       "(681, 14)"
      ]
     },
     "execution_count": 47,
     "metadata": {},
     "output_type": "execute_result"
    }
   ],
   "source": [
    "X_train.shape"
   ]
  },
  {
   "cell_type": "code",
   "execution_count": 48,
   "metadata": {},
   "outputs": [
    {
     "data": {
      "text/plain": [
       "0.4452054794520548"
      ]
     },
     "execution_count": 48,
     "metadata": {},
     "output_type": "execute_result"
    }
   ],
   "source": [
    "model_lr = KNeighborsClassifier()\n",
    "model_lr.fit(X_train, y_train)\n",
    "predict_lr = model_lr.predict(X_test)\n",
    "\n",
    "model_lr.score(X_test,y_test)"
   ]
  },
  {
   "cell_type": "code",
   "execution_count": 60,
   "metadata": {},
   "outputs": [
    {
     "name": "stdout",
     "output_type": "stream",
     "text": [
      "0.3048128342245989\n"
     ]
    }
   ],
   "source": [
    "from sklearn.svm import SVC\n",
    "model_svc = SVC()\n",
    "model_svc.fit(X_train,y_train)\n",
    "predict_svc = model_svc.predict(X_test)\n",
    "print(model_svc.score(X_test,y_test))"
   ]
  },
  {
   "cell_type": "code",
   "execution_count": 50,
   "metadata": {},
   "outputs": [
    {
     "name": "stdout",
     "output_type": "stream",
     "text": [
      "0.4554794520547945\n"
     ]
    }
   ],
   "source": [
    "from sklearn.ensemble import RandomForestClassifier\n",
    "model_rfc = RandomForestClassifier(random_state=4444)\n",
    "model_rfc.fit(X_train,y_train)\n",
    "predict_rfc = model_rfc.predict(X_test)\n",
    "print(model_rfc.score(X_test,y_test))"
   ]
  },
  {
   "cell_type": "code",
   "execution_count": 51,
   "metadata": {},
   "outputs": [],
   "source": [
    "from sklearn.preprocessing import LabelEncoder\n",
    "from keras.utils import np_utils\n",
    "ohe = LabelEncoder().fit(np.array(y_train).ravel())\n",
    "y_train_t = ohe.transform(np.array(y_train).ravel())\n",
    "y_test_t = ohe.transform(np.array(y_test).ravel())\n",
    "y_train_t = np_utils.to_categorical(np.array(y_train_t).ravel())\n",
    "y_test_t = np_utils.to_categorical(np.array(y_test_t).ravel())"
   ]
  },
  {
   "cell_type": "code",
   "execution_count": 52,
   "metadata": {},
   "outputs": [
    {
     "name": "stdout",
     "output_type": "stream",
     "text": [
      "Epoch 1/200\n",
      "681/681 [==============================] - 0s 516us/step - loss: 1.1620 - acc: 0.3201\n",
      "Epoch 2/200\n",
      "681/681 [==============================] - 0s 242us/step - loss: 1.1210 - acc: 0.3480\n",
      "Epoch 3/200\n",
      "681/681 [==============================] - 0s 247us/step - loss: 1.1145 - acc: 0.3275\n",
      "Epoch 4/200\n",
      "681/681 [==============================] - 0s 250us/step - loss: 1.1089 - acc: 0.3803\n",
      "Epoch 5/200\n",
      "681/681 [==============================] - 0s 247us/step - loss: 1.1083 - acc: 0.3319\n",
      "Epoch 6/200\n",
      "681/681 [==============================] - 0s 246us/step - loss: 1.1207 - acc: 0.3186\n",
      "Epoch 7/200\n",
      "681/681 [==============================] - 0s 280us/step - loss: 1.1073 - acc: 0.3847\n",
      "Epoch 8/200\n",
      "681/681 [==============================] - 0s 347us/step - loss: 1.1067 - acc: 0.3730\n",
      "Epoch 9/200\n",
      "681/681 [==============================] - 0s 346us/step - loss: 1.1208 - acc: 0.3319\n",
      "Epoch 10/200\n",
      "681/681 [==============================] - 0s 307us/step - loss: 1.1191 - acc: 0.3377\n",
      "Epoch 11/200\n",
      "681/681 [==============================] - 0s 273us/step - loss: 1.1065 - acc: 0.3568\n",
      "Epoch 12/200\n",
      "681/681 [==============================] - 0s 251us/step - loss: 1.1101 - acc: 0.3054\n",
      "Epoch 13/200\n",
      "681/681 [==============================] - 0s 239us/step - loss: 1.1206 - acc: 0.3392\n",
      "Epoch 14/200\n",
      "681/681 [==============================] - 0s 254us/step - loss: 1.1115 - acc: 0.3554\n",
      "Epoch 15/200\n",
      "681/681 [==============================] - 0s 241us/step - loss: 1.1101 - acc: 0.3275\n",
      "Epoch 16/200\n",
      "681/681 [==============================] - 0s 239us/step - loss: 1.1150 - acc: 0.3363\n",
      "Epoch 17/200\n",
      "681/681 [==============================] - 0s 244us/step - loss: 1.1126 - acc: 0.3495\n",
      "Epoch 18/200\n",
      "681/681 [==============================] - 0s 247us/step - loss: 1.1007 - acc: 0.3744\n",
      "Epoch 19/200\n",
      "681/681 [==============================] - 0s 238us/step - loss: 1.1158 - acc: 0.3363\n",
      "Epoch 20/200\n",
      "681/681 [==============================] - 0s 247us/step - loss: 1.1196 - acc: 0.3436\n",
      "Epoch 21/200\n",
      "681/681 [==============================] - 0s 246us/step - loss: 1.1075 - acc: 0.3392\n",
      "Epoch 22/200\n",
      "681/681 [==============================] - 0s 240us/step - loss: 1.1055 - acc: 0.3539\n",
      "Epoch 23/200\n",
      "681/681 [==============================] - 0s 246us/step - loss: 1.1181 - acc: 0.3436\n",
      "Epoch 24/200\n",
      "681/681 [==============================] - 0s 239us/step - loss: 1.1267 - acc: 0.3451\n",
      "Epoch 25/200\n",
      "681/681 [==============================] - 0s 235us/step - loss: 1.1077 - acc: 0.3583\n",
      "Epoch 26/200\n",
      "681/681 [==============================] - 0s 243us/step - loss: 1.1054 - acc: 0.3510\n",
      "Epoch 27/200\n",
      "681/681 [==============================] - 0s 241us/step - loss: 1.1123 - acc: 0.3231\n",
      "Epoch 28/200\n",
      "681/681 [==============================] - 0s 243us/step - loss: 1.1011 - acc: 0.3700\n",
      "Epoch 29/200\n",
      "681/681 [==============================] - 0s 239us/step - loss: 1.1080 - acc: 0.3686\n",
      "Epoch 30/200\n",
      "681/681 [==============================] - 0s 246us/step - loss: 1.1114 - acc: 0.3304\n",
      "Epoch 31/200\n",
      "681/681 [==============================] - 0s 237us/step - loss: 1.1126 - acc: 0.3363\n",
      "Epoch 32/200\n",
      "681/681 [==============================] - 0s 244us/step - loss: 1.1079 - acc: 0.3451\n",
      "Epoch 33/200\n",
      "681/681 [==============================] - 0s 242us/step - loss: 1.1133 - acc: 0.3392\n",
      "Epoch 34/200\n",
      "681/681 [==============================] - 0s 243us/step - loss: 1.1008 - acc: 0.3759\n",
      "Epoch 35/200\n",
      "681/681 [==============================] - 0s 255us/step - loss: 1.1083 - acc: 0.3524\n",
      "Epoch 36/200\n",
      "681/681 [==============================] - 0s 326us/step - loss: 1.1141 - acc: 0.3568\n",
      "Epoch 37/200\n",
      "681/681 [==============================] - 0s 332us/step - loss: 1.1124 - acc: 0.3598\n",
      "Epoch 38/200\n",
      "681/681 [==============================] - 0s 259us/step - loss: 1.1026 - acc: 0.3715\n",
      "Epoch 39/200\n",
      "681/681 [==============================] - 0s 245us/step - loss: 1.1093 - acc: 0.3421\n",
      "Epoch 40/200\n",
      "681/681 [==============================] - 0s 238us/step - loss: 1.1010 - acc: 0.3495\n",
      "Epoch 41/200\n",
      "681/681 [==============================] - 0s 248us/step - loss: 1.1135 - acc: 0.3407\n",
      "Epoch 42/200\n",
      "681/681 [==============================] - 0s 346us/step - loss: 1.1154 - acc: 0.3407\n",
      "Epoch 43/200\n",
      "681/681 [==============================] - 0s 309us/step - loss: 1.1069 - acc: 0.3495\n",
      "Epoch 44/200\n",
      "681/681 [==============================] - 0s 290us/step - loss: 1.1105 - acc: 0.3363\n",
      "Epoch 45/200\n",
      "681/681 [==============================] - 0s 240us/step - loss: 1.1086 - acc: 0.3495\n",
      "Epoch 46/200\n",
      "681/681 [==============================] - 0s 244us/step - loss: 1.1000 - acc: 0.3818\n",
      "Epoch 47/200\n",
      "681/681 [==============================] - 0s 251us/step - loss: 1.1117 - acc: 0.3421\n",
      "Epoch 48/200\n",
      "681/681 [==============================] - 0s 237us/step - loss: 1.1058 - acc: 0.3656\n",
      "Epoch 49/200\n",
      "681/681 [==============================] - 0s 252us/step - loss: 1.1068 - acc: 0.3568\n",
      "Epoch 50/200\n",
      "681/681 [==============================] - 0s 249us/step - loss: 1.1064 - acc: 0.3275\n",
      "Epoch 51/200\n",
      "681/681 [==============================] - 0s 246us/step - loss: 1.1008 - acc: 0.3554\n",
      "Epoch 52/200\n",
      "681/681 [==============================] - 0s 240us/step - loss: 1.1008 - acc: 0.3759\n",
      "Epoch 53/200\n",
      "681/681 [==============================] - 0s 238us/step - loss: 1.1083 - acc: 0.3715\n",
      "Epoch 54/200\n",
      "681/681 [==============================] - 0s 241us/step - loss: 1.1130 - acc: 0.3612\n",
      "Epoch 55/200\n",
      "681/681 [==============================] - 0s 242us/step - loss: 1.1225 - acc: 0.3084\n",
      "Epoch 56/200\n",
      "681/681 [==============================] - 0s 253us/step - loss: 1.1077 - acc: 0.3510\n",
      "Epoch 57/200\n",
      "681/681 [==============================] - 0s 247us/step - loss: 1.1073 - acc: 0.3656\n",
      "Epoch 58/200\n",
      "681/681 [==============================] - 0s 241us/step - loss: 1.1167 - acc: 0.3495\n",
      "Epoch 59/200\n",
      "681/681 [==============================] - 0s 239us/step - loss: 1.1137 - acc: 0.3554\n",
      "Epoch 60/200\n",
      "681/681 [==============================] - 0s 231us/step - loss: 1.1161 - acc: 0.3216\n",
      "Epoch 61/200\n",
      "681/681 [==============================] - 0s 251us/step - loss: 1.1066 - acc: 0.3568\n",
      "Epoch 62/200\n",
      "681/681 [==============================] - 0s 251us/step - loss: 1.1020 - acc: 0.3583\n",
      "Epoch 63/200\n",
      "681/681 [==============================] - 0s 252us/step - loss: 1.1117 - acc: 0.3363\n",
      "Epoch 64/200\n",
      "681/681 [==============================] - 0s 232us/step - loss: 1.1058 - acc: 0.3554\n",
      "Epoch 65/200\n",
      "681/681 [==============================] - 0s 238us/step - loss: 1.1033 - acc: 0.3656\n",
      "Epoch 66/200\n",
      "681/681 [==============================] - 0s 241us/step - loss: 1.1076 - acc: 0.3451\n",
      "Epoch 67/200\n",
      "681/681 [==============================] - 0s 241us/step - loss: 1.1061 - acc: 0.3451\n",
      "Epoch 68/200\n",
      "681/681 [==============================] - 0s 246us/step - loss: 1.1098 - acc: 0.3377\n",
      "Epoch 69/200\n",
      "681/681 [==============================] - 0s 240us/step - loss: 1.0958 - acc: 0.3877\n",
      "Epoch 70/200\n",
      "681/681 [==============================] - 0s 243us/step - loss: 1.0997 - acc: 0.3715\n",
      "Epoch 71/200\n",
      "681/681 [==============================] - 0s 243us/step - loss: 1.1045 - acc: 0.3436\n",
      "Epoch 72/200\n",
      "681/681 [==============================] - 0s 248us/step - loss: 1.1062 - acc: 0.3627\n",
      "Epoch 73/200\n",
      "681/681 [==============================] - 0s 273us/step - loss: 1.1019 - acc: 0.3935\n",
      "Epoch 74/200\n",
      "681/681 [==============================] - 0s 302us/step - loss: 1.1155 - acc: 0.3348\n",
      "Epoch 75/200\n",
      "681/681 [==============================] - 0s 300us/step - loss: 1.1071 - acc: 0.3289\n",
      "Epoch 76/200\n",
      "681/681 [==============================] - 0s 312us/step - loss: 1.0912 - acc: 0.3935\n",
      "Epoch 77/200\n",
      "681/681 [==============================] - 0s 306us/step - loss: 1.1058 - acc: 0.3421\n",
      "Epoch 78/200\n",
      "681/681 [==============================] - 0s 348us/step - loss: 1.1003 - acc: 0.3715\n",
      "Epoch 79/200\n",
      "681/681 [==============================] - 0s 326us/step - loss: 1.0994 - acc: 0.3539\n",
      "Epoch 80/200\n",
      "681/681 [==============================] - 0s 315us/step - loss: 1.0901 - acc: 0.3715\n",
      "Epoch 81/200\n",
      "681/681 [==============================] - 0s 316us/step - loss: 1.0951 - acc: 0.3700\n",
      "Epoch 82/200\n",
      "681/681 [==============================] - 0s 322us/step - loss: 1.1060 - acc: 0.3436\n",
      "Epoch 83/200\n",
      "681/681 [==============================] - 0s 322us/step - loss: 1.0942 - acc: 0.3759\n",
      "Epoch 84/200\n",
      "681/681 [==============================] - 0s 335us/step - loss: 1.1047 - acc: 0.3436\n",
      "Epoch 85/200\n",
      "681/681 [==============================] - 0s 319us/step - loss: 1.1054 - acc: 0.3539\n",
      "Epoch 86/200\n",
      "681/681 [==============================] - 0s 322us/step - loss: 1.1013 - acc: 0.3715\n",
      "Epoch 87/200\n",
      "681/681 [==============================] - 0s 331us/step - loss: 1.1067 - acc: 0.3598\n",
      "Epoch 88/200\n",
      "681/681 [==============================] - 0s 323us/step - loss: 1.1052 - acc: 0.3612\n",
      "Epoch 89/200\n",
      "681/681 [==============================] - 0s 322us/step - loss: 1.0989 - acc: 0.3774\n",
      "Epoch 90/200\n",
      "681/681 [==============================] - 0s 328us/step - loss: 1.0993 - acc: 0.3656\n",
      "Epoch 91/200\n",
      "681/681 [==============================] - 0s 336us/step - loss: 1.0974 - acc: 0.3510\n",
      "Epoch 92/200\n",
      "681/681 [==============================] - 0s 318us/step - loss: 1.0993 - acc: 0.3524\n",
      "Epoch 93/200\n",
      "681/681 [==============================] - 0s 325us/step - loss: 1.1150 - acc: 0.3304\n",
      "Epoch 94/200\n",
      "681/681 [==============================] - 0s 319us/step - loss: 1.0936 - acc: 0.3598\n",
      "Epoch 95/200\n",
      "681/681 [==============================] - 0s 324us/step - loss: 1.0950 - acc: 0.3554\n",
      "Epoch 96/200\n",
      "681/681 [==============================] - 0s 309us/step - loss: 1.0888 - acc: 0.3803\n",
      "Epoch 97/200\n",
      "681/681 [==============================] - 0s 342us/step - loss: 1.0957 - acc: 0.3627\n",
      "Epoch 98/200\n",
      "681/681 [==============================] - 0s 335us/step - loss: 1.0921 - acc: 0.3612\n",
      "Epoch 99/200\n",
      "681/681 [==============================] - 0s 333us/step - loss: 1.0962 - acc: 0.3789\n",
      "Epoch 100/200\n",
      "681/681 [==============================] - 0s 322us/step - loss: 1.1084 - acc: 0.3451\n",
      "Epoch 101/200\n",
      "681/681 [==============================] - 0s 326us/step - loss: 1.0962 - acc: 0.3774\n",
      "Epoch 102/200\n",
      "681/681 [==============================] - 0s 323us/step - loss: 1.1016 - acc: 0.3686\n",
      "Epoch 103/200\n",
      "681/681 [==============================] - 0s 328us/step - loss: 1.0948 - acc: 0.3583\n",
      "Epoch 104/200\n",
      "681/681 [==============================] - 0s 342us/step - loss: 1.1008 - acc: 0.3833\n",
      "Epoch 105/200\n",
      "681/681 [==============================] - 0s 316us/step - loss: 1.0999 - acc: 0.3612\n",
      "Epoch 106/200\n",
      "681/681 [==============================] - 0s 316us/step - loss: 1.0950 - acc: 0.3803\n",
      "Epoch 107/200\n",
      "681/681 [==============================] - 0s 328us/step - loss: 1.0943 - acc: 0.3407\n",
      "Epoch 108/200\n",
      "681/681 [==============================] - 0s 321us/step - loss: 1.1012 - acc: 0.3583\n",
      "Epoch 109/200\n",
      "681/681 [==============================] - 0s 324us/step - loss: 1.0907 - acc: 0.3730\n",
      "Epoch 110/200\n",
      "681/681 [==============================] - 0s 324us/step - loss: 1.1005 - acc: 0.3421\n",
      "Epoch 111/200\n",
      "681/681 [==============================] - 0s 339us/step - loss: 1.0857 - acc: 0.3803\n",
      "Epoch 112/200\n",
      "681/681 [==============================] - 0s 322us/step - loss: 1.0908 - acc: 0.3847\n",
      "Epoch 113/200\n",
      "681/681 [==============================] - 0s 313us/step - loss: 1.0955 - acc: 0.3480\n",
      "Epoch 114/200\n",
      "681/681 [==============================] - 0s 313us/step - loss: 1.0911 - acc: 0.3730\n",
      "Epoch 115/200\n",
      "681/681 [==============================] - 0s 324us/step - loss: 1.0972 - acc: 0.3656\n",
      "Epoch 116/200\n",
      "681/681 [==============================] - 0s 330us/step - loss: 1.0986 - acc: 0.3583\n",
      "Epoch 117/200\n",
      "681/681 [==============================] - 0s 319us/step - loss: 1.0919 - acc: 0.3715\n",
      "Epoch 118/200\n",
      "681/681 [==============================] - 0s 328us/step - loss: 1.0949 - acc: 0.3642\n",
      "Epoch 119/200\n",
      "681/681 [==============================] - 0s 321us/step - loss: 1.0974 - acc: 0.3744\n",
      "Epoch 120/200\n",
      "681/681 [==============================] - 0s 319us/step - loss: 1.0905 - acc: 0.3539\n",
      "Epoch 121/200\n",
      "681/681 [==============================] - 0s 310us/step - loss: 1.0924 - acc: 0.3965\n",
      "Epoch 122/200\n",
      "681/681 [==============================] - 0s 322us/step - loss: 1.0953 - acc: 0.3847\n",
      "Epoch 123/200\n",
      "681/681 [==============================] - 0s 336us/step - loss: 1.0970 - acc: 0.3686\n",
      "Epoch 124/200\n",
      "681/681 [==============================] - 0s 330us/step - loss: 1.0943 - acc: 0.3744\n",
      "Epoch 125/200\n",
      "681/681 [==============================] - 0s 330us/step - loss: 1.1078 - acc: 0.3495\n",
      "Epoch 126/200\n",
      "681/681 [==============================] - 0s 326us/step - loss: 1.0934 - acc: 0.3700\n",
      "Epoch 127/200\n",
      "681/681 [==============================] - 0s 321us/step - loss: 1.1073 - acc: 0.3495\n",
      "Epoch 128/200\n",
      "681/681 [==============================] - 0s 318us/step - loss: 1.1119 - acc: 0.3319\n",
      "Epoch 129/200\n",
      "681/681 [==============================] - 0s 326us/step - loss: 1.0853 - acc: 0.3877\n",
      "Epoch 130/200\n",
      "681/681 [==============================] - 0s 319us/step - loss: 1.0885 - acc: 0.4038\n",
      "Epoch 131/200\n",
      "681/681 [==============================] - 0s 330us/step - loss: 1.0957 - acc: 0.3759\n",
      "Epoch 132/200\n",
      "681/681 [==============================] - 0s 339us/step - loss: 1.0918 - acc: 0.3744\n",
      "Epoch 133/200\n",
      "681/681 [==============================] - 0s 321us/step - loss: 1.0982 - acc: 0.3862\n",
      "Epoch 134/200\n",
      "681/681 [==============================] - 0s 323us/step - loss: 1.0964 - acc: 0.3671\n",
      "Epoch 135/200\n",
      "681/681 [==============================] - 0s 322us/step - loss: 1.0891 - acc: 0.4038\n",
      "Epoch 136/200\n",
      "681/681 [==============================] - 0s 319us/step - loss: 1.0831 - acc: 0.3921\n",
      "Epoch 137/200\n",
      "681/681 [==============================] - 0s 320us/step - loss: 1.1133 - acc: 0.3671\n",
      "Epoch 138/200\n",
      "681/681 [==============================] - 0s 340us/step - loss: 1.0946 - acc: 0.3568\n",
      "Epoch 139/200\n",
      "681/681 [==============================] - 0s 338us/step - loss: 1.0885 - acc: 0.3671\n",
      "Epoch 140/200\n",
      "681/681 [==============================] - 0s 324us/step - loss: 1.0964 - acc: 0.3436\n",
      "Epoch 141/200\n",
      "681/681 [==============================] - 0s 325us/step - loss: 1.0996 - acc: 0.3612\n",
      "Epoch 142/200\n",
      "681/681 [==============================] - 0s 323us/step - loss: 1.0857 - acc: 0.3715\n",
      "Epoch 143/200\n",
      "681/681 [==============================] - 0s 325us/step - loss: 1.0944 - acc: 0.3627\n",
      "Epoch 144/200\n",
      "681/681 [==============================] - 0s 327us/step - loss: 1.0857 - acc: 0.4023\n",
      "Epoch 145/200\n",
      "681/681 [==============================] - 0s 339us/step - loss: 1.0838 - acc: 0.3715\n",
      "Epoch 146/200\n",
      "681/681 [==============================] - 0s 320us/step - loss: 1.0896 - acc: 0.3833\n",
      "Epoch 147/200\n",
      "681/681 [==============================] - 0s 332us/step - loss: 1.0964 - acc: 0.3715\n",
      "Epoch 148/200\n",
      "681/681 [==============================] - 0s 310us/step - loss: 1.0914 - acc: 0.3598\n",
      "Epoch 149/200\n",
      "681/681 [==============================] - 0s 320us/step - loss: 1.0789 - acc: 0.3891\n",
      "Epoch 150/200\n",
      "681/681 [==============================] - 0s 327us/step - loss: 1.0948 - acc: 0.3671\n",
      "Epoch 151/200\n",
      "681/681 [==============================] - 0s 335us/step - loss: 1.0811 - acc: 0.4023\n",
      "Epoch 152/200\n",
      "681/681 [==============================] - 0s 330us/step - loss: 1.0964 - acc: 0.3539\n",
      "Epoch 153/200\n",
      "681/681 [==============================] - 0s 324us/step - loss: 1.0849 - acc: 0.3847\n",
      "Epoch 154/200\n",
      "681/681 [==============================] - 0s 320us/step - loss: 1.0824 - acc: 0.3906\n",
      "Epoch 155/200\n",
      "681/681 [==============================] - 0s 319us/step - loss: 1.0903 - acc: 0.3612\n",
      "Epoch 156/200\n",
      "681/681 [==============================] - 0s 305us/step - loss: 1.0770 - acc: 0.4156\n",
      "Epoch 157/200\n",
      "681/681 [==============================] - 0s 327us/step - loss: 1.0915 - acc: 0.3671\n",
      "Epoch 158/200\n",
      "681/681 [==============================] - 0s 324us/step - loss: 1.0841 - acc: 0.3906\n",
      "Epoch 159/200\n",
      "681/681 [==============================] - 0s 343us/step - loss: 1.0862 - acc: 0.3803\n",
      "Epoch 160/200\n",
      "681/681 [==============================] - 0s 325us/step - loss: 1.0824 - acc: 0.3612\n",
      "Epoch 161/200\n",
      "681/681 [==============================] - 0s 323us/step - loss: 1.0965 - acc: 0.3465\n",
      "Epoch 162/200\n",
      "681/681 [==============================] - 0s 327us/step - loss: 1.0930 - acc: 0.3833\n",
      "Epoch 163/200\n",
      "681/681 [==============================] - 0s 334us/step - loss: 1.0872 - acc: 0.4038\n",
      "Epoch 164/200\n",
      "681/681 [==============================] - 0s 327us/step - loss: 1.0831 - acc: 0.3950\n",
      "Epoch 165/200\n",
      "681/681 [==============================] - 0s 331us/step - loss: 1.0704 - acc: 0.3950\n",
      "Epoch 166/200\n",
      "681/681 [==============================] - 0s 323us/step - loss: 1.0780 - acc: 0.3950\n",
      "Epoch 167/200\n",
      "681/681 [==============================] - 0s 327us/step - loss: 1.0799 - acc: 0.3921\n",
      "Epoch 168/200\n",
      "681/681 [==============================] - 0s 327us/step - loss: 1.0767 - acc: 0.4038\n",
      "Epoch 169/200\n",
      "681/681 [==============================] - 0s 330us/step - loss: 1.0928 - acc: 0.3612\n",
      "Epoch 170/200\n",
      "681/681 [==============================] - 0s 323us/step - loss: 1.0889 - acc: 0.3774\n",
      "Epoch 171/200\n",
      "681/681 [==============================] - 0s 328us/step - loss: 1.0843 - acc: 0.3715\n",
      "Epoch 172/200\n",
      "681/681 [==============================] - 0s 329us/step - loss: 1.0860 - acc: 0.3862\n",
      "Epoch 173/200\n",
      "681/681 [==============================] - 0s 325us/step - loss: 1.0810 - acc: 0.4053\n",
      "Epoch 174/200\n",
      "681/681 [==============================] - 0s 327us/step - loss: 1.0849 - acc: 0.4038\n",
      "Epoch 175/200\n",
      "681/681 [==============================] - 0s 331us/step - loss: 1.0995 - acc: 0.3686\n",
      "Epoch 176/200\n",
      "681/681 [==============================] - 0s 322us/step - loss: 1.0812 - acc: 0.3994\n",
      "Epoch 177/200\n",
      "681/681 [==============================] - 0s 330us/step - loss: 1.0773 - acc: 0.4009\n",
      "Epoch 178/200\n",
      "681/681 [==============================] - 0s 315us/step - loss: 1.0868 - acc: 0.3759\n",
      "Epoch 179/200\n",
      "681/681 [==============================] - 0s 337us/step - loss: 1.0803 - acc: 0.3891\n",
      "Epoch 180/200\n",
      "681/681 [==============================] - 0s 330us/step - loss: 1.0703 - acc: 0.4068\n",
      "Epoch 181/200\n",
      "681/681 [==============================] - 0s 323us/step - loss: 1.0871 - acc: 0.3906\n",
      "Epoch 182/200\n",
      "681/681 [==============================] - 0s 334us/step - loss: 1.0714 - acc: 0.4141\n",
      "Epoch 183/200\n",
      "681/681 [==============================] - 0s 330us/step - loss: 1.0807 - acc: 0.3686\n",
      "Epoch 184/200\n",
      "681/681 [==============================] - 0s 347us/step - loss: 1.0793 - acc: 0.3906\n",
      "Epoch 185/200\n",
      "681/681 [==============================] - 0s 322us/step - loss: 1.0848 - acc: 0.3921\n",
      "Epoch 186/200\n",
      "681/681 [==============================] - 0s 331us/step - loss: 1.0846 - acc: 0.3862\n",
      "Epoch 187/200\n",
      "681/681 [==============================] - 0s 321us/step - loss: 1.0770 - acc: 0.4009\n",
      "Epoch 188/200\n",
      "681/681 [==============================] - 0s 333us/step - loss: 1.0819 - acc: 0.4038\n",
      "Epoch 189/200\n",
      "681/681 [==============================] - 0s 332us/step - loss: 1.0726 - acc: 0.3950\n",
      "Epoch 190/200\n",
      "681/681 [==============================] - 0s 320us/step - loss: 1.0821 - acc: 0.4053\n",
      "Epoch 191/200\n",
      "681/681 [==============================] - 0s 328us/step - loss: 1.0772 - acc: 0.3979\n",
      "Epoch 192/200\n",
      "681/681 [==============================] - 0s 323us/step - loss: 1.0766 - acc: 0.3891\n",
      "Epoch 193/200\n",
      "681/681 [==============================] - 0s 330us/step - loss: 1.0683 - acc: 0.3935\n",
      "Epoch 194/200\n",
      "681/681 [==============================] - 0s 335us/step - loss: 1.0809 - acc: 0.3803\n",
      "Epoch 195/200\n",
      "681/681 [==============================] - 0s 325us/step - loss: 1.0777 - acc: 0.4288\n",
      "Epoch 196/200\n",
      "681/681 [==============================] - 0s 325us/step - loss: 1.0805 - acc: 0.3891\n",
      "Epoch 197/200\n",
      "681/681 [==============================] - 0s 325us/step - loss: 1.0774 - acc: 0.3950\n",
      "Epoch 198/200\n",
      "681/681 [==============================] - 0s 334us/step - loss: 1.0739 - acc: 0.4009\n",
      "Epoch 199/200\n",
      "681/681 [==============================] - 0s 336us/step - loss: 1.0738 - acc: 0.4200\n",
      "Epoch 200/200\n",
      "681/681 [==============================] - 0s 322us/step - loss: 1.0735 - acc: 0.4097\n"
     ]
    },
    {
     "data": {
      "text/plain": [
       "<keras.callbacks.History at 0x7f88c4537d30>"
      ]
     },
     "execution_count": 52,
     "metadata": {},
     "output_type": "execute_result"
    }
   ],
   "source": [
    "model = Sequential()\n",
    "model.add(Dense(20, input_dim=14, activation='relu'))\n",
    "model.add(Dense(100, activation='tanh'))\n",
    "model.add(Dense(3, activation='softmax'))\n",
    "\n",
    "model.compile(loss='categorical_crossentropy', optimizer='adam', metrics=['accuracy'])\n",
    "model.fit(X_train, y_train_t, epochs=200, batch_size=3)"
   ]
  },
  {
   "cell_type": "code",
   "execution_count": null,
   "metadata": {},
   "outputs": [],
   "source": []
  },
  {
   "cell_type": "markdown",
   "metadata": {},
   "source": [
    "## Make Pipeline to transform and fit data"
   ]
  },
  {
   "cell_type": "code",
   "execution_count": 8,
   "metadata": {},
   "outputs": [],
   "source": [
    "from sklearn.ensemble import RandomForestClassifier"
   ]
  },
  {
   "cell_type": "code",
   "execution_count": 231,
   "metadata": {},
   "outputs": [],
   "source": [
    "rfc_pipe = make_pipeline(StandardScaler(), RandomForestClassifier(random_state=4444, max_depth=4))"
   ]
  },
  {
   "cell_type": "code",
   "execution_count": 232,
   "metadata": {},
   "outputs": [
    {
     "data": {
      "text/plain": [
       "Pipeline(memory=None,\n",
       "     steps=[('standardscaler', StandardScaler(copy=True, with_mean=True, with_std=True)), ('randomforestclassifier', RandomForestClassifier(bootstrap=True, class_weight=None, criterion='gini',\n",
       "            max_depth=4, max_features='auto', max_leaf_nodes=None,\n",
       "            min_impurity_decrease=0.0, min_im...n_jobs=1,\n",
       "            oob_score=False, random_state=4444, verbose=0,\n",
       "            warm_start=False))])"
      ]
     },
     "execution_count": 232,
     "metadata": {},
     "output_type": "execute_result"
    }
   ],
   "source": [
    "rfc_pipe.fit(X_train,y_train)\n"
   ]
  },
  {
   "cell_type": "code",
   "execution_count": 233,
   "metadata": {},
   "outputs": [
    {
     "data": {
      "text/plain": [
       "(1.1651806198476231, 0.49050269176891387)"
      ]
     },
     "execution_count": 233,
     "metadata": {},
     "output_type": "execute_result"
    }
   ],
   "source": [
    "validate_model(rfc_pipe)"
   ]
  },
  {
   "cell_type": "markdown",
   "metadata": {},
   "source": [
    "# Using Hyperopt to tune hyperparameters"
   ]
  },
  {
   "cell_type": "code",
   "execution_count": 234,
   "metadata": {},
   "outputs": [],
   "source": []
  },
  {
   "cell_type": "code",
   "execution_count": 132,
   "metadata": {},
   "outputs": [],
   "source": [
    "rfc_class_weight_options = (None,\"balanced\")\n",
    "svc_kernel_options = ('linear','rbf')"
   ]
  },
  {
   "cell_type": "markdown",
   "metadata": {},
   "source": [
    "#### Tuning models separately"
   ]
  },
  {
   "cell_type": "code",
   "execution_count": 203,
   "metadata": {},
   "outputs": [],
   "source": [
    "# random forest params\n",
    "rfc_space = {\n",
    "    'max_depth': hp.quniform('rfc_max_depth', 2, 7, 1),\n",
    "    'class_weight': hp.choice('rfc_class_wt', rfc_class_weight_options),\n",
    "    }\n",
    "\n",
    "# support vector machine params\n",
    "svc_space = {\n",
    "    'C': hp.lognormal('svc_C', np.exp(0), np.exp(1)),\n",
    "    'kernel': hp.choice('svc_kernel', svc_kernel_options),\n",
    "    }\n",
    "\n",
    "# elastic net logistic regression params\n",
    "sgd_space = {\n",
    "    'alpha': hp.uniform('sgd_alpha', 0.01, 1),\n",
    "        'l1_ratio': hp.uniform('sgd_ratio', 0, 1)\n",
    "    }\n",
    "\n",
    "#gaussian process classifier\n",
    "gpc_space = {\n",
    "    'length_scale': hp.uniform('gpc_rbf_lscale', 0.05, 10)}"
   ]
  },
  {
   "cell_type": "code",
   "execution_count": 210,
   "metadata": {},
   "outputs": [],
   "source": [
    "def rfc_score_fn(params):\n",
    "    print(params)\n",
    "    rfc_model = RandomForestClassifier(class_weight=params['class_weight'],\n",
    "                                       max_depth=params['max_depth'],\n",
    "                                       n_jobs=3)\n",
    "    #technically don't need standard scaler for RFCs\n",
    "    rfc_pipe = make_pipeline(StandardScaler(), rfc_model)\n",
    "    logloss, acc = validate_model(rfc_pipe)\n",
    "    return_dict = {'loss': logloss, 'accuracy': acc, 'status':'ok'}\n",
    "    return return_dict\n",
    "\n",
    "def svc_score_fn(params):\n",
    "    print(params)\n",
    "    svc_model = SVC(C=params['C'],\n",
    "                    kernel=params['kernel'], \n",
    "                    probability=True)\n",
    "    svc_pipe = make_pipeline(StandardScaler(), svc_model)\n",
    "    logloss, acc = validate_model(svc_pipe)\n",
    "    return_dict = {'loss': logloss, 'accuracy': acc, 'status':'ok'}\n",
    "    return return_dict\n",
    "\n",
    "def sgd_score_fn(params):\n",
    "    print(params)\n",
    "    sgd_model = SGDClassifier(penalty='elasticnet',\n",
    "                              loss='log',\n",
    "                              alpha=params['alpha'], \n",
    "                              l1_ratio=params['l1_ratio'],\n",
    "                              n_jobs=3)\n",
    "    \n",
    "    sgd_pipe = make_pipeline(StandardScaler(), sgd_model)\n",
    "    logloss, acc = validate_model(sgd_pipe)\n",
    "    return_dict = {'loss': logloss, 'accuracy': acc, 'status':'ok'}\n",
    "    return return_dict\n",
    "\n",
    "def gpc_score_fn(params):\n",
    "    print(params)\n",
    "    gpc_model = GaussianProcessClassifier(RBF(params['length_scale']))\n",
    "    gpc_pipe = make_pipeline(StandardScaler(), gpc_model)\n",
    "    logloss, acc = validate_model(gpc_pipe)\n",
    "    return_dict = {'loss': logloss, 'accuracy': acc, 'status':'ok'}\n",
    "    return return_dict"
   ]
  },
  {
   "cell_type": "code",
   "execution_count": 211,
   "metadata": {},
   "outputs": [],
   "source": [
    "gpc_trials = Trials()"
   ]
  },
  {
   "cell_type": "code",
   "execution_count": 212,
   "metadata": {},
   "outputs": [
    {
     "name": "stdout",
     "output_type": "stream",
     "text": [
      "{'length_scale': 6.367172176205978}\n",
      "{'length_scale': 1.9639624344274782}\n",
      "{'length_scale': 8.79959102690368}\n",
      "{'length_scale': 0.42008623759510977}\n",
      "{'length_scale': 6.199224276351474}\n",
      "{'length_scale': 0.8815728812114394}\n",
      "{'length_scale': 8.605012754694227}\n",
      "{'length_scale': 9.6530969124371}\n",
      "{'length_scale': 7.826774731808}\n",
      "{'length_scale': 6.1003959572248085}\n",
      "{'length_scale': 9.120832088843303}\n",
      "{'length_scale': 8.27964524754095}\n",
      "{'length_scale': 1.4777028101750191}\n",
      "{'length_scale': 5.855735670706922}\n",
      "{'length_scale': 0.9890776525877543}\n",
      "{'length_scale': 7.494496814136168}\n",
      "{'length_scale': 2.5205347730302954}\n",
      "{'length_scale': 3.9561093582226055}\n",
      "{'length_scale': 3.804470241761647}\n",
      "{'length_scale': 6.5418085424474315}\n",
      "{'length_scale': 4.6359671699217495}\n",
      "{'length_scale': 4.4593652773949275}\n",
      "{'length_scale': 4.544711972352601}\n",
      "{'length_scale': 3.076395843854041}\n",
      "{'length_scale': 5.067604280864951}\n",
      "{'length_scale': 5.046628787620026}\n",
      "{'length_scale': 5.215073119408626}\n",
      "{'length_scale': 3.1578029697730408}\n",
      "{'length_scale': 7.345967129075575}\n",
      "{'length_scale': 6.818277105414355}\n",
      "{'length_scale': 5.425370279328801}\n",
      "{'length_scale': 2.472620645553926}\n",
      "{'length_scale': 3.8291832037416214}\n",
      "{'length_scale': 3.220486534212408}\n",
      "{'length_scale': 4.579673656302841}\n",
      "{'length_scale': 5.780583572265586}\n",
      "{'length_scale': 6.950802004452072}\n",
      "{'length_scale': 0.26551705076401344}\n",
      "{'length_scale': 1.929499991628965}\n",
      "{'length_scale': 4.141662997862742}\n",
      "{'length_scale': 5.618021387368839}\n",
      "{'length_scale': 9.864715672628314}\n",
      "{'length_scale': 8.191520215853446}\n",
      "{'length_scale': 9.271156923836212}\n",
      "{'length_scale': 6.278123243743774}\n",
      "{'length_scale': 1.0559654335579975}\n",
      "{'length_scale': 2.593171364685846}\n",
      "{'length_scale': 3.6192264143243094}\n",
      "{'length_scale': 4.7370010614131}\n",
      "{'length_scale': 1.8126514755243766}\n",
      "{'length_scale': 7.69466369770381}\n",
      "{'length_scale': 6.6053342440943705}\n",
      "{'length_scale': 7.146355611594377}\n",
      "{'length_scale': 6.1591323371446105}\n",
      "{'length_scale': 4.1989463239595395}\n",
      "{'length_scale': 8.151323763716622}\n",
      "{'length_scale': 1.359267638317975}\n",
      "{'length_scale': 4.853382917941165}\n",
      "{'length_scale': 8.647450653222133}\n",
      "{'length_scale': 0.6674717444506486}\n",
      "{'length_scale': 2.269021783886565}\n",
      "{'length_scale': 5.284403293442184}\n",
      "{'length_scale': 4.3349810068333845}\n",
      "{'length_scale': 3.4262354197823024}\n",
      "{'length_scale': 4.351713481168501}\n",
      "{'length_scale': 3.006623487283798}\n",
      "{'length_scale': 5.799600569615087}\n",
      "{'length_scale': 4.817688897842494}\n",
      "{'length_scale': 5.088909586361092}\n",
      "{'length_scale': 2.725841766850268}\n",
      "{'length_scale': 2.7515702643163316}\n",
      "{'length_scale': 2.1339147983563995}\n",
      "{'length_scale': 1.6346926816394274}\n",
      "{'length_scale': 3.608608520262573}\n",
      "{'length_scale': 2.9387880282006433}\n",
      "{'length_scale': 0.054471930642530975}\n",
      "{'length_scale': 3.3918276804161884}\n",
      "{'length_scale': 4.0335196177426305}\n",
      "{'length_scale': 2.3830987461235913}\n",
      "{'length_scale': 1.3823734500785787}\n",
      "{'length_scale': 5.5701449968256185}\n",
      "{'length_scale': 3.634830704964263}\n",
      "{'length_scale': 3.960246119738243}\n",
      "{'length_scale': 4.38935257757776}\n",
      "{'length_scale': 2.7320747753222285}\n",
      "{'length_scale': 6.060542447366668}\n",
      "{'length_scale': 6.431420790241209}\n",
      "{'length_scale': 1.1714550054191335}\n",
      "{'length_scale': 0.6737307003716277}\n",
      "{'length_scale': 2.0463782311347583}\n",
      "{'length_scale': 4.553659880813977}\n",
      "{'length_scale': 3.335237165480534}\n",
      "{'length_scale': 6.624694713546738}\n",
      "{'length_scale': 1.6952387540554597}\n",
      "{'length_scale': 4.195878084300578}\n",
      "{'length_scale': 5.9191265787455505}\n",
      "{'length_scale': 5.42131314553276}\n",
      "{'length_scale': 6.907420065573479}\n",
      "{'length_scale': 3.820847606806291}\n",
      "{'length_scale': 2.9252298784295108}\n",
      "{'length_scale': 4.935932883543541}\n",
      "{'length_scale': 2.6332574578014336}\n",
      "{'length_scale': 7.789434939189954}\n",
      "{'length_scale': 7.438001960843071}\n",
      "{'length_scale': 4.642130039376846}\n",
      "{'length_scale': 5.19799743239491}\n",
      "{'length_scale': 7.161051383089944}\n",
      "{'length_scale': 0.36124925411263487}\n",
      "{'length_scale': 3.649581171661726}\n",
      "{'length_scale': 0.7463233227458987}\n",
      "{'length_scale': 2.3078864007098536}\n",
      "{'length_scale': 3.122263956190236}\n",
      "{'length_scale': 9.309931950995036}\n",
      "{'length_scale': 5.600232438021729}\n",
      "{'length_scale': 1.832960423030293}\n",
      "{'length_scale': 4.274529400270167}\n",
      "{'length_scale': 7.9979611541670526}\n",
      "{'length_scale': 8.45571487230221}\n",
      "{'length_scale': 2.8318630388967496}\n",
      "{'length_scale': 1.132002568576429}\n",
      "{'length_scale': 5.998870290743971}\n",
      "{'length_scale': 5.359471015983447}\n",
      "{'length_scale': 1.5561495080103038}\n",
      "{'length_scale': 3.266315338886713}\n",
      "{'length_scale': 2.1955698425676275}\n",
      "{'length_scale': 3.4853639033759327}\n",
      "{'length_scale': 6.2549306986092965}\n",
      "{'length_scale': 0.11655046287208748}\n",
      "{'length_scale': 3.9887539316008036}\n",
      "{'length_scale': 5.071958492161495}\n",
      "{'length_scale': 0.8724363799573664}\n",
      "{'length_scale': 5.718059208797097}\n",
      "{'length_scale': 2.524408046871975}\n",
      "{'length_scale': 4.7671192700196245}\n",
      "{'length_scale': 3.8663323828213505}\n",
      "{'length_scale': 4.544512601712528}\n",
      "{'length_scale': 4.097098382175328}\n",
      "{'length_scale': 1.9781705310956554}\n",
      "{'length_scale': 6.673375930460379}\n",
      "{'length_scale': 8.904297164545007}\n",
      "{'length_scale': 3.041610711293363}\n",
      "{'length_scale': 1.3351610195731158}\n",
      "{'length_scale': 7.168902459744997}\n",
      "{'length_scale': 0.4752455130460862}\n",
      "{'length_scale': 4.922266247579506}\n",
      "{'length_scale': 6.386437019211552}\n",
      "{'length_scale': 3.725872195782789}\n",
      "{'length_scale': 4.299101225457442}\n",
      "{'length_scale': 4.4117379485205195}\n",
      "{'length_scale': 3.4345118207169265}\n",
      "{'length_scale': 5.205161018045492}\n",
      "{'length_scale': 4.687649482986417}\n",
      "{'length_scale': 3.2121812416065882}\n",
      "{'length_scale': 5.542542773594471}\n",
      "{'length_scale': 4.239908387956862}\n",
      "{'length_scale': 2.7826459352137163}\n",
      "{'length_scale': 2.409241388207717}\n",
      "{'length_scale': 3.551789200637272}\n",
      "{'length_scale': 4.429721819096959}\n",
      "{'length_scale': 5.944175366720856}\n",
      "{'length_scale': 3.946104523003737}\n",
      "{'length_scale': 4.833830405664831}\n",
      "{'length_scale': 4.462929908894949}\n",
      "{'length_scale': 2.6391639931766004}\n",
      "{'length_scale': 5.317812627273219}\n",
      "{'length_scale': 3.022684278289523}\n",
      "{'length_scale': 5.031737229755852}\n",
      "{'length_scale': 7.610253597709998}\n",
      "{'length_scale': 6.921104601804631}\n",
      "{'length_scale': 6.17599742913899}\n",
      "{'length_scale': 5.777560780796269}\n",
      "{'length_scale': 4.1110562690340995}\n",
      "{'length_scale': 5.119900361570715}\n",
      "{'length_scale': 5.510599848758663}\n",
      "{'length_scale': 1.8087796415982278}\n",
      "{'length_scale': 3.7594950491035966}\n",
      "{'length_scale': 4.596053180658223}\n",
      "{'length_scale': 3.1981460965810067}\n",
      "{'length_scale': 2.097821243649203}\n",
      "{'length_scale': 4.582462728568491}\n",
      "{'length_scale': 2.8606284363693515}\n",
      "{'length_scale': 3.377051316368745}\n",
      "{'length_scale': 6.481660569483056}\n",
      "{'length_scale': 3.619702815158631}\n",
      "{'length_scale': 2.3484164286322478}\n",
      "{'length_scale': 6.721768461311199}\n",
      "{'length_scale': 1.499139773118518}\n",
      "{'length_scale': 9.943426219488014}\n",
      "{'length_scale': 4.258784954261729}\n",
      "{'length_scale': 3.8674569001538615}\n",
      "{'length_scale': 4.719804764798131}\n",
      "{'length_scale': 5.304678192921663}\n",
      "{'length_scale': 2.474311668156562}\n",
      "{'length_scale': 1.0033486198398145}\n",
      "{'length_scale': 4.954342533546647}\n",
      "{'length_scale': 1.2493375603728953}\n",
      "{'length_scale': 5.675003727636559}\n",
      "{'length_scale': 4.079891252432975}\n",
      "{'length_scale': 4.507121568809458}\n",
      "{'length_scale': 6.083378326144342}\n"
     ]
    }
   ],
   "source": [
    "y_test.count"
   ]
  },
  {
   "cell_type": "code",
   "execution_count": 213,
   "metadata": {},
   "outputs": [
    {
     "data": {
      "text/plain": [
       "{'loss': 1.1523567856055439, 'accuracy': 0.5368095880667979, 'status': 'ok'}"
      ]
     },
     "execution_count": 213,
     "metadata": {},
     "output_type": "execute_result"
    }
   ],
   "source": [
    "scores_gpc = min((t for t in gpc_trials.results),\n",
    "               key= lambda x: x['loss'])\n",
    "scores_gpc"
   ]
  },
  {
   "cell_type": "code",
   "execution_count": 241,
   "metadata": {},
   "outputs": [],
   "source": [
    "rfc_trials = Trials()"
   ]
  },
  {
   "cell_type": "code",
   "execution_count": 242,
   "metadata": {},
   "outputs": [
    {
     "name": "stdout",
     "output_type": "stream",
     "text": [
      "{'class_weight': 'balanced', 'max_depth': 3.0}\n",
      "{'class_weight': None, 'max_depth': 2.0}\n",
      "{'class_weight': None, 'max_depth': 6.0}\n",
      "{'class_weight': 'balanced', 'max_depth': 3.0}\n",
      "{'class_weight': 'balanced', 'max_depth': 6.0}\n",
      "{'class_weight': None, 'max_depth': 6.0}\n",
      "{'class_weight': None, 'max_depth': 6.0}\n",
      "{'class_weight': None, 'max_depth': 2.0}\n",
      "{'class_weight': 'balanced', 'max_depth': 4.0}\n",
      "{'class_weight': 'balanced', 'max_depth': 5.0}\n",
      "{'class_weight': None, 'max_depth': 7.0}\n",
      "{'class_weight': None, 'max_depth': 5.0}\n",
      "{'class_weight': 'balanced', 'max_depth': 7.0}\n",
      "{'class_weight': None, 'max_depth': 2.0}\n",
      "{'class_weight': 'balanced', 'max_depth': 3.0}\n",
      "{'class_weight': 'balanced', 'max_depth': 3.0}\n",
      "{'class_weight': 'balanced', 'max_depth': 3.0}\n",
      "{'class_weight': 'balanced', 'max_depth': 6.0}\n",
      "{'class_weight': 'balanced', 'max_depth': 7.0}\n",
      "{'class_weight': 'balanced', 'max_depth': 7.0}\n",
      "{'class_weight': None, 'max_depth': 6.0}\n",
      "{'class_weight': None, 'max_depth': 5.0}\n",
      "{'class_weight': None, 'max_depth': 6.0}\n",
      "{'class_weight': None, 'max_depth': 4.0}\n",
      "{'class_weight': None, 'max_depth': 5.0}\n",
      "{'class_weight': None, 'max_depth': 6.0}\n",
      "{'class_weight': None, 'max_depth': 7.0}\n",
      "{'class_weight': None, 'max_depth': 4.0}\n",
      "{'class_weight': None, 'max_depth': 5.0}\n",
      "{'class_weight': None, 'max_depth': 6.0}\n"
     ]
    }
   ],
   "source": [
    "# running hyperopt to retrieve optimum parameters\n",
    "rfc_best = fmin(rfc_score_fn,\n",
    "    space=rfc_space,\n",
    "    algo=tpe.suggest,\n",
    "    max_evals=30,\n",
    "    trials=rfc_trials)"
   ]
  },
  {
   "cell_type": "code",
   "execution_count": 243,
   "metadata": {},
   "outputs": [
    {
     "data": {
      "text/plain": [
       "{'loss': 1.1390173591580006, 'accuracy': 0.49379463502796234, 'status': 'ok'}"
      ]
     },
     "execution_count": 243,
     "metadata": {},
     "output_type": "execute_result"
    }
   ],
   "source": [
    "scores_rfc = min((t for t in rfc_trials.results),\n",
    "               key= lambda x: x['loss'])\n",
    "scores_rfc"
   ]
  },
  {
   "cell_type": "code",
   "execution_count": 246,
   "metadata": {},
   "outputs": [],
   "source": [
    "svc_trials = Trials()"
   ]
  },
  {
   "cell_type": "code",
   "execution_count": 247,
   "metadata": {},
   "outputs": [
    {
     "name": "stdout",
     "output_type": "stream",
     "text": [
      "{'C': 2.9069360729340032, 'kernel': 'linear'}\n",
      "{'C': 134.23737519851838, 'kernel': 'rbf'}\n",
      "{'C': 0.05627406328678686, 'kernel': 'rbf'}\n",
      "{'C': 0.1517950879469844, 'kernel': 'rbf'}\n",
      "{'C': 0.08190786605287667, 'kernel': 'linear'}\n",
      "{'C': 22.041858165307094, 'kernel': 'linear'}\n",
      "{'C': 7.684194459049488, 'kernel': 'rbf'}\n",
      "{'C': 13.932355283665542, 'kernel': 'rbf'}\n",
      "{'C': 203.77427582385752, 'kernel': 'linear'}\n",
      "{'C': 1.1455350393922994, 'kernel': 'linear'}\n",
      "{'C': 25.46202480826359, 'kernel': 'rbf'}\n",
      "{'C': 0.05155399627804399, 'kernel': 'rbf'}\n",
      "{'C': 0.022365359774147962, 'kernel': 'linear'}\n",
      "{'C': 33.14279695853066, 'kernel': 'linear'}\n",
      "{'C': 32.76030187064162, 'kernel': 'rbf'}\n",
      "{'C': 0.12260400919925125, 'kernel': 'rbf'}\n",
      "{'C': 2.3069692760254736, 'kernel': 'rbf'}\n",
      "{'C': 0.2344862874877376, 'kernel': 'linear'}\n",
      "{'C': 0.369573671588658, 'kernel': 'linear'}\n",
      "{'C': 0.325148527329173, 'kernel': 'rbf'}\n",
      "{'C': 2.975327981904281, 'kernel': 'rbf'}\n",
      "{'C': 2.638367682200394, 'kernel': 'rbf'}\n",
      "{'C': 2.6514807821945503, 'kernel': 'rbf'}\n",
      "{'C': 0.0010380809284973762, 'kernel': 'rbf'}\n",
      "{'C': 1.947788595169816, 'kernel': 'rbf'}\n",
      "{'C': 1.8770494338587504, 'kernel': 'rbf'}\n",
      "{'C': 1.570157869163139, 'kernel': 'rbf'}\n",
      "{'C': 1.1480362445312686, 'kernel': 'rbf'}\n",
      "{'C': 1.3881831975463534, 'kernel': 'rbf'}\n",
      "{'C': 3.926272878404799, 'kernel': 'rbf'}\n",
      "{'C': 0.6947993112973453, 'kernel': 'rbf'}\n",
      "{'C': 0.723902417285656, 'kernel': 'rbf'}\n",
      "{'C': 1.5693880850207556, 'kernel': 'rbf'}\n",
      "{'C': 2273.7942813235536, 'kernel': 'rbf'}\n",
      "{'C': 3.8069431048838402, 'kernel': 'rbf'}\n",
      "{'C': 0.937034699434113, 'kernel': 'rbf'}\n",
      "{'C': 1.8363831964725879, 'kernel': 'rbf'}\n",
      "{'C': 5.155593658148828, 'kernel': 'linear'}\n",
      "{'C': 2.0194438138657604, 'kernel': 'rbf'}\n",
      "{'C': 3.5140404570345294, 'kernel': 'rbf'}\n",
      "{'C': 5.023285094707638, 'kernel': 'linear'}\n",
      "{'C': 0.8469324063367164, 'kernel': 'rbf'}\n",
      "{'C': 1.8081921759243786, 'kernel': 'rbf'}\n",
      "{'C': 1.231680387803545, 'kernel': 'linear'}\n",
      "{'C': 9.243759602534599, 'kernel': 'rbf'}\n",
      "{'C': 61.257867953690955, 'kernel': 'rbf'}\n",
      "{'C': 2.2107821847305047, 'kernel': 'linear'}\n",
      "{'C': 0.9545721115404925, 'kernel': 'rbf'}\n",
      "{'C': 1.6753825874904866, 'kernel': 'linear'}\n",
      "{'C': 0.5738862945694302, 'kernel': 'rbf'}\n",
      "{'C': 5.0845587265348335, 'kernel': 'rbf'}\n",
      "{'C': 2.3479158385051475, 'kernel': 'rbf'}\n",
      "{'C': 1.342640679224725, 'kernel': 'linear'}\n",
      "{'C': 4.465765841470425, 'kernel': 'rbf'}\n",
      "{'C': 3.0704579655680306, 'kernel': 'rbf'}\n",
      "{'C': 5.857338310191119, 'kernel': 'linear'}\n",
      "{'C': 7.424424618461376, 'kernel': 'rbf'}\n",
      "{'C': 181.04552259531755, 'kernel': 'rbf'}\n",
      "{'C': 1.018913943430886, 'kernel': 'rbf'}\n",
      "{'C': 0.4864605533254472, 'kernel': 'rbf'}\n",
      "{'C': 3.3370522620561567, 'kernel': 'linear'}\n",
      "{'C': 0.04493373399798337, 'kernel': 'rbf'}\n",
      "{'C': 13.246824928793947, 'kernel': 'rbf'}\n",
      "{'C': 1.3893269943725965, 'kernel': 'rbf'}\n",
      "{'C': 2.670222174921987, 'kernel': 'rbf'}\n",
      "{'C': 1.7880291999334326, 'kernel': 'rbf'}\n",
      "{'C': 2.4392073575029287, 'kernel': 'rbf'}\n",
      "{'C': 1.6938038817561507, 'kernel': 'rbf'}\n",
      "{'C': 1.8865980174090529, 'kernel': 'rbf'}\n",
      "{'C': 2.0728001017276076, 'kernel': 'rbf'}\n",
      "{'C': 1.5037017001159045, 'kernel': 'rbf'}\n",
      "{'C': 1.0963905711717477, 'kernel': 'rbf'}\n",
      "{'C': 1.2390012232894345, 'kernel': 'rbf'}\n",
      "{'C': 2.1503935875352247, 'kernel': 'rbf'}\n",
      "{'C': 2.506511545355535, 'kernel': 'rbf'}\n",
      "{'C': 2.8254667899108714, 'kernel': 'rbf'}\n",
      "{'C': 1.8720787794168638, 'kernel': 'rbf'}\n",
      "{'C': 3.277058004375408, 'kernel': 'linear'}\n",
      "{'C': 1.4830747816744498, 'kernel': 'rbf'}\n",
      "{'C': 1.7032838507567418, 'kernel': 'rbf'}\n",
      "{'C': 0.8141271551702568, 'kernel': 'rbf'}\n",
      "{'C': 0.2127979891995272, 'kernel': 'linear'}\n",
      "{'C': 62.460324639895695, 'kernel': 'rbf'}\n",
      "{'C': 3.991942191515459, 'kernel': 'rbf'}\n",
      "{'C': 1.6591391266131403, 'kernel': 'rbf'}\n",
      "{'C': 1.2557028445902372, 'kernel': 'rbf'}\n",
      "{'C': 0.01035776508616042, 'kernel': 'linear'}\n",
      "{'C': 1.9514964374845156, 'kernel': 'rbf'}\n",
      "{'C': 1.0962006775204678, 'kernel': 'rbf'}\n",
      "{'C': 1.9949046590782262, 'kernel': 'rbf'}\n",
      "{'C': 3.014439372266444, 'kernel': 'rbf'}\n",
      "{'C': 0.6885116656073271, 'kernel': 'linear'}\n",
      "{'C': 2.1790992447389796, 'kernel': 'rbf'}\n",
      "{'C': 1.3704170061519314, 'kernel': 'rbf'}\n",
      "{'C': 730.8713152023053, 'kernel': 'rbf'}\n",
      "{'C': 3.6107481525218708, 'kernel': 'rbf'}\n",
      "{'C': 2.304609429760252, 'kernel': 'linear'}\n",
      "{'C': 0.8632630771463652, 'kernel': 'rbf'}\n",
      "{'C': 4.205737925541821, 'kernel': 'rbf'}\n",
      "{'C': 2.493855706044278, 'kernel': 'rbf'}\n"
     ]
    }
   ],
   "source": [
    "svc_best = fmin(svc_score_fn,\n",
    "    space=svc_space,\n",
    "    algo=tpe.suggest,\n",
    "    max_evals=100,\n",
    "    trials=svc_trials)"
   ]
  },
  {
   "cell_type": "code",
   "execution_count": 248,
   "metadata": {},
   "outputs": [
    {
     "data": {
      "text/plain": [
       "dict_items([('svc_C', 1.7032838507567418), ('svc_kernel', 1)])"
      ]
     },
     "execution_count": 248,
     "metadata": {},
     "output_type": "execute_result"
    }
   ],
   "source": [
    "svc_best.items()"
   ]
  },
  {
   "cell_type": "code",
   "execution_count": 249,
   "metadata": {},
   "outputs": [
    {
     "data": {
      "text/plain": [
       "{'loss': 1.0970882475473012, 'accuracy': 0.5485317464183722, 'status': 'ok'}"
      ]
     },
     "execution_count": 249,
     "metadata": {},
     "output_type": "execute_result"
    }
   ],
   "source": [
    "scores_svc = min((t for t in svc_trials.results),\n",
    "               key= lambda x: x['loss'])\n",
    "scores_svc"
   ]
  },
  {
   "cell_type": "code",
   "execution_count": 250,
   "metadata": {},
   "outputs": [],
   "source": [
    "sgd_trials = Trials()"
   ]
  },
  {
   "cell_type": "code",
   "execution_count": 251,
   "metadata": {},
   "outputs": [
    {
     "name": "stdout",
     "output_type": "stream",
     "text": [
      "{'alpha': 0.03386541342064317, 'l1_ratio': 0.8370326464973079}\n",
      "{'alpha': 0.27595908138360226, 'l1_ratio': 0.4685616189501838}\n",
      "{'alpha': 0.7651663491405363, 'l1_ratio': 0.2357712194382966}\n",
      "{'alpha': 0.22670885037404756, 'l1_ratio': 0.3978479819428088}\n",
      "{'alpha': 0.9845293319924917, 'l1_ratio': 0.9705822679492873}\n",
      "{'alpha': 0.9045903145235542, 'l1_ratio': 0.19993633683646184}\n",
      "{'alpha': 0.6295230676694133, 'l1_ratio': 0.0576930220311066}\n",
      "{'alpha': 0.8347058125303128, 'l1_ratio': 0.022216063867770308}\n",
      "{'alpha': 0.7057414694415782, 'l1_ratio': 0.37994028420387094}\n",
      "{'alpha': 0.9971456214962058, 'l1_ratio': 0.8367922838292607}\n",
      "{'alpha': 0.48878886958933626, 'l1_ratio': 0.8998465159663666}\n",
      "{'alpha': 0.6492670443421716, 'l1_ratio': 0.4625381630988744}\n",
      "{'alpha': 0.3612079992787739, 'l1_ratio': 0.6866276106130597}\n",
      "{'alpha': 0.1721091071709561, 'l1_ratio': 0.1289478860535732}\n",
      "{'alpha': 0.961647283429547, 'l1_ratio': 0.13586145368407376}\n",
      "{'alpha': 0.1995885389571916, 'l1_ratio': 0.4222190417991446}\n",
      "{'alpha': 0.1321315434049849, 'l1_ratio': 0.40695245191071794}\n",
      "{'alpha': 0.18801834819561478, 'l1_ratio': 0.02693289383327624}\n",
      "{'alpha': 0.7767879205860025, 'l1_ratio': 0.2947286023135981}\n",
      "{'alpha': 0.6196510572777546, 'l1_ratio': 0.8625104985850874}\n",
      "{'alpha': 0.027452215475767844, 'l1_ratio': 0.6458157816917561}\n",
      "{'alpha': 0.017275594492399744, 'l1_ratio': 0.6526240368451796}\n",
      "{'alpha': 0.06179710898955004, 'l1_ratio': 0.6302213134631846}\n",
      "{'alpha': 0.3373913712289398, 'l1_ratio': 0.595108755523371}\n",
      "{'alpha': 0.47569436864613085, 'l1_ratio': 0.7460935731985546}\n",
      "{'alpha': 0.08006673750309923, 'l1_ratio': 0.5702053458312089}\n",
      "{'alpha': 0.020260291799683923, 'l1_ratio': 0.713534301430921}\n",
      "{'alpha': 0.3914748408712111, 'l1_ratio': 0.7422186724914236}\n",
      "{'alpha': 0.012159535382096255, 'l1_ratio': 0.5306408509148735}\n",
      "{'alpha': 0.10691198159272391, 'l1_ratio': 0.5555708949232999}\n",
      "{'alpha': 0.28276808354319233, 'l1_ratio': 0.7951165066923123}\n",
      "{'alpha': 0.4283541344157419, 'l1_ratio': 0.5186802043718888}\n",
      "{'alpha': 0.27595650382431614, 'l1_ratio': 0.2953442141950709}\n",
      "{'alpha': 0.5666753003505003, 'l1_ratio': 0.9784859302281388}\n",
      "{'alpha': 0.015409546865427927, 'l1_ratio': 0.3346662738616631}\n",
      "{'alpha': 0.27110727776457055, 'l1_ratio': 0.26281365420073693}\n",
      "{'alpha': 0.13039901192893658, 'l1_ratio': 0.34479499194491}\n",
      "{'alpha': 0.5376186626551401, 'l1_ratio': 0.4746933286544112}\n",
      "{'alpha': 0.2360561319023603, 'l1_ratio': 0.21250147565325211}\n",
      "{'alpha': 0.07703349324374179, 'l1_ratio': 0.14241489672944696}\n",
      "{'alpha': 0.010755321937900929, 'l1_ratio': 0.3485068918365621}\n",
      "{'alpha': 0.1574199836603739, 'l1_ratio': 0.5246554128165452}\n",
      "{'alpha': 0.33199877212941475, 'l1_ratio': 0.4391534268771585}\n",
      "{'alpha': 0.8672492804748064, 'l1_ratio': 0.3667492656230625}\n",
      "{'alpha': 0.23939360335811938, 'l1_ratio': 0.18859959504304966}\n",
      "{'alpha': 0.6944863352916794, 'l1_ratio': 0.09462606801259071}\n",
      "{'alpha': 0.4310902003540898, 'l1_ratio': 0.4705206297083554}\n",
      "{'alpha': 0.786836353637952, 'l1_ratio': 0.2528256431407694}\n",
      "{'alpha': 0.10245733948484562, 'l1_ratio': 0.31660822997211946}\n",
      "{'alpha': 0.1503234742208782, 'l1_ratio': 0.17118748374170956}\n",
      "{'alpha': 0.05225193275761488, 'l1_ratio': 0.3851692176551922}\n",
      "{'alpha': 0.9403147036184429, 'l1_ratio': 0.9011132982374863}\n",
      "{'alpha': 0.21630227653957665, 'l1_ratio': 0.07510320632341055}\n",
      "{'alpha': 0.3035546109150883, 'l1_ratio': 0.6075989435438587}\n",
      "{'alpha': 0.5909334387032011, 'l1_ratio': 0.4258268664960641}\n",
      "{'alpha': 0.7131248326103059, 'l1_ratio': 0.5516898188199078}\n",
      "{'alpha': 0.38929322654594134, 'l1_ratio': 0.6832870589255392}\n",
      "{'alpha': 0.18457306871682086, 'l1_ratio': 0.9280031930172528}\n",
      "{'alpha': 0.10772262819389064, 'l1_ratio': 0.5115656601141726}\n",
      "{'alpha': 0.49575213535729057, 'l1_ratio': 0.8409551640558481}\n",
      "{'alpha': 0.4598920443619492, 'l1_ratio': 0.024040115348068658}\n",
      "{'alpha': 0.05480952917744733, 'l1_ratio': 0.7890671014652091}\n",
      "{'alpha': 0.32308481200913036, 'l1_ratio': 0.2718642233520095}\n",
      "{'alpha': 0.35995508967342554, 'l1_ratio': 0.5873388350305078}\n",
      "{'alpha': 0.24511000551016646, 'l1_ratio': 0.21347869160667743}\n",
      "{'alpha': 0.01153739672969338, 'l1_ratio': 0.333460259783234}\n",
      "{'alpha': 0.014802968484662529, 'l1_ratio': 0.40079019665673904}\n",
      "{'alpha': 0.11809873463145787, 'l1_ratio': 0.48743745008041395}\n",
      "{'alpha': 0.04224188659150925, 'l1_ratio': 0.4553109313265735}\n",
      "{'alpha': 0.08636274707507008, 'l1_ratio': 0.3556166142571642}\n",
      "{'alpha': 0.20565918941299746, 'l1_ratio': 0.3182942113469014}\n",
      "{'alpha': 0.13486445671673133, 'l1_ratio': 0.5410158272927923}\n",
      "{'alpha': 0.01047737884400145, 'l1_ratio': 0.6762449410156501}\n",
      "{'alpha': 0.1622090118134891, 'l1_ratio': 0.6248038073587353}\n",
      "{'alpha': 0.5363747304580114, 'l1_ratio': 0.10926032849745551}\n",
      "{'alpha': 0.07734718018019328, 'l1_ratio': 0.2879141530613724}\n",
      "{'alpha': 0.17517079735952504, 'l1_ratio': 0.22652216443469353}\n",
      "{'alpha': 0.26220140615416615, 'l1_ratio': 0.246101763592605}\n",
      "{'alpha': 0.0423036701921653, 'l1_ratio': 0.17255029847197823}\n",
      "{'alpha': 0.30069883867484604, 'l1_ratio': 0.41274795675195775}\n",
      "{'alpha': 0.21109799126881001, 'l1_ratio': 0.45249700201785353}\n",
      "{'alpha': 0.09124101125451775, 'l1_ratio': 0.7153833409308067}\n",
      "{'alpha': 0.6467967751440087, 'l1_ratio': 0.4957870960586523}\n",
      "{'alpha': 0.14171365238827802, 'l1_ratio': 0.37582518068072046}\n",
      "{'alpha': 0.8518736853754469, 'l1_ratio': 0.14572967760527386}\n",
      "{'alpha': 0.06706946839559919, 'l1_ratio': 0.5711999702728527}\n",
      "{'alpha': 0.37435583985842913, 'l1_ratio': 0.04879052631122449}\n",
      "{'alpha': 0.19012169819776548, 'l1_ratio': 0.4361930371719014}\n",
      "{'alpha': 0.8033649505893556, 'l1_ratio': 0.653167951961158}\n",
      "{'alpha': 0.4348364251804474, 'l1_ratio': 0.31342731527861784}\n",
      "{'alpha': 0.04186509434519879, 'l1_ratio': 0.7761512285229699}\n",
      "{'alpha': 0.729866824109695, 'l1_ratio': 0.28609148002154067}\n",
      "{'alpha': 0.9137393223961164, 'l1_ratio': 0.5289330175599882}\n",
      "{'alpha': 0.12021498918960885, 'l1_ratio': 0.39744650903515943}\n",
      "{'alpha': 0.028902378493948677, 'l1_ratio': 0.34560206466430077}\n",
      "{'alpha': 0.24906650312504727, 'l1_ratio': 0.18411456048386354}\n",
      "{'alpha': 0.9806849961986025, 'l1_ratio': 0.47485059010633823}\n",
      "{'alpha': 0.40975577165565263, 'l1_ratio': 0.2326850596387568}\n",
      "{'alpha': 0.22913510552072336, 'l1_ratio': 0.590099930740628}\n",
      "{'alpha': 0.6082162683268489, 'l1_ratio': 0.5068366801927214}\n"
     ]
    }
   ],
   "source": [
    "sgd_best = fmin(sgd_score_fn,\n",
    "    space=sgd_space,\n",
    "    algo=tpe.suggest,\n",
    "    max_evals=100,\n",
    "    trials=sgd_trials)"
   ]
  },
  {
   "cell_type": "code",
   "execution_count": 252,
   "metadata": {},
   "outputs": [
    {
     "data": {
      "text/plain": [
       "{'loss': 1.1781252028558353, 'accuracy': 0.5300084804523341, 'status': 'ok'}"
      ]
     },
     "execution_count": 252,
     "metadata": {},
     "output_type": "execute_result"
    }
   ],
   "source": [
    "scores_sgd = min((t for t in sgd_trials.results),\n",
    "               key= lambda x: x['loss'])\n",
    "scores_sgd"
   ]
  },
  {
   "cell_type": "code",
   "execution_count": null,
   "metadata": {},
   "outputs": [],
   "source": [
    "# VotingClassifier([('rfc', rfc_model),('svc', svc_model),('sgd', sgd_model)],\n",
    "#                                                            voting='soft',\n",
    "#                                                            n_jobs=3)"
   ]
  },
  {
   "cell_type": "markdown",
   "metadata": {},
   "source": [
    "### implementing optimized hyperparameters to investigate performance"
   ]
  },
  {
   "cell_type": "code",
   "execution_count": 253,
   "metadata": {},
   "outputs": [],
   "source": [
    "rfc_class_weight_options = (None,\"balanced\")\n",
    "svc_kernel_options = ('linear','rbf')\n",
    "\n",
    "sgd_model = SGDClassifier(penalty='elasticnet',\n",
    "                          loss='log',\n",
    "                          alpha=sgd_best['sgd_alpha'], \n",
    "                          l1_ratio=sgd_best['sgd_ratio'])\n",
    "\n",
    "# rfc_class_wt is 0, which is not allowed in this implementation!:\n",
    "rfc_model = RandomForestClassifier(class_weight=rfc_class_weight_options[rfc_best['rfc_class_wt']],\n",
    "                                   max_depth=rfc_best['rfc_max_depth'])\n",
    "\n",
    "svc_model = svc_model = SVC(C=svc_best['svc_C'], \n",
    "                            kernel=svc_kernel_options[svc_best['svc_kernel']], \n",
    "                            probability=True)\n",
    "\n",
    "rfc_pipe = make_pipeline(StandardScaler(), rfc_model)\n",
    "svc_pipe = make_pipeline(StandardScaler(), svc_model)\n",
    "sgd_pipe = make_pipeline(StandardScaler(), sgd_model)\n"
   ]
  },
  {
   "cell_type": "code",
   "execution_count": 254,
   "metadata": {},
   "outputs": [],
   "source": [
    "# Create validation set\n",
    "X_train_subset, X_val, y_train_subset, y_val = train_test_split(X_train, y_train, test_size=0.2, stratify=y_train)"
   ]
  },
  {
   "cell_type": "code",
   "execution_count": 255,
   "metadata": {},
   "outputs": [],
   "source": [
    "rfc_pipe.fit(X_train_subset, y_train_subset)\n",
    "rfc_y_pred = rfc_pipe.predict(X_val)"
   ]
  },
  {
   "cell_type": "code",
   "execution_count": 256,
   "metadata": {},
   "outputs": [],
   "source": [
    "svc_pipe.fit(X_train_subset, y_train_subset)\n",
    "svc_y_pred = svc_pipe.predict(X_val)"
   ]
  },
  {
   "cell_type": "code",
   "execution_count": 257,
   "metadata": {},
   "outputs": [],
   "source": [
    "sgd_pipe.fit(X_train_subset, y_train_subset)\n",
    "sgd_y_pred = sgd_pipe.predict(X_val)"
   ]
  },
  {
   "cell_type": "markdown",
   "metadata": {},
   "source": [
    "### running classification reports"
   ]
  },
  {
   "cell_type": "code",
   "execution_count": 258,
   "metadata": {},
   "outputs": [
    {
     "name": "stdout",
     "output_type": "stream",
     "text": [
      "             precision    recall  f1-score   support\n",
      "\n",
      "     Brazil       0.38      0.29      0.32        21\n",
      "   Colombia       0.68      0.79      0.73        29\n",
      "  Guatemala       0.79      0.38      0.51        29\n",
      "     Mexico       0.53      0.74      0.62        38\n",
      "\n",
      "avg / total       0.60      0.58      0.57       117\n",
      "\n"
     ]
    }
   ],
   "source": [
    "print(classification_report(y_val, svc_y_pred))"
   ]
  },
  {
   "cell_type": "code",
   "execution_count": 259,
   "metadata": {},
   "outputs": [
    {
     "name": "stdout",
     "output_type": "stream",
     "text": [
      "             precision    recall  f1-score   support\n",
      "\n",
      "     Brazil       0.25      0.10      0.14        21\n",
      "   Colombia       0.67      0.83      0.74        29\n",
      "  Guatemala       0.35      0.24      0.29        29\n",
      "     Mexico       0.49      0.68      0.57        38\n",
      "\n",
      "avg / total       0.46      0.50      0.46       117\n",
      "\n"
     ]
    }
   ],
   "source": [
    "print(classification_report(y_val, rfc_y_pred))"
   ]
  },
  {
   "cell_type": "code",
   "execution_count": 260,
   "metadata": {},
   "outputs": [
    {
     "name": "stdout",
     "output_type": "stream",
     "text": [
      "             precision    recall  f1-score   support\n",
      "\n",
      "     Brazil       0.00      0.00      0.00        21\n",
      "   Colombia       0.59      0.83      0.69        29\n",
      "  Guatemala       0.54      0.48      0.51        29\n",
      "     Mexico       0.57      0.68      0.62        38\n",
      "\n",
      "avg / total       0.46      0.55      0.50       117\n",
      "\n"
     ]
    }
   ],
   "source": [
    "print(classification_report(y_val, sgd_y_pred))"
   ]
  },
  {
   "cell_type": "code",
   "execution_count": null,
   "metadata": {},
   "outputs": [],
   "source": []
  },
  {
   "cell_type": "markdown",
   "metadata": {},
   "source": [
    "#### Optimizing over 3 models at once (choosing best with hyperopt)"
   ]
  },
  {
   "cell_type": "code",
   "execution_count": 500,
   "metadata": {},
   "outputs": [],
   "source": [
    "class_weight_options = (None,\"balanced\")\n",
    "svc_kernel_options = ('linear','rbf', 'poly', 'sigmoid')\n",
    "svc_kernel_dicts = [{'kernel': 'linear'}, ]\n",
    "sgd_penalty_options = ('l1', 'l2', 'elasticnet')\n",
    "criterion_options = ('gini', 'entropy')\n",
    "model_options = ('rfc', 'svc', 'sgd', 'gnc', 'gnb', 'dtc')"
   ]
  },
  {
   "cell_type": "markdown",
   "metadata": {},
   "source": [
    "opt_space = {'model': hp.choice('model_type',\n",
    "                      [{'type': 'rfc',\n",
    "                        'max_depth': hp.quniform('rfc_max_depth', 2, 7, 1),\n",
    "                        'class_weight': hp.choice('rfc_class_wt', rfc_class_weight_options),\n",
    "                       },\n",
    "                       {'type': 'svc',\n",
    "                        'C': hp.lognormal('svc_C', 0, 1),\n",
    "                        'kernel': hp.choice('svc_kernel', svc_kernel_options)   \n",
    "                       },\n",
    "                       {'type': 'sgd',\n",
    "                        'alpha': hp.uniform('sgd_alpha', 0.01, 1),\n",
    "                        'l1_ratio': hp.uniform('sgd_ratio', 0, 1)\n",
    "                       }\n",
    "                      ]),\n",
    "             'n_components': hp.quniform('num_pc', 1, 8, 1)\n",
    "            }"
   ]
  },
  {
   "cell_type": "code",
   "execution_count": 501,
   "metadata": {},
   "outputs": [],
   "source": [
    "opt_space = hp.choice('model_type',\n",
    "                      [{'type': 'rfc',\n",
    "                        'max_depth': hp.quniform('rfc_max_depth', 2, 10, 1),\n",
    "                        'class_weight': hp.choice('rfc_class_wt', class_weight_options),\n",
    "                        'n_estimators': hp.quniform('rfc_n_ests', 5, 75, 5),\n",
    "                        'criterion': hp.choice('rfc_criterion', criterion_options),\n",
    "                        'min_samples_leaf': hp.uniform('rfc_min_samples', 0.05, 0.5),\n",
    "                       },\n",
    "                       {'type': 'svc',\n",
    "                        'C': hp.lognormal('svc_C', 0, 1),\n",
    "                        'class_weight': hp.choice('svc_class_wt', class_weight_options),\n",
    "                        'kernel': hp.choice('svc_kernel', \n",
    "                                            [{'kernel': 'linear'},\n",
    "                                             {'kernel': 'rbf',\n",
    "                                              'gamma': hp.uniform('svc_gamma_rbf', 0.01, 1)},\n",
    "                                             {'kernel': 'poly',\n",
    "                                              'degree': hp.quniform('svc_degree', 2, 5, 1),\n",
    "                                              'gamma': hp.uniform('svc_gamma_poly', 0.01, 1)},\n",
    "                                             {'kernel': 'sigmoid',\n",
    "                                              'gamma': hp.uniform('svc_gamma_sigmoid', 0.01, 1)}\n",
    "                                            ])   \n",
    "                       },\n",
    "                       {'type': 'sgd',\n",
    "                        'alpha': hp.uniform('sgd_alpha', 0.01, 1),\n",
    "                        'penalty': hp.choice('sgd_penalty', sgd_penalty_options),\n",
    "                        'l1_ratio': hp.uniform('sgd_ratio', 0, 1)\n",
    "                       },\n",
    "                       {'type': 'gpc',\n",
    "                        'length_scale': hp.uniform('gpc_lscale', 0.05, 7)\n",
    "                       },\n",
    "                       #{'type': 'gnb'},\n",
    "                       {'type': 'dtc',\n",
    "                        'criterion': hp.choice('dtc_criterion', criterion_options),\n",
    "                        'max_depth': hp.quniform('dtc_max_depth', 3, 20, 1),\n",
    "                        'min_samples_leaf': hp.uniform('dtc_min_samples', 0.05, 0.5),\n",
    "                        'class_weight': hp.choice('dtc_class_wt', class_weight_options),\n",
    "                       }\n",
    "                      ])"
   ]
  },
  {
   "cell_type": "code",
   "execution_count": 502,
   "metadata": {},
   "outputs": [],
   "source": [
    "def pipe_from_params(params):\n",
    "    \n",
    "    model_params = deepcopy(params)\n",
    "    \n",
    "    for key in params.keys():\n",
    "        if type(model_params[key]) == dict:\n",
    "            sub_dict = model_params.pop(key)\n",
    "            model_params.update(sub_dict)\n",
    "    \n",
    "    model_type = model_params.pop('type')\n",
    "    \n",
    "    if model_type == 'rfc':\n",
    "        model_params['max_depth'] = int(model_params['max_depth'])\n",
    "        model_params['n_estimators'] = int(model_params['n_estimators'])\n",
    "        model = RandomForestClassifier(n_jobs=3,\n",
    "                                       **model_params)\n",
    "    elif model_type == 'svc':\n",
    "        model = SVC(probability=True,\n",
    "                   **model_params)\n",
    "        \n",
    "    elif model_type == 'sgd':\n",
    "        model = SGDClassifier(loss='log',\n",
    "                              n_jobs=3,\n",
    "                              **model_params)\n",
    "        \n",
    "    elif model_type == 'gpc':\n",
    "        model = GaussianProcessClassifier(RBF(model_params['length_scale']))\n",
    "        \n",
    "    elif model_type == 'gnb':\n",
    "        model = GaussianNB()\n",
    "        \n",
    "    elif model_type == 'dtc':\n",
    "        model_params['max_depth'] = int(model_params['max_depth'])\n",
    "        model = DecisionTreeClassifier(**model_params)\n",
    "    \n",
    "    pipe = make_pipeline(StandardScaler(), model)\n",
    "    return pipe"
   ]
  },
  {
   "cell_type": "code",
   "execution_count": null,
   "metadata": {},
   "outputs": [],
   "source": []
  },
  {
   "cell_type": "code",
   "execution_count": 503,
   "metadata": {},
   "outputs": [],
   "source": [
    "def score_fn(params):\n",
    "    print(params)\n",
    "    \n",
    "    pipe = pipe_from_params(params)\n",
    "    \n",
    "    logloss, acc = validate_model(pipe)\n",
    "    return_dict = {'loss': logloss, 'accuracy': acc, 'status':'ok'}\n",
    "    print(return_dict)\n",
    "    return return_dict"
   ]
  },
  {
   "cell_type": "code",
   "execution_count": 504,
   "metadata": {},
   "outputs": [],
   "source": [
    "model_choice_trials = Trials()"
   ]
  },
  {
   "cell_type": "code",
   "execution_count": 560,
   "metadata": {},
   "outputs": [
    {
     "name": "stdout",
     "output_type": "stream",
     "text": [
      "{'class_weight': None, 'criterion': 'entropy', 'max_depth': 6.0, 'min_samples_leaf': 0.09517193725886772, 'type': 'dtc'}\n",
      "{'loss': 1.232738695315994, 'accuracy': 0.4550425402872231, 'status': 'ok'}\n",
      "{'C': 5.247056133792669, 'class_weight': 'balanced', 'kernel': {'gamma': 0.10314431148477257, 'kernel': 'rbf'}, 'type': 'svc'}\n",
      "{'loss': 1.1047531035932958, 'accuracy': 0.5173599608981728, 'status': 'ok'}\n",
      "{'C': 4.824099504053451, 'class_weight': 'balanced', 'kernel': {'gamma': 0.05372682513786788, 'kernel': 'rbf'}, 'type': 'svc'}\n",
      "{'loss': 1.0929964787543538, 'accuracy': 0.5294852012250174, 'status': 'ok'}\n",
      "{'length_scale': 5.301512648430599, 'type': 'gpc'}\n",
      "{'loss': 1.152356828494582, 'accuracy': 0.5368095880667979, 'status': 'ok'}\n",
      "{'C': 4.190423574402326, 'class_weight': None, 'kernel': {'gamma': 0.025631286539222375, 'kernel': 'rbf'}, 'type': 'svc'}\n",
      "{'loss': 1.1120204135856921, 'accuracy': 0.5501977960296274, 'status': 'ok'}\n",
      "{'C': 4.3196102960686265, 'class_weight': 'balanced', 'kernel': {'gamma': 0.6623429599585013, 'kernel': 'rbf'}, 'type': 'svc'}\n",
      "{'loss': 1.1934036163089163, 'accuracy': 0.47979316059029464, 'status': 'ok'}\n",
      "{'alpha': 0.03723845153509203, 'l1_ratio': 0.9798993132849996, 'penalty': 'elasticnet', 'type': 'sgd'}\n",
      "{'loss': 1.2430638152496223, 'accuracy': 0.4803364670546537, 'status': 'ok'}\n",
      "{'C': 5.1686316064098605, 'class_weight': 'balanced', 'kernel': {'degree': 2.0, 'gamma': 0.12675349895271232, 'kernel': 'poly'}, 'type': 'svc'}\n",
      "{'loss': 1.3525253525226881, 'accuracy': 0.41302411144020734, 'status': 'ok'}\n",
      "{'C': 4.893706325072432, 'class_weight': 'balanced', 'kernel': {'gamma': 0.13394438833589006, 'kernel': 'rbf'}, 'type': 'svc'}\n",
      "{'loss': 1.1097422882755181, 'accuracy': 0.5244620860045337, 'status': 'ok'}\n",
      "{'class_weight': 'balanced', 'criterion': 'entropy', 'max_depth': 10.0, 'min_samples_leaf': 0.16644520393731985, 'n_estimators': 70.0, 'type': 'rfc'}\n",
      "{'loss': 1.2685109028466028, 'accuracy': 0.4512392935473325, 'status': 'ok'}\n",
      "{'C': 3.8103963837283428, 'class_weight': 'balanced', 'kernel': {'kernel': 'linear'}, 'type': 'svc'}\n",
      "{'loss': 1.1773131044706515, 'accuracy': 0.5211207512487253, 'status': 'ok'}\n",
      "{'C': 4.707321694928663, 'class_weight': 'balanced', 'kernel': {'gamma': 0.7849166119002555, 'kernel': 'rbf'}, 'type': 'svc'}\n",
      "{'loss': 1.21117942788644, 'accuracy': 0.4780570494791836, 'status': 'ok'}\n",
      "{'class_weight': 'balanced', 'criterion': 'gini', 'max_depth': 16.0, 'min_samples_leaf': 0.33778613691314213, 'type': 'dtc'}\n",
      "{'loss': 1.2776801652007248, 'accuracy': 0.46152388870485483, 'status': 'ok'}\n",
      "{'C': 4.0552932166717355, 'class_weight': 'balanced', 'kernel': {'gamma': 0.11468113565882163, 'kernel': 'rbf'}, 'type': 'svc'}\n",
      "{'loss': 1.1047887202353819, 'accuracy': 0.5157859283219773, 'status': 'ok'}\n",
      "{'C': 4.449686913906797, 'class_weight': 'balanced', 'kernel': {'gamma': 0.432303456709418, 'kernel': 'rbf'}, 'type': 'svc'}\n",
      "{'loss': 1.1589745280345893, 'accuracy': 0.47312101214408353, 'status': 'ok'}\n",
      "{'C': 4.984508541654087, 'class_weight': 'balanced', 'kernel': {'gamma': 0.9516293447061328, 'kernel': 'sigmoid'}, 'type': 'svc'}\n",
      "{'loss': 1.3312785969076808, 'accuracy': 0.29518435612974186, 'status': 'ok'}\n",
      "{'length_scale': 1.6217428152586029, 'type': 'gpc'}\n",
      "{'loss': 1.1619251666562032, 'accuracy': 0.5317188809212963, 'status': 'ok'}\n",
      "{'C': 4.5941267609651, 'class_weight': 'balanced', 'kernel': {'gamma': 0.07203673132650057, 'kernel': 'rbf'}, 'type': 'svc'}\n",
      "{'loss': 1.0959533723246218, 'accuracy': 0.5241423268077017, 'status': 'ok'}\n",
      "{'C': 4.250868589764713, 'class_weight': None, 'kernel': {'gamma': 0.17265063571214706, 'kernel': 'rbf'}, 'type': 'svc'}\n",
      "{'loss': 1.119174798793087, 'accuracy': 0.5418200847747531, 'status': 'ok'}\n",
      "{'alpha': 0.5003503862369478, 'l1_ratio': 0.24793438109306815, 'penalty': 'l1', 'type': 'sgd'}\n",
      "{'loss': 1.366540567045177, 'accuracy': 0.3230935626506102, 'status': 'ok'}\n",
      "{'C': 4.730110136460999, 'class_weight': 'balanced', 'kernel': {'gamma': 0.1497562740121441, 'kernel': 'rbf'}, 'type': 'svc'}\n",
      "{'loss': 1.1103133338963178, 'accuracy': 0.5226815225463387, 'status': 'ok'}\n",
      "{'C': 5.633454885271845, 'class_weight': 'balanced', 'kernel': {'gamma': 0.026851735042971826, 'kernel': 'rbf'}, 'type': 'svc'}\n",
      "{'loss': 1.0973532400208783, 'accuracy': 0.5227673148996148, 'status': 'ok'}\n",
      "{'class_weight': None, 'criterion': 'gini', 'max_depth': 3.0, 'min_samples_leaf': 0.05181123958290193, 'n_estimators': 50.0, 'type': 'rfc'}\n",
      "{'loss': 1.204524824894781, 'accuracy': 0.45642824240967717, 'status': 'ok'}\n",
      "{'C': 3.9829038894566824, 'class_weight': 'balanced', 'kernel': {'degree': 3.0, 'gamma': 0.8031928219314337, 'kernel': 'poly'}, 'type': 'svc'}\n",
      "{'loss': 1.3718840534020833, 'accuracy': 0.4487803412641192, 'status': 'ok'}\n",
      "{'C': 4.507626429152369, 'class_weight': 'balanced', 'kernel': {'gamma': 0.01061930759502865, 'kernel': 'rbf'}, 'type': 'svc'}\n",
      "{'loss': 1.1404529781477968, 'accuracy': 0.5157528089553144, 'status': 'ok'}\n",
      "{'C': 1.4317259124672839, 'class_weight': 'balanced', 'kernel': {'gamma': 0.04740966830793671, 'kernel': 'rbf'}, 'type': 'svc'}\n",
      "{'loss': 1.105966248017582, 'accuracy': 0.5224462701706754, 'status': 'ok'}\n",
      "{'C': 13.369193431039784, 'class_weight': 'balanced', 'kernel': {'gamma': 0.0879226196431063, 'kernel': 'rbf'}, 'type': 'svc'}\n",
      "{'loss': 1.1110727840276595, 'accuracy': 0.5225645391245607, 'status': 'ok'}\n",
      "{'C': 3.692141809068481, 'class_weight': 'balanced', 'kernel': {'gamma': 0.02804940216844889, 'kernel': 'rbf'}, 'type': 'svc'}\n",
      "{'loss': 1.1062794090780625, 'accuracy': 0.5312626523423207, 'status': 'ok'}\n",
      "{'C': 22.925617122120237, 'class_weight': 'balanced', 'kernel': {'gamma': 0.06041686920010912, 'kernel': 'rbf'}, 'type': 'svc'}\n",
      "{'loss': 1.1112316358872705, 'accuracy': 0.5121979067207076, 'status': 'ok'}\n",
      "{'C': 4.446960242617688, 'class_weight': 'balanced', 'kernel': {'gamma': 0.01153475685131192, 'kernel': 'rbf'}, 'type': 'svc'}\n",
      "{'loss': 1.1352970058635659, 'accuracy': 0.5157759485332485, 'status': 'ok'}\n",
      "{'C': 11.159347218059539, 'class_weight': 'balanced', 'kernel': {'gamma': 0.03829982616295659, 'kernel': 'rbf'}, 'type': 'svc'}\n",
      "{'loss': 1.09875440066766, 'accuracy': 0.5361993324434745, 'status': 'ok'}\n",
      "{'C': 4.190747465211383, 'class_weight': 'balanced', 'kernel': {'gamma': 0.01061206883313312, 'kernel': 'rbf'}, 'type': 'svc'}\n",
      "{'loss': 1.1416829143545337, 'accuracy': 0.5157290266113266, 'status': 'ok'}\n",
      "{'C': 1.834476653188853, 'class_weight': 'balanced', 'kernel': {'gamma': 0.07261942234931267, 'kernel': 'rbf'}, 'type': 'svc'}\n",
      "{'loss': 1.0930867436105731, 'accuracy': 0.5240215882789784, 'status': 'ok'}\n",
      "{'C': 12.270102311999388, 'class_weight': 'balanced', 'kernel': {'gamma': 0.09337164633031463, 'kernel': 'rbf'}, 'type': 'svc'}\n",
      "{'loss': 1.1129286393362345, 'accuracy': 0.5225883214685485, 'status': 'ok'}\n",
      "{'C': 4.284933735144871, 'class_weight': 'balanced', 'kernel': {'gamma': 0.9994494177870221, 'kernel': 'rbf'}, 'type': 'svc'}\n",
      "{'loss': 1.2296949704350126, 'accuracy': 0.46280377123699046, 'status': 'ok'}\n",
      "{'C': 14.097060852726655, 'class_weight': 'balanced', 'kernel': {'gamma': 0.04661311092004674, 'kernel': 'rbf'}, 'type': 'svc'}\n",
      "{'loss': 1.0991227336850726, 'accuracy': 0.5208071152442998, 'status': 'ok'}\n",
      "{'C': 9.971608501094956, 'class_weight': 'balanced', 'kernel': {'gamma': 0.06701082961302385, 'kernel': 'rbf'}, 'type': 'svc'}\n",
      "{'loss': 1.1021554818045258, 'accuracy': 0.5138877386759506, 'status': 'ok'}\n",
      "{'C': 10.55075866721377, 'class_weight': 'balanced', 'kernel': {'gamma': 0.09939306248929247, 'kernel': 'rbf'}, 'type': 'svc'}\n",
      "{'loss': 1.1104885880719961, 'accuracy': 0.5242799802325757, 'status': 'ok'}\n",
      "{'C': 16.656523112967637, 'class_weight': 'balanced', 'kernel': {'gamma': 0.011826361020630644, 'kernel': 'rbf'}, 'type': 'svc'}\n",
      "{'loss': 1.1208082773146257, 'accuracy': 0.5261939007320227, 'status': 'ok'}\n",
      "{'C': 19.518673165631093, 'class_weight': 'balanced', 'kernel': {'gamma': 0.0296347910248343, 'kernel': 'rbf'}, 'type': 'svc'}\n",
      "{'loss': 1.1002300511788263, 'accuracy': 0.5344162994104414, 'status': 'ok'}\n",
      "{'C': 9.23216541123199, 'class_weight': 'balanced', 'kernel': {'gamma': 0.11799971469754561, 'kernel': 'rbf'}, 'type': 'svc'}\n",
      "{'loss': 1.1135007003459352, 'accuracy': 0.5191630211682483, 'status': 'ok'}\n",
      "{'C': 15.412961133351438, 'class_weight': 'balanced', 'kernel': {'gamma': 0.053342680522962836, 'kernel': 'rbf'}, 'type': 'svc'}\n",
      "{'loss': 1.1028152328508403, 'accuracy': 0.5209905065483652, 'status': 'ok'}\n",
      "{'C': 4.105558641612115, 'class_weight': 'balanced', 'kernel': {'gamma': 0.08096771421800858, 'kernel': 'rbf'}, 'type': 'svc'}\n",
      "{'loss': 1.0972190825987482, 'accuracy': 0.5242099187327197, 'status': 'ok'}\n",
      "{'C': 3.5083286115216605, 'class_weight': 'balanced', 'kernel': {'gamma': 0.04504938203442018, 'kernel': 'rbf'}, 'type': 'svc'}\n",
      "{'loss': 1.0905488423933067, 'accuracy': 0.5291841837331204, 'status': 'ok'}\n",
      "{'C': 3.7996681611205427, 'class_weight': 'balanced', 'kernel': {'gamma': 0.107878257929169, 'kernel': 'rbf'}, 'type': 'svc'}\n",
      "{'loss': 1.1027305979219642, 'accuracy': 0.517336178554185, 'status': 'ok'}\n",
      "{'C': 3.4713825600198254, 'class_weight': 'balanced', 'kernel': {'gamma': 0.12979087868117156, 'kernel': 'rbf'}, 'type': 'svc'}\n",
      "{'loss': 1.1103231620369007, 'accuracy': 0.5175213966670348, 'status': 'ok'}\n",
      "{'C': 4.79720268175735, 'class_weight': 'balanced', 'kernel': {'gamma': 0.07478638573763706, 'kernel': 'rbf'}, 'type': 'svc'}\n",
      "{'loss': 1.0985875318492027, 'accuracy': 0.5293268777970472, 'status': 'ok'}\n",
      "{'C': 3.8594743293962765, 'class_weight': 'balanced', 'kernel': {'gamma': 0.01070039089635557, 'kernel': 'rbf'}, 'type': 'svc'}\n",
      "{'loss': 1.1434581469539968, 'accuracy': 0.5140605074252335, 'status': 'ok'}\n",
      "{'C': 3.586511937171242, 'class_weight': 'balanced', 'kernel': {'gamma': 0.05253340397628918, 'kernel': 'rbf'}, 'type': 'svc'}\n",
      "{'loss': 1.0909990148968143, 'accuracy': 0.5174475800602332, 'status': 'ok'}\n",
      "{'C': 3.522765930250091, 'class_weight': 'balanced', 'kernel': {'gamma': 0.09562689323731657, 'kernel': 'rbf'}, 'type': 'svc'}\n",
      "{'loss': 1.1022408190708046, 'accuracy': 0.5259222474998431, 'status': 'ok'}\n",
      "{'C': 3.6306769005919404, 'class_weight': 'balanced', 'kernel': {'gamma': 0.033556338716791825, 'kernel': 'rbf'}, 'type': 'svc'}\n",
      "{'loss': 1.0985302524925378, 'accuracy': 0.5261250232748971, 'status': 'ok'}\n",
      "{'C': 3.300923756068637, 'class_weight': 'balanced', 'kernel': {'gamma': 0.0662081161229803, 'kernel': 'rbf'}, 'type': 'svc'}\n",
      "{'loss': 1.0943100120498173, 'accuracy': 0.5225645391245607, 'status': 'ok'}\n",
      "{'C': 3.9161678642028126, 'class_weight': 'balanced', 'kernel': {'gamma': 0.13755065448906487, 'kernel': 'rbf'}, 'type': 'svc'}\n",
      "{'loss': 1.1072481998897898, 'accuracy': 0.5226815225463387, 'status': 'ok'}\n",
      "{'C': 4.625482275978276, 'class_weight': 'balanced', 'kernel': {'gamma': 0.044487070014893035, 'kernel': 'rbf'}, 'type': 'svc'}\n",
      "{'loss': 1.0897399068718636, 'accuracy': 0.5292993403461139, 'status': 'ok'}\n",
      "{'C': 4.6228028677186765, 'class_weight': 'balanced', 'kernel': {'gamma': 0.027145341497667588, 'kernel': 'rbf'}, 'type': 'svc'}\n",
      "{'loss': 1.1028623833978557, 'accuracy': 0.5244364768517616, 'status': 'ok'}\n",
      "{'C': 4.92855233601837, 'class_weight': 'balanced', 'kernel': {'kernel': 'linear'}, 'type': 'svc'}\n",
      "{'loss': 1.1810824787261898, 'accuracy': 0.5211207512487253, 'status': 'ok'}\n",
      "{'C': 5.114447995815699, 'class_weight': 'balanced', 'kernel': {'gamma': 0.08798055351453471, 'kernel': 'rbf'}, 'type': 'svc'}\n",
      "{'loss': 1.1016654495414957, 'accuracy': 0.5138439290949204, 'status': 'ok'}\n",
      "{'C': 4.637304300629666, 'class_weight': 'balanced', 'kernel': {'gamma': 0.11876949687258206, 'kernel': 'rbf'}, 'type': 'svc'}\n",
      "{'loss': 1.1084507154319025, 'accuracy': 0.5123806552587195, 'status': 'ok'}\n",
      "{'C': 4.006680190488913, 'class_weight': 'balanced', 'kernel': {'gamma': 0.1608019578967992, 'kernel': 'rbf'}, 'type': 'svc'}\n",
      "{'loss': 1.112838329592669, 'accuracy': 0.5193006745931223, 'status': 'ok'}\n",
      "{'C': 3.729368078097069, 'class_weight': 'balanced', 'kernel': {'gamma': 0.047695324846001044, 'kernel': 'rbf'}, 'type': 'svc'}\n",
      "{'loss': 1.0920328374802701, 'accuracy': 0.5258271181238917, 'status': 'ok'}\n",
      "{'C': 4.391356615305685, 'class_weight': 'balanced', 'kernel': {'gamma': 0.06277972102905649, 'kernel': 'sigmoid'}, 'type': 'svc'}\n",
      "{'loss': 1.2685809290124803, 'accuracy': 0.3828487486224509, 'status': 'ok'}\n",
      "{'C': 4.810057742215483, 'class_weight': 'balanced', 'kernel': {'gamma': 0.09963648013994619, 'kernel': 'rbf'}, 'type': 'svc'}\n",
      "{'loss': 1.1023972776394282, 'accuracy': 0.5139115210199384, 'status': 'ok'}\n",
      "{'C': 5.026028346394716, 'class_weight': 'balanced', 'kernel': {'gamma': 0.07428286890400304, 'kernel': 'rbf'}, 'type': 'svc'}\n",
      "{'loss': 1.0981243375575245, 'accuracy': 0.5224975899655965, 'status': 'ok'}\n",
      "{'C': 4.544483350545595, 'class_weight': 'balanced', 'kernel': {'gamma': 0.1925866654941207, 'kernel': 'rbf'}, 'type': 'svc'}\n",
      "{'loss': 1.115834743119402, 'accuracy': 0.5328447364090839, 'status': 'ok'}\n",
      "{'C': 4.3682966726669035, 'class_weight': None, 'kernel': {'gamma': 0.011882333934591066, 'kernel': 'rbf'}, 'type': 'svc'}\n",
      "{'loss': 1.1390794886328606, 'accuracy': 0.5588301441311534, 'status': 'ok'}\n",
      "{'class_weight': None, 'criterion': 'entropy', 'max_depth': 5.0, 'min_samples_leaf': 0.16644164115450572, 'type': 'dtc'}\n",
      "{'loss': 1.351089937948625, 'accuracy': 0.434558973176493, 'status': 'ok'}\n",
      "{'C': 4.72535671267956, 'class_weight': 'balanced', 'kernel': {'gamma': 0.03447671709740259, 'kernel': 'rbf'}, 'type': 'svc'}\n",
      "{'loss': 1.093327151762107, 'accuracy': 0.520825315672558, 'status': 'ok'}\n",
      "{'C': 4.282697449400593, 'class_weight': 'balanced', 'kernel': {'degree': 2.0, 'gamma': 0.8864905823334821, 'kernel': 'poly'}, 'type': 'svc'}\n",
      "{'loss': 1.3555992907204415, 'accuracy': 0.47489893687847906, 'status': 'ok'}\n",
      "{'C': 0.7852252984107324, 'class_weight': 'balanced', 'kernel': {'gamma': 0.011126017565682135, 'kernel': 'rbf'}, 'type': 'svc'}\n",
      "{'loss': 1.1960653738999825, 'accuracy': 0.44939553603711857, 'status': 'ok'}\n",
      "{'C': 4.694181696549638, 'class_weight': 'balanced', 'kernel': {'kernel': 'linear'}, 'type': 'svc'}\n",
      "{'loss': 1.179831843573723, 'accuracy': 0.5211207512487253, 'status': 'ok'}\n",
      "{'length_scale': 1.0763427476953051, 'type': 'gpc'}\n",
      "{'loss': 1.1619251651913594, 'accuracy': 0.5317188809212963, 'status': 'ok'}\n",
      "{'C': 4.833426160239761, 'class_weight': 'balanced', 'kernel': {'gamma': 0.15016794326934554, 'kernel': 'rbf'}, 'type': 'svc'}\n",
      "{'loss': 1.1124696261097016, 'accuracy': 0.5226815225463387, 'status': 'ok'}\n",
      "{'C': 0.33420859710159634, 'class_weight': 'balanced', 'kernel': {'gamma': 0.06152847008853915, 'kernel': 'rbf'}, 'type': 'svc'}\n",
      "{'loss': 1.1537877085208643, 'accuracy': 0.4749703515700271, 'status': 'ok'}\n",
      "{'alpha': 0.8616117930984475, 'l1_ratio': 0.8299313850068989, 'penalty': 'l2', 'type': 'sgd'}\n",
      "{'loss': 1.304224760846332, 'accuracy': 0.40879893953073476, 'status': 'ok'}\n",
      "{'C': 4.921740775834983, 'class_weight': 'balanced', 'kernel': {'gamma': 0.113878378694881, 'kernel': 'rbf'}, 'type': 'svc'}\n",
      "{'loss': 1.1059863873492433, 'accuracy': 0.5140253921008247, 'status': 'ok'}\n",
      "{'C': 4.121892009624997, 'class_weight': 'balanced', 'kernel': {'gamma': 0.026628609299338298, 'kernel': 'rbf'}, 'type': 'svc'}\n",
      "{'loss': 1.104832755573352, 'accuracy': 0.5311950604173026, 'status': 'ok'}\n",
      "{'class_weight': 'balanced', 'criterion': 'entropy', 'max_depth': 7.0, 'min_samples_leaf': 0.2896700552009918, 'n_estimators': 20.0, 'type': 'rfc'}\n",
      "{'loss': 1.3362151263586337, 'accuracy': 0.4133051693546467, 'status': 'ok'}\n",
      "{'C': 4.587021282949997, 'class_weight': 'balanced', 'kernel': {'gamma': 0.18480067080167295, 'kernel': 'sigmoid'}, 'type': 'svc'}\n",
      "{'loss': 1.310438469925944, 'accuracy': 0.32254853086684376, 'status': 'ok'}\n",
      "{'C': 5.072834486281019, 'class_weight': 'balanced', 'kernel': {'gamma': 0.010139362518551735, 'kernel': 'rbf'}, 'type': 'svc'}\n",
      "{'loss': 1.1368788697461518, 'accuracy': 0.5140636197661252, 'status': 'ok'}\n",
      "{'C': 4.447065911441896, 'class_weight': None, 'kernel': {'gamma': 0.07983337057167625, 'kernel': 'rbf'}, 'type': 'svc'}\n",
      "{'loss': 1.1011327914927118, 'accuracy': 0.5686071909147792, 'status': 'ok'}\n",
      "{'class_weight': 'balanced', 'criterion': 'gini', 'max_depth': 20.0, 'min_samples_leaf': 0.4903734451953359, 'type': 'dtc'}\n",
      "{'loss': 1.3693465792002153, 'accuracy': 0.3078378824931637, 'status': 'ok'}\n",
      "{'C': 5.228558631288743, 'class_weight': 'balanced', 'kernel': {'gamma': 0.04640671845316447, 'kernel': 'rbf'}, 'type': 'svc'}\n",
      "{'loss': 1.0921053779077792, 'accuracy': 0.5328622940712883, 'status': 'ok'}\n",
      "{'C': 4.226962837213767, 'class_weight': 'balanced', 'kernel': {'degree': 4.0, 'gamma': 0.6698691357383949, 'kernel': 'poly'}, 'type': 'svc'}\n",
      "{'loss': 1.3567656385436093, 'accuracy': 0.40484487957676496, 'status': 'ok'}\n",
      "{'C': 4.987029008719986, 'class_weight': 'balanced', 'kernel': {'gamma': 0.1276775863170098, 'kernel': 'rbf'}, 'type': 'svc'}\n",
      "{'loss': 1.1109067227210456, 'accuracy': 0.5175414239040771, 'status': 'ok'}\n",
      "{'length_scale': 6.448030561949558, 'type': 'gpc'}\n",
      "{'loss': 1.1562311619945225, 'accuracy': 0.5317188809212963, 'status': 'ok'}\n",
      "{'C': 0.5960131753014271, 'class_weight': 'balanced', 'kernel': {'gamma': 0.09846348507432176, 'kernel': 'rbf'}, 'type': 'svc'}\n",
      "{'loss': 1.1171568254739204, 'accuracy': 0.5123537605738399, 'status': 'ok'}\n",
      "{'C': 5.350235175244749, 'class_weight': 'balanced', 'kernel': {'gamma': 0.14520410595209446, 'kernel': 'rbf'}, 'type': 'svc'}\n",
      "{'loss': 1.1139723127974936, 'accuracy': 0.5278660735356842, 'status': 'ok'}\n",
      "{'alpha': 0.3681126396027801, 'l1_ratio': 0.40351015981244703, 'penalty': 'elasticnet', 'type': 'sgd'}\n",
      "{'loss': 1.3634644705265355, 'accuracy': 0.3230935626506102, 'status': 'ok'}\n",
      "{'C': 4.329823222807263, 'class_weight': 'balanced', 'kernel': {'kernel': 'linear'}, 'type': 'svc'}\n",
      "{'loss': 1.1774515026837284, 'accuracy': 0.5211207512487253, 'status': 'ok'}\n",
      "{'C': 4.520508965202843, 'class_weight': 'balanced', 'kernel': {'gamma': 0.16960532641304643, 'kernel': 'rbf'}, 'type': 'svc'}\n",
      "{'loss': 1.115568891154534, 'accuracy': 0.524440773235384, 'status': 'ok'}\n",
      "{'class_weight': None, 'criterion': 'gini', 'max_depth': 4.0, 'min_samples_leaf': 0.24806714369415925, 'n_estimators': 60.0, 'type': 'rfc'}\n",
      "{'loss': 1.2651586229200131, 'accuracy': 0.447798363882989, 'status': 'ok'}\n",
      "{'C': 3.948077397461689, 'class_weight': 'balanced', 'kernel': {'gamma': 0.06246011964584395, 'kernel': 'rbf'}, 'type': 'svc'}\n",
      "{'loss': 1.093560861371776, 'accuracy': 0.5277728724578941, 'status': 'ok'}\n",
      "{'C': 3.37891630009828, 'class_weight': 'balanced', 'kernel': {'gamma': 0.5077237027526859, 'kernel': 'rbf'}, 'type': 'svc'}\n",
      "{'loss': 1.1659376043539744, 'accuracy': 0.47300832510592783, 'status': 'ok'}\n",
      "{'class_weight': None, 'criterion': 'entropy', 'max_depth': 3.0, 'min_samples_leaf': 0.05037716024174249, 'type': 'dtc'}\n",
      "{'loss': 1.220070737439435, 'accuracy': 0.45298656848990304, 'status': 'ok'}\n",
      "{'C': 4.748751004591415, 'class_weight': 'balanced', 'kernel': {'gamma': 0.33753304919886423, 'kernel': 'sigmoid'}, 'type': 'svc'}\n",
      "{'loss': 1.3037208615843772, 'accuracy': 0.33133791686423264, 'status': 'ok'}\n",
      "{'C': 3.6976284344316332, 'class_weight': None, 'kernel': {'gamma': 0.0856843580559651, 'kernel': 'rbf'}, 'type': 'svc'}\n",
      "{'loss': 1.1000761286015082, 'accuracy': 0.5636291708074332, 'status': 'ok'}\n",
      "{'C': 4.379018677062753, 'class_weight': 'balanced', 'kernel': {'gamma': 0.0114427320564338, 'kernel': 'rbf'}, 'type': 'svc'}\n",
      "{'loss': 1.1367660086158193, 'accuracy': 0.5157997308772363, 'status': 'ok'}\n",
      "{'C': 4.64819825829794, 'class_weight': 'balanced', 'kernel': {'gamma': 0.040294007820208304, 'kernel': 'rbf'}, 'type': 'svc'}\n",
      "{'loss': 1.0892930079121332, 'accuracy': 0.5275394468910151, 'status': 'ok'}\n",
      "{'length_scale': 0.47853379006955343, 'type': 'gpc'}\n",
      "{'loss': 1.3655041600705071, 'accuracy': 0.3230935626506102, 'status': 'ok'}\n",
      "{'C': 4.914697060268997, 'class_weight': 'balanced', 'kernel': {'gamma': 0.031307352925938295, 'kernel': 'rbf'}, 'type': 'svc'}\n",
      "{'loss': 1.0954963418289065, 'accuracy': 0.5209842818665817, 'status': 'ok'}\n",
      "{'C': 4.646070414848698, 'class_weight': 'balanced', 'kernel': {'gamma': 0.11630937717398496, 'kernel': 'rbf'}, 'type': 'svc'}\n",
      "{'loss': 1.1096595278910768, 'accuracy': 0.5141167663698306, 'status': 'ok'}\n",
      "{'alpha': 0.7545542484132879, 'l1_ratio': 0.11259628619453171, 'penalty': 'l1', 'type': 'sgd'}\n",
      "{'loss': 1.3681431780586004, 'accuracy': 0.3230935626506102, 'status': 'ok'}\n",
      "{'C': 5.148116353111574, 'class_weight': 'balanced', 'kernel': {'degree': 3.0, 'gamma': 0.3423373934997599, 'kernel': 'poly'}, 'type': 'svc'}\n",
      "{'loss': 1.375623652153923, 'accuracy': 0.4628099959187738, 'status': 'ok'}\n",
      "{'C': 4.837577480849606, 'class_weight': 'balanced', 'kernel': {'gamma': 0.06142749104980921, 'kernel': 'rbf'}, 'type': 'svc'}\n",
      "{'loss': 1.0939111397808625, 'accuracy': 0.5276814981888882, 'status': 'ok'}\n",
      "{'class_weight': 'balanced', 'criterion': 'entropy', 'max_depth': 2.0, 'min_samples_leaf': 0.48672750346570104, 'n_estimators': 55.0, 'type': 'rfc'}\n",
      "{'loss': 1.3862093053143476, 'accuracy': 0.24787115883006294, 'status': 'ok'}\n",
      "{'C': 4.605196296075807, 'class_weight': 'balanced', 'kernel': {'gamma': 0.1819499452137912, 'kernel': 'rbf'}, 'type': 'svc'}\n",
      "{'loss': 1.1159405418863448, 'accuracy': 0.5278191516137622, 'status': 'ok'}\n",
      "{'C': 1.3632043646298506, 'class_weight': 'balanced', 'kernel': {'kernel': 'linear'}, 'type': 'svc'}\n",
      "{'loss': 1.1759485582399987, 'accuracy': 0.5228124100127525, 'status': 'ok'}\n",
      "{'class_weight': 'balanced', 'criterion': 'gini', 'max_depth': 8.0, 'min_samples_leaf': 0.13415739718387906, 'type': 'dtc'}\n",
      "{'loss': 1.2508113530301175, 'accuracy': 0.41375382006014666, 'status': 'ok'}\n",
      "{'C': 4.749292241886514, 'class_weight': 'balanced', 'kernel': {'gamma': 0.08082625755530314, 'kernel': 'rbf'}, 'type': 'svc'}\n",
      "{'loss': 1.098522888092789, 'accuracy': 0.517313038976251, 'status': 'ok'}\n",
      "{'C': 5.036941970592384, 'class_weight': 'balanced', 'kernel': {'gamma': 0.026893065521121466, 'kernel': 'rbf'}, 'type': 'svc'}\n",
      "{'loss': 1.1016098746291352, 'accuracy': 0.5227472876625725, 'status': 'ok'}\n",
      "{'C': 5.416439947106111, 'class_weight': None, 'kernel': {'gamma': 0.10496116530317276, 'kernel': 'rbf'}, 'type': 'svc'}\n",
      "{'loss': 1.109033181947292, 'accuracy': 0.5483928074613907, 'status': 'ok'}\n",
      "{'C': 4.856765493809688, 'class_weight': 'balanced', 'kernel': {'gamma': 0.12291630069923615, 'kernel': 'sigmoid'}, 'type': 'svc'}\n",
      "{'loss': 1.2944135019350025, 'accuracy': 0.35506586254603556, 'status': 'ok'}\n",
      "{'length_scale': 4.248842274202815, 'type': 'gpc'}\n",
      "{'loss': 1.1523568221740472, 'accuracy': 0.5368095880667979, 'status': 'ok'}\n",
      "{'C': 1.0655383056018128, 'class_weight': 'balanced', 'kernel': {'gamma': 0.048090566856157285, 'kernel': 'rbf'}, 'type': 'svc'}\n",
      "{'loss': 1.1157151444349427, 'accuracy': 0.5209573871817023, 'status': 'ok'}\n",
      "{'C': 4.510793439360359, 'class_weight': 'balanced', 'kernel': {'gamma': 0.14534221980849343, 'kernel': 'rbf'}, 'type': 'svc'}\n",
      "{'loss': 1.1107191348255196, 'accuracy': 0.5210367857042334, 'status': 'ok'}\n",
      "{'alpha': 0.6507426373628817, 'l1_ratio': 0.2014990486928543, 'penalty': 'l2', 'type': 'sgd'}\n",
      "{'loss': 1.2892307738380273, 'accuracy': 0.434094050340896, 'status': 'ok'}\n",
      "{'C': 4.96002277402563, 'class_weight': 'balanced', 'kernel': {'gamma': 0.011730069948946154, 'kernel': 'rbf'}, 'type': 'svc'}\n",
      "{'loss': 1.1340247057342492, 'accuracy': 0.5259153800520059, 'status': 'ok'}\n",
      "{'C': 4.674464455374945, 'class_weight': 'balanced', 'kernel': {'gamma': 0.07232991758803325, 'kernel': 'rbf'}, 'type': 'svc'}\n",
      "{'loss': 1.0972001279691304, 'accuracy': 0.5241423268077017, 'status': 'ok'}\n",
      "{'class_weight': None, 'criterion': 'gini', 'max_depth': 3.0, 'min_samples_leaf': 0.2000235455397837, 'n_estimators': 30.0, 'type': 'rfc'}\n",
      "{'loss': 1.2591750661447731, 'accuracy': 0.45122613375812726, 'status': 'ok'}\n",
      "{'C': 5.26950971208898, 'class_weight': 'balanced', 'kernel': {'gamma': 0.12303206319564822, 'kernel': 'rbf'}, 'type': 'svc'}\n",
      "{'loss': 1.1088166008284028, 'accuracy': 0.5175414239040771, 'status': 'ok'}\n",
      "{'C': 5.162242975818251, 'class_weight': 'balanced', 'kernel': {'degree': 5.0, 'gamma': 0.48110496591468926, 'kernel': 'poly'}, 'type': 'svc'}\n",
      "{'loss': 1.3683883471129121, 'accuracy': 0.403357924885953, 'status': 'ok'}\n",
      "{'class_weight': None, 'criterion': 'entropy', 'max_depth': 4.0, 'min_samples_leaf': 0.36274867515024317, 'type': 'dtc'}\n",
      "{'loss': 1.2574643899400944, 'accuracy': 0.46152388870485483, 'status': 'ok'}\n",
      "{'C': 4.4568237630733325, 'class_weight': 'balanced', 'kernel': {'gamma': 0.0899690241022191, 'kernel': 'rbf'}, 'type': 'svc'}\n",
      "{'loss': 1.1008428864785196, 'accuracy': 0.5155093359401218, 'status': 'ok'}\n",
      "{'C': 5.508868451006387, 'class_weight': 'balanced', 'kernel': {'gamma': 0.6336239249855475, 'kernel': 'rbf'}, 'type': 'svc'}\n",
      "{'loss': 1.199061316430813, 'accuracy': 0.48833477718886875, 'status': 'ok'}\n",
      "{'C': 4.780853230673126, 'class_weight': 'balanced', 'kernel': {'kernel': 'linear'}, 'type': 'svc'}\n",
      "{'loss': 1.1834964797382055, 'accuracy': 0.5211207512487253, 'status': 'ok'}\n",
      "{'C': 4.575324895506363, 'class_weight': None, 'kernel': {'gamma': 0.20865518599460944, 'kernel': 'rbf'}, 'type': 'svc'}\n",
      "{'loss': 1.1248514519051138, 'accuracy': 0.5399944262034204, 'status': 'ok'}\n",
      "{'length_scale': 1.8673946030295347, 'type': 'gpc'}\n",
      "{'loss': 1.1619251647984332, 'accuracy': 0.5317188809212963, 'status': 'ok'}\n",
      "{'C': 5.0543926514483974, 'class_weight': 'balanced', 'kernel': {'gamma': 0.01036907762384914, 'kernel': 'rbf'}, 'type': 'svc'}\n",
      "{'loss': 1.1384380715839069, 'accuracy': 0.5157759485332485, 'status': 'ok'}\n",
      "{'C': 4.866591756721859, 'class_weight': 'balanced', 'kernel': {'gamma': 0.010473225625644587, 'kernel': 'rbf'}, 'type': 'svc'}\n",
      "{'loss': 1.1404449090700286, 'accuracy': 0.5157997308772363, 'status': 'ok'}\n",
      "{'alpha': 0.21425657517317875, 'l1_ratio': 0.049394496735519766, 'penalty': 'elasticnet', 'type': 'sgd'}\n",
      "{'loss': 1.2577496902634913, 'accuracy': 0.4583270748217576, 'status': 'ok'}\n",
      "{'C': 4.35021325109296, 'class_weight': 'balanced', 'kernel': {'gamma': 0.042768520219338954, 'kernel': 'rbf'}, 'type': 'svc'}\n",
      "{'loss': 1.0901958907732772, 'accuracy': 0.5292755580021262, 'status': 'ok'}\n",
      "{'C': 4.296671481617482, 'class_weight': 'balanced', 'kernel': {'gamma': 0.039981652762687794, 'kernel': 'rbf'}, 'type': 'svc'}\n",
      "{'loss': 1.091169408115335, 'accuracy': 0.5258947100489098, 'status': 'ok'}\n",
      "{'C': 4.152197636517864, 'class_weight': 'balanced', 'kernel': {'gamma': 0.10399772716264724, 'kernel': 'rbf'}, 'type': 'svc'}\n",
      "{'loss': 1.1043244079397747, 'accuracy': 0.5156000674430739, 'status': 'ok'}\n",
      "{'class_weight': 'balanced', 'criterion': 'entropy', 'max_depth': 9.0, 'min_samples_leaf': 0.4215107273030463, 'n_estimators': 10.0, 'type': 'rfc'}\n",
      "{'loss': 1.3859959924714933, 'accuracy': 0.21555274632960286, 'status': 'ok'}\n",
      "{'C': 4.376497633726398, 'class_weight': 'balanced', 'kernel': {'gamma': 0.060631645338057275, 'kernel': 'rbf'}, 'type': 'svc'}\n",
      "{'loss': 1.0934595938829947, 'accuracy': 0.5311299380671226, 'status': 'ok'}\n",
      "{'C': 4.178241874956132, 'class_weight': 'balanced', 'kernel': {'gamma': 0.6754746852743435, 'kernel': 'sigmoid'}, 'type': 'svc'}\n",
      "{'loss': 1.3296517403118076, 'accuracy': 0.3040006368120103, 'status': 'ok'}\n",
      "{'class_weight': 'balanced', 'criterion': 'gini', 'max_depth': 11.0, 'min_samples_leaf': 0.4996767662136466, 'type': 'dtc'}\n",
      "{'loss': 1.3800143422991655, 'accuracy': 0.26483683349896403, 'status': 'ok'}\n",
      "{'C': 4.246777470659016, 'class_weight': 'balanced', 'kernel': {'gamma': 0.028289765521298103, 'kernel': 'rbf'}, 'type': 'svc'}\n",
      "{'loss': 1.1018112843109549, 'accuracy': 0.526148805618885, 'status': 'ok'}\n",
      "{'C': 4.565831667491848, 'class_weight': 'balanced', 'kernel': {'degree': 2.0, 'gamma': 0.7291921929297787, 'kernel': 'poly'}, 'type': 'svc'}\n",
      "{'loss': 1.351177596033628, 'accuracy': 0.4681634928908721, 'status': 'ok'}\n",
      "{'C': 4.428755780618627, 'class_weight': 'balanced', 'kernel': {'gamma': 0.16282362212269003, 'kernel': 'rbf'}, 'type': 'svc'}\n",
      "{'loss': 1.1123375117556198, 'accuracy': 0.5278660735356842, 'status': 'ok'}\n",
      "{'C': 4.087931577827138, 'class_weight': 'balanced', 'kernel': {'gamma': 0.010109911497749396, 'kernel': 'rbf'}, 'type': 'svc'}\n",
      "{'loss': 1.1452896609704248, 'accuracy': 0.5157052442673387, 'status': 'ok'}\n",
      "{'length_scale': 2.1197277450448935, 'type': 'gpc'}\n",
      "{'loss': 1.1607664840135015, 'accuracy': 0.5334549920324073, 'status': 'ok'}\n",
      "{'C': 4.291159678143824, 'class_weight': 'balanced', 'kernel': {'gamma': 0.13744502576668297, 'kernel': 'rbf'}, 'type': 'svc'}\n",
      "{'loss': 1.1122093321706341, 'accuracy': 0.5210367857042335, 'status': 'ok'}\n",
      "{'C': 4.4799806842187095, 'class_weight': None, 'kernel': {'gamma': 0.07756648891853238, 'kernel': 'rbf'}, 'type': 'svc'}\n",
      "{'loss': 1.1007968603466063, 'accuracy': 0.5704815982168181, 'status': 'ok'}\n",
      "{'C': 4.049362279559549, 'class_weight': 'balanced', 'kernel': {'kernel': 'linear'}, 'type': 'svc'}\n",
      "{'loss': 1.1796708691341515, 'accuracy': 0.5211207512487253, 'status': 'ok'}\n",
      "{'C': 4.35621032104618, 'class_weight': 'balanced', 'kernel': {'gamma': 0.0562727662264364, 'kernel': 'rbf'}, 'type': 'svc'}\n",
      "{'loss': 1.0919359100193562, 'accuracy': 0.5260605436907708, 'status': 'ok'}\n",
      "{'alpha': 0.9595109606642409, 'l1_ratio': 0.16385351195414843, 'penalty': 'l1', 'type': 'sgd'}\n",
      "{'loss': 1.3683705194061955, 'accuracy': 0.31464761670466423, 'status': 'ok'}\n",
      "{'C': 4.650170682224785, 'class_weight': 'balanced', 'kernel': {'gamma': 0.12440291411013538, 'kernel': 'rbf'}, 'type': 'svc'}\n",
      "{'loss': 1.1068817953406458, 'accuracy': 0.5140929840258427, 'status': 'ok'}\n",
      "{'C': 4.215862306061454, 'class_weight': 'balanced', 'kernel': {'gamma': 0.8960309546782175, 'kernel': 'sigmoid'}, 'type': 'svc'}\n",
      "{'loss': 1.3341525020244671, 'accuracy': 0.28662271229412545, 'status': 'ok'}\n",
      "{'class_weight': None, 'criterion': 'gini', 'max_depth': 6.0, 'min_samples_leaf': 0.390521095382536, 'n_estimators': 5.0, 'type': 'rfc'}\n",
      "{'loss': 1.366162915360392, 'accuracy': 0.3230935626506102, 'status': 'ok'}\n",
      "{'class_weight': None, 'criterion': 'entropy', 'max_depth': 7.0, 'min_samples_leaf': 0.4585932937714122, 'type': 'dtc'}\n",
      "{'loss': 1.3037750718837433, 'accuracy': 0.3945251690948338, 'status': 'ok'}\n",
      "{'C': 4.692631739460583, 'class_weight': 'balanced', 'kernel': {'gamma': 0.09398891488338615, 'kernel': 'rbf'}, 'type': 'svc'}\n",
      "{'loss': 1.0991884598913129, 'accuracy': 0.5172923689731548, 'status': 'ok'}\n",
      "{'C': 4.5448247655305245, 'class_weight': 'balanced', 'kernel': {'gamma': 0.18768877584777394, 'kernel': 'rbf'}, 'type': 'svc'}\n",
      "{'loss': 1.1147175270224665, 'accuracy': 0.5328447364090839, 'status': 'ok'}\n",
      "{'C': 4.42121770767149, 'class_weight': 'balanced', 'kernel': {'gamma': 0.045338998713289606, 'kernel': 'rbf'}, 'type': 'svc'}\n",
      "{'loss': 1.0902279488913635, 'accuracy': 0.5275632292350028, 'status': 'ok'}\n",
      "{'C': 1.1807836321552316, 'class_weight': 'balanced', 'kernel': {'gamma': 0.10833091157918862, 'kernel': 'rbf'}, 'type': 'svc'}\n",
      "{'loss': 1.1004546511317248, 'accuracy': 0.5174913896412634, 'status': 'ok'}\n",
      "{'length_scale': 0.7639905776203793, 'type': 'gpc'}\n",
      "{'loss': 1.2231254392617603, 'accuracy': 0.4907823964916611, 'status': 'ok'}\n",
      "{'C': 4.015777837916244, 'class_weight': 'balanced', 'kernel': {'gamma': 0.028757005242142353, 'kernel': 'rbf'}, 'type': 'svc'}\n",
      "{'loss': 1.1009804894690824, 'accuracy': 0.5277935424609901, 'status': 'ok'}\n",
      "{'C': 4.139036940127849, 'class_weight': None, 'kernel': {'degree': 4.0, 'gamma': 0.7744866135153896, 'kernel': 'poly'}, 'type': 'svc'}\n",
      "{'loss': 1.398378246908307, 'accuracy': 0.4133890672395539, 'status': 'ok'}\n",
      "{'alpha': 0.316859461241475, 'l1_ratio': 0.5761243846710309, 'penalty': 'l2', 'type': 'sgd'}\n",
      "{'loss': 1.258691253306617, 'accuracy': 0.4496965535290156, 'status': 'ok'}\n",
      "{'C': 4.507043778054014, 'class_weight': 'balanced', 'kernel': {'gamma': 0.07140552092221597, 'kernel': 'rbf'}, 'type': 'svc'}\n",
      "{'loss': 1.0974982370218205, 'accuracy': 0.5293030954530594, 'status': 'ok'}\n",
      "{'C': 0.8779482786521965, 'class_weight': 'balanced', 'kernel': {'gamma': 0.23354266207858315, 'kernel': 'rbf'}, 'type': 'svc'}\n",
      "{'loss': 1.1199980883985776, 'accuracy': 0.507149182347452, 'status': 'ok'}\n",
      "{'class_weight': 'balanced', 'criterion': 'entropy', 'max_depth': 8.0, 'min_samples_leaf': 0.334924900358326, 'n_estimators': 75.0, 'type': 'rfc'}\n",
      "{'loss': 1.3867707104004645, 'accuracy': 0.24967925973919125, 'status': 'ok'}\n",
      "{'C': 4.7792388286848135, 'class_weight': 'balanced', 'kernel': {'gamma': 0.14314601326818918, 'kernel': 'rbf'}, 'type': 'svc'}\n",
      "{'loss': 1.1116246195604125, 'accuracy': 0.5227728968153446, 'status': 'ok'}\n",
      "{'C': 0.7253327315966772, 'class_weight': 'balanced', 'kernel': {'kernel': 'linear'}, 'type': 'svc'}\n",
      "{'loss': 1.1735250177804266, 'accuracy': 0.519340830556584, 'status': 'ok'}\n",
      "{'class_weight': 'balanced', 'criterion': 'gini', 'max_depth': 12.0, 'min_samples_leaf': 0.23563207568383748, 'type': 'dtc'}\n",
      "{'loss': 1.2697431382538573, 'accuracy': 0.41162037803845664, 'status': 'ok'}\n",
      "{'C': 4.326567562510852, 'class_weight': 'balanced', 'kernel': {'gamma': 0.374981545159353, 'kernel': 'rbf'}, 'type': 'svc'}\n",
      "{'loss': 1.1498926631492077, 'accuracy': 0.4832166340818107, 'status': 'ok'}\n",
      "{'C': 4.967243173144661, 'class_weight': 'balanced', 'kernel': {'gamma': 0.010721324852426568, 'kernel': 'rbf'}, 'type': 'svc'}\n",
      "{'loss': 1.1348259604628907, 'accuracy': 0.5157759485332485, 'status': 'ok'}\n",
      "{'C': 4.5900283674748, 'class_weight': 'balanced', 'kernel': {'gamma': 0.8206592189737889, 'kernel': 'sigmoid'}, 'type': 'svc'}\n",
      "{'loss': 1.337780404027486, 'accuracy': 0.2850687069549723, 'status': 'ok'}\n",
      "{'C': 4.687612359043624, 'class_weight': 'balanced', 'kernel': {'gamma': 0.16981382231502162, 'kernel': 'rbf'}, 'type': 'svc'}\n",
      "{'loss': 1.114757290425342, 'accuracy': 0.5261299624245731, 'status': 'ok'}\n",
      "{'C': 4.22988132514703, 'class_weight': 'balanced', 'kernel': {'gamma': 0.045763166562647124, 'kernel': 'rbf'}, 'type': 'svc'}\n",
      "{'loss': 1.0904685915152097, 'accuracy': 0.5258947100489098, 'status': 'ok'}\n",
      "{'length_scale': 6.602304267135459, 'type': 'gpc'}\n",
      "{'loss': 1.1562311763750484, 'accuracy': 0.5317188809212963, 'status': 'ok'}\n",
      "{'C': 0.3076511920932747, 'class_weight': 'balanced', 'kernel': {'gamma': 0.08879743554516327, 'kernel': 'rbf'}, 'type': 'svc'}\n",
      "{'loss': 1.1443884916678297, 'accuracy': 0.476844758872066, 'status': 'ok'}\n",
      "{'alpha': 0.9122410890521778, 'l1_ratio': 0.9474628192708769, 'penalty': 'elasticnet', 'type': 'sgd'}\n",
      "{'loss': 1.369240287581301, 'accuracy': 0.3230935626506102, 'status': 'ok'}\n",
      "{'C': 4.464029178091485, 'class_weight': 'balanced', 'kernel': {'gamma': 0.010564498043272766, 'kernel': 'rbf'}, 'type': 'svc'}\n",
      "{'loss': 1.1388304624548415, 'accuracy': 0.5191098745645429, 'status': 'ok'}\n",
      "{'C': 4.341072031033405, 'class_weight': 'balanced', 'kernel': {'gamma': 0.05806791219775697, 'kernel': 'rbf'}, 'type': 'svc'}\n",
      "{'loss': 1.0921833204858862, 'accuracy': 0.5277728724578941, 'status': 'ok'}\n",
      "{'C': 4.872337007586975, 'class_weight': None, 'kernel': {'degree': 5.0, 'gamma': 0.582651966139985, 'kernel': 'poly'}, 'type': 'svc'}\n",
      "{'loss': 1.3694056484761132, 'accuracy': 0.4221816670672114, 'status': 'ok'}\n",
      "{'C': 4.148902371206801, 'class_weight': 'balanced', 'kernel': {'gamma': 0.12430937352781948, 'kernel': 'rbf'}, 'type': 'svc'}\n",
      "{'loss': 1.1068179759672085, 'accuracy': 0.5157852855559237, 'status': 'ok'}\n",
      "{'class_weight': None, 'criterion': 'entropy', 'max_depth': 17.0, 'min_samples_leaf': 0.25433756448915823, 'type': 'dtc'}\n",
      "{'loss': 1.2442690723987826, 'accuracy': 0.46152388870485483, 'status': 'ok'}\n",
      "{'class_weight': None, 'criterion': 'gini', 'max_depth': 2.0, 'min_samples_leaf': 0.2683745315326471, 'n_estimators': 35.0, 'type': 'rfc'}\n",
      "{'loss': 1.2694733285371382, 'accuracy': 0.4426375952376313, 'status': 'ok'}\n",
      "{'C': 4.62967296019008, 'class_weight': 'balanced', 'kernel': {'gamma': 0.03025751021714529, 'kernel': 'rbf'}, 'type': 'svc'}\n",
      "{'loss': 1.0984542155674129, 'accuracy': 0.5210549861324916, 'status': 'ok'}\n",
      "{'C': 4.392106762246937, 'class_weight': 'balanced', 'kernel': {'kernel': 'linear'}, 'type': 'svc'}\n",
      "{'loss': 1.1760805392381062, 'accuracy': 0.5211207512487253, 'status': 'ok'}\n",
      "{'C': 4.03253811892515, 'class_weight': 'balanced', 'kernel': {'gamma': 0.10251564494430743, 'kernel': 'rbf'}, 'type': 'svc'}\n",
      "{'loss': 1.105581940226799, 'accuracy': 0.5139108782538848, 'status': 'ok'}\n",
      "{'C': 5.091505110741036, 'class_weight': 'balanced', 'kernel': {'gamma': 0.3136903121356425, 'kernel': 'rbf'}, 'type': 'svc'}\n",
      "{'loss': 1.1419135654352766, 'accuracy': 0.49347122221356177, 'status': 'ok'}\n",
      "{'length_scale': 3.1324880750185526, 'type': 'gpc'}\n",
      "{'loss': 1.1523568383781688, 'accuracy': 0.5368095880667979, 'status': 'ok'}\n",
      "{'C': 0.9743389380028639, 'class_weight': 'balanced', 'kernel': {'gamma': 0.07333196819585303, 'kernel': 'rbf'}, 'type': 'svc'}\n",
      "{'loss': 1.104025116454549, 'accuracy': 0.5243175651318226, 'status': 'ok'}\n",
      "{'C': 3.8950746631852393, 'class_weight': 'balanced', 'kernel': {'gamma': 0.20317210685657153, 'kernel': 'rbf'}, 'type': 'svc'}\n",
      "{'loss': 1.1183000166914785, 'accuracy': 0.5228173491624285, 'status': 'ok'}\n",
      "{'alpha': 0.8037776286377231, 'l1_ratio': 0.6932076259027101, 'penalty': 'l1', 'type': 'sgd'}\n",
      "{'loss': 1.3677957981862805, 'accuracy': 0.3230935626506102, 'status': 'ok'}\n",
      "{'C': 1.5908348725091637, 'class_weight': 'balanced', 'kernel': {'gamma': 0.49283904040857235, 'kernel': 'sigmoid'}, 'type': 'svc'}\n",
      "{'loss': 1.3141230924276233, 'accuracy': 0.30925095291758953, 'status': 'ok'}\n",
      "{'C': 1.0196222123997924, 'class_weight': None, 'kernel': {'gamma': 0.010276823486580988, 'kernel': 'rbf'}, 'type': 'svc'}\n",
      "{'loss': 1.1787792773384698, 'accuracy': 0.4940944684771289, 'status': 'ok'}\n",
      "{'C': 4.797071636672393, 'class_weight': 'balanced', 'kernel': {'gamma': 0.03885456544254157, 'kernel': 'rbf'}, 'type': 'svc'}\n",
      "{'loss': 1.0910124253706197, 'accuracy': 0.5309878867692495, 'status': 'ok'}\n",
      "{'class_weight': 'balanced', 'criterion': 'entropy', 'max_depth': 5.0, 'min_samples_leaf': 0.10033114845257121, 'n_estimators': 40.0, 'type': 'rfc'}\n",
      "{'loss': 1.2475004687175506, 'accuracy': 0.4562624087678161, 'status': 'ok'}\n",
      "{'C': 1.1521193870876725, 'class_weight': 'balanced', 'kernel': {'gamma': 0.15396168700125942, 'kernel': 'rbf'}, 'type': 'svc'}\n",
      "{'loss': 1.1083875302049337, 'accuracy': 0.5139315482569808, 'status': 'ok'}\n",
      "{'class_weight': 'balanced', 'criterion': 'gini', 'max_depth': 15.0, 'min_samples_leaf': 0.19548812656170678, 'type': 'dtc'}\n",
      "{'loss': 1.284004319073826, 'accuracy': 0.4115252486625053, 'status': 'ok'}\n",
      "{'C': 2.0826374511751053, 'class_weight': 'balanced', 'kernel': {'gamma': 0.08096772894493148, 'kernel': 'rbf'}, 'type': 'svc'}\n",
      "{'loss': 1.0926373485497756, 'accuracy': 0.5275876543450444, 'status': 'ok'}\n",
      "{'C': 5.320988148197998, 'class_weight': 'balanced', 'kernel': {'degree': 3.0, 'gamma': 0.26604983627182927, 'kernel': 'poly'}, 'type': 'svc'}\n",
      "{'loss': 1.3525856253341138, 'accuracy': 0.4338299073226074, 'status': 'ok'}\n",
      "{'C': 4.7156707848613975, 'class_weight': 'balanced', 'kernel': {'gamma': 0.12678821090555203, 'kernel': 'rbf'}, 'type': 'svc'}\n",
      "{'loss': 1.1107733674358435, 'accuracy': 0.515805312792966, 'status': 'ok'}\n",
      "{'C': 0.6511469601437845, 'class_weight': 'balanced', 'kernel': {'gamma': 0.059268584562231615, 'kernel': 'rbf'}, 'type': 'svc'}\n",
      "{'loss': 1.1293769445379018, 'accuracy': 0.4936245050024791, 'status': 'ok'}\n",
      "{'length_scale': 0.301825553787614, 'type': 'gpc'}\n",
      "{'loss': 1.3655041600705071, 'accuracy': 0.3230935626506102, 'status': 'ok'}\n",
      "{'C': 1.2755733536872436, 'class_weight': 'balanced', 'kernel': {'kernel': 'linear'}, 'type': 'svc'}\n",
      "{'loss': 1.1744382521231986, 'accuracy': 0.5211000812456292, 'status': 'ok'}\n",
      "{'C': 4.263035122790846, 'class_weight': 'balanced', 'kernel': {'gamma': 0.1038669726074996, 'kernel': 'rbf'}, 'type': 'svc'}\n",
      "{'loss': 1.1035584128264118, 'accuracy': 0.5121754099088274, 'status': 'ok'}\n",
      "{'alpha': 0.930736938200059, 'l1_ratio': 0.36745711108301754, 'penalty': 'l2', 'type': 'sgd'}\n",
      "{'loss': 1.306854550438498, 'accuracy': 0.43060491322252314, 'status': 'ok'}\n",
      "{'C': 0.24186077596224337, 'class_weight': 'balanced', 'kernel': {'gamma': 0.025373923016599964, 'kernel': 'rbf'}, 'type': 'svc'}\n",
      "{'loss': 1.199758080995215, 'accuracy': 0.4407674843192147, 'status': 'ok'}\n",
      "{'C': 4.932976964047542, 'class_weight': 'balanced', 'kernel': {'gamma': 0.06562946882939996, 'kernel': 'rbf'}, 'type': 'svc'}\n",
      "{'loss': 1.0941761615328105, 'accuracy': 0.5310385637981168, 'status': 'ok'}\n",
      "{'class_weight': None, 'criterion': 'gini', 'max_depth': 4.0, 'min_samples_leaf': 0.1264745074042877, 'n_estimators': 45.0, 'type': 'rfc'}\n",
      "{'loss': 1.2390053250407815, 'accuracy': 0.4529822721062807, 'status': 'ok'}\n",
      "{'C': 4.4996697391953715, 'class_weight': None, 'kernel': {'gamma': 0.09113141606579175, 'kernel': 'rbf'}, 'type': 'svc'}\n",
      "{'loss': 1.1036423516874687, 'accuracy': 0.5601093838972354, 'status': 'ok'}\n",
      "{'C': 5.175593446273035, 'class_weight': 'balanced', 'kernel': {'gamma': 0.603982762376288, 'kernel': 'sigmoid'}, 'type': 'svc'}\n",
      "{'loss': 1.3253664586441083, 'accuracy': 0.2819638086175577, 'status': 'ok'}\n",
      "{'class_weight': None, 'criterion': 'entropy', 'max_depth': 13.0, 'min_samples_leaf': 0.11673185117318949, 'type': 'dtc'}\n",
      "{'loss': 1.2269814365916694, 'accuracy': 0.43291176675954973, 'status': 'ok'}\n",
      "{'C': 4.593036690879772, 'class_weight': 'balanced', 'kernel': {'gamma': 0.2749716497170919, 'kernel': 'rbf'}, 'type': 'svc'}\n",
      "{'loss': 1.1348538027143331, 'accuracy': 0.5107603435266557, 'status': 'ok'}\n",
      "{'C': 4.415647107892792, 'class_weight': 'balanced', 'kernel': {'gamma': 0.5591989444014024, 'kernel': 'rbf'}, 'type': 'svc'}\n",
      "{'loss': 1.1764694731895338, 'accuracy': 0.46613522769344684, 'status': 'ok'}\n",
      "{'C': 0.40106437414887197, 'class_weight': 'balanced', 'kernel': {'gamma': 0.17787645587463097, 'kernel': 'rbf'}, 'type': 'svc'}\n",
      "{'loss': 1.1278405404400593, 'accuracy': 0.5004331228308337, 'status': 'ok'}\n",
      "{'C': 3.9725955312916295, 'class_weight': 'balanced', 'kernel': {'gamma': 0.04676165413022771, 'kernel': 'rbf'}, 'type': 'svc'}\n",
      "{'loss': 1.0916062527971002, 'accuracy': 0.5258947100489098, 'status': 'ok'}\n",
      "{'C': 4.826618183129377, 'class_weight': 'balanced', 'kernel': {'gamma': 0.14472975505089097, 'kernel': 'rbf'}, 'type': 'svc'}\n",
      "{'loss': 1.11323033498903, 'accuracy': 0.5227728968153446, 'status': 'ok'}\n",
      "{'length_scale': 3.590416363748045, 'type': 'gpc'}\n",
      "{'loss': 1.1523568232332477, 'accuracy': 0.5368095880667979, 'status': 'ok'}\n",
      "{'C': 4.6951767370571575, 'class_weight': 'balanced', 'kernel': {'degree': 2.0, 'gamma': 0.19751311108673159, 'kernel': 'poly'}, 'type': 'svc'}\n",
      "{'loss': 1.3504796959121372, 'accuracy': 0.43385744477354066, 'status': 'ok'}\n",
      "{'alpha': 0.403157196500448, 'l1_ratio': 0.4650348150397632, 'penalty': 'elasticnet', 'type': 'sgd'}\n",
      "{'loss': 1.3659248834528532, 'accuracy': 0.3230935626506102, 'status': 'ok'}\n",
      "{'C': 4.114222859062929, 'class_weight': 'balanced', 'kernel': {'gamma': 0.02703554988145737, 'kernel': 'rbf'}, 'type': 'svc'}\n",
      "{'loss': 1.1038347924683043, 'accuracy': 0.5294827316501793, 'status': 'ok'}\n",
      "{'C': 4.524680670126285, 'class_weight': 'balanced', 'kernel': {'kernel': 'linear'}, 'type': 'svc'}\n",
      "{'loss': 1.182480790610725, 'accuracy': 0.5211207512487253, 'status': 'ok'}\n",
      "{'class_weight': 'balanced', 'criterion': 'entropy', 'max_depth': 10.0, 'min_samples_leaf': 0.4088207967225568, 'n_estimators': 70.0, 'type': 'rfc'}\n",
      "{'loss': 1.3861597869510454, 'accuracy': 0.2592617513872921, 'status': 'ok'}\n",
      "{'C': 4.979440789003333, 'class_weight': 'balanced', 'kernel': {'gamma': 0.22109389453988226, 'kernel': 'rbf'}, 'type': 'svc'}\n",
      "{'loss': 1.1219634747612002, 'accuracy': 0.5311305808331763, 'status': 'ok'}\n",
      "{'C': 4.333599069562294, 'class_weight': None, 'kernel': {'gamma': 0.12585397429877843, 'kernel': 'rbf'}, 'type': 'svc'}\n",
      "{'loss': 1.1109693016480007, 'accuracy': 0.5433234130850388, 'status': 'ok'}\n",
      "{'class_weight': 'balanced', 'criterion': 'gini', 'max_depth': 14.0, 'min_samples_leaf': 0.28977324724739384, 'type': 'dtc'}\n",
      "{'loss': 1.2776801652007248, 'accuracy': 0.46152388870485483, 'status': 'ok'}\n",
      "{'C': 4.215677630798005, 'class_weight': 'balanced', 'kernel': {'gamma': 0.08001215863801141, 'kernel': 'rbf'}, 'type': 'svc'}\n",
      "{'loss': 1.100166887190139, 'accuracy': 0.5275907666859362, 'status': 'ok'}\n",
      "{'C': 5.81082696508257, 'class_weight': 'balanced', 'kernel': {'gamma': 0.1084279299077719, 'kernel': 'rbf'}, 'type': 'svc'}\n",
      "{'loss': 1.1088388506596678, 'accuracy': 0.515737720867948, 'status': 'ok'}\n",
      "{'C': 5.0494487130884, 'class_weight': 'balanced', 'kernel': {'gamma': 0.30798990644182567, 'kernel': 'sigmoid'}, 'type': 'svc'}\n",
      "{'loss': 1.302593232165509, 'accuracy': 0.33631593697157863, 'status': 'ok'}\n",
      "{'C': 5.41808905879716, 'class_weight': 'balanced', 'kernel': {'gamma': 0.0436298946596169, 'kernel': 'rbf'}, 'type': 'svc'}\n",
      "{'loss': 1.0935194069077554, 'accuracy': 0.529366932271132, 'status': 'ok'}\n",
      "{'length_scale': 1.254974893580751, 'type': 'gpc'}\n",
      "{'loss': 1.1619251652269158, 'accuracy': 0.5317188809212963, 'status': 'ok'}\n",
      "{'C': 1.726979377904605, 'class_weight': 'balanced', 'kernel': {'gamma': 0.9522860321576612, 'kernel': 'rbf'}, 'type': 'svc'}\n",
      "{'loss': 1.2012410636912034, 'accuracy': 0.45969329098384615, 'status': 'ok'}\n",
      "{'C': 4.763076694684739, 'class_weight': 'balanced', 'kernel': {'gamma': 0.010881609050138717, 'kernel': 'rbf'}, 'type': 'svc'}\n",
      "{'loss': 1.1368880205717957, 'accuracy': 0.5157759485332485, 'status': 'ok'}\n",
      "{'alpha': 0.17502249992453622, 'l1_ratio': 0.02243599356301268, 'penalty': 'l1', 'type': 'sgd'}\n",
      "{'loss': 1.3655194432174291, 'accuracy': 0.3230935626506102, 'status': 'ok'}\n",
      "{'C': 4.609318707212196, 'class_weight': 'balanced', 'kernel': {'gamma': 0.06297470117616716, 'kernel': 'rbf'}, 'type': 'svc'}\n",
      "{'loss': 1.0928483951019483, 'accuracy': 0.5276814981888882, 'status': 'ok'}\n",
      "{'C': 4.912485143590455, 'class_weight': 'balanced', 'kernel': {'gamma': 0.011621226722645574, 'kernel': 'rbf'}, 'type': 'svc'}\n",
      "{'loss': 1.1333923936360293, 'accuracy': 0.5242030512848825, 'status': 'ok'}\n",
      "{'C': 4.462102079460391, 'class_weight': 'balanced', 'kernel': {'degree': 4.0, 'gamma': 0.7031737590179997, 'kernel': 'poly'}, 'type': 'svc'}\n",
      "{'loss': 1.3583500297502695, 'accuracy': 0.40304181930668953, 'status': 'ok'}\n",
      "{'class_weight': None, 'criterion': 'gini', 'max_depth': 5.0, 'min_samples_leaf': 0.43502827658889565, 'n_estimators': 55.0, 'type': 'rfc'}\n",
      "{'loss': 1.3655842979799464, 'accuracy': 0.3230935626506102, 'status': 'ok'}\n",
      "{'C': 4.069185146531253, 'class_weight': 'balanced', 'kernel': {'gamma': 0.15729426449518508, 'kernel': 'rbf'}, 'type': 'svc'}\n",
      "{'loss': 1.113094599917385, 'accuracy': 0.5193006745931223, 'status': 'ok'}\n",
      "{'C': 4.291899848669345, 'class_weight': None, 'kernel': {'kernel': 'linear'}, 'type': 'svc'}\n",
      "{'loss': 1.183740020320089, 'accuracy': 0.5488503215724736, 'status': 'ok'}\n",
      "{'class_weight': None, 'criterion': 'entropy', 'max_depth': 9.0, 'min_samples_leaf': 0.47045755439814585, 'type': 'dtc'}\n",
      "{'loss': 1.3202336144338385, 'accuracy': 0.3789001690948338, 'status': 'ok'}\n",
      "{'C': 5.235720749342303, 'class_weight': 'balanced', 'kernel': {'gamma': 0.032220252229255016, 'kernel': 'rbf'}, 'type': 'svc'}\n",
      "{'loss': 1.094801118165732, 'accuracy': 0.520825315672558, 'status': 'ok'}\n",
      "{'C': 4.410877134115654, 'class_weight': 'balanced', 'kernel': {'gamma': 0.01028709844242287, 'kernel': 'rbf'}, 'type': 'svc'}\n",
      "{'loss': 1.1410937026050765, 'accuracy': 0.5173737634534318, 'status': 'ok'}\n",
      "{'C': 0.7644237726033358, 'class_weight': 'balanced', 'kernel': {'gamma': 0.18934653909774884, 'kernel': 'rbf'}, 'type': 'svc'}\n",
      "{'loss': 1.1165438271334787, 'accuracy': 0.5105269179597767, 'status': 'ok'}\n",
      "{'length_scale': 2.4414576396965075, 'type': 'gpc'}\n",
      "{'loss': 1.1567384779614347, 'accuracy': 0.5317188809212963, 'status': 'ok'}\n",
      "{'C': 4.165820725975884, 'class_weight': 'balanced', 'kernel': {'gamma': 0.08666169780109056, 'kernel': 'rbf'}, 'type': 'svc'}\n",
      "{'loss': 1.0995315250657678, 'accuracy': 0.5224500252776207, 'status': 'ok'}\n",
      "{'C': 4.655943168372474, 'class_weight': 'balanced', 'kernel': {'gamma': 0.7618586980884807, 'kernel': 'sigmoid'}, 'type': 'svc'}\n",
      "{'loss': 1.328539454690838, 'accuracy': 0.2970799747115537, 'status': 'ok'}\n",
      "{'alpha': 0.6784959367646362, 'l1_ratio': 0.3180523220088283, 'penalty': 'l2', 'type': 'sgd'}\n",
      "{'loss': 1.2925990233618354, 'accuracy': 0.442862225058512, 'status': 'ok'}\n",
      "{'C': 4.560142954513761, 'class_weight': 'balanced', 'kernel': {'gamma': 0.11485366134183853, 'kernel': 'rbf'}, 'type': 'svc'}\n",
      "{'loss': 1.106425727914901, 'accuracy': 0.5140491744448126, 'status': 'ok'}\n",
      "{'C': 0.8181853849343199, 'class_weight': 'balanced', 'kernel': {'gamma': 0.7990175142966001, 'kernel': 'rbf'}, 'type': 'svc'}\n",
      "{'loss': 1.1800933122482413, 'accuracy': 0.4679151483855882, 'status': 'ok'}\n",
      "{'class_weight': 'balanced', 'criterion': 'entropy', 'max_depth': 6.0, 'min_samples_leaf': 0.303889879519395, 'n_estimators': 65.0, 'type': 'rfc'}\n",
      "{'loss': 1.3617131289777489, 'accuracy': 0.3776153474130223, 'status': 'ok'}\n",
      "{'C': 4.810616429354446, 'class_weight': 'balanced', 'kernel': {'gamma': 0.010017183525249114, 'kernel': 'rbf'}, 'type': 'svc'}\n",
      "{'loss': 1.1412302955209084, 'accuracy': 0.5174206853753537, 'status': 'ok'}\n",
      "{'C': 0.5536030471838058, 'class_weight': 'balanced', 'kernel': {'gamma': 0.061429654834959546, 'kernel': 'rbf'}, 'type': 'svc'}\n",
      "{'loss': 1.1315070135984044, 'accuracy': 0.4935538007365693, 'status': 'ok'}\n",
      "{'class_weight': 'balanced', 'criterion': 'gini', 'max_depth': 19.0, 'min_samples_leaf': 0.06214350941660518, 'type': 'dtc'}\n",
      "{'loss': 1.363079460198453, 'accuracy': 0.42370921750878493, 'status': 'ok'}\n",
      "{'C': 3.919735932462071, 'class_weight': 'balanced', 'kernel': {'degree': 3.0, 'gamma': 0.831103114175735, 'kernel': 'poly'}, 'type': 'svc'}\n",
      "{'loss': 1.3646184955055634, 'accuracy': 0.445308119041897, 'status': 'ok'}\n",
      "{'C': 5.1251601357586845, 'class_weight': None, 'kernel': {'gamma': 0.2529654975731703, 'kernel': 'rbf'}, 'type': 'svc'}\n",
      "{'loss': 1.1336306628912522, 'accuracy': 0.5314528096048463, 'status': 'ok'}\n",
      "{'C': 1.5176065909254601, 'class_weight': 'balanced', 'kernel': {'gamma': 0.1359339794865137, 'kernel': 'rbf'}, 'type': 'svc'}\n",
      "{'loss': 1.1029403502027297, 'accuracy': 0.5174237977162455, 'status': 'ok'}\n",
      "{'C': 1.7934116771187925, 'class_weight': 'balanced', 'kernel': {'kernel': 'linear'}, 'type': 'svc'}\n",
      "{'loss': 1.1754452759558585, 'accuracy': 0.5194315620595361, 'status': 'ok'}\n",
      "{'length_scale': 4.766094016075369, 'type': 'gpc'}\n",
      "{'loss': 1.152356830098673, 'accuracy': 0.5368095880667979, 'status': 'ok'}\n",
      "{'C': 4.887688941234607, 'class_weight': 'balanced', 'kernel': {'gamma': 0.04488621338518475, 'kernel': 'rbf'}, 'type': 'svc'}\n",
      "{'loss': 1.0934126546774632, 'accuracy': 0.5310354514572251, 'status': 'ok'}\n",
      "{'C': 4.23348204131531, 'class_weight': 'balanced', 'kernel': {'gamma': 0.09381961670359967, 'kernel': 'rbf'}, 'type': 'svc'}\n",
      "{'loss': 1.1024082003058746, 'accuracy': 0.5188901838933382, 'status': 'ok'}\n",
      "{'C': 5.572102888851529, 'class_weight': 'balanced', 'kernel': {'gamma': 0.16873226050919904, 'kernel': 'rbf'}, 'type': 'svc'}\n",
      "{'loss': 1.1148620857833316, 'accuracy': 0.5328209540650961, 'status': 'ok'}\n",
      "{'alpha': 0.4996763340055548, 'l1_ratio': 0.3343481863326754, 'penalty': 'elasticnet', 'type': 'sgd'}\n",
      "{'loss': 1.3665680472326338, 'accuracy': 0.3230935626506102, 'status': 'ok'}\n",
      "{'C': 0.2941295801214648, 'class_weight': 'balanced', 'kernel': {'gamma': 0.07282421781024312, 'kernel': 'rbf'}, 'type': 'svc'}\n",
      "{'loss': 1.1515552241898042, 'accuracy': 0.47677716694704797, 'status': 'ok'}\n",
      "{'class_weight': None, 'criterion': 'gini', 'max_depth': 7.0, 'min_samples_leaf': 0.2204583980899441, 'n_estimators': 25.0, 'type': 'rfc'}\n",
      "{'loss': 1.2653077111669746, 'accuracy': 0.44425854973574874, 'status': 'ok'}\n",
      "{'C': 4.503013477622139, 'class_weight': 'balanced', 'kernel': {'gamma': 0.4147332151844971, 'kernel': 'sigmoid'}, 'type': 'svc'}\n",
      "{'loss': 1.3065693552289117, 'accuracy': 0.33821595342638966, 'status': 'ok'}\n",
      "{'C': 3.792465512774454, 'class_weight': 'balanced', 'kernel': {'gamma': 0.032403977804405015, 'kernel': 'rbf'}, 'type': 'svc'}\n",
      "{'loss': 1.1005570920797965, 'accuracy': 0.5278373520420204, 'status': 'ok'}\n",
      "{'C': 4.357576552734622, 'class_weight': 'balanced', 'kernel': {'gamma': 0.1117775917501863, 'kernel': 'rbf'}, 'type': 'svc'}\n",
      "{'loss': 1.1063197299323175, 'accuracy': 0.5123137060997551, 'status': 'ok'}\n",
      "{'class_weight': None, 'criterion': 'entropy', 'max_depth': 5.0, 'min_samples_leaf': 0.21657990196659538, 'type': 'dtc'}\n",
      "{'loss': 1.2467009326912053, 'accuracy': 0.46152388870485483, 'status': 'ok'}\n",
      "{'C': 4.7068528617293, 'class_weight': 'balanced', 'kernel': {'gamma': 0.4134090117923827, 'kernel': 'rbf'}, 'type': 'svc'}\n",
      "{'loss': 1.1578752918339321, 'accuracy': 0.4730972298000957, 'status': 'ok'}\n",
      "{'C': 4.953996517336141, 'class_weight': 'balanced', 'kernel': {'gamma': 0.714600253990749, 'kernel': 'rbf'}, 'type': 'svc'}\n",
      "{'loss': 1.205811670872437, 'accuracy': 0.4865517441558357, 'status': 'ok'}\n",
      "{'C': 0.18049569884561034, 'class_weight': None, 'kernel': {'degree': 5.0, 'gamma': 0.40452881351328124, 'kernel': 'poly'}, 'type': 'svc'}\n",
      "{'loss': 1.3666810589389975, 'accuracy': 0.4254704979853682, 'status': 'ok'}\n",
      "{'C': 79.20917051630724, 'class_weight': 'balanced', 'kernel': {'gamma': 0.7589557414450936, 'kernel': 'rbf'}, 'type': 'svc'}\n",
      "{'loss': 1.2920748760412244, 'accuracy': 0.45257178140649656, 'status': 'ok'}\n",
      "{'length_scale': 3.943474538911633, 'type': 'gpc'}\n",
      "{'loss': 1.1523568267559314, 'accuracy': 0.5368095880667979, 'status': 'ok'}\n",
      "{'C': 5.04379509007251, 'class_weight': 'balanced', 'kernel': {'gamma': 0.010119224406424925, 'kernel': 'rbf'}, 'type': 'svc'}\n",
      "{'loss': 1.1385619607339148, 'accuracy': 0.5140636197661252, 'status': 'ok'}\n",
      "{'alpha': 0.5316602900368906, 'l1_ratio': 0.4271236879949143, 'penalty': 'l1', 'type': 'sgd'}\n",
      "{'loss': 1.3663894993811199, 'accuracy': 0.3230935626506102, 'status': 'ok'}\n",
      "{'C': 4.623021932711878, 'class_weight': 'balanced', 'kernel': {'kernel': 'linear'}, 'type': 'svc'}\n",
      "{'loss': 1.1843711545071662, 'accuracy': 0.5211207512487253, 'status': 'ok'}\n",
      "{'C': 5.286086240729579, 'class_weight': 'balanced', 'kernel': {'gamma': 0.05532055085986461, 'kernel': 'rbf'}, 'type': 'svc'}\n",
      "{'loss': 1.0898039971834321, 'accuracy': 0.5362907067124802, 'status': 'ok'}\n",
      "{'C': 5.743770575736995, 'class_weight': 'balanced', 'kernel': {'gamma': 0.13485923765859487, 'kernel': 'rbf'}, 'type': 'svc'}\n",
      "{'loss': 1.112072075931266, 'accuracy': 0.5208984895133056, 'status': 'ok'}\n",
      "{'class_weight': 'balanced', 'criterion': 'entropy', 'max_depth': 9.0, 'min_samples_leaf': 0.06151008964137675, 'n_estimators': 15.0, 'type': 'rfc'}\n",
      "{'loss': 1.2249488881551494, 'accuracy': 0.42543856266143576, 'status': 'ok'}\n",
      "{'C': 6.087313788192719, 'class_weight': 'balanced', 'kernel': {'gamma': 0.0773329069900071, 'kernel': 'rbf'}, 'type': 'svc'}\n",
      "{'loss': 1.100338282565092, 'accuracy': 0.5155562578620436, 'status': 'ok'}\n",
      "{'C': 5.47472381071294, 'class_weight': 'balanced', 'kernel': {'gamma': 0.05767818883159273, 'kernel': 'rbf'}, 'type': 'svc'}\n",
      "{'loss': 1.0930027225067955, 'accuracy': 0.531082373379147, 'status': 'ok'}\n",
      "{'class_weight': 'balanced', 'criterion': 'gini', 'max_depth': 10.0, 'min_samples_leaf': 0.42947683473772846, 'type': 'dtc'}\n",
      "{'loss': 1.2862448844275227, 'accuracy': 0.44937111092707704, 'status': 'ok'}\n",
      "{'C': 5.387359643618609, 'class_weight': 'balanced', 'kernel': {'gamma': 0.34514658794166714, 'kernel': 'rbf'}, 'type': 'svc'}\n",
      "{'loss': 1.1494456379261706, 'accuracy': 0.4799271603976002, 'status': 'ok'}\n",
      "{'C': 5.292817241238011, 'class_weight': 'balanced', 'kernel': {'gamma': 0.9591388565344507, 'kernel': 'sigmoid'}, 'type': 'svc'}\n",
      "{'loss': 1.32969992322356, 'accuracy': 0.2884275993729851, 'status': 'ok'}\n",
      "{'C': 5.263284877237764, 'class_weight': None, 'kernel': {'gamma': 0.09504396226518802, 'kernel': 'rbf'}, 'type': 'svc'}\n",
      "{'loss': 1.105544004197804, 'accuracy': 0.549969952378478, 'status': 'ok'}\n",
      "{'C': 5.477835884332836, 'class_weight': 'balanced', 'kernel': {'gamma': 0.15063531355539675, 'kernel': 'rbf'}, 'type': 'svc'}\n",
      "{'loss': 1.1154037276203534, 'accuracy': 0.524440773235384, 'status': 'ok'}\n",
      "{'C': 5.887831887762532, 'class_weight': 'balanced', 'kernel': {'gamma': 0.19286585756852262, 'kernel': 'rbf'}, 'type': 'svc'}\n",
      "{'loss': 1.1160591788443817, 'accuracy': 0.5259923089996991, 'status': 'ok'}\n",
      "{'length_scale': 6.892226097912507, 'type': 'gpc'}\n",
      "{'loss': 1.156231242330839, 'accuracy': 0.5317188809212963, 'status': 'ok'}\n",
      "{'C': 5.602173990889972, 'class_weight': 'balanced', 'kernel': {'degree': 2.0, 'gamma': 0.2903209756943048, 'kernel': 'poly'}, 'type': 'svc'}\n",
      "{'loss': 1.352756673047372, 'accuracy': 0.45100644308692256, 'status': 'ok'}\n",
      "{'alpha': 0.447968896543859, 'l1_ratio': 0.49451686002567585, 'penalty': 'l2', 'type': 'sgd'}\n",
      "{'loss': 1.2742702714913752, 'accuracy': 0.4481218781867664, 'status': 'ok'}\n",
      "{'C': 5.796063681615149, 'class_weight': 'balanced', 'kernel': {'gamma': 0.1092768916190292, 'kernel': 'rbf'}, 'type': 'svc'}\n",
      "{'loss': 1.1073793429373382, 'accuracy': 0.515737720867948, 'status': 'ok'}\n",
      "{'class_weight': None, 'criterion': 'gini', 'max_depth': 2.0, 'min_samples_leaf': 0.18309007345520434, 'n_estimators': 20.0, 'type': 'rfc'}\n",
      "{'loss': 1.2589485023935998, 'accuracy': 0.4443261416607668, 'status': 'ok'}\n",
      "{'C': 5.207617214903982, 'class_weight': 'balanced', 'kernel': {'gamma': 0.027021725277530197, 'kernel': 'rbf'}, 'type': 'svc'}\n",
      "{'loss': 1.1002485836678835, 'accuracy': 0.5245272083547138, 'status': 'ok'}\n",
      "{'C': 5.736181003912836, 'class_weight': 'balanced', 'kernel': {'gamma': 0.6911445185221267, 'kernel': 'rbf'}, 'type': 'svc'}\n",
      "{'loss': 1.2081265052251489, 'accuracy': 0.481390975510478, 'status': 'ok'}\n",
      "{'C': 5.109968459577965, 'class_weight': 'balanced', 'kernel': {'kernel': 'linear'}, 'type': 'svc'}\n",
      "{'loss': 1.179989496859264, 'accuracy': 0.5211207512487253, 'status': 'ok'}\n",
      "{'class_weight': None, 'criterion': 'entropy', 'max_depth': 8.0, 'min_samples_leaf': 0.3275065733922146, 'type': 'dtc'}\n",
      "{'loss': 1.2574643899400944, 'accuracy': 0.46152388870485483, 'status': 'ok'}\n",
      "{'C': 5.358247861448889, 'class_weight': 'balanced', 'kernel': {'gamma': 0.04986852995683247, 'kernel': 'rbf'}, 'type': 'svc'}\n",
      "{'loss': 1.0916565257460245, 'accuracy': 0.5345984051823994, 'status': 'ok'}\n",
      "{'C': 5.995247717288676, 'class_weight': 'balanced', 'kernel': {'gamma': 0.21629619337058975, 'kernel': 'rbf'}, 'type': 'svc'}\n",
      "{'loss': 1.1239972921976462, 'accuracy': 0.5277966548018819, 'status': 'ok'}\n",
      "{'C': 5.567340513168665, 'class_weight': 'balanced', 'kernel': {'gamma': 0.4635297964814589, 'kernel': 'rbf'}, 'type': 'svc'}\n",
      "{'loss': 1.1673309709746682, 'accuracy': 0.46286953635322414, 'status': 'ok'}\n",
      "{'C': 5.311555659235717, 'class_weight': None, 'kernel': {'gamma': 0.26198326985765896, 'kernel': 'sigmoid'}, 'type': 'svc'}\n",
      "{'loss': 1.30566122839981, 'accuracy': 0.3860329439930197, 'status': 'ok'}\n",
      "{'length_scale': 5.713261156226657, 'type': 'gpc'}\n",
      "{'loss': 1.1523568294715687, 'accuracy': 0.5368095880667979, 'status': 'ok'}\n",
      "{'C': 4.890584466165104, 'class_weight': 'balanced', 'kernel': {'gamma': 0.042763014460930684, 'kernel': 'rbf'}, 'type': 'svc'}\n",
      "{'loss': 1.0921839921720689, 'accuracy': 0.5309878867692495, 'status': 'ok'}\n",
      "{'C': 4.758421643697995, 'class_weight': 'balanced', 'kernel': {'gamma': 0.06689310885888991, 'kernel': 'rbf'}, 'type': 'svc'}\n",
      "{'loss': 1.0952918250776311, 'accuracy': 0.5310385637981168, 'status': 'ok'}\n",
      "{'C': 4.7335366211250545, 'class_weight': 'balanced', 'kernel': {'gamma': 0.02771199606557661, 'kernel': 'rbf'}, 'type': 'svc'}\n",
      "{'loss': 1.1005610238268773, 'accuracy': 0.5262163975439029, 'status': 'ok'}\n",
      "{'C': 5.041902811771747, 'class_weight': 'balanced', 'kernel': {'gamma': 0.05089934149654748, 'kernel': 'rbf'}, 'type': 'svc'}\n",
      "{'loss': 1.093944159898329, 'accuracy': 0.5345984051823994, 'status': 'ok'}\n",
      "{'C': 5.005002696104864, 'class_weight': 'balanced', 'kernel': {'gamma': 0.07395000151434884, 'kernel': 'rbf'}, 'type': 'svc'}\n",
      "{'loss': 1.0976802387299425, 'accuracy': 0.5259698121878187, 'status': 'ok'}\n",
      "{'C': 5.184539584138839, 'class_weight': 'balanced', 'kernel': {'gamma': 0.029587937948811163, 'kernel': 'rbf'}, 'type': 'svc'}\n",
      "{'loss': 1.0983862779388716, 'accuracy': 0.522743532555627, 'status': 'ok'}\n",
      "{'C': 4.8412091629534295, 'class_weight': 'balanced', 'kernel': {'gamma': 0.08330591633690505, 'kernel': 'rbf'}, 'type': 'svc'}\n",
      "{'loss': 1.098940864894828, 'accuracy': 0.5156007102091277, 'status': 'ok'}\n",
      "{'C': 4.547466478275672, 'class_weight': 'balanced', 'kernel': {'gamma': 0.04275281969918585, 'kernel': 'rbf'}, 'type': 'svc'}\n",
      "{'loss': 1.0896099180310876, 'accuracy': 0.5275394468910151, 'status': 'ok'}\n",
      "{'C': 5.1510265740891255, 'class_weight': 'balanced', 'kernel': {'gamma': 0.060806585518496006, 'kernel': 'rbf'}, 'type': 'svc'}\n",
      "{'loss': 1.0943468698540197, 'accuracy': 0.5293700446120237, 'status': 'ok'}\n",
      "{'C': 4.973333047513344, 'class_weight': 'balanced', 'kernel': {'gamma': 0.010597225481522997, 'kernel': 'rbf'}, 'type': 'svc'}\n",
      "{'loss': 1.1364754100883427, 'accuracy': 0.5157759485332485, 'status': 'ok'}\n",
      "{'C': 4.643519253182912, 'class_weight': 'balanced', 'kernel': {'gamma': 0.09982929476862312, 'kernel': 'rbf'}, 'type': 'svc'}\n",
      "{'loss': 1.1037733980783606, 'accuracy': 0.5121991922528151, 'status': 'ok'}\n",
      "{'C': 4.753572598770528, 'class_weight': 'balanced', 'kernel': {'gamma': 0.030821876372601302, 'kernel': 'rbf'}, 'type': 'svc'}\n",
      "{'loss': 1.1003143503369013, 'accuracy': 0.5192950926773926, 'status': 'ok'}\n",
      "{'C': 4.862957403353131, 'class_weight': 'balanced', 'kernel': {'gamma': 0.07544752513382283, 'kernel': 'rbf'}, 'type': 'svc'}\n",
      "{'loss': 1.0975740618075074, 'accuracy': 0.5258784379188128, 'status': 'ok'}\n",
      "{'C': 4.550404789272557, 'class_weight': 'balanced', 'kernel': {'gamma': 0.09248045832364162, 'kernel': 'rbf'}, 'type': 'svc'}\n",
      "{'loss': 1.100780263914304, 'accuracy': 0.5189133234712723, 'status': 'ok'}\n",
      "{'C': 4.449541334133282, 'class_weight': 'balanced', 'kernel': {'gamma': 0.012387432914042339, 'kernel': 'rbf'}, 'type': 'svc'}\n",
      "{'loss': 1.1308888609026198, 'accuracy': 0.5224907225177593, 'status': 'ok'}\n",
      "{'C': 4.678725310147192, 'class_weight': 'balanced', 'kernel': {'gamma': 0.05418416620044094, 'kernel': 'rbf'}, 'type': 'svc'}\n",
      "{'loss': 1.0931464768421244, 'accuracy': 0.5277490901139062, 'status': 'ok'}\n",
      "{'C': 5.045623083191669, 'class_weight': 'balanced', 'kernel': {'gamma': 0.12355475257810922, 'kernel': 'rbf'}, 'type': 'svc'}\n",
      "{'loss': 1.107811854299066, 'accuracy': 0.515805312792966, 'status': 'ok'}\n",
      "{'C': 4.789103342727951, 'class_weight': 'balanced', 'kernel': {'gamma': 0.01017777016631495, 'kernel': 'rbf'}, 'type': 'svc'}\n",
      "{'loss': 1.1406095142421078, 'accuracy': 0.5140636197661252, 'status': 'ok'}\n",
      "{'C': 5.686277105531648, 'class_weight': 'balanced', 'kernel': {'gamma': 0.010299111599981522, 'kernel': 'rbf'}, 'type': 'svc'}\n",
      "{'loss': 1.1343748718368136, 'accuracy': 0.52593851962994, 'status': 'ok'}\n",
      "{'C': 4.93136690738574, 'class_weight': 'balanced', 'kernel': {'gamma': 0.038582505984139516, 'kernel': 'rbf'}, 'type': 'svc'}\n",
      "{'loss': 1.0904467728190137, 'accuracy': 0.5293431499271442, 'status': 'ok'}\n",
      "{'C': 4.628690060136207, 'class_weight': 'balanced', 'kernel': {'gamma': 0.06247785630502538, 'kernel': 'rbf'}, 'type': 'svc'}\n",
      "{'loss': 1.0934501199870361, 'accuracy': 0.5276814981888882, 'status': 'ok'}\n",
      "{'C': 5.431576679153638, 'class_weight': 'balanced', 'kernel': {'gamma': 0.10636546859755211, 'kernel': 'rbf'}, 'type': 'svc'}\n",
      "{'loss': 1.105889051189928, 'accuracy': 0.515737720867948, 'status': 'ok'}\n",
      "{'C': 4.55784893991034, 'class_weight': 'balanced', 'kernel': {'gamma': 0.08705885028799032, 'kernel': 'rbf'}, 'type': 'svc'}\n",
      "{'loss': 1.1023673277268684, 'accuracy': 0.517313038976251, 'status': 'ok'}\n",
      "{'C': 5.228586771348694, 'class_weight': 'balanced', 'kernel': {'gamma': 0.010806920360459295, 'kernel': 'rbf'}, 'type': 'svc'}\n",
      "{'loss': 1.136289664658245, 'accuracy': 0.5242261908628166, 'status': 'ok'}\n",
      "{'C': 2.453976550776917, 'class_weight': 'balanced', 'kernel': {'gamma': 0.029177721569793973, 'kernel': 'rbf'}, 'type': 'svc'}\n",
      "{'loss': 1.1115951409156617, 'accuracy': 0.5139960278411071, 'status': 'ok'}\n",
      "{'C': 4.8440284311419886, 'class_weight': 'balanced', 'kernel': {'gamma': 0.010111117479561886, 'kernel': 'rbf'}, 'type': 'svc'}\n",
      "{'loss': 1.1401523359946786, 'accuracy': 0.5140636197661252, 'status': 'ok'}\n",
      "{'C': 5.056283732600165, 'class_weight': 'balanced', 'kernel': {'gamma': 0.12476922930596537, 'kernel': 'rbf'}, 'type': 'svc'}\n",
      "{'loss': 1.1088781640414425, 'accuracy': 0.515805312792966, 'status': 'ok'}\n",
      "{'C': 4.451062215048745, 'class_weight': 'balanced', 'kernel': {'gamma': 0.050794557534460764, 'kernel': 'rbf'}, 'type': 'svc'}\n",
      "{'loss': 1.0918806229395148, 'accuracy': 0.5294376365370417, 'status': 'ok'}\n",
      "{'C': 5.136831204678794, 'class_weight': 'balanced', 'kernel': {'gamma': 0.07252831298477533, 'kernel': 'rbf'}, 'type': 'svc'}\n",
      "{'loss': 1.0971897306841547, 'accuracy': 0.5276821409549419, 'status': 'ok'}\n",
      "{'C': 4.715054648342838, 'class_weight': 'balanced', 'kernel': {'gamma': 0.09409194331179055, 'kernel': 'rbf'}, 'type': 'svc'}\n",
      "{'loss': 1.0993924232928798, 'accuracy': 0.5172923689731548, 'status': 'ok'}\n",
      "{'C': 4.94569232062883, 'class_weight': 'balanced', 'kernel': {'gamma': 0.04451496226788442, 'kernel': 'rbf'}, 'type': 'svc'}\n",
      "{'loss': 1.0896205224422106, 'accuracy': 0.5310354514572251, 'status': 'ok'}\n",
      "{'C': 5.519430982050856, 'class_weight': 'balanced', 'kernel': {'gamma': 0.03052044353322506, 'kernel': 'rbf'}, 'type': 'svc'}\n",
      "{'loss': 1.0971302271934529, 'accuracy': 0.5208929075975759, 'status': 'ok'}\n",
      "{'C': 5.3851066950981465, 'class_weight': 'balanced', 'kernel': {'gamma': 0.13775663375031905, 'kernel': 'rbf'}, 'type': 'svc'}\n",
      "{'loss': 1.1101894053256802, 'accuracy': 0.5243707117355279, 'status': 'ok'}\n",
      "{'C': 5.337396730863283, 'class_weight': 'balanced', 'kernel': {'gamma': 0.1091758232471906, 'kernel': 'rbf'}, 'type': 'svc'}\n",
      "{'loss': 1.1073440347495618, 'accuracy': 0.515737720867948, 'status': 'ok'}\n",
      "{'C': 4.958021391738802, 'class_weight': 'balanced', 'kernel': {'gamma': 0.0670016770679185, 'kernel': 'rbf'}, 'type': 'svc'}\n",
      "{'loss': 1.0952953156931802, 'accuracy': 0.5293262350309935, 'status': 'ok'}\n",
      "{'C': 5.20032044902366, 'class_weight': 'balanced', 'kernel': {'gamma': 0.08247160681854995, 'kernel': 'rbf'}, 'type': 'svc'}\n",
      "{'loss': 1.0992791255921064, 'accuracy': 0.5121760526748811, 'status': 'ok'}\n",
      "{'C': 5.643929898575017, 'class_weight': 'balanced', 'kernel': {'gamma': 0.039836438288888484, 'kernel': 'rbf'}, 'type': 'svc'}\n",
      "{'loss': 1.0909644330724526, 'accuracy': 0.5344363266474839, 'status': 'ok'}\n",
      "{'C': 5.085051616681655, 'class_weight': 'balanced', 'kernel': {'gamma': 0.0505517228882622, 'kernel': 'rbf'}, 'type': 'svc'}\n",
      "{'loss': 1.0920421150064166, 'accuracy': 0.5345984051823994, 'status': 'ok'}\n",
      "{'C': 5.2669878076783325, 'class_weight': 'balanced', 'kernel': {'gamma': 0.16262762490819777, 'kernel': 'rbf'}, 'type': 'svc'}\n",
      "{'loss': 1.114282815378267, 'accuracy': 0.5244176336574498, 'status': 'ok'}\n",
      "{'C': 4.930382527562473, 'class_weight': 'balanced', 'kernel': {'gamma': 0.11688965100084509, 'kernel': 'rbf'}, 'type': 'svc'}\n",
      "{'loss': 1.1088875963297884, 'accuracy': 0.5140929840258427, 'status': 'ok'}\n",
      "{'C': 4.824742324255172, 'class_weight': 'balanced', 'kernel': {'degree': 5.0, 'gamma': 0.04453101977148416, 'kernel': 'poly'}, 'type': 'svc'}\n",
      "{'loss': 1.378799621424524, 'accuracy': 0.29215080482429073, 'status': 'ok'}\n",
      "{'C': 5.011393576438736, 'class_weight': 'balanced', 'kernel': {'gamma': 0.026530294583124114, 'kernel': 'rbf'}, 'type': 'svc'}\n",
      "{'loss': 1.103393258574866, 'accuracy': 0.5244364768517616, 'status': 'ok'}\n",
      "{'C': 5.192932282572162, 'class_weight': 'balanced', 'kernel': {'gamma': 0.010793447634775875, 'kernel': 'rbf'}, 'type': 'svc'}\n",
      "{'loss': 1.13645568159522, 'accuracy': 0.5242030512848825, 'status': 'ok'}\n",
      "{'C': 4.853671659717432, 'class_weight': 'balanced', 'kernel': {'gamma': 0.06646219405312931, 'kernel': 'rbf'}, 'type': 'svc'}\n",
      "{'loss': 1.0946296149652035, 'accuracy': 0.5310385637981168, 'status': 'ok'}\n",
      "{'C': 4.775777804872399, 'class_weight': 'balanced', 'kernel': {'kernel': 'linear'}, 'type': 'svc'}\n",
      "{'loss': 1.181347361251009, 'accuracy': 0.5211207512487253, 'status': 'ok'}\n",
      "{'C': 4.946924228477504, 'class_weight': 'balanced', 'kernel': {'gamma': 0.09081695140390605, 'kernel': 'rbf'}, 'type': 'svc'}\n",
      "{'loss': 1.101950173539465, 'accuracy': 0.5172923689731548, 'status': 'ok'}\n",
      "{'C': 5.14985931042635, 'class_weight': 'balanced', 'kernel': {'gamma': 0.144968176176127, 'kernel': 'rbf'}, 'type': 'svc'}\n",
      "{'loss': 1.1129156051109912, 'accuracy': 0.5244176336574498, 'status': 'ok'}\n",
      "{'C': 5.319313687456887, 'class_weight': 'balanced', 'kernel': {'gamma': 0.010790650777054642, 'kernel': 'rbf'}, 'type': 'svc'}\n",
      "{'loss': 1.1354485903729925, 'accuracy': 0.5242261908628166, 'status': 'ok'}\n",
      "{'C': 5.078226809054231, 'class_weight': 'balanced', 'kernel': {'gamma': 0.07150457462117432, 'kernel': 'sigmoid'}, 'type': 'svc'}\n",
      "{'loss': 1.2745864121463515, 'accuracy': 0.3854773911438475, 'status': 'ok'}\n",
      "{'alpha': 0.8777712504516191, 'l1_ratio': 0.8688855811539011, 'penalty': 'elasticnet', 'type': 'sgd'}\n",
      "{'loss': 1.3694693257850026, 'accuracy': 0.3230935626506102, 'status': 'ok'}\n",
      "{'C': 4.65244632649885, 'class_weight': 'balanced', 'kernel': {'gamma': 0.05125459905825047, 'kernel': 'rbf'}, 'type': 'svc'}\n",
      "{'loss': 1.0909080264422109, 'accuracy': 0.5294376365370417, 'status': 'ok'}\n",
      "{'C': 5.455857230393731, 'class_weight': 'balanced', 'kernel': {'gamma': 0.10540370631277601, 'kernel': 'rbf'}, 'type': 'svc'}\n",
      "{'loss': 1.1077836282284221, 'accuracy': 0.5157377208679479, 'status': 'ok'}\n",
      "{'class_weight': 'balanced', 'criterion': 'entropy', 'max_depth': 3.0, 'min_samples_leaf': 0.14611502963750686, 'n_estimators': 75.0, 'type': 'rfc'}\n",
      "{'loss': 1.263154613446201, 'accuracy': 0.4391603323763562, 'status': 'ok'}\n",
      "{'C': 4.894542208654624, 'class_weight': 'balanced', 'kernel': {'gamma': 0.1268027891614857, 'kernel': 'rbf'}, 'type': 'svc'}\n",
      "{'loss': 1.1083780687462974, 'accuracy': 0.515805312792966, 'status': 'ok'}\n",
      "{'C': 4.744246986545216, 'class_weight': None, 'kernel': {'gamma': 0.010548090641599464, 'kernel': 'rbf'}, 'type': 'svc'}\n",
      "{'loss': 1.1389013038113474, 'accuracy': 0.5588301441311534, 'status': 'ok'}\n",
      "{'C': 4.518561816269127, 'class_weight': 'balanced', 'kernel': {'gamma': 0.5231749759684278, 'kernel': 'rbf'}, 'type': 'svc'}\n",
      "{'loss': 1.1721462635515945, 'accuracy': 0.46437597700440164, 'status': 'ok'}\n",
      "{'class_weight': 'balanced', 'criterion': 'gini', 'max_depth': 6.0, 'min_samples_leaf': 0.0775192085298462, 'type': 'dtc'}\n",
      "{'loss': 1.363350183614132, 'accuracy': 0.4392153057888458, 'status': 'ok'}\n",
      "{'C': 1.6540812191350713, 'class_weight': 'balanced', 'kernel': {'degree': 3.0, 'gamma': 0.23205781512766105, 'kernel': 'poly'}, 'type': 'svc'}\n",
      "{'loss': 1.3531307721880244, 'accuracy': 0.4338230398747702, 'status': 'ok'}\n",
      "{'C': 4.582676205657263, 'class_weight': 'balanced', 'kernel': {'gamma': 0.07906227998651552, 'kernel': 'rbf'}, 'type': 'svc'}\n",
      "{'loss': 1.0989930729779154, 'accuracy': 0.524118544463714, 'status': 'ok'}\n",
      "{'C': 5.55018043221719, 'class_weight': 'balanced', 'kernel': {'gamma': 0.02982004444375798, 'kernel': 'rbf'}, 'type': 'svc'}\n",
      "{'loss': 1.0983674767878433, 'accuracy': 0.5175358419883473, 'status': 'ok'}\n",
      "{'C': 5.9638223041697636, 'class_weight': 'balanced', 'kernel': {'gamma': 0.055187132682283924, 'kernel': 'rbf'}, 'type': 'svc'}\n",
      "{'loss': 1.0937884431065328, 'accuracy': 0.5361755500994867, 'status': 'ok'}\n",
      "{'length_scale': 0.10056154542507434, 'type': 'gpc'}\n",
      "{'loss': 1.175424716444753, 'accuracy': 0.5218504598686646, 'status': 'ok'}\n",
      "{'C': 4.960059413352892, 'class_weight': 'balanced', 'kernel': {'kernel': 'linear'}, 'type': 'svc'}\n",
      "{'loss': 1.1785713313726687, 'accuracy': 0.5211207512487253, 'status': 'ok'}\n",
      "{'C': 5.097837823574675, 'class_weight': 'balanced', 'kernel': {'gamma': 0.09441703903527815, 'kernel': 'rbf'}, 'type': 'svc'}\n",
      "{'loss': 1.1056011485137713, 'accuracy': 0.5104868634856918, 'status': 'ok'}\n",
      "{'alpha': 0.279800268398523, 'l1_ratio': 0.2769072982368864, 'penalty': 'l2', 'type': 'sgd'}\n",
      "{'loss': 1.2544728205841649, 'accuracy': 0.45656965094149665, 'status': 'ok'}\n",
      "{'C': 4.697686944424762, 'class_weight': 'balanced', 'kernel': {'gamma': 0.04097770418686038, 'kernel': 'rbf'}, 'type': 'svc'}\n",
      "{'loss': 1.0918968773661182, 'accuracy': 0.5275156645470271, 'status': 'ok'}\n",
      "{'C': 0.4515291724659893, 'class_weight': 'balanced', 'kernel': {'gamma': 0.0737200160449625, 'kernel': 'rbf'}, 'type': 'svc'}\n",
      "{'loss': 1.1351477292809324, 'accuracy': 0.4886702672391209, 'status': 'ok'}\n",
      "{'class_weight': None, 'criterion': 'gini', 'max_depth': 8.0, 'min_samples_leaf': 0.4017589943834038, 'n_estimators': 5.0, 'type': 'rfc'}\n",
      "{'loss': 1.3659007043321232, 'accuracy': 0.3230935626506102, 'status': 'ok'}\n",
      "{'C': 4.82005064802007, 'class_weight': 'balanced', 'kernel': {'gamma': 0.37652762526319716, 'kernel': 'sigmoid'}, 'type': 'svc'}\n",
      "{'loss': 1.310986144183417, 'accuracy': 0.3209950668043675, 'status': 'ok'}\n",
      "{'C': 0.9333037011361293, 'class_weight': 'balanced', 'kernel': {'gamma': 0.16120258548848512, 'kernel': 'rbf'}, 'type': 'svc'}\n",
      "{'loss': 1.1099310298616452, 'accuracy': 0.5122630290708878, 'status': 'ok'}\n",
      "{'C': 4.590594708065098, 'class_weight': None, 'kernel': {'gamma': 0.11651566744464154, 'kernel': 'rbf'}, 'type': 'svc'}\n",
      "{'loss': 1.1087387043645165, 'accuracy': 0.5415197100489098, 'status': 'ok'}\n",
      "{'class_weight': None, 'criterion': 'entropy', 'max_depth': 3.0, 'min_samples_leaf': 0.3580629481574258, 'type': 'dtc'}\n",
      "{'loss': 1.2574643899400944, 'accuracy': 0.46152388870485483, 'status': 'ok'}\n",
      "{'C': 5.300171579342618, 'class_weight': 'balanced', 'kernel': {'gamma': 0.010146459182313557, 'kernel': 'rbf'}, 'type': 'svc'}\n",
      "{'loss': 1.1354783895112242, 'accuracy': 0.5156845742642426, 'status': 'ok'}\n",
      "{'C': 4.856565251164188, 'class_weight': 'balanced', 'kernel': {'gamma': 0.03087777460236208, 'kernel': 'rbf'}, 'type': 'svc'}\n",
      "{'loss': 1.0959363646265865, 'accuracy': 0.521007421444516, 'status': 'ok'}\n",
      "{'C': 4.500874043208057, 'class_weight': 'balanced', 'kernel': {'gamma': 0.137618103959686, 'kernel': 'rbf'}, 'type': 'svc'}\n",
      "{'loss': 1.1116459885702192, 'accuracy': 0.5227728968153446, 'status': 'ok'}\n",
      "{'C': 5.0128861097891635, 'class_weight': 'balanced', 'kernel': {'degree': 4.0, 'gamma': 0.13964954110550565, 'kernel': 'poly'}, 'type': 'svc'}\n",
      "{'loss': 1.3615776164908562, 'accuracy': 0.3638959457835629, 'status': 'ok'}\n",
      "{'length_scale': 2.925015141929799, 'type': 'gpc'}\n",
      "{'loss': 1.1523568273426235, 'accuracy': 0.5368095880667979, 'status': 'ok'}\n",
      "{'C': 5.193739774590382, 'class_weight': 'balanced', 'kernel': {'gamma': 0.8517073857511039, 'kernel': 'rbf'}, 'type': 'svc'}\n",
      "{'loss': 1.2240944014999329, 'accuracy': 0.4627130397340383, 'status': 'ok'}\n",
      "{'C': 4.703939119635973, 'class_weight': 'balanced', 'kernel': {'gamma': 0.06218558261090981, 'kernel': 'rbf'}, 'type': 'svc'}\n",
      "{'loss': 1.0920999965236797, 'accuracy': 0.5276814981888882, 'status': 'ok'}\n",
      "{'alpha': 0.5974670108199946, 'l1_ratio': 0.6775501909323325, 'penalty': 'l1', 'type': 'sgd'}\n",
      "{'loss': 1.366291239859603, 'accuracy': 0.3230935626506102, 'status': 'ok'}\n",
      "{'C': 5.390959789511677, 'class_weight': 'balanced', 'kernel': {'kernel': 'linear'}, 'type': 'svc'}\n",
      "{'loss': 1.181414755994986, 'accuracy': 0.5211207512487253, 'status': 'ok'}\n",
      "{'C': 2.2673568663610357, 'class_weight': 'balanced', 'kernel': {'gamma': 0.0881976311924303, 'kernel': 'rbf'}, 'type': 'svc'}\n",
      "{'loss': 1.0935926911424059, 'accuracy': 0.5241154321228221, 'status': 'ok'}\n",
      "{'class_weight': 'balanced', 'criterion': 'entropy', 'max_depth': 5.0, 'min_samples_leaf': 0.31711060370891425, 'n_estimators': 60.0, 'type': 'rfc'}\n",
      "{'loss': 1.380631619568197, 'accuracy': 0.36716238137921625, 'status': 'ok'}\n",
      "{'C': 4.789738226153293, 'class_weight': 'balanced', 'kernel': {'gamma': 0.04504628771290668, 'kernel': 'rbf'}, 'type': 'svc'}\n",
      "{'loss': 1.0936599213962241, 'accuracy': 0.5310354514572251, 'status': 'ok'}\n",
      "{'C': 4.6318979862358125, 'class_weight': 'balanced', 'kernel': {'gamma': 0.11545961765483417, 'kernel': 'rbf'}, 'type': 'svc'}\n",
      "{'loss': 1.108239525621281, 'accuracy': 0.5157615032119358, 'status': 'ok'}\n",
      "{'C': 4.4129358798466205, 'class_weight': 'balanced', 'kernel': {'gamma': 0.06130145832656666, 'kernel': 'rbf'}, 'type': 'svc'}\n",
      "{'loss': 1.0928892100928247, 'accuracy': 0.5293938269560114, 'status': 'ok'}\n",
      "{'class_weight': 'balanced', 'criterion': 'gini', 'max_depth': 12.0, 'min_samples_leaf': 0.3764135845415856, 'type': 'dtc'}\n",
      "{'loss': 1.2776801652007248, 'accuracy': 0.46152388870485483, 'status': 'ok'}\n",
      "{'C': 4.862768454143188, 'class_weight': None, 'kernel': {'gamma': 0.027668205907700978, 'kernel': 'rbf'}, 'type': 'svc'}\n",
      "{'loss': 1.106792139898153, 'accuracy': 0.5553122855191168, 'status': 'ok'}\n",
      "{'C': 5.021838063729161, 'class_weight': 'balanced', 'kernel': {'gamma': 0.09818457531909286, 'kernel': 'rbf'}, 'type': 'svc'}\n",
      "{'loss': 1.10198651260667, 'accuracy': 0.5121754099088274, 'status': 'ok'}\n",
      "{'C': 4.538950665272961, 'class_weight': 'balanced', 'kernel': {'gamma': 0.6392060061911311, 'kernel': 'sigmoid'}, 'type': 'svc'}\n",
      "{'loss': 1.3212432644034613, 'accuracy': 0.2854829527617019, 'status': 'ok'}\n",
      "{'C': 5.484687006597393, 'class_weight': 'balanced', 'kernel': {'gamma': 0.17809514335009208, 'kernel': 'rbf'}, 'type': 'svc'}\n",
      "{'loss': 1.1156903087902128, 'accuracy': 0.534580847520195, 'status': 'ok'}\n",
      "{'length_scale': 2.737919989976869, 'type': 'gpc'}\n",
      "{'loss': 1.1523568242035465, 'accuracy': 0.5368095880667979, 'status': 'ok'}\n",
      "{'C': 5.12641919047005, 'class_weight': 'balanced', 'kernel': {'gamma': 0.07698046870726263, 'kernel': 'rbf'}, 'type': 'svc'}\n",
      "{'loss': 1.0988702693306185, 'accuracy': 0.517313038976251, 'status': 'ok'}\n",
      "{'C': 5.684409728506984, 'class_weight': 'balanced', 'kernel': {'gamma': 0.14748398349477682, 'kernel': 'rbf'}, 'type': 'svc'}\n",
      "{'loss': 1.1162108846053125, 'accuracy': 0.5278660735356842, 'status': 'ok'}\n",
      "{'alpha': 0.02424222927431463, 'l1_ratio': 0.5310693436928287, 'penalty': 'elasticnet', 'type': 'sgd'}\n",
      "{'loss': 1.195441046930432, 'accuracy': 0.5145643006921846, 'status': 'ok'}\n",
      "{'C': 5.260008987253746, 'class_weight': 'balanced', 'kernel': {'degree': 2.0, 'gamma': 0.9820373858974774, 'kernel': 'poly'}, 'type': 'svc'}\n",
      "{'loss': 1.3583242700533862, 'accuracy': 0.4767708746056799, 'status': 'ok'}\n",
      "{'C': 2.147817957055734, 'class_weight': 'balanced', 'kernel': {'gamma': 0.011775739072102154, 'kernel': 'rbf'}, 'type': 'svc'}\n",
      "{'loss': 1.1523296286531681, 'accuracy': 0.5088790687767797, 'status': 'ok'}\n",
      "{'class_weight': None, 'criterion': 'gini', 'max_depth': 4.0, 'min_samples_leaf': 0.17199149104114114, 'n_estimators': 10.0, 'type': 'rfc'}\n",
      "{'loss': 1.2567240327154807, 'accuracy': 0.4478452858049109, 'status': 'ok'}\n",
      "{'C': 2.5704402032037335, 'class_weight': 'balanced', 'kernel': {'gamma': 0.047118573116490974, 'kernel': 'rbf'}, 'type': 'svc'}\n",
      "{'loss': 1.0934187140535174, 'accuracy': 0.5258046213120113, 'status': 'ok'}\n",
      "{'C': 4.916178060741463, 'class_weight': 'balanced', 'kernel': {'gamma': 0.010484213287430481, 'kernel': 'rbf'}, 'type': 'svc'}\n",
      "{'loss': 1.1380555641294676, 'accuracy': 0.5157997308772363, 'status': 'ok'}\n",
      "{'C': 4.712269995512264, 'class_weight': 'balanced', 'kernel': {'kernel': 'linear'}, 'type': 'svc'}\n",
      "{'loss': 1.185323216427641, 'accuracy': 0.5211207512487253, 'status': 'ok'}\n",
      "{'class_weight': None, 'criterion': 'entropy', 'max_depth': 16.0, 'min_samples_leaf': 0.2769046574474141, 'type': 'dtc'}\n",
      "{'loss': 1.2429718538616341, 'accuracy': 0.46152388870485483, 'status': 'ok'}\n",
      "{'C': 4.345401987020605, 'class_weight': 'balanced', 'kernel': {'gamma': 0.13493951294409873, 'kernel': 'rbf'}, 'type': 'svc'}\n",
      "{'loss': 1.110505412401051, 'accuracy': 0.5227259748934227, 'status': 'ok'}\n",
      "{'C': 4.47134867678587, 'class_weight': 'balanced', 'kernel': {'gamma': 0.027667045688941395, 'kernel': 'rbf'}, 'type': 'svc'}\n",
      "{'loss': 1.1027106643863913, 'accuracy': 0.5244364768517616, 'status': 'ok'}\n",
      "{'C': 4.626875915274073, 'class_weight': 'balanced', 'kernel': {'gamma': 0.07214619934504368, 'kernel': 'rbf'}, 'type': 'svc'}\n",
      "{'loss': 1.096359905566985, 'accuracy': 0.5241423268077017, 'status': 'ok'}\n",
      "{'C': 5.833704283192258, 'class_weight': 'balanced', 'kernel': {'gamma': 0.10607246265748074, 'kernel': 'rbf'}, 'type': 'svc'}\n",
      "{'loss': 1.1076021404700824, 'accuracy': 0.51567012894293, 'status': 'ok'}\n",
      "{'length_scale': 6.739240719627791, 'type': 'gpc'}\n",
      "{'loss': 1.1562311802824583, 'accuracy': 0.5317188809212963, 'status': 'ok'}\n",
      "{'C': 4.978507150350401, 'class_weight': None, 'kernel': {'gamma': 0.5311441640502812, 'kernel': 'sigmoid'}, 'type': 'svc'}\n",
      "{'loss': 1.3111747683384931, 'accuracy': 0.3264718395396117, 'status': 'ok'}\n",
      "{'C': 5.095277802199098, 'class_weight': 'balanced', 'kernel': {'gamma': 0.05128950027185944, 'kernel': 'rbf'}, 'type': 'svc'}\n",
      "{'loss': 1.0907881033521045, 'accuracy': 0.5328860764152762, 'status': 'ok'}\n",
      "{'alpha': 0.8426600350468452, 'l1_ratio': 0.6011301754522052, 'penalty': 'l2', 'type': 'sgd'}\n",
      "{'loss': 1.302851372533008, 'accuracy': 0.42034859977136474, 'status': 'ok'}\n",
      "{'C': 4.767768295281764, 'class_weight': 'balanced', 'kernel': {'gamma': 0.8759740840440389, 'kernel': 'rbf'}, 'type': 'svc'}\n",
      "{'loss': 1.222541715526131, 'accuracy': 0.4645167427701674, 'status': 'ok'}\n",
      "{'C': 4.563280683958121, 'class_weight': 'balanced', 'kernel': {'gamma': 0.010794670472350616, 'kernel': 'rbf'}, 'type': 'svc'}\n",
      "{'loss': 1.1364827960070283, 'accuracy': 0.514040480188191, 'status': 'ok'}\n",
      "{'class_weight': 'balanced', 'criterion': 'entropy', 'max_depth': 6.0, 'min_samples_leaf': 0.35577713459087035, 'n_estimators': 30.0, 'type': 'rfc'}\n",
      "{'loss': 1.3861697292931174, 'accuracy': 0.25632945265019885, 'status': 'ok'}\n",
      "{'C': 33.24086728220112, 'class_weight': 'balanced', 'kernel': {'gamma': 0.08942463625530352, 'kernel': 'rbf'}, 'type': 'svc'}\n",
      "{'loss': 1.1216101286014393, 'accuracy': 0.5274749673068887, 'status': 'ok'}\n",
      "{'C': 4.40768396492405, 'class_weight': 'balanced', 'kernel': {'gamma': 0.1275353642306029, 'kernel': 'rbf'}, 'type': 'svc'}\n",
      "{'loss': 1.105489253676951, 'accuracy': 0.5158528774809417, 'status': 'ok'}\n",
      "{'C': 5.258883384008584, 'class_weight': 'balanced', 'kernel': {'degree': 4.0, 'gamma': 0.9345799933807204, 'kernel': 'poly'}, 'type': 'svc'}\n",
      "{'loss': 1.3641687851377418, 'accuracy': 0.39168945441476083, 'status': 'ok'}\n",
      "{'class_weight': 'balanced', 'criterion': 'gini', 'max_depth': 18.0, 'min_samples_leaf': 0.40418582472285447, 'type': 'dtc'}\n",
      "{'loss': 1.2776801652007248, 'accuracy': 0.46152388870485483, 'status': 'ok'}\n",
      "{'C': 4.898109634379423, 'class_weight': 'balanced', 'kernel': {'gamma': 0.6719810938723638, 'kernel': 'rbf'}, 'type': 'svc'}\n",
      "{'loss': 1.1979413994454808, 'accuracy': 0.4900708882999798, 'status': 'ok'}\n",
      "{'C': 4.665695264831848, 'class_weight': 'balanced', 'kernel': {'kernel': 'linear'}, 'type': 'svc'}\n",
      "{'loss': 1.1779299027228483, 'accuracy': 0.5211207512487253, 'status': 'ok'}\n",
      "{'C': 5.622039165508478, 'class_weight': None, 'kernel': {'gamma': 0.03415660496700466, 'kernel': 'rbf'}, 'type': 'svc'}\n",
      "{'loss': 1.0968078919390711, 'accuracy': 0.568967106075073, 'status': 'ok'}\n",
      "{'C': 5.375022313142755, 'class_weight': 'balanced', 'kernel': {'gamma': 0.06749197448370141, 'kernel': 'rbf'}, 'type': 'svc'}\n",
      "{'loss': 1.0952613048431927, 'accuracy': 0.5293268777970472, 'status': 'ok'}\n",
      "{'length_scale': 3.362877034836183, 'type': 'gpc'}\n",
      "{'loss': 1.1523568252338736, 'accuracy': 0.5368095880667979, 'status': 'ok'}\n",
      "{'C': 4.782638802446452, 'class_weight': 'balanced', 'kernel': {'gamma': 0.1649370664616539, 'kernel': 'rbf'}, 'type': 'svc'}\n",
      "{'loss': 1.1123248553798895, 'accuracy': 0.5227046621242728, 'status': 'ok'}\n",
      "{'C': 4.284606002670852, 'class_weight': 'balanced', 'kernel': {'gamma': 0.08255635857553956, 'kernel': 'rbf'}, 'type': 'svc'}\n",
      "{'loss': 1.0969110172252576, 'accuracy': 0.5224738076216087, 'status': 'ok'}\n",
      "{'alpha': 0.6971950332919428, 'l1_ratio': 0.23364416619973194, 'penalty': 'l1', 'type': 'sgd'}\n",
      "{'loss': 1.3668358159065068, 'accuracy': 0.3230935626506102, 'status': 'ok'}\n",
      "{'C': 0.520171093985365, 'class_weight': 'balanced', 'kernel': {'gamma': 0.8835625040795574, 'kernel': 'sigmoid'}, 'type': 'svc'}\n",
      "{'loss': 1.3190238294764987, 'accuracy': 0.30557412811152895, 'status': 'ok'}\n",
      "{'C': 4.476868528241893, 'class_weight': 'balanced', 'kernel': {'gamma': 0.6076458744638668, 'kernel': 'rbf'}, 'type': 'svc'}\n",
      "{'loss': 1.1866407654522275, 'accuracy': 0.47472376621394285, 'status': 'ok'}\n",
      "{'class_weight': None, 'criterion': 'gini', 'max_depth': 10.0, 'min_samples_leaf': 0.459843843040889, 'n_estimators': 45.0, 'type': 'rfc'}\n",
      "{'loss': 1.365609720841885, 'accuracy': 0.3230935626506102, 'status': 'ok'}\n",
      "{'C': 5.003367024185937, 'class_weight': 'balanced', 'kernel': {'gamma': 0.11475130046160431, 'kernel': 'rbf'}, 'type': 'svc'}\n",
      "{'loss': 1.1053164006004217, 'accuracy': 0.515737720867948, 'status': 'ok'}\n",
      "{'C': 4.599903716541846, 'class_weight': 'balanced', 'kernel': {'gamma': 0.0323483737929058, 'kernel': 'rbf'}, 'type': 'svc'}\n",
      "{'loss': 1.0944916988817635, 'accuracy': 0.5192950926773926, 'status': 'ok'}\n",
      "{'C': 4.376610256027847, 'class_weight': 'balanced', 'kernel': {'gamma': 0.010578427429712843, 'kernel': 'rbf'}, 'type': 'svc'}\n",
      "{'loss': 1.140652120728632, 'accuracy': 0.5191098745645429, 'status': 'ok'}\n",
      "{'class_weight': None, 'criterion': 'entropy', 'max_depth': 11.0, 'min_samples_leaf': 0.30441071983975726, 'type': 'dtc'}\n",
      "{'loss': 1.2574643899400944, 'accuracy': 0.46152388870485483, 'status': 'ok'}\n",
      "{'C': 5.194619003090606, 'class_weight': 'balanced', 'kernel': {'gamma': 0.19200722978161547, 'kernel': 'rbf'}, 'type': 'svc'}\n",
      "{'loss': 1.118078180283577, 'accuracy': 0.5363376286344022, 'status': 'ok'}\n",
      "{'C': 4.716898535204042, 'class_weight': 'balanced', 'kernel': {'gamma': 0.050050123891749024, 'kernel': 'rbf'}, 'type': 'svc'}\n",
      "{'loss': 1.090204344394649, 'accuracy': 0.531149965304165, 'status': 'ok'}\n",
      "{'C': 4.8781679714771595, 'class_weight': 'balanced', 'kernel': {'degree': 3.0, 'gamma': 0.5696462633421293, 'kernel': 'poly'}, 'type': 'svc'}\n",
      "{'loss': 1.3441730014331283, 'accuracy': 0.4467907773490867, 'status': 'ok'}\n",
      "{'C': 5.097077259913536, 'class_weight': None, 'kernel': {'gamma': 0.10178827270229217, 'kernel': 'rbf'}, 'type': 'svc'}\n",
      "{'loss': 1.1065841321131469, 'accuracy': 0.5465897471913153, 'status': 'ok'}\n",
      "{'C': 0.11647043530611452, 'class_weight': 'balanced', 'kernel': {'gamma': 0.06545176046840423, 'kernel': 'rbf'}, 'type': 'svc'}\n",
      "{'loss': 1.1990914251892526, 'accuracy': 0.4442859856973051, 'status': 'ok'}\n",
      "{'length_scale': 6.206210095228341, 'type': 'gpc'}\n",
      "{'loss': 1.154604919516135, 'accuracy': 0.5334312096884195, 'status': 'ok'}\n",
      "{'C': 4.485066283889951, 'class_weight': 'balanced', 'kernel': {'gamma': 0.1500030588784598, 'kernel': 'rbf'}, 'type': 'svc'}\n",
      "{'loss': 1.1147717379218003, 'accuracy': 0.5193006745931223, 'status': 'ok'}\n",
      "{'alpha': 0.7299386461578926, 'l1_ratio': 0.7340576776067083, 'penalty': 'elasticnet', 'type': 'sgd'}\n",
      "{'loss': 1.3678107152117311, 'accuracy': 0.3230935626506102, 'status': 'ok'}\n",
      "{'C': 5.454186842848484, 'class_weight': 'balanced', 'kernel': {'kernel': 'linear'}, 'type': 'svc'}\n",
      "{'loss': 1.181647827637544, 'accuracy': 0.5211207512487253, 'status': 'ok'}\n",
      "{'C': 4.78197904538996, 'class_weight': 'balanced', 'kernel': {'gamma': 0.025775461910829935, 'kernel': 'rbf'}, 'type': 'svc'}\n",
      "{'loss': 1.1054761865518055, 'accuracy': 0.5244364768517616, 'status': 'ok'}\n",
      "{'class_weight': 'balanced', 'criterion': 'entropy', 'max_depth': 9.0, 'min_samples_leaf': 0.37728879049557523, 'n_estimators': 40.0, 'type': 'rfc'}\n",
      "{'loss': 1.3859300084207276, 'accuracy': 0.23279494572077486, 'status': 'ok'}\n",
      "{'C': 4.972170475638569, 'class_weight': 'balanced', 'kernel': {'gamma': 0.049062938425224245, 'kernel': 'rbf'}, 'type': 'svc'}\n",
      "{'loss': 1.0910490532386168, 'accuracy': 0.5295052284620597, 'status': 'ok'}\n",
      "{'C': 4.55950928708216, 'class_weight': 'balanced', 'kernel': {'gamma': 0.6924274063324984, 'kernel': 'sigmoid'}, 'type': 'svc'}\n",
      "{'loss': 1.326549544010339, 'accuracy': 0.31446111305970714, 'status': 'ok'}\n",
      "{'C': 4.315388908149761, 'class_weight': 'balanced', 'kernel': {'gamma': 0.08447743938208262, 'kernel': 'rbf'}, 'type': 'svc'}\n",
      "{'loss': 1.0991676082406343, 'accuracy': 0.524071622541792, 'status': 'ok'}\n",
      "{'class_weight': 'balanced', 'criterion': 'gini', 'max_depth': 10.0, 'min_samples_leaf': 0.223242714894051, 'type': 'dtc'}\n",
      "{'loss': 1.2697431382538573, 'accuracy': 0.41162037803845664, 'status': 'ok'}\n",
      "{'C': 4.647676900047108, 'class_weight': 'balanced', 'kernel': {'gamma': 0.127588847212932, 'kernel': 'rbf'}, 'type': 'svc'}\n",
      "{'loss': 1.1066247229974613, 'accuracy': 0.5175414239040771, 'status': 'ok'}\n",
      "{'C': 5.139639272640918, 'class_weight': 'balanced', 'kernel': {'gamma': 0.10313699010889374, 'kernel': 'rbf'}, 'type': 'svc'}\n",
      "{'loss': 1.1067748384819196, 'accuracy': 0.5173599608981728, 'status': 'ok'}\n",
      "{'C': 0.6127906341629229, 'class_weight': 'balanced', 'kernel': {'gamma': 0.026678781871323127, 'kernel': 'rbf'}, 'type': 'svc'}\n",
      "{'loss': 1.1586001108593633, 'accuracy': 0.47325802280290385, 'status': 'ok'}\n",
      "{'C': 2.669335233438693, 'class_weight': 'balanced', 'kernel': {'gamma': 0.17528803361723994, 'kernel': 'rbf'}, 'type': 'svc'}\n",
      "{'loss': 1.115801879795559, 'accuracy': 0.5175445362449689, 'status': 'ok'}\n",
      "{'length_scale': 1.7229710290856244, 'type': 'gpc'}\n",
      "{'loss': 1.1619251652630518, 'accuracy': 0.5317188809212963, 'status': 'ok'}\n",
      "{'C': 0.9014977859151998, 'class_weight': None, 'kernel': {'degree': 5.0, 'gamma': 0.5072239226019177, 'kernel': 'poly'}, 'type': 'svc'}\n",
      "{'loss': 1.359174054952316, 'accuracy': 0.44741916574108354, 'status': 'ok'}\n",
      "{'C': 4.7886598930015944, 'class_weight': 'balanced', 'kernel': {'gamma': 0.010809168478382189, 'kernel': 'rbf'}, 'type': 'svc'}\n",
      "{'loss': 1.136069628712773, 'accuracy': 0.5157759485332485, 'status': 'ok'}\n",
      "{'C': 4.409904777512061, 'class_weight': 'balanced', 'kernel': {'gamma': 0.06412021096008426, 'kernel': 'rbf'}, 'type': 'svc'}\n",
      "{'loss': 1.0913096199264112, 'accuracy': 0.5293938269560114, 'status': 'ok'}\n",
      "{'alpha': 0.5729377606478303, 'l1_ratio': 0.6362343296307873, 'penalty': 'l2', 'type': 'sgd'}\n",
      "{'loss': 1.284043152109947, 'accuracy': 0.4411518245895499, 'status': 'ok'}\n",
      "{'C': 5.31138234790052, 'class_weight': 'balanced', 'kernel': {'kernel': 'linear'}, 'type': 'svc'}\n",
      "{'loss': 1.1780806847157916, 'accuracy': 0.5211207512487253, 'status': 'ok'}\n",
      "{'class_weight': None, 'criterion': 'gini', 'max_depth': 7.0, 'min_samples_leaf': 0.0782460323198855, 'n_estimators': 50.0, 'type': 'rfc'}\n",
      "{'loss': 1.213434797713839, 'accuracy': 0.4598353422817193, 'status': 'ok'}\n",
      "{'C': 4.887789448696439, 'class_weight': 'balanced', 'kernel': {'gamma': 0.3832881046088562, 'kernel': 'rbf'}, 'type': 'svc'}\n",
      "{'loss': 1.1524582963726788, 'accuracy': 0.47140868337696024, 'status': 'ok'}\n",
      "{'C': 4.233175982378517, 'class_weight': 'balanced', 'kernel': {'gamma': 0.04496079846529845, 'kernel': 'rbf'}, 'type': 'svc'}\n",
      "{'loss': 1.091152794439725, 'accuracy': 0.5275394468910151, 'status': 'ok'}\n",
      "{'C': 5.044073179297922, 'class_weight': 'balanced', 'kernel': {'gamma': 0.08473342823930144, 'kernel': 'rbf'}, 'type': 'svc'}\n",
      "{'loss': 1.0989805805888682, 'accuracy': 0.5155331182841096, 'status': 'ok'}\n",
      "{'class_weight': None, 'criterion': 'entropy', 'max_depth': 17.0, 'min_samples_leaf': 0.09560613526668238, 'type': 'dtc'}\n",
      "{'loss': 1.2270914215468645, 'accuracy': 0.4550425402872231, 'status': 'ok'}\n",
      "{'C': 4.551775096907089, 'class_weight': 'balanced', 'kernel': {'gamma': 0.1522665918581612, 'kernel': 'rbf'}, 'type': 'svc'}\n",
      "{'loss': 1.1131708062210703, 'accuracy': 0.5193006745931223, 'status': 'ok'}\n",
      "{'C': 5.543960204327672, 'class_weight': 'balanced', 'kernel': {'gamma': 0.9241411164225372, 'kernel': 'sigmoid'}, 'type': 'svc'}\n",
      "{'loss': 1.3351009722239144, 'accuracy': 0.2883112587172609, 'status': 'ok'}\n",
      "{'C': 4.728414004742649, 'class_weight': 'balanced', 'kernel': {'gamma': 0.12098981983708781, 'kernel': 'rbf'}, 'type': 'svc'}\n",
      "{'loss': 1.110344364264403, 'accuracy': 0.5140929840258427, 'status': 'ok'}\n",
      "{'C': 4.672040479773304, 'class_weight': 'balanced', 'kernel': {'gamma': 0.06390020636517933, 'kernel': 'rbf'}, 'type': 'svc'}\n",
      "{'loss': 1.093559702322467, 'accuracy': 0.5276814981888882, 'status': 'ok'}\n",
      "{'length_scale': 3.801538408488235, 'type': 'gpc'}\n",
      "{'loss': 1.152356832708112, 'accuracy': 0.5368095880667979, 'status': 'ok'}\n",
      "{'C': 4.895054552608892, 'class_weight': 'balanced', 'kernel': {'gamma': 0.09723394185278436, 'kernel': 'rbf'}, 'type': 'svc'}\n",
      "{'loss': 1.1051177236681653, 'accuracy': 0.5104868634856918, 'status': 'ok'}\n",
      "{'C': 5.222766219080329, 'class_weight': 'balanced', 'kernel': {'gamma': 0.01191920569545386, 'kernel': 'rbf'}, 'type': 'svc'}\n",
      "{'loss': 1.1282724650307256, 'accuracy': 0.5242706432099006, 'status': 'ok'}\n",
      "{'C': 4.9951160358296285, 'class_weight': None, 'kernel': {'gamma': 0.23039445664893776, 'kernel': 'rbf'}, 'type': 'svc'}\n",
      "{'loss': 1.1301652175091141, 'accuracy': 0.5417981292395495, 'status': 'ok'}\n",
      "{'alpha': 0.08750249884745076, 'l1_ratio': 0.8148871510265312, 'penalty': 'l1', 'type': 'sgd'}\n",
      "{'loss': 1.297092177618516, 'accuracy': 0.41044861552251605, 'status': 'ok'}\n",
      "{'C': 4.419609022098802, 'class_weight': 'balanced', 'kernel': {'degree': 5.0, 'gamma': 0.44985685556902616, 'kernel': 'poly'}, 'type': 'svc'}\n",
      "{'loss': 1.3619261518349841, 'accuracy': 0.4170127454419091, 'status': 'ok'}\n",
      "{'class_weight': 'balanced', 'criterion': 'entropy', 'max_depth': 4.0, 'min_samples_leaf': 0.2850723585889114, 'n_estimators': 20.0, 'type': 'rfc'}\n",
      "{'loss': 1.3280252043865284, 'accuracy': 0.43893194744853, 'status': 'ok'}\n",
      "{'C': 4.820636303504516, 'class_weight': 'balanced', 'kernel': {'gamma': 0.010617407147072079, 'kernel': 'rbf'}, 'type': 'svc'}\n",
      "{'loss': 1.1374384026878679, 'accuracy': 0.5157997308772363, 'status': 'ok'}\n",
      "{'C': 4.305088369645606, 'class_weight': 'balanced', 'kernel': {'gamma': 0.010051326134093125, 'kernel': 'rbf'}, 'type': 'svc'}\n",
      "{'loss': 1.1446815168641011, 'accuracy': 0.5190860922205551, 'status': 'ok'}\n",
      "{'C': 4.1802867093256015, 'class_weight': 'balanced', 'kernel': {'kernel': 'linear'}, 'type': 'svc'}\n",
      "{'loss': 1.1827411249997297, 'accuracy': 0.5211207512487253, 'status': 'ok'}\n",
      "{'C': 4.584853315035347, 'class_weight': 'balanced', 'kernel': {'gamma': 0.03955043248746212, 'kernel': 'rbf'}, 'type': 'svc'}\n",
      "{'loss': 1.0916617200992915, 'accuracy': 0.5275394468910151, 'status': 'ok'}\n",
      "{'class_weight': 'balanced', 'criterion': 'gini', 'max_depth': 20.0, 'min_samples_leaf': 0.4521286649228762, 'type': 'dtc'}\n",
      "{'loss': 1.3239707574569088, 'accuracy': 0.35504647807504697, 'status': 'ok'}\n",
      "{'C': 4.465539197395833, 'class_weight': 'balanced', 'kernel': {'gamma': 0.14087773121207822, 'kernel': 'rbf'}, 'type': 'svc'}\n",
      "{'loss': 1.1091121399488815, 'accuracy': 0.5244852255824679, 'status': 'ok'}\n",
      "{'C': 5.1345129760251496, 'class_weight': 'balanced', 'kernel': {'gamma': 0.0833944329565641, 'kernel': 'rbf'}, 'type': 'svc'}\n",
      "{'loss': 1.0990321089032107, 'accuracy': 0.5121760526748811, 'status': 'ok'}\n",
      "{'C': 5.3553404416846675, 'class_weight': 'balanced', 'kernel': {'gamma': 0.05768067535824094, 'kernel': 'rbf'}, 'type': 'svc'}\n",
      "{'loss': 1.093076801578159, 'accuracy': 0.531082373379147, 'status': 'ok'}\n",
      "{'length_scale': 6.038281233311805, 'type': 'gpc'}\n",
      "{'loss': 1.1546049833769452, 'accuracy': 0.5334312096884195, 'status': 'ok'}\n",
      "{'C': 4.64881391392919, 'class_weight': 'balanced', 'kernel': {'gamma': 0.5751966303528817, 'kernel': 'sigmoid'}, 'type': 'svc'}\n",
      "{'loss': 1.318376975289698, 'accuracy': 0.3042046981191718, 'status': 'ok'}\n",
      "{'C': 1.2131662224368898, 'class_weight': 'balanced', 'kernel': {'gamma': 0.10937565321294845, 'kernel': 'rbf'}, 'type': 'svc'}\n",
      "{'loss': 1.1033511070455608, 'accuracy': 0.5192275007523746, 'status': 'ok'}\n",
      "{'C': 4.956217805725454, 'class_weight': None, 'kernel': {'gamma': 0.028612193597196904, 'kernel': 'rbf'}, 'type': 'svc'}\n",
      "{'loss': 1.101084862630157, 'accuracy': 0.5620708690846579, 'status': 'ok'}\n",
      "{'alpha': 0.47872436097067533, 'l1_ratio': 0.44313515277863114, 'penalty': 'elasticnet', 'type': 'sgd'}\n",
      "{'loss': 1.3658132258235478, 'accuracy': 0.3230935626506102, 'status': 'ok'}\n",
      "{'C': 4.522736361958517, 'class_weight': 'balanced', 'kernel': {'gamma': 0.07432771279485056, 'kernel': 'rbf'}, 'type': 'svc'}\n",
      "{'loss': 1.0982288819138917, 'accuracy': 0.5241423268077017, 'status': 'ok'}\n",
      "{'C': 5.682240481456357, 'class_weight': 'balanced', 'kernel': {'gamma': 0.20483769730700363, 'kernel': 'rbf'}, 'type': 'svc'}\n",
      "{'loss': 1.1208053033437446, 'accuracy': 0.5293944697220652, 'status': 'ok'}\n",
      "{'class_weight': None, 'criterion': 'gini', 'max_depth': 8.0, 'min_samples_leaf': 0.19112192423107985, 'n_estimators': 25.0, 'type': 'rfc'}\n",
      "{'loss': 1.2644471209825332, 'accuracy': 0.44941931838110644, 'status': 'ok'}\n",
      "{'C': 4.807744927101382, 'class_weight': 'balanced', 'kernel': {'gamma': 0.9153330197630823, 'kernel': 'rbf'}, 'type': 'svc'}\n",
      "{'loss': 1.2286588855845115, 'accuracy': 0.46970129375951297, 'status': 'ok'}\n",
      "{'C': 0.07227705284468275, 'class_weight': 'balanced', 'kernel': {'degree': 4.0, 'gamma': 0.8861131778642206, 'kernel': 'poly'}, 'type': 'svc'}\n",
      "{'loss': 1.3624490837782264, 'accuracy': 0.4201869610237491, 'status': 'ok'}\n",
      "{'C': 0.6854641080642467, 'class_weight': 'balanced', 'kernel': {'gamma': 0.04561756092125917, 'kernel': 'rbf'}, 'type': 'svc'}\n",
      "{'loss': 1.1336290224706693, 'accuracy': 0.4951760407667942, 'status': 'ok'}\n",
      "{'class_weight': None, 'criterion': 'entropy', 'max_depth': 7.0, 'min_samples_leaf': 0.3456422761496486, 'type': 'dtc'}\n",
      "{'loss': 1.2574643899400944, 'accuracy': 0.46152388870485483, 'status': 'ok'}\n",
      "{'C': 6.136417998264373, 'class_weight': 'balanced', 'kernel': {'gamma': 0.4335604011676531, 'kernel': 'rbf'}, 'type': 'svc'}\n",
      "{'loss': 1.1711231318008672, 'accuracy': 0.4646732393893533, 'status': 'ok'}\n",
      "{'C': 1.493191941330284, 'class_weight': 'balanced', 'kernel': {'gamma': 0.1701108838463618, 'kernel': 'rbf'}, 'type': 'svc'}\n",
      "{'loss': 1.107598878722776, 'accuracy': 0.522496304433489, 'status': 'ok'}\n",
      "{'C': 4.363908898800386, 'class_weight': 'balanced', 'kernel': {'gamma': 0.12885953641763742, 'kernel': 'rbf'}, 'type': 'svc'}\n",
      "{'loss': 1.1094385720604891, 'accuracy': 0.5158528774809417, 'status': 'ok'}\n",
      "{'length_scale': 1.4793156358450772, 'type': 'gpc'}\n",
      "{'loss': 1.161925167889112, 'accuracy': 0.5317188809212963, 'status': 'ok'}\n",
      "{'C': 4.723589269630261, 'class_weight': 'balanced', 'kernel': {'kernel': 'linear'}, 'type': 'svc'}\n",
      "{'loss': 1.1837379469821159, 'accuracy': 0.5211207512487253, 'status': 'ok'}\n",
      "{'C': 5.075388997669777, 'class_weight': 'balanced', 'kernel': {'gamma': 0.028962902410132562, 'kernel': 'rbf'}, 'type': 'svc'}\n",
      "{'loss': 1.0991620417839918, 'accuracy': 0.5244558613227503, 'status': 'ok'}\n",
      "{'C': 5.2357447902287255, 'class_weight': 'balanced', 'kernel': {'gamma': 0.09764983907177702, 'kernel': 'rbf'}, 'type': 'svc'}\n",
      "{'loss': 1.104379841319448, 'accuracy': 0.5139115210199384, 'status': 'ok'}\n",
      "{'alpha': 0.3532497977984132, 'l1_ratio': 0.3990138343781393, 'penalty': 'l1', 'type': 'sgd'}\n",
      "{'loss': 1.3657956349435412, 'accuracy': 0.3230935626506102, 'status': 'ok'}\n",
      "{'C': 4.217307285118972, 'class_weight': None, 'kernel': {'gamma': 0.17938827454059147, 'kernel': 'sigmoid'}, 'type': 'svc'}\n",
      "{'loss': 1.2978105297060316, 'accuracy': 0.38240368387493473, 'status': 'ok'}\n",
      "{'C': 4.892854877491637, 'class_weight': 'balanced', 'kernel': {'gamma': 0.01035166102298012, 'kernel': 'rbf'}, 'type': 'svc'}\n",
      "{'loss': 1.1376006875354792, 'accuracy': 0.5140636197661252, 'status': 'ok'}\n",
      "{'C': 0.1893589889391155, 'class_weight': 'balanced', 'kernel': {'gamma': 0.30272016182845873, 'kernel': 'rbf'}, 'type': 'svc'}\n",
      "{'loss': 1.168754769531645, 'accuracy': 0.4833999238964993, 'status': 'ok'}\n",
      "{'C': 4.633527107238123, 'class_weight': 'balanced', 'kernel': {'gamma': 0.061983347982275915, 'kernel': 'rbf'}, 'type': 'svc'}\n",
      "{'loss': 1.0933732563426681, 'accuracy': 0.5293938269560114, 'status': 'ok'}\n",
      "{'class_weight': 'balanced', 'criterion': 'entropy', 'max_depth': 2.0, 'min_samples_leaf': 0.36749409870456545, 'n_estimators': 65.0, 'type': 'rfc'}\n",
      "{'loss': 1.386296521806964, 'accuracy': 0.2491034766742229, 'status': 'ok'}\n",
      "{'class_weight': 'balanced', 'criterion': 'gini', 'max_depth': 4.0, 'min_samples_leaf': 0.18149357999200855, 'type': 'dtc'}\n",
      "{'loss': 1.2768921926705485, 'accuracy': 0.41168722570804406, 'status': 'ok'}\n",
      "{'C': 4.504372988491187, 'class_weight': 'balanced', 'kernel': {'gamma': 0.07686914414956461, 'kernel': 'rbf'}, 'type': 'svc'}\n",
      "{'loss': 1.0974957150659692, 'accuracy': 0.525854655574825, 'status': 'ok'}\n",
      "{'C': 1.041332742878424, 'class_weight': 'balanced', 'kernel': {'gamma': 0.11339221459894305, 'kernel': 'rbf'}, 'type': 'svc'}\n",
      "{'loss': 1.1026882232115263, 'accuracy': 0.5175151719852513, 'status': 'ok'}\n",
      "{'C': 5.384706236423962, 'class_weight': 'balanced', 'kernel': {'degree': 2.0, 'gamma': 0.601240544088158, 'kernel': 'poly'}, 'type': 'svc'}\n",
      "{'loss': 1.3550813628295808, 'accuracy': 0.46667772224279075, 'status': 'ok'}\n",
      "{'C': 4.29713319589169, 'class_weight': 'balanced', 'kernel': {'gamma': 0.010249165611338554, 'kernel': 'rbf'}, 'type': 'svc'}\n",
      "{'loss': 1.1425766233232446, 'accuracy': 0.5157290266113266, 'status': 'ok'}\n",
      "{'length_scale': 4.3989675339928676, 'type': 'gpc'}\n",
      "{'loss': 1.1523568652279224, 'accuracy': 0.5368095880667979, 'status': 'ok'}\n",
      "{'C': 1.3380346042293974, 'class_weight': 'balanced', 'kernel': {'gamma': 0.04503834908988768, 'kernel': 'rbf'}, 'type': 'svc'}\n",
      "{'loss': 1.1116223734639492, 'accuracy': 0.519133014142477, 'status': 'ok'}\n",
      "{'C': 5.05034506499973, 'class_weight': 'balanced', 'kernel': {'gamma': 0.1526683248089755, 'kernel': 'rbf'}, 'type': 'svc'}\n",
      "{'loss': 1.1119728129320974, 'accuracy': 0.5278660735356842, 'status': 'ok'}\n",
      "{'C': 4.736393716545448, 'class_weight': 'balanced', 'kernel': {'gamma': 0.027734716900746567, 'kernel': 'rbf'}, 'type': 'svc'}\n",
      "{'loss': 1.0998047016949708, 'accuracy': 0.5262163975439029, 'status': 'ok'}\n",
      "{'C': 5.528490118726147, 'class_weight': 'balanced', 'kernel': {'kernel': 'linear'}, 'type': 'svc'}\n",
      "{'loss': 1.181540234000983, 'accuracy': 0.5211207512487253, 'status': 'ok'}\n",
      "{'alpha': 0.055680949620992126, 'l1_ratio': 0.564904976500069, 'penalty': 'l2', 'type': 'sgd'}\n",
      "{'loss': 1.1940661681767997, 'accuracy': 0.5298657863884071, 'status': 'ok'}\n",
      "{'C': 0.35697850110500945, 'class_weight': None, 'kernel': {'gamma': 0.09287163844466492, 'kernel': 'rbf'}, 'type': 'svc'}\n",
      "{'loss': 1.1347365186508678, 'accuracy': 0.517947618220239, 'status': 'ok'}\n",
      "{'C': 5.872124666723681, 'class_weight': 'balanced', 'kernel': {'gamma': 0.05930401852600927, 'kernel': 'rbf'}, 'type': 'svc'}\n",
      "{'loss': 1.094862758619228, 'accuracy': 0.5310385637981168, 'status': 'ok'}\n",
      "{'C': 0.9928360289340583, 'class_weight': 'balanced', 'kernel': {'gamma': 0.13429026295128269, 'kernel': 'rbf'}, 'type': 'svc'}\n",
      "{'loss': 1.1065688894916146, 'accuracy': 0.5156876866051343, 'status': 'ok'}\n",
      "{'class_weight': None, 'criterion': 'gini', 'max_depth': 10.0, 'min_samples_leaf': 0.4497227862966397, 'n_estimators': 70.0, 'type': 'rfc'}\n",
      "{'loss': 1.3655542587727036, 'accuracy': 0.3230935626506102, 'status': 'ok'}\n",
      "{'C': 4.388686625867199, 'class_weight': 'balanced', 'kernel': {'gamma': 0.9999419072212732, 'kernel': 'sigmoid'}, 'type': 'svc'}\n",
      "{'loss': 1.330005590923394, 'accuracy': 0.27815426953629907, 'status': 'ok'}\n",
      "{'C': 4.973266289294683, 'class_weight': 'balanced', 'kernel': {'gamma': 0.07678951991166873, 'kernel': 'rbf'}, 'type': 'svc'}\n",
      "{'loss': 1.0994656275262846, 'accuracy': 0.5207614788544853, 'status': 'ok'}\n",
      "{'class_weight': None, 'criterion': 'entropy', 'max_depth': 19.0, 'min_samples_leaf': 0.13841662498829255, 'type': 'dtc'}\n",
      "{'loss': 1.2314314509974489, 'accuracy': 0.4293506398431597, 'status': 'ok'}\n",
      "{'C': 4.846972331417971, 'class_weight': 'balanced', 'kernel': {'gamma': 0.18613422551277758, 'kernel': 'rbf'}, 'type': 'svc'}\n",
      "{'loss': 1.1146848051671974, 'accuracy': 0.5328447364090839, 'status': 'ok'}\n",
      "{'C': 2.3685380588460903, 'class_weight': 'balanced', 'kernel': {'gamma': 0.04306313175356936, 'kernel': 'rbf'}, 'type': 'svc'}\n",
      "{'loss': 1.0960945747896003, 'accuracy': 0.5207345841696058, 'status': 'ok'}\n",
      "{'length_scale': 0.9889557985647226, 'type': 'gpc'}\n",
      "{'loss': 1.1619251648486404, 'accuracy': 0.5317188809212963, 'status': 'ok'}\n",
      "{'C': 2.2083510873247056, 'class_weight': 'balanced', 'kernel': {'gamma': 0.11084887671616256, 'kernel': 'rbf'}, 'type': 'svc'}\n",
      "{'loss': 1.100603784223531, 'accuracy': 0.5122185767238039, 'status': 'ok'}\n",
      "{'C': 4.567776276713978, 'class_weight': 'balanced', 'kernel': {'gamma': 0.027191441352543904, 'kernel': 'rbf'}, 'type': 'svc'}\n",
      "{'loss': 1.1015195769956376, 'accuracy': 0.5244364768517616, 'status': 'ok'}\n",
      "{'C': 4.121451573244667, 'class_weight': 'balanced', 'kernel': {'gamma': 0.06023832714357864, 'kernel': 'rbf'}, 'type': 'svc'}\n",
      "{'loss': 1.0956052364092717, 'accuracy': 0.5277728724578941, 'status': 'ok'}\n",
      "{'alpha': 0.30543202425558746, 'l1_ratio': 0.9936147037261718, 'penalty': 'elasticnet', 'type': 'sgd'}\n",
      "{'loss': 1.36414107046162, 'accuracy': 0.3230935626506102, 'status': 'ok'}\n",
      "{'C': 5.152145458684042, 'class_weight': 'balanced', 'kernel': {'degree': 3.0, 'gamma': 0.20472378830617538, 'kernel': 'poly'}, 'type': 'svc'}\n",
      "{'loss': 1.3511273061456888, 'accuracy': 0.43389438690673365, 'status': 'ok'}\n",
      "{'C': 4.673338801820365, 'class_weight': 'balanced', 'kernel': {'gamma': 0.12494722004387361, 'kernel': 'rbf'}, 'type': 'svc'}\n",
      "{'loss': 1.1089755761271332, 'accuracy': 0.515805312792966, 'status': 'ok'}\n",
      "{'C': 4.796336544481531, 'class_weight': None, 'kernel': {'gamma': 0.09000355781478589, 'kernel': 'rbf'}, 'type': 'svc'}\n",
      "{'loss': 1.1052133723744682, 'accuracy': 0.5567285359440189, 'status': 'ok'}\n",
      "{'class_weight': 'balanced', 'criterion': 'entropy', 'max_depth': 3.0, 'min_samples_leaf': 0.09272996528191949, 'n_estimators': 30.0, 'type': 'rfc'}\n",
      "{'loss': 1.2463912513573412, 'accuracy': 0.43411160800310045, 'status': 'ok'}\n",
      "{'C': 4.491140608681694, 'class_weight': 'balanced', 'kernel': {'kernel': 'linear'}, 'type': 'svc'}\n",
      "{'loss': 1.183138121390251, 'accuracy': 0.5211207512487253, 'status': 'ok'}\n",
      "{'class_weight': 'balanced', 'criterion': 'gini', 'max_depth': 15.0, 'min_samples_leaf': 0.12143407403420622, 'type': 'dtc'}\n",
      "{'loss': 1.2537690009458136, 'accuracy': 0.4119738993680053, 'status': 'ok'}\n",
      "{'C': 4.926326328820989, 'class_weight': 'balanced', 'kernel': {'gamma': 0.1601539016442114, 'kernel': 'rbf'}, 'type': 'svc'}\n",
      "{'loss': 1.1151420056420378, 'accuracy': 0.5227960363932787, 'status': 'ok'}\n",
      "{'C': 4.423661542401067, 'class_weight': 'balanced', 'kernel': {'gamma': 0.04304572119391611, 'kernel': 'rbf'}, 'type': 'svc'}\n",
      "{'loss': 1.0916145998857254, 'accuracy': 0.5275394468910151, 'status': 'ok'}\n",
      "{'C': 5.290685046936633, 'class_weight': 'balanced', 'kernel': {'gamma': 0.9743017714916063, 'kernel': 'sigmoid'}, 'type': 'svc'}\n",
      "{'loss': 1.3429783864946718, 'accuracy': 0.2816264917585213, 'status': 'ok'}\n",
      "{'C': 4.301630918103054, 'class_weight': 'balanced', 'kernel': {'gamma': 0.4953482067559862, 'kernel': 'rbf'}, 'type': 'svc'}\n",
      "{'loss': 1.1702614249678667, 'accuracy': 0.4696281199187652, 'status': 'ok'}\n",
      "{'length_scale': 4.088489912119078, 'type': 'gpc'}\n",
      "{'loss': 1.1523568267199997, 'accuracy': 0.5368095880667979, 'status': 'ok'}\n",
      "{'C': 1.1035364962949976, 'class_weight': 'balanced', 'kernel': {'gamma': 0.5795068097018468, 'kernel': 'rbf'}, 'type': 'svc'}\n",
      "{'loss': 1.1585608997291628, 'accuracy': 0.49169001598931306, 'status': 'ok'}\n",
      "{'C': 5.4300170167559925, 'class_weight': 'balanced', 'kernel': {'gamma': 0.7434243186481663, 'kernel': 'rbf'}, 'type': 'svc'}\n",
      "{'loss': 1.211579519020431, 'accuracy': 0.481505489357418, 'status': 'ok'}\n",
      "{'C': 4.631267395338359, 'class_weight': 'balanced', 'kernel': {'gamma': 0.010468367600851392, 'kernel': 'rbf'}, 'type': 'svc'}\n",
      "{'loss': 1.1391250163302127, 'accuracy': 0.5157528089553144, 'status': 'ok'}\n",
      "{'alpha': 0.9982477230281857, 'l1_ratio': 0.7758112691222206, 'penalty': 'l1', 'type': 'sgd'}\n",
      "{'loss': 1.368214170922384, 'accuracy': 0.3230935626506102, 'status': 'ok'}\n",
      "{'C': 1.2871218541003921, 'class_weight': 'balanced', 'kernel': {'gamma': 0.0766702618674421, 'kernel': 'rbf'}, 'type': 'svc'}\n",
      "{'loss': 1.0978148212009793, 'accuracy': 0.5273348443071767, 'status': 'ok'}\n",
      "{'C': 5.177571798993753, 'class_weight': 'balanced', 'kernel': {'degree': 4.0, 'gamma': 0.6513591730865097, 'kernel': 'poly'}, 'type': 'svc'}\n",
      "{'loss': 1.3604034745634026, 'accuracy': 0.40312943846874993, 'status': 'ok'}\n",
      "{'class_weight': None, 'criterion': 'gini', 'max_depth': 6.0, 'min_samples_leaf': 0.2325047185163249, 'n_estimators': 35.0, 'type': 'rfc'}\n",
      "{'loss': 1.2623492764058541, 'accuracy': 0.4528684010253945, 'status': 'ok'}\n",
      "{'C': 5.064563920429643, 'class_weight': 'balanced', 'kernel': {'gamma': 0.21352801278653377, 'kernel': 'rbf'}, 'type': 'svc'}\n",
      "{'loss': 1.123748677883012, 'accuracy': 0.5293944697220652, 'status': 'ok'}\n",
      "{'C': 4.7457111708855875, 'class_weight': None, 'kernel': {'gamma': 0.10234921833520838, 'kernel': 'rbf'}, 'type': 'svc'}\n",
      "{'loss': 1.1079840081576626, 'accuracy': 0.5483934502274445, 'status': 'ok'}\n",
      "{'class_weight': None, 'criterion': 'entropy', 'max_depth': 14.0, 'min_samples_leaf': 0.15967959206648724, 'type': 'dtc'}\n",
      "{'loss': 1.3447015507424531, 'accuracy': 0.4310867509542708, 'status': 'ok'}\n",
      "{'C': 0.7023565025149866, 'class_weight': 'balanced', 'kernel': {'gamma': 0.24350428183106798, 'kernel': 'rbf'}, 'type': 'svc'}\n",
      "{'loss': 1.12239382557539, 'accuracy': 0.5157114689491221, 'status': 'ok'}\n",
      "{'C': 4.850726520815474, 'class_weight': 'balanced', 'kernel': {'kernel': 'linear'}, 'type': 'svc'}\n",
      "{'loss': 1.1808891456031552, 'accuracy': 0.5211207512487253, 'status': 'ok'}\n",
      "{'C': 4.557277215170532, 'class_weight': 'balanced', 'kernel': {'gamma': 0.028370750349944896, 'kernel': 'rbf'}, 'type': 'svc'}\n",
      "{'loss': 1.1017324242989013, 'accuracy': 0.5262163975439029, 'status': 'ok'}\n",
      "{'C': 1.8697304397634202, 'class_weight': 'balanced', 'kernel': {'gamma': 0.13687641028749326, 'kernel': 'rbf'}, 'type': 'svc'}\n",
      "{'loss': 1.1056457180326098, 'accuracy': 0.5156432342580505, 'status': 'ok'}\n",
      "{'length_scale': 5.869439689919226, 'type': 'gpc'}\n",
      "{'loss': 1.152356843591841, 'accuracy': 0.5368095880667979, 'status': 'ok'}\n",
      "{'C': 4.9855101835933935, 'class_weight': 'balanced', 'kernel': {'gamma': 0.046795916047002076, 'kernel': 'rbf'}, 'type': 'svc'}\n",
      "{'loss': 1.0898948285435193, 'accuracy': 0.5327947021462702, 'status': 'ok'}\n",
      "{'C': 5.601072288642118, 'class_weight': 'balanced', 'kernel': {'gamma': 0.7370686681995791, 'kernel': 'sigmoid'}, 'type': 'svc'}\n",
      "{'loss': 1.322290730661095, 'accuracy': 0.30395307212403466, 'status': 'ok'}\n",
      "{'C': 4.241453538921717, 'class_weight': 'balanced', 'kernel': {'gamma': 0.0702036477741268, 'kernel': 'rbf'}, 'type': 'svc'}\n",
      "{'loss': 1.0950064991858541, 'accuracy': 0.5293938269560116, 'status': 'ok'}\n",
      "{'alpha': 0.7731763079917942, 'l1_ratio': 0.15587236357327638, 'penalty': 'l2', 'type': 'sgd'}\n",
      "{'loss': 1.298531043594706, 'accuracy': 0.44656787284761335, 'status': 'ok'}\n",
      "{'C': 1.2435930141595612, 'class_weight': 'balanced', 'kernel': {'gamma': 0.011255267204899975, 'kernel': 'rbf'}, 'type': 'svc'}\n",
      "{'loss': 1.1737272831110515, 'accuracy': 0.47987831017751714, 'status': 'ok'}\n",
      "{'C': 4.633196259298408, 'class_weight': 'balanced', 'kernel': {'gamma': 0.11991502776725815, 'kernel': 'rbf'}, 'type': 'svc'}\n",
      "{'loss': 1.1072720696566558, 'accuracy': 0.5123806552587195, 'status': 'ok'}\n",
      "{'class_weight': 'balanced', 'criterion': 'entropy', 'max_depth': 7.0, 'min_samples_leaf': 0.3413211612847732, 'n_estimators': 60.0, 'type': 'rfc'}\n",
      "{'loss': 1.386567477744174, 'accuracy': 0.2412408916667208, 'status': 'ok'}\n",
      "{'C': 4.46643303042364, 'class_weight': 'balanced', 'kernel': {'gamma': 0.17657031797472225, 'kernel': 'rbf'}, 'type': 'svc'}\n",
      "{'loss': 1.1151840664912722, 'accuracy': 0.5261537447685609, 'status': 'ok'}\n",
      "{'C': 4.087006256894173, 'class_weight': 'balanced', 'kernel': {'gamma': 0.08998445676771642, 'kernel': 'rbf'}, 'type': 'svc'}\n",
      "{'loss': 1.1005617571920223, 'accuracy': 0.5207376965104975, 'status': 'ok'}\n",
      "{'class_weight': 'balanced', 'criterion': 'gini', 'max_depth': 6.0, 'min_samples_leaf': 0.41570125820075415, 'type': 'dtc'}\n",
      "{'loss': 1.2776801652007248, 'accuracy': 0.46152388870485483, 'status': 'ok'}\n",
      "{'C': 4.7221980576902425, 'class_weight': None, 'kernel': {'gamma': 0.027140457186789542, 'kernel': 'rbf'}, 'type': 'svc'}\n",
      "{'loss': 1.1078251928419776, 'accuracy': 0.5570483966302279, 'status': 'ok'}\n",
      "{'C': 5.26183389559818, 'class_weight': 'balanced', 'kernel': {'degree': 2.0, 'gamma': 0.34524914733631656, 'kernel': 'poly'}, 'type': 'svc'}\n",
      "{'loss': 1.3566428927964584, 'accuracy': 0.45276505100991404, 'status': 'ok'}\n",
      "{'C': 4.373669045949512, 'class_weight': 'balanced', 'kernel': {'gamma': 0.010491409759611464, 'kernel': 'rbf'}, 'type': 'svc'}\n",
      "{'loss': 1.1423033373153437, 'accuracy': 0.5191098745645429, 'status': 'ok'}\n",
      "{'C': 5.7747238397070255, 'class_weight': 'balanced', 'kernel': {'gamma': 0.060894905893634235, 'kernel': 'rbf'}, 'type': 'svc'}\n",
      "{'loss': 1.0944905231837452, 'accuracy': 0.5310385637981168, 'status': 'ok'}\n",
      "{'length_scale': 3.183726544758862, 'type': 'gpc'}\n",
      "{'loss': 1.1523568264671284, 'accuracy': 0.5368095880667979, 'status': 'ok'}\n",
      "{'C': 4.839346331172883, 'class_weight': 'balanced', 'kernel': {'kernel': 'linear'}, 'type': 'svc'}\n",
      "{'loss': 1.1854529865969088, 'accuracy': 0.5211207512487253, 'status': 'ok'}\n",
      "{'C': 5.080584580385388, 'class_weight': 'balanced', 'kernel': {'gamma': 0.1440157061176771, 'kernel': 'rbf'}, 'type': 'svc'}\n",
      "{'loss': 1.1124156065956075, 'accuracy': 0.5244176336574498, 'status': 'ok'}\n",
      "{'C': 4.93823142298527, 'class_weight': 'balanced', 'kernel': {'gamma': 0.010779859174433967, 'kernel': 'rbf'}, 'type': 'svc'}\n",
      "{'loss': 1.1361142426107804, 'accuracy': 0.5157759485332485, 'status': 'ok'}\n",
      "{'alpha': 0.6206600534839442, 'l1_ratio': 0.9567203321789741, 'penalty': 'elasticnet', 'type': 'sgd'}\n",
      "{'loss': 1.3679566236091802, 'accuracy': 0.3230935626506102, 'status': 'ok'}\n",
      "{'C': 2.511757896186848, 'class_weight': 'balanced', 'kernel': {'gamma': 0.10554115068811819, 'kernel': 'rbf'}, 'type': 'svc'}\n",
      "{'loss': 1.0999787377948345, 'accuracy': 0.5139546878349149, 'status': 'ok'}\n",
      "{'C': 4.517999092376353, 'class_weight': 'balanced', 'kernel': {'gamma': 0.04561233020284162, 'kernel': 'rbf'}, 'type': 'svc'}\n",
      "{'loss': 1.0899621402945139, 'accuracy': 0.5276546035040087, 'status': 'ok'}\n",
      "{'class_weight': None, 'criterion': 'gini', 'max_depth': 5.0, 'min_samples_leaf': 0.11216124196509883, 'n_estimators': 75.0, 'type': 'rfc'}\n",
      "{'loss': 1.2344408049682536, 'accuracy': 0.4581199011737043, 'status': 'ok'}\n",
      "{'C': 2.8045859942439093, 'class_weight': 'balanced', 'kernel': {'gamma': 0.2967615006455485, 'kernel': 'sigmoid'}, 'type': 'svc'}\n",
      "{'loss': 1.3040899620294237, 'accuracy': 0.3363841716626504, 'status': 'ok'}\n",
      "{'C': 4.169498742027986, 'class_weight': 'balanced', 'kernel': {'gamma': 0.07934703592819439, 'kernel': 'rbf'}, 'type': 'svc'}\n",
      "{'loss': 1.0969166219111544, 'accuracy': 0.5242099187327197, 'status': 'ok'}\n",
      "{'class_weight': None, 'criterion': 'entropy', 'max_depth': 13.0, 'min_samples_leaf': 0.48199669742024365, 'type': 'dtc'}\n",
      "{'loss': 1.3468161900577473, 'accuracy': 0.3642120513628264, 'status': 'ok'}\n",
      "{'C': 4.697301984782389, 'class_weight': 'balanced', 'kernel': {'gamma': 0.19611410192983997, 'kernel': 'rbf'}, 'type': 'svc'}\n",
      "{'loss': 1.1185847879671877, 'accuracy': 0.5329361106780897, 'status': 'ok'}\n",
      "{'C': 1.9882821953375842, 'class_weight': None, 'kernel': {'gamma': 0.06083234681106878, 'kernel': 'rbf'}, 'type': 'svc'}\n",
      "{'loss': 1.1001482374989706, 'accuracy': 0.5671871853829316, 'status': 'ok'}\n",
      "{'C': 3.1357822646029256, 'class_weight': 'balanced', 'kernel': {'gamma': 0.028803774281912414, 'kernel': 'rbf'}, 'type': 'svc'}\n",
      "{'loss': 1.1062103799413596, 'accuracy': 0.5226972533997588, 'status': 'ok'}\n",
      "{'C': 5.169533080195468, 'class_weight': 'balanced', 'kernel': {'degree': 5.0, 'gamma': 0.09220654451349197, 'kernel': 'poly'}, 'type': 'svc'}\n",
      "{'loss': 1.3739124829635696, 'accuracy': 0.3111284725605201, 'status': 'ok'}\n",
      "{'C': 5.47279867537947, 'class_weight': 'balanced', 'kernel': {'gamma': 0.11221841892365238, 'kernel': 'rbf'}, 'type': 'svc'}\n",
      "{'loss': 1.1086486725936782, 'accuracy': 0.515737720867948, 'status': 'ok'}\n",
      "{'length_scale': 5.096973439029144, 'type': 'gpc'}\n",
      "{'loss': 1.1523568341979136, 'accuracy': 0.5368095880667979, 'status': 'ok'}\n",
      "{'C': 4.357907352346, 'class_weight': 'balanced', 'kernel': {'gamma': 0.010552142862468299, 'kernel': 'rbf'}, 'type': 'svc'}\n",
      "{'loss': 1.1411670526307827, 'accuracy': 0.5173737634534318, 'status': 'ok'}\n",
      "{'C': 4.798236792221765, 'class_weight': 'balanced', 'kernel': {'gamma': 0.08798210994992205, 'kernel': 'rbf'}, 'type': 'svc'}\n",
      "{'loss': 1.1010191962977642, 'accuracy': 0.5138439290949204, 'status': 'ok'}\n",
      "{'alpha': 0.5448009359402773, 'l1_ratio': 0.5165378487276381, 'penalty': 'l1', 'type': 'sgd'}\n",
      "{'loss': 1.367327570588328, 'accuracy': 0.3230935626506102, 'status': 'ok'}\n",
      "{'C': 4.596522918951157, 'class_weight': 'balanced', 'kernel': {'kernel': 'linear'}, 'type': 'svc'}\n",
      "{'loss': 1.1794152269520235, 'accuracy': 0.5211207512487253, 'status': 'ok'}\n",
      "{'C': 5.996670698108868, 'class_weight': 'balanced', 'kernel': {'gamma': 0.04324474703090783, 'kernel': 'rbf'}, 'type': 'svc'}\n",
      "{'loss': 1.0902463290263325, 'accuracy': 0.5328622940712883, 'status': 'ok'}\n",
      "{'class_weight': 'balanced', 'criterion': 'entropy', 'max_depth': 8.0, 'min_samples_leaf': 0.43224799777884915, 'n_estimators': 55.0, 'type': 'rfc'}\n",
      "{'loss': 1.386610321389768, 'accuracy': 0.2496991854868567, 'status': 'ok'}\n",
      "{'C': 4.256243395527276, 'class_weight': 'balanced', 'kernel': {'gamma': 0.16481189646038652, 'kernel': 'rbf'}, 'type': 'svc'}\n",
      "{'loss': 1.113060944376647, 'accuracy': 0.5244176336574498, 'status': 'ok'}\n",
      "{'C': 5.007661268540189, 'class_weight': 'balanced', 'kernel': {'gamma': 0.06755268850149738, 'kernel': 'rbf'}, 'type': 'svc'}\n",
      "{'loss': 1.0924833963504244, 'accuracy': 0.5293262350309935, 'status': 'ok'}\n",
      "{'C': 25.925239485790275, 'class_weight': 'balanced', 'kernel': {'gamma': 0.13882820136915183, 'kernel': 'rbf'}, 'type': 'svc'}\n",
      "{'loss': 1.1383756819932673, 'accuracy': 0.5069457638063442, 'status': 'ok'}\n",
      "{'class_weight': 'balanced', 'criterion': 'gini', 'max_depth': 18.0, 'min_samples_leaf': 0.4691455112946433, 'type': 'dtc'}\n",
      "{'loss': 1.3337087866876864, 'accuracy': 0.3583760062333422, 'status': 'ok'}\n",
      "{'C': 5.293992832528834, 'class_weight': 'balanced', 'kernel': {'gamma': 0.22515468869314903, 'kernel': 'sigmoid'}, 'type': 'svc'}\n",
      "{'loss': 1.3105231754801934, 'accuracy': 0.3533028567500449, 'status': 'ok'}\n",
      "{'C': 4.460047500691957, 'class_weight': None, 'kernel': {'gamma': 0.10102468050458246, 'kernel': 'rbf'}, 'type': 'svc'}\n",
      "{'loss': 1.1053454978092279, 'accuracy': 0.5482344840334206, 'status': 'ok'}\n",
      "{'C': 4.844729541272782, 'class_weight': 'balanced', 'kernel': {'gamma': 0.27045266884742314, 'kernel': 'rbf'}, 'type': 'svc'}\n",
      "{'loss': 1.1319252319190127, 'accuracy': 0.5125409069848507, 'status': 'ok'}\n",
      "{'length_scale': 4.593434785626099, 'type': 'gpc'}\n",
      "{'loss': 1.1523568065770116, 'accuracy': 0.5368095880667979, 'status': 'ok'}\n",
      "{'C': 4.642418159303102, 'class_weight': 'balanced', 'kernel': {'gamma': 0.02871964195823036, 'kernel': 'rbf'}, 'type': 'svc'}\n",
      "{'loss': 1.0986441640256124, 'accuracy': 0.5228148795875904, 'status': 'ok'}\n",
      "{'C': 4.946125897450472, 'class_weight': 'balanced', 'kernel': {'gamma': 0.05143606724044626, 'kernel': 'rbf'}, 'type': 'svc'}\n",
      "{'loss': 1.0923659964871564, 'accuracy': 0.5328860764152762, 'status': 'ok'}\n",
      "{'C': 4.993975134835877, 'class_weight': 'balanced', 'kernel': {'gamma': 0.04276238720628608, 'kernel': 'rbf'}, 'type': 'svc'}\n",
      "{'loss': 1.0906850970593358, 'accuracy': 0.5327239978803605, 'status': 'ok'}\n",
      "{'C': 5.130933062194808, 'class_weight': 'balanced', 'kernel': {'gamma': 0.05555524921115745, 'kernel': 'rbf'}, 'type': 'svc'}\n",
      "{'loss': 1.0932449156655195, 'accuracy': 0.5362907067124802, 'status': 'ok'}\n",
      "{'C': 4.959762690337401, 'class_weight': 'balanced', 'kernel': {'gamma': 0.0750154219625406, 'kernel': 'rbf'}, 'type': 'svc'}\n",
      "{'loss': 1.099111713236768, 'accuracy': 0.5224975899655965, 'status': 'ok'}\n",
      "{'C': 5.043971152181063, 'class_weight': 'balanced', 'kernel': {'gamma': 0.027800993290561078, 'kernel': 'rbf'}, 'type': 'svc'}\n",
      "{'loss': 1.1005042439780168, 'accuracy': 0.5245272083547138, 'status': 'ok'}\n",
      "{'C': 4.728140177178519, 'class_weight': 'balanced', 'kernel': {'gamma': 0.010022176468524588, 'kernel': 'rbf'}, 'type': 'svc'}\n",
      "{'loss': 1.1411148774277078, 'accuracy': 0.5191098745645429, 'status': 'ok'}\n",
      "{'C': 4.897037012639456, 'class_weight': 'balanced', 'kernel': {'gamma': 0.04325554733250869, 'kernel': 'rbf'}, 'type': 'svc'}\n",
      "{'loss': 1.0916944224166838, 'accuracy': 0.5292755580021262, 'status': 'ok'}\n",
      "{'C': 5.2494804174403, 'class_weight': 'balanced', 'kernel': {'gamma': 0.011001637174571352, 'kernel': 'rbf'}, 'type': 'svc'}\n",
      "{'loss': 1.1330817599089205, 'accuracy': 0.5259153800520059, 'status': 'ok'}\n",
      "{'C': 5.4049766852231205, 'class_weight': 'balanced', 'kernel': {'gamma': 0.06300366102785557, 'kernel': 'rbf'}, 'type': 'svc'}\n",
      "{'loss': 1.095171345663521, 'accuracy': 0.5310385637981168, 'status': 'ok'}\n",
      "{'C': 4.795725247125884, 'class_weight': 'balanced', 'kernel': {'gamma': 0.0855082910117211, 'kernel': 'rbf'}, 'type': 'svc'}\n",
      "{'loss': 1.1011404018194075, 'accuracy': 0.5156007102091276, 'status': 'ok'}\n",
      "{'C': 5.1178852956732745, 'class_weight': 'balanced', 'kernel': {'gamma': 0.04685612773539971, 'kernel': 'rbf'}, 'type': 'svc'}\n",
      "{'loss': 1.0922930540922833, 'accuracy': 0.5327947021462702, 'status': 'ok'}\n",
      "{'C': 4.711104800574701, 'class_weight': 'balanced', 'kernel': {'gamma': 0.030954609267481056, 'kernel': 'rbf'}, 'type': 'svc'}\n",
      "{'loss': 1.0974256979836983, 'accuracy': 0.5175827639102693, 'status': 'ok'}\n",
      "{'C': 4.858083287192669, 'class_weight': 'balanced', 'kernel': {'gamma': 0.07243526180681202, 'kernel': 'rbf'}, 'type': 'svc'}\n",
      "{'loss': 1.0980384071536364, 'accuracy': 0.5275907666859361, 'status': 'ok'}\n",
      "{'C': 4.581292086920633, 'class_weight': 'balanced', 'kernel': {'gamma': 0.09397277314770561, 'kernel': 'rbf'}, 'type': 'svc'}\n",
      "{'loss': 1.1014217386948397, 'accuracy': 0.5189371058152601, 'status': 'ok'}\n",
      "{'C': 5.199245738241536, 'class_weight': 'balanced', 'kernel': {'gamma': 0.010355376226766154, 'kernel': 'rbf'}, 'type': 'svc'}\n",
      "{'loss': 1.1384265896116301, 'accuracy': 0.5156845742642426, 'status': 'ok'}\n",
      "{'C': 5.039064657029653, 'class_weight': 'balanced', 'kernel': {'gamma': 0.05637824177470585, 'kernel': 'rbf'}, 'type': 'svc'}\n",
      "{'loss': 1.09110474896242, 'accuracy': 0.534578377945357, 'status': 'ok'}\n",
      "{'C': 1.3933306356788802, 'class_weight': 'balanced', 'kernel': {'gamma': 0.026662054489219503, 'kernel': 'rbf'}, 'type': 'svc'}\n",
      "{'loss': 1.1307635107514233, 'accuracy': 0.5157728361923568, 'status': 'ok'}\n",
      "{'C': 4.761366991090089, 'class_weight': 'balanced', 'kernel': {'gamma': 0.11798401767759224, 'kernel': 'rbf'}, 'type': 'svc'}\n",
      "{'loss': 1.1090300162486844, 'accuracy': 0.5123806552587195, 'status': 'ok'}\n",
      "{'C': 4.5370173834848675, 'class_weight': 'balanced', 'kernel': {'gamma': 0.010756241498610184, 'kernel': 'rbf'}, 'type': 'svc'}\n",
      "{'loss': 1.1399658245320006, 'accuracy': 0.5157528089553144, 'status': 'ok'}\n",
      "{'C': 4.9231454365249725, 'class_weight': 'balanced', 'kernel': {'gamma': 0.07347551143006412, 'kernel': 'rbf'}, 'type': 'svc'}\n",
      "{'loss': 1.0989862772736023, 'accuracy': 0.5293268777970472, 'status': 'ok'}\n",
      "{'C': 4.656796818608288, 'class_weight': 'balanced', 'kernel': {'gamma': 0.04509792893129997, 'kernel': 'rbf'}, 'type': 'svc'}\n",
      "{'loss': 1.0921360224638266, 'accuracy': 0.5292993403461139, 'status': 'ok'}\n",
      "{'C': 4.818210172486344, 'class_weight': 'balanced', 'kernel': {'gamma': 0.09946557130453496, 'kernel': 'rbf'}, 'type': 'svc'}\n",
      "{'loss': 1.1058781257072074, 'accuracy': 0.5139115210199384, 'status': 'ok'}\n",
      "{'C': 5.044703991442919, 'class_weight': 'balanced', 'kernel': {'gamma': 0.029445635337650464, 'kernel': 'rbf'}, 'type': 'svc'}\n",
      "{'loss': 1.097617526359353, 'accuracy': 0.522743532555627, 'status': 'ok'}\n",
      "{'C': 5.383594438963994, 'class_weight': 'balanced', 'kernel': {'gamma': 0.05820155694634169, 'kernel': 'rbf'}, 'type': 'svc'}\n",
      "{'loss': 1.0937187668508521, 'accuracy': 0.531082373379147, 'status': 'ok'}\n",
      "{'C': 4.438320393720865, 'class_weight': 'balanced', 'kernel': {'gamma': 0.092067939299891, 'kernel': 'rbf'}, 'type': 'svc'}\n",
      "{'loss': 1.100020498688023, 'accuracy': 0.5188901838933382, 'status': 'ok'}\n",
      "{'C': 5.161053310755281, 'class_weight': 'balanced', 'kernel': {'gamma': 0.010339997167424782, 'kernel': 'rbf'}, 'type': 'svc'}\n",
      "{'loss': 1.135960334164602, 'accuracy': 0.5157759485332485, 'status': 'ok'}\n",
      "{'C': 5.302745649943819, 'class_weight': 'balanced', 'kernel': {'gamma': 0.07799569879048876, 'kernel': 'rbf'}, 'type': 'svc'}\n",
      "{'loss': 1.0996782090974713, 'accuracy': 0.5121991922528152, 'status': 'ok'}\n",
      "{'C': 4.902216919823842, 'class_weight': 'balanced', 'kernel': {'gamma': 0.11574518059363736, 'kernel': 'rbf'}, 'type': 'svc'}\n",
      "{'loss': 1.1079480206953782, 'accuracy': 0.5123806552587195, 'status': 'ok'}\n",
      "{'C': 4.6679362669138476, 'class_weight': 'balanced', 'kernel': {'gamma': 0.04102953913600744, 'kernel': 'rbf'}, 'type': 'svc'}\n",
      "{'loss': 1.092389500638418, 'accuracy': 0.5275394468910151, 'status': 'ok'}\n",
      "{'C': 5.560561122312842, 'class_weight': 'balanced', 'kernel': {'gamma': 0.060898351582999846, 'kernel': 'rbf'}, 'type': 'svc'}\n",
      "{'loss': 1.0935451651314207, 'accuracy': 0.5310385637981168, 'status': 'ok'}\n",
      "{'C': 4.544122775545653, 'class_weight': 'balanced', 'kernel': {'gamma': 0.026201546772281557, 'kernel': 'rbf'}, 'type': 'svc'}\n",
      "{'loss': 1.102642068248008, 'accuracy': 0.5243451025827557, 'status': 'ok'}\n",
      "{'C': 4.786639840448229, 'class_weight': 'balanced', 'kernel': {'gamma': 0.12335201759063132, 'kernel': 'rbf'}, 'type': 'svc'}\n",
      "{'loss': 1.1073460549906593, 'accuracy': 0.515805312792966, 'status': 'ok'}\n",
      "{'C': 5.00623576413257, 'class_weight': 'balanced', 'kernel': {'gamma': 0.08506059524687434, 'kernel': 'rbf'}, 'type': 'svc'}\n",
      "{'loss': 1.1005391842891754, 'accuracy': 0.5155331182841096, 'status': 'ok'}\n",
      "{'C': 4.702060173652711, 'class_weight': 'balanced', 'kernel': {'gamma': 0.04638974051627534, 'kernel': 'rbf'}, 'type': 'svc'}\n",
      "{'loss': 1.092516881050317, 'accuracy': 0.5311268257262309, 'status': 'ok'}\n",
      "{'C': 4.425757973712115, 'class_weight': 'balanced', 'kernel': {'gamma': 0.011152017502434157, 'kernel': 'rbf'}, 'type': 'svc'}\n",
      "{'loss': 1.1390133154693678, 'accuracy': 0.514040480188191, 'status': 'ok'}\n",
      "{'C': 4.591727009236323, 'class_weight': 'balanced', 'kernel': {'gamma': 0.1024697841284546, 'kernel': 'rbf'}, 'type': 'svc'}\n",
      "{'loss': 1.1027223925390643, 'accuracy': 0.5156476321310495, 'status': 'ok'}\n",
      "{'C': 4.888806168183774, 'class_weight': 'balanced', 'kernel': {'gamma': 0.06778947327240653, 'kernel': 'rbf'}, 'type': 'svc'}\n",
      "{'loss': 1.0961994889670468, 'accuracy': 0.5293262350309935, 'status': 'ok'}\n",
      "{'C': 5.16568442642047, 'class_weight': 'balanced', 'kernel': {'gamma': 0.01123302464136456, 'kernel': 'rbf'}, 'type': 'svc'}\n",
      "{'loss': 1.1339592390213915, 'accuracy': 0.5259153800520059, 'status': 'ok'}\n",
      "{'C': 4.486391804497763, 'class_weight': 'balanced', 'kernel': {'gamma': 0.04317215177559926, 'kernel': 'rbf'}, 'type': 'svc'}\n",
      "{'loss': 1.0915249194087258, 'accuracy': 0.5275394468910151, 'status': 'ok'}\n",
      "{'C': 4.782454090041877, 'class_weight': 'balanced', 'kernel': {'gamma': 0.13470878559938235, 'kernel': 'rbf'}, 'type': 'svc'}\n",
      "{'loss': 1.1114106901851968, 'accuracy': 0.5244620860045337, 'status': 'ok'}\n",
      "{'C': 5.326338069511164, 'class_weight': 'balanced', 'kernel': {'gamma': 0.5418518702007706, 'kernel': 'rbf'}, 'type': 'svc'}\n",
      "{'loss': 1.1790442541077375, 'accuracy': 0.46615901003743465, 'status': 'ok'}\n",
      "{'C': 4.967848223647601, 'class_weight': 'balanced', 'kernel': {'gamma': 0.07710193800764711, 'kernel': 'rbf'}, 'type': 'svc'}\n",
      "{'loss': 1.0996239728281725, 'accuracy': 0.5190253677433743, 'status': 'ok'}\n",
      "{'C': 5.079696232358242, 'class_weight': 'balanced', 'kernel': {'degree': 3.0, 'gamma': 0.42914281627486306, 'kernel': 'poly'}, 'type': 'svc'}\n",
      "{'loss': 1.3518713211272106, 'accuracy': 0.4625490329009615, 'status': 'ok'}\n",
      "{'C': 4.336025188960718, 'class_weight': 'balanced', 'kernel': {'gamma': 0.027728404241795592, 'kernel': 'rbf'}, 'type': 'svc'}\n",
      "{'loss': 1.1014571925175058, 'accuracy': 0.5244364768517616, 'status': 'ok'}\n",
      "{'C': 1.5581711069300606, 'class_weight': 'balanced', 'kernel': {'gamma': 0.010007719936508841, 'kernel': 'rbf'}, 'type': 'svc'}\n",
      "{'loss': 1.1701564495132823, 'accuracy': 0.4867282680120639, 'status': 'ok'}\n",
      "{'C': 4.630800532947507, 'class_weight': 'balanced', 'kernel': {'gamma': 0.10357047673478767, 'kernel': 'rbf'}, 'type': 'svc'}\n",
      "{'loss': 1.1021043712223704, 'accuracy': 0.5139115210199384, 'status': 'ok'}\n",
      "{'C': 5.46073928407235, 'class_weight': 'balanced', 'kernel': {'kernel': 'linear'}, 'type': 'svc'}\n",
      "{'loss': 1.1816114308264467, 'accuracy': 0.5211207512487253, 'status': 'ok'}\n",
      "{'C': 4.706676831271013, 'class_weight': 'balanced', 'kernel': {'gamma': 0.36054986652013227, 'kernel': 'rbf'}, 'type': 'svc'}\n",
      "{'loss': 1.1461693598320544, 'accuracy': 0.47819104928648903, 'status': 'ok'}\n",
      "{'C': 5.209912186656325, 'class_weight': 'balanced', 'kernel': {'gamma': 0.055426100383674265, 'kernel': 'rbf'}, 'type': 'svc'}\n",
      "{'loss': 1.0931654465079048, 'accuracy': 0.5362907067124802, 'status': 'ok'}\n",
      "{'C': 5.674626886172488, 'class_weight': 'balanced', 'kernel': {'gamma': 0.08541839086625141, 'kernel': 'rbf'}, 'type': 'svc'}\n",
      "{'loss': 1.1020570983899376, 'accuracy': 0.5172685866291671, 'status': 'ok'}\n",
      "{'C': 4.928882435409938, 'class_weight': 'balanced', 'kernel': {'gamma': 0.028392482856793022, 'kernel': 'sigmoid'}, 'type': 'svc'}\n",
      "{'loss': 1.218047570787276, 'accuracy': 0.4681448188455218, 'status': 'ok'}\n",
      "{'C': 4.502952244376515, 'class_weight': 'balanced', 'kernel': {'gamma': 0.029114737994232323, 'kernel': 'rbf'}, 'type': 'svc'}\n",
      "{'loss': 1.0973737639854895, 'accuracy': 0.5245040687767797, 'status': 'ok'}\n",
      "{'C': 4.609500278371262, 'class_weight': 'balanced', 'kernel': {'gamma': 0.1541182279392291, 'kernel': 'rbf'}, 'type': 'svc'}\n",
      "{'loss': 1.112794907286669, 'accuracy': 0.5226815225463387, 'status': 'ok'}\n",
      "{'C': 0.38901144799893456, 'class_weight': 'balanced', 'kernel': {'gamma': 0.11987619046386855, 'kernel': 'rbf'}, 'type': 'svc'}\n",
      "{'loss': 1.1287089859517674, 'accuracy': 0.48341748155870357, 'status': 'ok'}\n",
      "{'C': 4.808493144372864, 'class_weight': 'balanced', 'kernel': {'gamma': 0.06332504713535443, 'kernel': 'rbf'}, 'type': 'svc'}\n",
      "{'loss': 1.0934702638543305, 'accuracy': 0.5293938269560114, 'status': 'ok'}\n",
      "{'C': 4.379047466282528, 'class_weight': 'balanced', 'kernel': {'gamma': 0.04059702589408208, 'kernel': 'rbf'}, 'type': 'svc'}\n",
      "{'loss': 1.0915188889723768, 'accuracy': 0.5292755580021262, 'status': 'ok'}\n",
      "{'alpha': 0.13080685253304797, 'l1_ratio': 0.9158368308427489, 'penalty': 'l2', 'type': 'sgd'}\n",
      "{'loss': 1.223061289221375, 'accuracy': 0.48559107954385533, 'status': 'ok'}\n",
      "{'C': 5.023920048108794, 'class_weight': None, 'kernel': {'gamma': 0.09238875938737995, 'kernel': 'rbf'}, 'type': 'svc'}\n",
      "{'loss': 1.1054992334366027, 'accuracy': 0.54990236045346, 'status': 'ok'}\n",
      "{'C': 4.285360986597021, 'class_weight': 'balanced', 'kernel': {'gamma': 0.06833135842209376, 'kernel': 'rbf'}, 'type': 'svc'}\n",
      "{'loss': 1.0937301343319268, 'accuracy': 0.5293700446120236, 'status': 'ok'}\n",
      "{'class_weight': None, 'criterion': 'gini', 'max_depth': 9.0, 'min_samples_leaf': 0.21007423057482472, 'n_estimators': 10.0, 'type': 'rfc'}\n",
      "{'loss': 1.2692129106202312, 'accuracy': 0.44949066541306987, 'status': 'ok'}\n",
      "{'C': 4.756481472855176, 'class_weight': 'balanced', 'kernel': {'degree': 5.0, 'gamma': 0.1685520523989334, 'kernel': 'poly'}, 'type': 'svc'}\n",
      "{'loss': 1.3694732092884403, 'accuracy': 0.36218361701643964, 'status': 'ok'}\n",
      "{'C': 4.545530145658196, 'class_weight': 'balanced', 'kernel': {'gamma': 0.02981205812379601, 'kernel': 'rbf'}, 'type': 'svc'}\n",
      "{'loss': 1.099616111933023, 'accuracy': 0.5210787684764794, 'status': 'ok'}\n",
      "{'C': 4.883539823996996, 'class_weight': 'balanced', 'kernel': {'kernel': 'linear'}, 'type': 'svc'}\n",
      "{'loss': 1.1816293024491564, 'accuracy': 0.5211207512487253, 'status': 'ok'}\n",
      "{'class_weight': None, 'criterion': 'entropy', 'max_depth': 12.0, 'min_samples_leaf': 0.4362382678073268, 'type': 'dtc'}\n",
      "{'loss': 1.2978912890141792, 'accuracy': 0.41854919311885785, 'status': 'ok'}\n",
      "{'C': 0.5806901395205075, 'class_weight': 'balanced', 'kernel': {'gamma': 0.13219765368603728, 'kernel': 'rbf'}, 'type': 'svc'}\n",
      "{'loss': 1.1155521961853105, 'accuracy': 0.5124006824957619, 'status': 'ok'}\n",
      "{'C': 5.147253840419146, 'class_weight': 'balanced', 'kernel': {'gamma': 0.05133657677085674, 'kernel': 'rbf'}, 'type': 'svc'}\n",
      "{'loss': 1.0909266877121955, 'accuracy': 0.5328860764152762, 'status': 'ok'}\n",
      "{'C': 5.336675251572371, 'class_weight': 'balanced', 'kernel': {'gamma': 0.11078807712837674, 'kernel': 'rbf'}, 'type': 'svc'}\n",
      "{'loss': 1.1061801260336404, 'accuracy': 0.5174500496350712, 'status': 'ok'}\n",
      "{'C': 4.470780461102604, 'class_weight': 'balanced', 'kernel': {'gamma': 0.011323306224623672, 'kernel': 'rbf'}, 'type': 'svc'}\n",
      "{'loss': 1.136314225448825, 'accuracy': 0.5192012488335488, 'status': 'ok'}\n",
      "{'length_scale': 5.390627766480936, 'type': 'gpc'}\n",
      "{'loss': 1.152356848583333, 'accuracy': 0.5368095880667979, 'status': 'ok'}\n",
      "{'C': 4.6873423555926506, 'class_weight': 'balanced', 'kernel': {'gamma': 0.8024128167469065, 'kernel': 'sigmoid'}, 'type': 'svc'}\n",
      "{'loss': 1.3335894376910047, 'accuracy': 0.28849519129800316, 'status': 'ok'}\n",
      "{'C': 5.1014369516185445, 'class_weight': 'balanced', 'kernel': {'gamma': 0.0782737566222887, 'kernel': 'rbf'}, 'type': 'svc'}\n",
      "{'loss': 1.0973518593899676, 'accuracy': 0.517313038976251, 'status': 'ok'}\n",
      "{'C': 5.246888259480215, 'class_weight': 'balanced', 'kernel': {'gamma': 0.028319588644173666, 'kernel': 'rbf'}, 'type': 'svc'}\n",
      "{'loss': 1.09902599528852, 'accuracy': 0.5262157547778492, 'status': 'ok'}\n",
      "{'alpha': 0.42773059598095897, 'l1_ratio': 0.1362219398403956, 'penalty': 'elasticnet', 'type': 'sgd'}\n",
      "{'loss': 1.3197354122448877, 'accuracy': 0.4089298269971485, 'status': 'ok'}\n",
      "{'C': 4.960289976365529, 'class_weight': 'balanced', 'kernel': {'gamma': 0.15076845858540266, 'kernel': 'rbf'}, 'type': 'svc'}\n",
      "{'loss': 1.1123941333608482, 'accuracy': 0.5261299624245731, 'status': 'ok'}\n",
      "{'C': 4.794140226984674, 'class_weight': None, 'kernel': {'gamma': 0.01017362277505347, 'kernel': 'rbf'}, 'type': 'svc'}\n",
      "{'loss': 1.1414515624382384, 'accuracy': 0.5587832222092316, 'status': 'ok'}\n",
      "{'class_weight': 'balanced', 'criterion': 'entropy', 'max_depth': 3.0, 'min_samples_leaf': 0.4691605797760064, 'n_estimators': 15.0, 'type': 'rfc'}\n",
      "{'loss': 1.3869819466518574, 'accuracy': 0.2304066977034713, 'status': 'ok'}\n",
      "{'C': 4.199013779388899, 'class_weight': 'balanced', 'kernel': {'gamma': 0.09885220989079968, 'kernel': 'rbf'}, 'type': 'svc'}\n",
      "{'loss': 1.1038150676070164, 'accuracy': 0.5155793974399778, 'status': 'ok'}\n",
      "{'C': 4.403716457277425, 'class_weight': 'balanced', 'kernel': {'gamma': 0.05716755868867517, 'kernel': 'rbf'}, 'type': 'svc'}\n",
      "{'loss': 1.0946053328235061, 'accuracy': 0.5277728724578941, 'status': 'ok'}\n",
      "{'C': 4.58316830087739, 'class_weight': 'balanced', 'kernel': {'degree': 4.0, 'gamma': 0.46775995640242907, 'kernel': 'poly'}, 'type': 'svc'}\n",
      "{'loss': 1.3616284007666275, 'accuracy': 0.4076719000002165, 'status': 'ok'}\n",
      "{'class_weight': 'balanced', 'criterion': 'gini', 'max_depth': 16.0, 'min_samples_leaf': 0.23203954247406983, 'type': 'dtc'}\n",
      "{'loss': 1.2697431382538573, 'accuracy': 0.41162037803845664, 'status': 'ok'}\n",
      "{'C': 4.896031155882315, 'class_weight': 'balanced', 'kernel': {'gamma': 0.08344907769712848, 'kernel': 'rbf'}, 'type': 'svc'}\n",
      "{'loss': 1.1019908941229146, 'accuracy': 0.5138883814420043, 'status': 'ok'}\n",
      "{'C': 4.685903425602885, 'class_weight': 'balanced', 'kernel': {'gamma': 0.010320278502427907, 'kernel': 'rbf'}, 'type': 'svc'}\n",
      "{'loss': 1.1390493521544665, 'accuracy': 0.5157528089553144, 'status': 'ok'}\n",
      "{'C': 5.470497972306631, 'class_weight': 'balanced', 'kernel': {'kernel': 'linear'}, 'type': 'svc'}\n",
      "{'loss': 1.1812653463403664, 'accuracy': 0.5211207512487253, 'status': 'ok'}\n",
      "{'C': 5.041245951740795, 'class_weight': 'balanced', 'kernel': {'gamma': 0.04233908184141654, 'kernel': 'rbf'}, 'type': 'svc'}\n",
      "{'loss': 1.090259905587839, 'accuracy': 0.5344363266474839, 'status': 'ok'}\n",
      "{'length_scale': 1.91731316603081, 'type': 'gpc'}\n",
      "{'loss': 1.1614283238901564, 'accuracy': 0.5334549920324073, 'status': 'ok'}\n",
      "{'C': 11.53462771222724, 'class_weight': 'balanced', 'kernel': {'gamma': 0.12405582041789925, 'kernel': 'rbf'}, 'type': 'svc'}\n",
      "{'loss': 1.1157542162764242, 'accuracy': 0.5225194440114231, 'status': 'ok'}\n",
      "{'C': 4.322550534374084, 'class_weight': 'balanced', 'kernel': {'gamma': 0.06517586320007063, 'kernel': 'rbf'}, 'type': 'svc'}\n",
      "{'loss': 1.0965448748703412, 'accuracy': 0.5293938269560114, 'status': 'ok'}\n",
      "{'C': 4.536064078874827, 'class_weight': 'balanced', 'kernel': {'gamma': 0.625637185393611, 'kernel': 'rbf'}, 'type': 'svc'}\n",
      "{'loss': 1.1870839469312906, 'accuracy': 0.4780339099012495, 'status': 'ok'}\n",
      "{'alpha': 0.24845340641488312, 'l1_ratio': 0.8495735264714077, 'penalty': 'l1', 'type': 'sgd'}\n",
      "{'loss': 1.3654887809094536, 'accuracy': 0.3230935626506102, 'status': 'ok'}\n",
      "{'C': 4.82319517055735, 'class_weight': 'balanced', 'kernel': {'gamma': 0.11202354908881401, 'kernel': 'sigmoid'}, 'type': 'svc'}\n",
      "{'loss': 1.2967698497426898, 'accuracy': 0.3581620666268287, 'status': 'ok'}\n",
      "{'C': 4.617598273946406, 'class_weight': 'balanced', 'kernel': {'gamma': 0.03976189206652799, 'kernel': 'rbf'}, 'type': 'svc'}\n",
      "{'loss': 1.0894946011618842, 'accuracy': 0.5275394468910151, 'status': 'ok'}\n",
      "{'class_weight': None, 'criterion': 'gini', 'max_depth': 2.0, 'min_samples_leaf': 0.3261782546202205, 'n_estimators': 50.0, 'type': 'rfc'}\n",
      "{'loss': 1.3645546537529603, 'accuracy': 0.3230935626506102, 'status': 'ok'}\n",
      "{'C': 4.271174084308238, 'class_weight': None, 'kernel': {'gamma': 0.011097169804056038, 'kernel': 'rbf'}, 'type': 'svc'}\n",
      "{'loss': 1.1411721637802228, 'accuracy': 0.5604955509763548, 'status': 'ok'}\n",
      "{'C': 4.177254380546112, 'class_weight': 'balanced', 'kernel': {'gamma': 0.32829036164041897, 'kernel': 'rbf'}, 'type': 'svc'}\n",
      "{'loss': 1.1413384092781749, 'accuracy': 0.4951829082146313, 'status': 'ok'}\n",
      "{'C': 4.442790181481002, 'class_weight': 'balanced', 'kernel': {'gamma': 0.03270780013641008, 'kernel': 'rbf'}, 'type': 'svc'}\n",
      "{'loss': 1.096939748272631, 'accuracy': 0.5175827639102693, 'status': 'ok'}\n",
      "{'class_weight': None, 'criterion': 'entropy', 'max_depth': 7.0, 'min_samples_leaf': 0.3880122492790128, 'type': 'dtc'}\n",
      "{'loss': 1.2574643899400944, 'accuracy': 0.46152388870485483, 'status': 'ok'}\n",
      "{'C': 4.408136726754182, 'class_weight': 'balanced', 'kernel': {'gamma': 0.1050524458093578, 'kernel': 'rbf'}, 'type': 'svc'}\n",
      "{'loss': 1.1037796336595402, 'accuracy': 0.5139115210199384, 'status': 'ok'}\n",
      "{'C': 4.278086741692288, 'class_weight': 'balanced', 'kernel': {'gamma': 0.06692804461711915, 'kernel': 'rbf'}, 'type': 'svc'}\n",
      "{'loss': 1.0944265766442154, 'accuracy': 0.5276814981888882, 'status': 'ok'}\n",
      "{'C': 0.6337271142405246, 'class_weight': 'balanced', 'kernel': {'gamma': 0.02865296875304683, 'kernel': 'rbf'}, 'type': 'svc'}\n",
      "{'loss': 1.158399128244488, 'accuracy': 0.48175271747955595, 'status': 'ok'}\n",
      "{'C': 4.501766876335124, 'class_weight': 'balanced', 'kernel': {'degree': 3.0, 'gamma': 0.62294530991493, 'kernel': 'poly'}, 'type': 'svc'}\n",
      "{'loss': 1.3665260373432844, 'accuracy': 0.44512537050388534, 'status': 'ok'}\n",
      "{'length_scale': 0.7477791341784563, 'type': 'gpc'}\n",
      "{'loss': 1.2515464453382203, 'accuracy': 0.4804608592009457, 'status': 'ok'}\n",
      "{'C': 4.078160939360578, 'class_weight': 'balanced', 'kernel': {'gamma': 0.08863108817442744, 'kernel': 'rbf'}, 'type': 'svc'}\n",
      "{'loss': 1.0999877178438244, 'accuracy': 0.5207376965104975, 'status': 'ok'}\n",
      "{'C': 4.6029813573844764, 'class_weight': 'balanced', 'kernel': {'kernel': 'linear'}, 'type': 'svc'}\n",
      "{'loss': 1.1786100431070747, 'accuracy': 0.5211207512487253, 'status': 'ok'}\n",
      "{'C': 4.371639849236844, 'class_weight': 'balanced', 'kernel': {'gamma': 0.011407375874824495, 'kernel': 'rbf'}, 'type': 'svc'}\n",
      "{'loss': 1.1363506798911454, 'accuracy': 0.5140636197661251, 'status': 'ok'}\n",
      "{'alpha': 0.9759713713975013, 'l1_ratio': 0.8910120865607798, 'penalty': 'l2', 'type': 'sgd'}\n",
      "{'loss': 1.3081127606511238, 'accuracy': 0.4425186835176922, 'status': 'ok'}\n",
      "{'C': 4.147139021072909, 'class_weight': 'balanced', 'kernel': {'gamma': 0.14225889668877015, 'kernel': 'rbf'}, 'type': 'svc'}\n",
      "{'loss': 1.110285854622242, 'accuracy': 0.5210367857042335, 'status': 'ok'}\n",
      "{'C': 4.602862594608094, 'class_weight': 'balanced', 'kernel': {'gamma': 0.04869481416514068, 'kernel': 'rbf'}, 'type': 'svc'}\n",
      "{'loss': 1.091648261339357, 'accuracy': 0.5277253077699184, 'status': 'ok'}\n",
      "{'class_weight': 'balanced', 'criterion': 'entropy', 'max_depth': 4.0, 'min_samples_leaf': 0.25342848557469244, 'n_estimators': 45.0, 'type': 'rfc'}\n",
      "{'loss': 1.2822112630600648, 'accuracy': 0.4649442498554791, 'status': 'ok'}\n",
      "{'C': 4.340647317510001, 'class_weight': 'balanced', 'kernel': {'gamma': 0.11299981960006525, 'kernel': 'rbf'}, 'type': 'svc'}\n",
      "{'loss': 1.1073690843563981, 'accuracy': 0.5123137060997551, 'status': 'ok'}\n",
      "{'C': 4.492980561704219, 'class_weight': None, 'kernel': {'gamma': 0.43801247753257117, 'kernel': 'sigmoid'}, 'type': 'svc'}\n",
      "{'loss': 1.3173462767018334, 'accuracy': 0.3518244948264775, 'status': 'ok'}\n",
      "{'C': 4.750692542718641, 'class_weight': 'balanced', 'kernel': {'gamma': 0.07746241018986824, 'kernel': 'rbf'}, 'type': 'svc'}\n",
      "{'loss': 1.0994028345074995, 'accuracy': 0.524118544463714, 'status': 'ok'}\n",
      "{'C': 4.024286907435796, 'class_weight': 'balanced', 'kernel': {'gamma': 0.1724571640598493, 'kernel': 'rbf'}, 'type': 'svc'}\n",
      "{'loss': 1.1143451987941306, 'accuracy': 0.5211281599732394, 'status': 'ok'}\n",
      "{'class_weight': 'balanced', 'criterion': 'gini', 'max_depth': 9.0, 'min_samples_leaf': 0.20083221995739828, 'type': 'dtc'}\n",
      "{'loss': 1.2779835557613524, 'accuracy': 0.42020580421806086, 'status': 'ok'}\n",
      "{'C': 0.320453672538709, 'class_weight': 'balanced', 'kernel': {'gamma': 0.026445402058191507, 'kernel': 'rbf'}, 'type': 'svc'}\n",
      "{'loss': 1.1872851270530664, 'accuracy': 0.43921476451216895, 'status': 'ok'}\n",
      "{'C': 4.673288993703518, 'class_weight': 'balanced', 'kernel': {'gamma': 0.059148779202234054, 'kernel': 'rbf'}, 'type': 'svc'}\n",
      "{'loss': 1.0929283194509767, 'accuracy': 0.5293938269560114, 'status': 'ok'}\n",
      "{'C': 4.418834394450203, 'class_weight': 'balanced', 'kernel': {'gamma': 0.0425978304983688, 'kernel': 'rbf'}, 'type': 'svc'}\n",
      "{'loss': 1.0897796403134428, 'accuracy': 0.5292755580021262, 'status': 'ok'}\n",
      "{'length_scale': 1.3218138713378305, 'type': 'gpc'}\n",
      "{'loss': 1.161925170189511, 'accuracy': 0.5317188809212963, 'status': 'ok'}\n",
      "{'C': 4.208270160338577, 'class_weight': 'balanced', 'kernel': {'gamma': 0.010239394530526497, 'kernel': 'rbf'}, 'type': 'svc'}\n",
      "{'loss': 1.141699951666482, 'accuracy': 0.5190860922205551, 'status': 'ok'}\n",
      "{'C': 4.119043571686136, 'class_weight': 'balanced', 'kernel': {'degree': 2.0, 'gamma': 0.5300171195797057, 'kernel': 'poly'}, 'type': 'svc'}\n",
      "{'loss': 1.3525924156738671, 'accuracy': 0.458135462878163, 'status': 'ok'}\n",
      "{'C': 4.256141919604347, 'class_weight': 'balanced', 'kernel': {'gamma': 0.09471782497958454, 'kernel': 'rbf'}, 'type': 'svc'}\n",
      "{'loss': 1.1037215794012243, 'accuracy': 0.517177855126215, 'status': 'ok'}\n",
      "{'alpha': 0.2035559339823358, 'l1_ratio': 0.7570685873040588, 'penalty': 'elasticnet', 'type': 'sgd'}\n",
      "{'loss': 1.3631009773531444, 'accuracy': 0.3230935626506102, 'status': 'ok'}\n",
      "{'C': 4.350832779099537, 'class_weight': 'balanced', 'kernel': {'gamma': 0.13187452743200243, 'kernel': 'rbf'}, 'type': 'svc'}\n",
      "{'loss': 1.1100597943733943, 'accuracy': 0.5193013173591761, 'status': 'ok'}\n",
      "{'C': 4.065893004879086, 'class_weight': 'balanced', 'kernel': {'gamma': 0.04091903870087668, 'kernel': 'rbf'}, 'type': 'svc'}\n",
      "{'loss': 1.0922424547150698, 'accuracy': 0.5275394468910151, 'status': 'ok'}\n",
      "{'class_weight': None, 'criterion': 'gini', 'max_depth': 5.0, 'min_samples_leaf': 0.484301806812662, 'n_estimators': 65.0, 'type': 'rfc'}\n",
      "{'loss': 1.3655321105904699, 'accuracy': 0.3230935626506102, 'status': 'ok'}\n",
      "{'C': 4.4411908105051205, 'class_weight': 'balanced', 'kernel': {'kernel': 'linear'}, 'type': 'svc'}\n",
      "{'loss': 1.180144451039276, 'accuracy': 0.5211207512487253, 'status': 'ok'}\n",
      "{'C': 3.9770577844220005, 'class_weight': 'balanced', 'kernel': {'gamma': 0.07250317962055516, 'kernel': 'rbf'}, 'type': 'svc'}\n",
      "{'loss': 1.0932595672121934, 'accuracy': 0.525945387077777, 'status': 'ok'}\n",
      "{'C': 4.213656029937684, 'class_weight': 'balanced', 'kernel': {'gamma': 0.01014037709744707, 'kernel': 'rbf'}, 'type': 'svc'}\n",
      "{'loss': 1.144870900267946, 'accuracy': 0.5190860922205551, 'status': 'ok'}\n",
      "{'C': 4.393980457873134, 'class_weight': None, 'kernel': {'gamma': 0.028699798641466504, 'kernel': 'rbf'}, 'type': 'svc'}\n",
      "{'loss': 1.105290125313294, 'accuracy': 0.5570483966302279, 'status': 'ok'}\n",
      "{'class_weight': None, 'criterion': 'entropy', 'max_depth': 5.0, 'min_samples_leaf': 0.31648269502941145, 'type': 'dtc'}\n",
      "{'loss': 1.2574643899400944, 'accuracy': 0.46152388870485483, 'status': 'ok'}\n",
      "{'C': 4.278090307894039, 'class_weight': 'balanced', 'kernel': {'gamma': 0.10614049921505883, 'kernel': 'rbf'}, 'type': 'svc'}\n",
      "{'loss': 1.1042373752487005, 'accuracy': 0.5139115210199384, 'status': 'ok'}\n",
      "{'C': 4.555369157635595, 'class_weight': 'balanced', 'kernel': {'gamma': 0.3212341333133988, 'kernel': 'sigmoid'}, 'type': 'svc'}\n",
      "{'loss': 1.302040900092386, 'accuracy': 0.3363397193155665, 'status': 'ok'}\n",
      "{'C': 4.128111357011746, 'class_weight': 'balanced', 'kernel': {'gamma': 0.0839084714672011, 'kernel': 'rbf'}, 'type': 'svc'}\n",
      "{'loss': 1.0988366749648937, 'accuracy': 0.5242099187327197, 'status': 'ok'}\n",
      "{'length_scale': 0.39934724742519956, 'type': 'gpc'}\n",
      "{'loss': 1.3655041600705071, 'accuracy': 0.3230935626506102, 'status': 'ok'}\n",
      "{'C': 4.320314464340171, 'class_weight': 'balanced', 'kernel': {'gamma': 0.1483217267722615, 'kernel': 'rbf'}, 'type': 'svc'}\n",
      "{'loss': 1.1126038786435504, 'accuracy': 0.5193006745931223, 'status': 'ok'}\n",
      "{'C': 4.455794286882242, 'class_weight': 'balanced', 'kernel': {'gamma': 0.040796128053914145, 'kernel': 'rbf'}, 'type': 'svc'}\n",
      "{'loss': 1.090456224678137, 'accuracy': 0.5292755580021262, 'status': 'ok'}\n",
      "{'C': 4.546419355937693, 'class_weight': 'balanced', 'kernel': {'gamma': 0.06304850483153651, 'kernel': 'rbf'}, 'type': 'svc'}\n",
      "{'loss': 1.093809617254699, 'accuracy': 0.5293938269560114, 'status': 'ok'}\n",
      "{'alpha': 0.6557512860904121, 'l1_ratio': 0.00038032432601697863, 'penalty': 'l1', 'type': 'sgd'}\n",
      "{'loss': 1.3667061430431195, 'accuracy': 0.3230935626506102, 'status': 'ok'}\n",
      "{'C': 1.9280080691104722, 'class_weight': 'balanced', 'kernel': {'gamma': 0.028951269507963284, 'kernel': 'rbf'}, 'type': 'svc'}\n",
      "{'loss': 1.1158012298427142, 'accuracy': 0.5158197581142787, 'status': 'ok'}\n",
      "{'C': 4.21332029961716, 'class_weight': 'balanced', 'kernel': {'degree': 4.0, 'gamma': 0.9982920302668874, 'kernel': 'poly'}, 'type': 'svc'}\n",
      "{'loss': 1.365075372756427, 'accuracy': 0.3899533433036497, 'status': 'ok'}\n",
      "{'C': 4.3900535151046185, 'class_weight': 'balanced', 'kernel': {'gamma': 0.11855784983855991, 'kernel': 'rbf'}, 'type': 'svc'}\n",
      "{'loss': 1.1060841872314298, 'accuracy': 0.5140491744448126, 'status': 'ok'}\n",
      "{'class_weight': 'balanced', 'criterion': 'entropy', 'max_depth': 8.0, 'min_samples_leaf': 0.16140344270322748, 'n_estimators': 5.0, 'type': 'rfc'}\n",
      "{'loss': 1.2655210385312086, 'accuracy': 0.4456923578228553, 'status': 'ok'}\n",
      "{'C': 4.502734883677936, 'class_weight': 'balanced', 'kernel': {'gamma': 0.09116794952071278, 'kernel': 'rbf'}, 'type': 'svc'}\n",
      "{'loss': 1.1008028137761783, 'accuracy': 0.517154072782227, 'status': 'ok'}\n",
      "{'C': 4.58672539320421, 'class_weight': 'balanced', 'kernel': {'gamma': 0.8350369425113906, 'kernel': 'rbf'}, 'type': 'svc'}\n",
      "{'loss': 1.218260527429782, 'accuracy': 0.4781039714011055, 'status': 'ok'}\n",
      "{'class_weight': 'balanced', 'criterion': 'gini', 'max_depth': 20.0, 'min_samples_leaf': 0.25237281467141004, 'type': 'dtc'}\n",
      "{'loss': 1.2640806125965516, 'accuracy': 0.42360667940831964, 'status': 'ok'}\n",
      "{'C': 4.0445311534885215, 'class_weight': 'balanced', 'kernel': {'kernel': 'linear'}, 'type': 'svc'}\n",
      "{'loss': 1.1773333950761444, 'accuracy': 0.5211207512487253, 'status': 'ok'}\n",
      "{'C': 4.319445767186914, 'class_weight': None, 'kernel': {'gamma': 0.047680289191674746, 'kernel': 'rbf'}, 'type': 'svc'}\n",
      "{'loss': 1.0978364599429635, 'accuracy': 0.5636229461256498, 'status': 'ok'}\n",
      "{'C': 4.650231139263217, 'class_weight': 'balanced', 'kernel': {'gamma': 0.40459858227604323, 'kernel': 'rbf'}, 'type': 'svc'}\n",
      "{'loss': 1.1567666277886235, 'accuracy': 0.47483334091120677, 'status': 'ok'}\n",
      "{'C': 4.392217137230057, 'class_weight': 'balanced', 'kernel': {'gamma': 0.01065102479026888, 'kernel': 'rbf'}, 'type': 'svc'}\n",
      "{'loss': 1.1386937284086187, 'accuracy': 0.5191098745645429, 'status': 'ok'}\n",
      "{'length_scale': 2.1514533190493674, 'type': 'gpc'}\n",
      "{'loss': 1.1607664894203253, 'accuracy': 0.5334549920324073, 'status': 'ok'}\n",
      "{'C': 0.1625047680978134, 'class_weight': 'balanced', 'kernel': {'gamma': 0.07090793176995651, 'kernel': 'rbf'}, 'type': 'svc'}\n",
      "{'loss': 1.1817544557363462, 'accuracy': 0.45273751355898073, 'status': 'ok'}\n",
      "{'C': 4.164391818359252, 'class_weight': 'balanced', 'kernel': {'gamma': 0.14590015377298882, 'kernel': 'sigmoid'}, 'type': 'svc'}\n",
      "{'loss': 1.2974606320805178, 'accuracy': 0.33929881124816236, 'status': 'ok'}\n",
      "{'C': 4.4948737343666805, 'class_weight': 'balanced', 'kernel': {'gamma': 0.01068936387621815, 'kernel': 'rbf'}, 'type': 'svc'}\n",
      "{'loss': 1.14074320999725, 'accuracy': 0.5157528089553144, 'status': 'ok'}\n",
      "{'alpha': 0.39615282677823277, 'l1_ratio': 0.18528062966354053, 'penalty': 'l2', 'type': 'sgd'}\n",
      "{'loss': 1.268364544627257, 'accuracy': 0.44279656143165513, 'status': 'ok'}\n",
      "{'C': 4.677104736054558, 'class_weight': 'balanced', 'kernel': {'gamma': 0.16382106593943851, 'kernel': 'rbf'}, 'type': 'svc'}\n",
      "{'loss': 1.1137852571430278, 'accuracy': 0.5210599252821675, 'status': 'ok'}\n",
      "{'C': 0.2373156064819211, 'class_weight': 'balanced', 'kernel': {'gamma': 0.13168786944181649, 'kernel': 'rbf'}, 'type': 'svc'}\n",
      "{'loss': 1.1499002359256925, 'accuracy': 0.47846571337018345, 'status': 'ok'}\n",
      "{'class_weight': None, 'criterion': 'gini', 'max_depth': 7.0, 'min_samples_leaf': 0.13040005101782928, 'n_estimators': 15.0, 'type': 'rfc'}\n",
      "{'loss': 1.2430330122458608, 'accuracy': 0.4547421655613797, 'status': 'ok'}\n",
      "{'C': 4.466685215331437, 'class_weight': 'balanced', 'kernel': {'gamma': 0.6539277315263633, 'kernel': 'rbf'}, 'type': 'svc'}\n",
      "{'loss': 1.1921621218566656, 'accuracy': 0.48143789743239995, 'status': 'ok'}\n",
      "{'C': 4.266237439143593, 'class_weight': 'balanced', 'kernel': {'gamma': 0.052681448030903376, 'kernel': 'rbf'}, 'type': 'svc'}\n",
      "{'loss': 1.0935700605451228, 'accuracy': 0.5277253077699184, 'status': 'ok'}\n",
      "{'C': 4.6208005938061945, 'class_weight': 'balanced', 'kernel': {'gamma': 0.10318838742075193, 'kernel': 'rbf'}, 'type': 'svc'}\n",
      "{'loss': 1.105655212112327, 'accuracy': 0.5156476321310495, 'status': 'ok'}\n",
      "{'class_weight': None, 'criterion': 'entropy', 'max_depth': 3.0, 'min_samples_leaf': 0.15053719265891619, 'type': 'dtc'}\n",
      "{'loss': 1.34761550598904, 'accuracy': 0.434558973176493, 'status': 'ok'}\n",
      "{'C': 3.962823348393181, 'class_weight': 'balanced', 'kernel': {'degree': 3.0, 'gamma': 0.8326156793200961, 'kernel': 'poly'}, 'type': 'svc'}\n",
      "{'loss': 1.3513216694151842, 'accuracy': 0.4401704899744734, 'status': 'ok'}\n",
      "{'C': 0.4861848461508424, 'class_weight': 'balanced', 'kernel': {'gamma': 0.07857265425507817, 'kernel': 'rbf'}, 'type': 'svc'}\n",
      "{'loss': 1.1318370421621426, 'accuracy': 0.4920717851954334, 'status': 'ok'}\n",
      "{'C': 4.726652368234131, 'class_weight': None, 'kernel': {'gamma': 0.02701995609269664, 'kernel': 'rbf'}, 'type': 'svc'}\n",
      "{'loss': 1.1053341443189475, 'accuracy': 0.5570483966302279, 'status': 'ok'}\n",
      "{'C': 4.5868364008871065, 'class_weight': 'balanced', 'kernel': {'gamma': 0.04148767522174605, 'kernel': 'rbf'}, 'type': 'svc'}\n",
      "{'loss': 1.0914206887158808, 'accuracy': 0.5292755580021262, 'status': 'ok'}\n",
      "{'C': 4.413624068113662, 'class_weight': 'balanced', 'kernel': {'kernel': 'linear'}, 'type': 'svc'}\n",
      "{'loss': 1.1817880925547106, 'accuracy': 0.5211207512487253, 'status': 'ok'}\n",
      "{'C': 4.291754202631678, 'class_weight': 'balanced', 'kernel': {'gamma': 0.10981748969002553, 'kernel': 'rbf'}, 'type': 'svc'}\n",
      "{'loss': 1.1043824181934538, 'accuracy': 0.5157390064000554, 'status': 'ok'}\n",
      "{'length_scale': 5.595767317122749, 'type': 'gpc'}\n",
      "{'loss': 1.1523568322898665, 'accuracy': 0.5368095880667979, 'status': 'ok'}\n",
      "{'C': 3.8557082736638617, 'class_weight': 'balanced', 'kernel': {'gamma': 0.058112763665046065, 'kernel': 'rbf'}, 'type': 'svc'}\n",
      "{'loss': 1.0911084638416038, 'accuracy': 0.5225883214685486, 'status': 'ok'}\n",
      "{'alpha': 0.16647314722586265, 'l1_ratio': 0.21545378197447035, 'penalty': 'elasticnet', 'type': 'sgd'}\n",
      "{'loss': 1.2744747821337077, 'accuracy': 0.4548079306776134, 'status': 'ok'}\n",
      "{'C': 4.7485889041204805, 'class_weight': 'balanced', 'kernel': {'gamma': 0.010878044939885787, 'kernel': 'rbf'}, 'type': 'svc'}\n",
      "{'loss': 1.133658118600042, 'accuracy': 0.5157759485332485, 'status': 'ok'}\n",
      "{'C': 4.533104645678778, 'class_weight': 'balanced', 'kernel': {'gamma': 0.5148358098285423, 'kernel': 'sigmoid'}, 'type': 'svc'}\n",
      "{'loss': 1.3064777036382313, 'accuracy': 0.30749481456943606, 'status': 'ok'}\n",
      "{'C': 4.1305489743224815, 'class_weight': 'balanced', 'kernel': {'gamma': 0.08502988304004794, 'kernel': 'rbf'}, 'type': 'svc'}\n",
      "{'loss': 1.0990112787711128, 'accuracy': 0.5224268856996866, 'status': 'ok'}\n",
      "{'class_weight': 'balanced', 'criterion': 'entropy', 'max_depth': 10.0, 'min_samples_leaf': 0.1428801497787942, 'n_estimators': 35.0, 'type': 'rfc'}\n",
      "{'loss': 1.2627710314237932, 'accuracy': 0.45293095231135966, 'status': 'ok'}\n",
      "{'C': 4.651284408421717, 'class_weight': 'balanced', 'kernel': {'gamma': 0.18280342019941653, 'kernel': 'rbf'}, 'type': 'svc'}\n",
      "{'loss': 1.114267721730879, 'accuracy': 0.5311086252979728, 'status': 'ok'}\n",
      "{'C': 4.346827336978116, 'class_weight': 'balanced', 'kernel': {'gamma': 0.12286524799986501, 'kernel': 'rbf'}, 'type': 'svc'}\n",
      "{'loss': 1.1077982544538982, 'accuracy': 0.5158290951369539, 'status': 'ok'}\n",
      "{'C': 4.209772304171232, 'class_weight': 'balanced', 'kernel': {'gamma': 0.15055925203898463, 'kernel': 'rbf'}, 'type': 'svc'}\n",
      "{'loss': 1.1123203158036392, 'accuracy': 0.5193006745931223, 'status': 'ok'}\n",
      "{'class_weight': 'balanced', 'criterion': 'gini', 'max_depth': 8.0, 'min_samples_leaf': 0.39856071692704786, 'type': 'dtc'}\n",
      "{'loss': 1.2776801652007248, 'accuracy': 0.46152388870485483, 'status': 'ok'}\n",
      "{'C': 4.520871394723699, 'class_weight': 'balanced', 'kernel': {'gamma': 0.03586336531476224, 'kernel': 'rbf'}, 'type': 'svc'}\n",
      "{'loss': 1.0959917647256117, 'accuracy': 0.5241823812817865, 'status': 'ok'}\n",
      "{'C': 4.823295982007034, 'class_weight': 'balanced', 'kernel': {'degree': 2.0, 'gamma': 0.6804112491729365, 'kernel': 'poly'}, 'type': 'svc'}\n",
      "{'loss': 1.3501621202117702, 'accuracy': 0.46820794523795606, 'status': 'ok'}\n",
      "{'C': 4.432433854465054, 'class_weight': None, 'kernel': {'gamma': 0.06524565573777853, 'kernel': 'rbf'}, 'type': 'svc'}\n",
      "{'loss': 1.0995454350172102, 'accuracy': 0.5669562293908905, 'status': 'ok'}\n",
      "{'length_scale': 6.502894506585762, 'type': 'gpc'}\n",
      "{'loss': 1.1562311609755547, 'accuracy': 0.5317188809212963, 'status': 'ok'}\n",
      "{'C': 4.72370610094273, 'class_weight': 'balanced', 'kernel': {'gamma': 0.011904840746852087, 'kernel': 'rbf'}, 'type': 'svc'}\n",
      "{'loss': 1.1296540047276047, 'accuracy': 0.5242030512848825, 'status': 'ok'}\n",
      "{'C': 4.654569121860233, 'class_weight': 'balanced', 'kernel': {'gamma': 0.010139503455051001, 'kernel': 'rbf'}, 'type': 'svc'}\n",
      "{'loss': 1.1434206725904137, 'accuracy': 0.5191098745645429, 'status': 'ok'}\n",
      "{'C': 0.28306715047309944, 'class_weight': 'balanced', 'kernel': {'kernel': 'linear'}, 'type': 'svc'}\n",
      "{'loss': 1.1695645799265135, 'accuracy': 0.5140417657202985, 'status': 'ok'}\n",
      "{'C': 4.56396779761865, 'class_weight': 'balanced', 'kernel': {'gamma': 0.4527782483107373, 'kernel': 'rbf'}, 'type': 'svc'}\n",
      "{'loss': 1.1652476471320914, 'accuracy': 0.4712935267639665, 'status': 'ok'}\n",
      "{'alpha': 0.7081995010220914, 'l1_ratio': 0.29436678856095433, 'penalty': 'l1', 'type': 'sgd'}\n",
      "{'loss': 1.3680855863763068, 'accuracy': 0.3230935626506102, 'status': 'ok'}\n",
      "{'C': 4.054949765409727, 'class_weight': 'balanced', 'kernel': {'gamma': 0.09436346015047763, 'kernel': 'rbf'}, 'type': 'svc'}\n",
      "{'loss': 1.1027004304967072, 'accuracy': 0.5206025126604614, 'status': 'ok'}\n",
      "{'C': 4.447204815647737, 'class_weight': 'balanced', 'kernel': {'gamma': 0.04833958590487046, 'kernel': 'rbf'}, 'type': 'svc'}\n",
      "{'loss': 1.089089269317093, 'accuracy': 0.5294376365370417, 'status': 'ok'}\n",
      "{'class_weight': None, 'criterion': 'gini', 'max_depth': 6.0, 'min_samples_leaf': 0.496005783154156, 'n_estimators': 25.0, 'type': 'rfc'}\n",
      "{'loss': 1.3655837202981203, 'accuracy': 0.3230935626506102, 'status': 'ok'}\n",
      "{'C': 4.793887890768775, 'class_weight': 'balanced', 'kernel': {'gamma': 0.06752631556036534, 'kernel': 'rbf'}, 'type': 'svc'}\n",
      "{'loss': 1.0950874834491313, 'accuracy': 0.5310385637981168, 'status': 'ok'}\n",
      "{'C': 4.847717147120365, 'class_weight': 'balanced', 'kernel': {'gamma': 0.8431334949219754, 'kernel': 'sigmoid'}, 'type': 'svc'}\n",
      "{'loss': 1.3289021918419337, 'accuracy': 0.29189799478642303, 'status': 'ok'}\n",
      "{'C': 4.322902844583015, 'class_weight': 'balanced', 'kernel': {'gamma': 0.1261807854274727, 'kernel': 'rbf'}, 'type': 'svc'}\n",
      "{'loss': 1.1088517465911298, 'accuracy': 0.5141167663698305, 'status': 'ok'}\n",
      "{'class_weight': None, 'criterion': 'entropy', 'max_depth': 15.0, 'min_samples_leaf': 0.26589629056487335, 'type': 'dtc'}\n",
      "{'loss': 1.2531475542040889, 'accuracy': 0.46152388870485483, 'status': 'ok'}\n",
      "{'C': 4.622056932842006, 'class_weight': 'balanced', 'kernel': {'gamma': 0.0962054598006939, 'kernel': 'rbf'}, 'type': 'svc'}\n",
      "{'loss': 1.1023831464522753, 'accuracy': 0.5156476321310495, 'status': 'ok'}\n",
      "{'C': 4.490743711817854, 'class_weight': 'balanced', 'kernel': {'gamma': 0.02773531606646961, 'kernel': 'rbf'}, 'type': 'svc'}\n",
      "{'loss': 1.1021973872070683, 'accuracy': 0.526148805618885, 'status': 'ok'}\n",
      "{'C': 4.691786606900515, 'class_weight': 'balanced', 'kernel': {'gamma': 0.07628255461584366, 'kernel': 'rbf'}, 'type': 'svc'}\n",
      "{'loss': 1.0983764671547627, 'accuracy': 0.525854655574825, 'status': 'ok'}\n",
      "{'length_scale': 2.3647246884520863, 'type': 'gpc'}\n",
      "{'loss': 1.1551122501768158, 'accuracy': 0.5334312096884195, 'status': 'ok'}\n",
      "{'C': 4.755030572465389, 'class_weight': None, 'kernel': {'gamma': 0.15217274805977277, 'kernel': 'rbf'}, 'type': 'svc'}\n",
      "{'loss': 1.1158371986543707, 'accuracy': 0.5332077639102694, 'status': 'ok'}\n",
      "{'C': 4.197519996166945, 'class_weight': 'balanced', 'kernel': {'degree': 5.0, 'gamma': 0.011177879885796493, 'kernel': 'poly'}, 'type': 'svc'}\n",
      "{'loss': 1.3985007207384919, 'accuracy': 0.1880127919917033, 'status': 'ok'}\n",
      "{'C': 4.869547277807197, 'class_weight': 'balanced', 'kernel': {'gamma': 0.9003941303030758, 'kernel': 'rbf'}, 'type': 'svc'}\n",
      "{'loss': 1.2282701459142475, 'accuracy': 0.46622907153729076, 'status': 'ok'}\n",
      "{'C': 4.3475401177295545, 'class_weight': 'balanced', 'kernel': {'gamma': 0.04987393419266273, 'kernel': 'rbf'}, 'type': 'svc'}\n",
      "{'loss': 1.0924077208952574, 'accuracy': 0.5277253077699184, 'status': 'ok'}\n",
      "{'alpha': 0.8185215192076647, 'l1_ratio': 0.654190376141818, 'penalty': 'l2', 'type': 'sgd'}\n",
      "{'loss': 1.3006983081950259, 'accuracy': 0.44247487393666196, 'status': 'ok'}\n",
      "{'C': 4.550887115775731, 'class_weight': 'balanced', 'kernel': {'gamma': 0.010339098424422058, 'kernel': 'rbf'}, 'type': 'svc'}\n",
      "{'loss': 1.1420950173581241, 'accuracy': 0.5191098745645429, 'status': 'ok'}\n",
      "{'C': 4.426407998909019, 'class_weight': 'balanced', 'kernel': {'kernel': 'linear'}, 'type': 'svc'}\n",
      "{'loss': 1.1831798318523463, 'accuracy': 0.5211207512487253, 'status': 'ok'}\n",
      "{'class_weight': 'balanced', 'criterion': 'entropy', 'max_depth': 4.0, 'min_samples_leaf': 0.2419333480013099, 'n_estimators': 40.0, 'type': 'rfc'}\n",
      "{'loss': 1.2836705650501852, 'accuracy': 0.4477939660099898, 'status': 'ok'}\n",
      "{'C': 4.72259773017196, 'class_weight': 'balanced', 'kernel': {'gamma': 0.10320665330465195, 'kernel': 'rbf'}, 'type': 'svc'}\n",
      "{'loss': 1.1050051094487632, 'accuracy': 0.5156238497870618, 'status': 'ok'}\n",
      "{'C': 4.249033297724992, 'class_weight': 'balanced', 'kernel': {'gamma': 0.9654476642229933, 'kernel': 'rbf'}, 'type': 'svc'}\n",
      "{'loss': 1.2277061192080314, 'accuracy': 0.46800963499548576, 'status': 'ok'}\n",
      "{'class_weight': 'balanced', 'criterion': 'gini', 'max_depth': 11.0, 'min_samples_leaf': 0.08646202455683977, 'type': 'dtc'}\n",
      "{'loss': 1.2592146672426399, 'accuracy': 0.422115157695547, 'status': 'ok'}\n",
      "{'C': 4.613598541793033, 'class_weight': 'balanced', 'kernel': {'gamma': 0.18996032850685535, 'kernel': 'rbf'}, 'type': 'svc'}\n",
      "{'loss': 1.1151718667065085, 'accuracy': 0.5328447364090839, 'status': 'ok'}\n",
      "{'C': 3.0390127509105236, 'class_weight': 'balanced', 'kernel': {'gamma': 0.7718569777003086, 'kernel': 'rbf'}, 'type': 'svc'}\n",
      "{'loss': 1.1950637962057054, 'accuracy': 0.476459877325054, 'status': 'ok'}\n",
      "{'C': 4.884222006819424, 'class_weight': 'balanced', 'kernel': {'gamma': 0.780827035335942, 'kernel': 'sigmoid'}, 'type': 'svc'}\n",
      "{'loss': 1.3361523072616883, 'accuracy': 0.2919198488322497, 'status': 'ok'}\n",
      "{'C': 4.444471918020826, 'class_weight': 'balanced', 'kernel': {'gamma': 0.02742877727716857, 'kernel': 'rbf'}, 'type': 'svc'}\n",
      "{'loss': 1.1031397208834077, 'accuracy': 0.5244364768517616, 'status': 'ok'}\n",
      "{'C': 4.135695668914679, 'class_weight': 'balanced', 'kernel': {'gamma': 0.13216135439132976, 'kernel': 'rbf'}, 'type': 'svc'}\n",
      "{'loss': 1.110461705691376, 'accuracy': 0.5193013173591761, 'status': 'ok'}\n",
      "{'length_scale': 3.678931242156268, 'type': 'gpc'}\n",
      "{'loss': 1.1523567781354829, 'accuracy': 0.5368095880667979, 'status': 'ok'}\n",
      "{'C': 4.535081757004511, 'class_weight': None, 'kernel': {'gamma': 0.07983307082629906, 'kernel': 'rbf'}, 'type': 'svc'}\n",
      "{'loss': 1.102699842320409, 'accuracy': 0.5668710798036681, 'status': 'ok'}\n",
      "{'C': 0.8502691019707673, 'class_weight': 'balanced', 'kernel': {'gamma': 0.051876949277664716, 'kernel': 'rbf'}, 'type': 'svc'}\n",
      "{'loss': 1.1210013971978845, 'accuracy': 0.5089460179357439, 'status': 'ok'}\n",
      "{'C': 4.792169273983845, 'class_weight': 'balanced', 'kernel': {'gamma': 0.8017079481394676, 'kernel': 'rbf'}, 'type': 'svc'}\n",
      "{'loss': 1.2153414938567706, 'accuracy': 0.4797931605902947, 'status': 'ok'}\n",
      "{'alpha': 0.7520001141807711, 'l1_ratio': 0.25815663818437673, 'penalty': 'elasticnet', 'type': 'sgd'}\n",
      "{'loss': 1.3689414954627566, 'accuracy': 0.3230935626506102, 'status': 'ok'}\n",
      "{'C': 49.08268022565253, 'class_weight': 'balanced', 'kernel': {'gamma': 0.10931538455995812, 'kernel': 'rbf'}, 'type': 'svc'}\n",
      "{'loss': 1.1392878168004978, 'accuracy': 0.4947942715606739, 'status': 'ok'}\n",
      "{'C': 4.646644720725857, 'class_weight': 'balanced', 'kernel': {'degree': 3.0, 'gamma': 0.3103529583254453, 'kernel': 'poly'}, 'type': 'svc'}\n",
      "{'loss': 1.3565502877941626, 'accuracy': 0.44061227323213625, 'status': 'ok'}\n",
      "{'class_weight': None, 'criterion': 'gini', 'max_depth': 3.0, 'min_samples_leaf': 0.3079203580408368, 'n_estimators': 60.0, 'type': 'rfc'}\n",
      "{'loss': 1.3474782584919893, 'accuracy': 0.3230935626506102, 'status': 'ok'}\n",
      "{'C': 3.978075002407364, 'class_weight': 'balanced', 'kernel': {'gamma': 0.1671333609228038, 'kernel': 'rbf'}, 'type': 'svc'}\n",
      "{'loss': 1.1127681152520363, 'accuracy': 0.5210367857042334, 'status': 'ok'}\n",
      "{'C': 4.357815141467626, 'class_weight': 'balanced', 'kernel': {'gamma': 0.060773853269022966, 'kernel': 'rbf'}, 'type': 'svc'}\n",
      "{'loss': 1.0931427293781455, 'accuracy': 0.5311299380671226, 'status': 'ok'}\n",
      "{'class_weight': None, 'criterion': 'entropy', 'max_depth': 14.0, 'min_samples_leaf': 0.07303831655524953, 'type': 'dtc'}\n",
      "{'loss': 1.339918921106846, 'accuracy': 0.4274123957230482, 'status': 'ok'}\n",
      "{'C': 4.490891714909087, 'class_weight': 'balanced', 'kernel': {'gamma': 0.010307574946310676, 'kernel': 'rbf'}, 'type': 'svc'}\n",
      "{'loss': 1.139986529753579, 'accuracy': 0.5191098745645429, 'status': 'ok'}\n",
      "{'C': 0.9483930092678639, 'class_weight': 'balanced', 'kernel': {'kernel': 'linear'}, 'type': 'svc'}\n",
      "{'loss': 1.1757924148837555, 'accuracy': 0.5245247387798758, 'status': 'ok'}\n",
      "{'C': 4.924199977389348, 'class_weight': 'balanced', 'kernel': {'gamma': 0.035235798099574035, 'kernel': 'rbf'}, 'type': 'svc'}\n",
      "{'loss': 1.0929440878688144, 'accuracy': 0.5224224878266875, 'status': 'ok'}\n",
      "{'C': 0.762813674555449, 'class_weight': 'balanced', 'kernel': {'gamma': 0.010322697657497566, 'kernel': 'rbf'}, 'type': 'svc'}\n",
      "{'loss': 1.1945766982946835, 'accuracy': 0.44083324943544844, 'status': 'ok'}\n",
      "{'C': 4.268076396059911, 'class_weight': 'balanced', 'kernel': {'gamma': 0.08364833399302685, 'kernel': 'rbf'}, 'type': 'svc'}\n",
      "{'loss': 1.096907599630925, 'accuracy': 0.5207376965104975, 'status': 'ok'}\n",
      "{'length_scale': 5.248444663999029, 'type': 'gpc'}\n",
      "{'loss': 1.1523568310060397, 'accuracy': 0.5368095880667979, 'status': 'ok'}\n",
      "{'C': 1.4570079868648445, 'class_weight': 'balanced', 'kernel': {'gamma': 0.21086135865264016, 'kernel': 'rbf'}, 'type': 'svc'}\n",
      "{'loss': 1.1188805535264996, 'accuracy': 0.5207364109783901, 'status': 'ok'}\n",
      "{'C': 4.880860251963634, 'class_weight': None, 'kernel': {'gamma': 0.4725812615061686, 'kernel': 'sigmoid'}, 'type': 'svc'}\n",
      "{'loss': 1.3171725857615328, 'accuracy': 0.35700529070887754, 'status': 'ok'}\n",
      "{'C': 1.7139185428608914, 'class_weight': 'balanced', 'kernel': {'gamma': 0.04548960886709569, 'kernel': 'rbf'}, 'type': 'svc'}\n",
      "{'loss': 1.1031638824174783, 'accuracy': 0.5241147893567685, 'status': 'ok'}\n",
      "{'alpha': 0.8873907716812794, 'l1_ratio': 0.6114217086757845, 'penalty': 'l1', 'type': 'sgd'}\n",
      "{'loss': 1.3693403628840413, 'accuracy': 0.3230935626506102, 'status': 'ok'}\n",
      "{'C': 12.919051048766596, 'class_weight': 'balanced', 'kernel': {'gamma': 0.13964781218240993, 'kernel': 'rbf'}, 'type': 'svc'}\n",
      "{'loss': 1.1184806819448538, 'accuracy': 0.522451852086405, 'status': 'ok'}\n",
      "{'C': 4.7189635331503785, 'class_weight': 'balanced', 'kernel': {'gamma': 0.010099829111189961, 'kernel': 'rbf'}, 'type': 'svc'}\n",
      "{'loss': 1.1415106457447601, 'accuracy': 0.5174206853753537, 'status': 'ok'}\n",
      "{'class_weight': 'balanced', 'criterion': 'entropy', 'max_depth': 9.0, 'min_samples_leaf': 0.27710869908451063, 'n_estimators': 70.0, 'type': 'rfc'}\n",
      "{'loss': 1.3094149713724432, 'accuracy': 0.45300294210937686, 'status': 'ok'}\n",
      "{'C': 4.575359792346212, 'class_weight': 'balanced', 'kernel': {'gamma': 0.1160182050053939, 'kernel': 'rbf'}, 'type': 'svc'}\n",
      "{'loss': 1.105937239138787, 'accuracy': 0.5157615032119358, 'status': 'ok'}\n",
      "{'C': 4.804731745921828, 'class_weight': 'balanced', 'kernel': {'gamma': 0.06771072449761563, 'kernel': 'rbf'}, 'type': 'svc'}\n",
      "{'loss': 1.0967728326294583, 'accuracy': 0.5310385637981168, 'status': 'ok'}\n",
      "{'class_weight': 'balanced', 'criterion': 'gini', 'max_depth': 9.0, 'min_samples_leaf': 0.3684430612578619, 'type': 'dtc'}\n",
      "{'loss': 1.2776801652007248, 'accuracy': 0.46152388870485483, 'status': 'ok'}\n",
      "{'C': 4.349052526515612, 'class_weight': 'balanced', 'kernel': {'degree': 4.0, 'gamma': 0.7356661224606331, 'kernel': 'poly'}, 'type': 'svc'}\n",
      "{'loss': 1.3599552717257075, 'accuracy': 0.40827017987706526, 'status': 'ok'}\n",
      "{'C': 20.488103808518076, 'class_weight': 'balanced', 'kernel': {'gamma': 0.9948909222362138, 'kernel': 'rbf'}, 'type': 'svc'}\n",
      "{'loss': 1.283150483434649, 'accuracy': 0.44914583834014254, 'status': 'ok'}\n",
      "{'C': 2.032774732792237, 'class_weight': 'balanced', 'kernel': {'gamma': 0.01011663690650088, 'kernel': 'rbf'}, 'type': 'svc'}\n",
      "{'loss': 1.15812288645059, 'accuracy': 0.5121654301200984, 'status': 'ok'}\n",
      "{'C': 4.4709103746641725, 'class_weight': 'balanced', 'kernel': {'kernel': 'linear'}, 'type': 'svc'}\n",
      "{'loss': 1.1788490025890885, 'accuracy': 0.5211207512487253, 'status': 'ok'}\n",
      "{'C': 4.714901146616293, 'class_weight': 'balanced', 'kernel': {'gamma': 0.09639995397993897, 'kernel': 'rbf'}, 'type': 'svc'}\n",
      "{'loss': 1.1057209294833976, 'accuracy': 0.5156476321310495, 'status': 'ok'}\n",
      "{'length_scale': 2.6069911611008822, 'type': 'gpc'}\n",
      "{'loss': 1.1569697051494265, 'accuracy': 0.5317188809212963, 'status': 'ok'}\n",
      "{'C': 4.6294243928243315, 'class_weight': 'balanced', 'kernel': {'gamma': 0.03503710690074136, 'kernel': 'rbf'}, 'type': 'svc'}\n",
      "{'loss': 1.0931828528396603, 'accuracy': 0.520825315672558, 'status': 'ok'}\n",
      "{'C': 4.091828306428066, 'class_weight': 'balanced', 'kernel': {'gamma': 0.48244520145422437, 'kernel': 'rbf'}, 'type': 'svc'}\n",
      "{'loss': 1.1656968573211122, 'accuracy': 0.4696043375747774, 'status': 'ok'}\n",
      "{'C': 4.202340312495909, 'class_weight': None, 'kernel': {'gamma': 0.07325080273731198, 'kernel': 'rbf'}, 'type': 'svc'}\n",
      "{'loss': 1.1040366401359616, 'accuracy': 0.5687423747648153, 'status': 'ok'}\n",
      "{'alpha': 0.7915341104519042, 'l1_ratio': 0.49327182215722953, 'penalty': 'l2', 'type': 'sgd'}\n",
      "{'loss': 1.2987650172834655, 'accuracy': 0.4187044042059363, 'status': 'ok'}\n",
      "{'C': 4.540855723359225, 'class_weight': 'balanced', 'kernel': {'gamma': 0.38364191742703607, 'kernel': 'sigmoid'}, 'type': 'svc'}\n",
      "{'loss': 1.3106547086637406, 'accuracy': 0.32620211460559334, 'status': 'ok'}\n",
      "{'C': 4.96103379535153, 'class_weight': 'balanced', 'kernel': {'gamma': 0.028351126877958877, 'kernel': 'rbf'}, 'type': 'svc'}\n",
      "{'loss': 1.096464849223445, 'accuracy': 0.5228148795875904, 'status': 'ok'}\n",
      "{'class_weight': None, 'criterion': 'gini', 'max_depth': 2.0, 'min_samples_leaf': 0.2981572226295801, 'n_estimators': 20.0, 'type': 'rfc'}\n",
      "{'loss': 1.3292044176993074, 'accuracy': 0.3656809071147571, 'status': 'ok'}\n",
      "{'C': 0.40941557863935923, 'class_weight': 'balanced', 'kernel': {'gamma': 0.05597872324388961, 'kernel': 'rbf'}, 'type': 'svc'}\n",
      "{'loss': 1.1473548167132244, 'accuracy': 0.4783925395294357, 'status': 'ok'}\n",
      "{'C': 4.810647426349725, 'class_weight': 'balanced', 'kernel': {'gamma': 0.08840153817549928, 'kernel': 'rbf'}, 'type': 'svc'}\n",
      "{'loss': 1.1007293373373395, 'accuracy': 0.5154886659370257, 'status': 'ok'}\n",
      "{'C': 4.422437361019132, 'class_weight': 'balanced', 'kernel': {'gamma': 0.12063308968208009, 'kernel': 'rbf'}, 'type': 'svc'}\n",
      "{'loss': 1.1073814981035386, 'accuracy': 0.517473831979059, 'status': 'ok'}\n",
      "{'class_weight': None, 'criterion': 'entropy', 'max_depth': 19.0, 'min_samples_leaf': 0.3352034667276879, 'type': 'dtc'}\n",
      "{'loss': 1.2574643899400944, 'accuracy': 0.46152388870485483, 'status': 'ok'}\n",
      "{'C': 4.306698211634974, 'class_weight': 'balanced', 'kernel': {'gamma': 0.15424437934434174, 'kernel': 'rbf'}, 'type': 'svc'}\n",
      "{'loss': 1.1107724386071136, 'accuracy': 0.5193006745931223, 'status': 'ok'}\n",
      "{'C': 4.663401735409515, 'class_weight': 'balanced', 'kernel': {'gamma': 0.026887179459522816, 'kernel': 'rbf'}, 'type': 'svc'}\n",
      "{'loss': 1.1044245544167035, 'accuracy': 0.5244364768517616, 'status': 'ok'}\n",
      "{'C': 5.012334943266343, 'class_weight': 'balanced', 'kernel': {'degree': 3.0, 'gamma': 0.3756340481669087, 'kernel': 'poly'}, 'type': 'svc'}\n",
      "{'loss': 1.3634117074505991, 'accuracy': 0.4765092688218139, 'status': 'ok'}\n",
      "{'C': 4.8656950678622914, 'class_weight': 'balanced', 'kernel': {'gamma': 0.0583744377089167, 'kernel': 'rbf'}, 'type': 'svc'}\n",
      "{'loss': 1.0917231504659797, 'accuracy': 0.5311061557231348, 'status': 'ok'}\n",
      "{'length_scale': 4.8553959512076545, 'type': 'gpc'}\n",
      "{'loss': 1.1523568248913936, 'accuracy': 0.5368095880667979, 'status': 'ok'}\n",
      "{'C': 4.731765508919383, 'class_weight': 'balanced', 'kernel': {'gamma': 0.10309910703742006, 'kernel': 'rbf'}, 'type': 'svc'}\n",
      "{'loss': 1.1031995494444242, 'accuracy': 0.5156238497870618, 'status': 'ok'}\n",
      "{'C': 4.5878207577074495, 'class_weight': 'balanced', 'kernel': {'kernel': 'linear'}, 'type': 'svc'}\n",
      "{'loss': 1.1810479988804845, 'accuracy': 0.5211207512487253, 'status': 'ok'}\n",
      "{'C': 4.414778768296204, 'class_weight': 'balanced', 'kernel': {'gamma': 0.04606941328791492, 'kernel': 'rbf'}, 'type': 'svc'}\n",
      "{'loss': 1.0907865470153504, 'accuracy': 0.5276546035040087, 'status': 'ok'}\n",
      "{'alpha': 0.2203092717844894, 'l1_ratio': 0.3753250878410609, 'penalty': 'elasticnet', 'type': 'sgd'}\n",
      "{'loss': 1.3174589410844852, 'accuracy': 0.39509719705285673, 'status': 'ok'}\n",
      "{'C': 4.156232493813302, 'class_weight': None, 'kernel': {'gamma': 0.138839064404809, 'kernel': 'rbf'}, 'type': 'svc'}\n",
      "{'loss': 1.112973780627538, 'accuracy': 0.5347373441393809, 'status': 'ok'}\n",
      "{'C': 1.642198003088589, 'class_weight': 'balanced', 'kernel': {'gamma': 0.07172804164745217, 'kernel': 'rbf'}, 'type': 'svc'}\n",
      "{'loss': 1.0934002322959686, 'accuracy': 0.5239978059349905, 'status': 'ok'}\n",
      "{'C': 0.4374374334616316, 'class_weight': 'balanced', 'kernel': {'gamma': 0.17525621904754185, 'kernel': 'rbf'}, 'type': 'svc'}\n",
      "{'loss': 1.1235298098281623, 'accuracy': 0.5021692339419448, 'status': 'ok'}\n",
      "{'class_weight': 'balanced', 'criterion': 'entropy', 'max_depth': 7.0, 'min_samples_leaf': 0.2653907000688169, 'n_estimators': 55.0, 'type': 'rfc'}\n",
      "{'loss': 1.2889813380905313, 'accuracy': 0.47371306733914886, 'status': 'ok'}\n",
      "{'C': 4.500900955290658, 'class_weight': 'balanced', 'kernel': {'gamma': 0.0853501827158818, 'kernel': 'rbf'}, 'type': 'svc'}\n",
      "{'loss': 1.1017746848748708, 'accuracy': 0.5190253677433743, 'status': 'ok'}\n",
      "{'C': 2.9383972192503807, 'class_weight': 'balanced', 'kernel': {'gamma': 0.028391137428157128, 'kernel': 'rbf'}, 'type': 'svc'}\n",
      "{'loss': 1.110378541799069, 'accuracy': 0.515867965568308, 'status': 'ok'}\n",
      "{'class_weight': 'balanced', 'criterion': 'gini', 'max_depth': 13.0, 'min_samples_leaf': 0.11170433133503746, 'type': 'dtc'}\n",
      "{'loss': 1.2536943093767539, 'accuracy': 0.43065559025139055, 'status': 'ok'}\n",
      "{'C': 4.293420072992287, 'class_weight': 'balanced', 'kernel': {'gamma': 0.1952281403418526, 'kernel': 'sigmoid'}, 'type': 'svc'}\n",
      "{'loss': 1.304156910758957, 'accuracy': 0.33619959631585444, 'status': 'ok'}\n",
      "{'C': 1.775447286399119, 'class_weight': 'balanced', 'kernel': {'gamma': 0.11580615980706474, 'kernel': 'rbf'}, 'type': 'svc'}\n",
      "{'loss': 1.0974025978203195, 'accuracy': 0.5139071231469393, 'status': 'ok'}\n",
      "{'C': 4.918852234998436, 'class_weight': 'balanced', 'kernel': {'gamma': 0.04969102288018115, 'kernel': 'rbf'}, 'type': 'svc'}\n",
      "{'loss': 1.092111877091416, 'accuracy': 0.531149965304165, 'status': 'ok'}\n",
      "{'C': 4.78942937231614, 'class_weight': 'balanced', 'kernel': {'gamma': 0.02435393968800631, 'kernel': 'rbf'}, 'type': 'svc'}\n",
      "{'loss': 1.107010200706334, 'accuracy': 0.5329311715284137, 'status': 'ok'}\n",
      "{'C': 3.8941119821858585, 'class_weight': 'balanced', 'kernel': {'gamma': 0.011248948682109391, 'kernel': 'rbf'}, 'type': 'svc'}\n",
      "{'loss': 1.138984991484556, 'accuracy': 0.5157290266113266, 'status': 'ok'}\n",
      "{'length_scale': 3.4778249477612193, 'type': 'gpc'}\n",
      "{'loss': 1.152356830789715, 'accuracy': 0.5368095880667979, 'status': 'ok'}\n",
      "{'C': 4.669385769041227, 'class_weight': 'balanced', 'kernel': {'degree': 2.0, 'gamma': 0.24858416530720912, 'kernel': 'poly'}, 'type': 'svc'}\n",
      "{'loss': 1.3543916027374197, 'accuracy': 0.449201454518686, 'status': 'ok'}\n",
      "{'C': 4.033254286391887, 'class_weight': 'balanced', 'kernel': {'gamma': 0.09134102274666936, 'kernel': 'rbf'}, 'type': 'svc'}\n",
      "{'loss': 1.1020614369611053, 'accuracy': 0.5207376965104975, 'status': 'ok'}\n",
      "{'alpha': 0.010818316233282943, 'l1_ratio': 0.9332046353686411, 'penalty': 'l1', 'type': 'sgd'}\n",
      "{'loss': 1.2874291436444203, 'accuracy': 0.5232717509326197, 'status': 'ok'}\n",
      "{'C': 4.5910924022317445, 'class_weight': 'balanced', 'kernel': {'gamma': 0.010690533863658362, 'kernel': 'rbf'}, 'type': 'svc'}\n",
      "{'loss': 1.1402299428259306, 'accuracy': 0.5157528089553144, 'status': 'ok'}\n",
      "{'C': 0.6642901039124424, 'class_weight': None, 'kernel': {'kernel': 'linear'}, 'type': 'svc'}\n",
      "{'loss': 1.1750358689068947, 'accuracy': 0.5436657705831281, 'status': 'ok'}\n",
      "{'class_weight': None, 'criterion': 'gini', 'max_depth': 5.0, 'min_samples_leaf': 0.057292416175090316, 'n_estimators': 50.0, 'type': 'rfc'}\n",
      "{'loss': 1.1955009942461794, 'accuracy': 0.4614313303931184, 'status': 'ok'}\n",
      "{'C': 4.364776475870216, 'class_weight': 'balanced', 'kernel': {'gamma': 0.06650405988539865, 'kernel': 'rbf'}, 'type': 'svc'}\n",
      "{'loss': 1.0954905944104447, 'accuracy': 0.5276814981888882, 'status': 'ok'}\n",
      "{'C': 4.253661706877347, 'class_weight': 'balanced', 'kernel': {'gamma': 0.12541479654777407, 'kernel': 'rbf'}, 'type': 'svc'}\n",
      "{'loss': 1.105501454656447, 'accuracy': 0.5158290951369539, 'status': 'ok'}\n",
      "{'C': 5.006843922413658, 'class_weight': 'balanced', 'kernel': {'gamma': 0.2927807460787468, 'kernel': 'rbf'}, 'type': 'svc'}\n",
      "{'loss': 1.136197449770321, 'accuracy': 0.5003674592039768, 'status': 'ok'}\n",
      "{'class_weight': None, 'criterion': 'entropy', 'max_depth': 10.0, 'min_samples_leaf': 0.056037349212687965, 'type': 'dtc'}\n",
      "{'loss': 1.5029163537855585, 'accuracy': 0.4377163753515592, 'status': 'ok'}\n",
      "{'C': 4.52730322974847, 'class_weight': 'balanced', 'kernel': {'gamma': 0.010098869667652471, 'kernel': 'rbf'}, 'type': 'svc'}\n",
      "{'loss': 1.142573435731861, 'accuracy': 0.5191098745645429, 'status': 'ok'}\n",
      "{'C': 4.741963435419681, 'class_weight': 'balanced', 'kernel': {'gamma': 0.36104436927857, 'kernel': 'sigmoid'}, 'type': 'svc'}\n",
      "{'loss': 1.3085569124292467, 'accuracy': 0.32456113287043353, 'status': 'ok'}\n",
      "{'C': 0.8764725375039234, 'class_weight': 'balanced', 'kernel': {'gamma': 0.04257352332182376, 'kernel': 'rbf'}, 'type': 'svc'}\n",
      "{'loss': 1.126502707429594, 'accuracy': 0.5002923570650679, 'status': 'ok'}\n",
      "{'C': 4.463358764752308, 'class_weight': 'balanced', 'kernel': {'gamma': 0.22952109278405786, 'kernel': 'rbf'}, 'type': 'svc'}\n",
      "{'loss': 1.1214293393203592, 'accuracy': 0.5328429096002997, 'status': 'ok'}\n",
      "{'C': 18.04489434865063, 'class_weight': 'balanced', 'kernel': {'gamma': 0.10217899866009988, 'kernel': 'rbf'}, 'type': 'svc'}\n",
      "{'loss': 1.1140284217293668, 'accuracy': 0.5326357359522464, 'status': 'ok'}\n",
      "{'C': 4.857506631036213, 'class_weight': 'balanced', 'kernel': {'gamma': 0.0781017995500693, 'kernel': 'rbf'}, 'type': 'svc'}\n",
      "{'loss': 1.0982646672564953, 'accuracy': 0.5190253677433743, 'status': 'ok'}\n",
      "{'length_scale': 2.7761715270881884, 'type': 'gpc'}\n",
      "{'loss': 1.1523568254848686, 'accuracy': 0.5368095880667979, 'status': 'ok'}\n",
      "{'C': 5.079201054002502, 'class_weight': 'balanced', 'kernel': {'gamma': 0.0558187869318785, 'kernel': 'rbf'}, 'type': 'svc'}\n",
      "{'loss': 1.0957550454775644, 'accuracy': 0.532842266834246, 'status': 'ok'}\n",
      "{'alpha': 0.3398522568780238, 'l1_ratio': 0.04675601946090863, 'penalty': 'l2', 'type': 'sgd'}\n",
      "{'loss': 1.2623636877526427, 'accuracy': 0.4514795865620487, 'status': 'ok'}\n",
      "{'C': 0.8037114028459679, 'class_weight': 'balanced', 'kernel': {'gamma': 0.13700030291262655, 'kernel': 'rbf'}, 'type': 'svc'}\n",
      "{'loss': 1.1112460310057841, 'accuracy': 0.5124006824957618, 'status': 'ok'}\n",
      "{'C': 4.614815593531426, 'class_weight': 'balanced', 'kernel': {'gamma': 0.16120822431758608, 'kernel': 'rbf'}, 'type': 'svc'}\n",
      "{'loss': 1.1126838152683802, 'accuracy': 0.524440773235384, 'status': 'ok'}\n",
      "{'C': 4.957084151770133, 'class_weight': None, 'kernel': {'degree': 5.0, 'gamma': 0.8848168961451408, 'kernel': 'poly'}, 'type': 'svc'}\n",
      "{'loss': 1.3661608967108014, 'accuracy': 0.426976295870492, 'status': 'ok'}\n",
      "{'class_weight': 'balanced', 'criterion': 'entropy', 'max_depth': 8.0, 'min_samples_leaf': 0.39365947327787154, 'n_estimators': 30.0, 'type': 'rfc'}\n",
      "{'loss': 1.3861935139716368, 'accuracy': 0.24078402032169155, 'status': 'ok'}\n",
      "{'C': 4.367613145287448, 'class_weight': 'balanced', 'kernel': {'gamma': 0.19570349437836987, 'kernel': 'rbf'}, 'type': 'svc'}\n",
      "{'loss': 1.115827738755075, 'accuracy': 0.5311999995669787, 'status': 'ok'}\n",
      "{'C': 3.2439133883470825, 'class_weight': 'balanced', 'kernel': {'kernel': 'linear'}, 'type': 'svc'}\n",
      "{'loss': 1.1786907319683793, 'accuracy': 0.5194315620595361, 'status': 'ok'}\n",
      "{'C': 4.193021735380911, 'class_weight': 'balanced', 'kernel': {'gamma': 0.7206926146169143, 'kernel': 'rbf'}, 'type': 'svc'}\n",
      "{'loss': 1.1983663240770452, 'accuracy': 0.49180699941109096, 'status': 'ok'}\n",
      "{'class_weight': 'balanced', 'criterion': 'gini', 'max_depth': 4.0, 'min_samples_leaf': 0.20868740296371072, 'type': 'dtc'}\n",
      "{'loss': 1.277839463576113, 'accuracy': 0.41499747088472755, 'status': 'ok'}\n",
      "{'C': 0.5340394933977736, 'class_weight': 'balanced', 'kernel': {'gamma': 0.02660983153629733, 'kernel': 'rbf'}, 'type': 'svc'}\n",
      "{'loss': 1.1673945117568316, 'accuracy': 0.45615723194355134, 'status': 'ok'}\n",
      "{'C': 4.730648036221348, 'class_weight': 'balanced', 'kernel': {'gamma': 0.10913263106086549, 'kernel': 'rbf'}, 'type': 'svc'}\n",
      "{'loss': 1.1038684575573374, 'accuracy': 0.5139815825197945, 'status': 'ok'}\n",
      "{'C': 4.483349046227155, 'class_weight': 'balanced', 'kernel': {'gamma': 0.043675183438485206, 'kernel': 'rbf'}, 'type': 'svc'}\n",
      "{'loss': 1.0892548180472104, 'accuracy': 0.5275394468910151, 'status': 'ok'}\n",
      "{'length_scale': 0.5936719465428388, 'type': 'gpc'}\n",
      "{'loss': 1.3392055677788743, 'accuracy': 0.3903450246389143, 'status': 'ok'}\n",
      "{'C': 4.072249122903048, 'class_weight': 'balanced', 'kernel': {'gamma': 0.06704505071243153, 'kernel': 'rbf'}, 'type': 'svc'}\n",
      "{'loss': 1.0928173002981518, 'accuracy': 0.5259216047337892, 'status': 'ok'}\n",
      "{'C': 4.231843749292594, 'class_weight': 'balanced', 'kernel': {'gamma': 0.08518388950111175, 'kernel': 'rbf'}, 'type': 'svc'}\n",
      "{'loss': 1.0999393983687304, 'accuracy': 0.5224268856996866, 'status': 'ok'}\n",
      "{'C': 2.0806702989917216, 'class_weight': 'balanced', 'kernel': {'gamma': 0.03879892335763723, 'kernel': 'rbf'}, 'type': 'svc'}\n",
      "{'loss': 1.103558545443899, 'accuracy': 0.5174206853753537, 'status': 'ok'}\n",
      "{'alpha': 0.5100182822736586, 'l1_ratio': 0.119289977399269, 'penalty': 'elasticnet', 'type': 'sgd'}\n",
      "{'loss': 1.3240684719808222, 'accuracy': 0.3881058306864904, 'status': 'ok'}\n",
      "{'C': 4.021854581114175, 'class_weight': 'balanced', 'kernel': {'gamma': 0.5496934892317006, 'kernel': 'sigmoid'}, 'type': 'svc'}\n",
      "{'loss': 1.3101797325172053, 'accuracy': 0.2939545078604199, 'status': 'ok'}\n",
      "{'C': 4.43435647148645, 'class_weight': 'balanced', 'kernel': {'gamma': 0.056008683984753116, 'kernel': 'rbf'}, 'type': 'svc'}\n",
      "{'loss': 1.0921798494436326, 'accuracy': 0.5277728724578941, 'status': 'ok'}\n",
      "{'class_weight': None, 'criterion': 'gini', 'max_depth': 6.0, 'min_samples_leaf': 0.19073531223136625, 'n_estimators': 75.0, 'type': 'rfc'}\n",
      "{'loss': 1.2624696455566566, 'accuracy': 0.44423541015781465, 'status': 'ok'}\n",
      "{'C': 4.135028030894048, 'class_weight': 'balanced', 'kernel': {'gamma': 0.027410159066727426, 'kernel': 'rbf'}, 'type': 'svc'}\n",
      "{'loss': 1.1049840346675799, 'accuracy': 0.5311036861482967, 'status': 'ok'}\n",
      "{'C': 4.295350701092206, 'class_weight': 'balanced', 'kernel': {'gamma': 0.09856018841274819, 'kernel': 'rbf'}, 'type': 'svc'}\n",
      "{'loss': 1.103256942536833, 'accuracy': 0.5189133234712723, 'status': 'ok'}\n",
      "{'C': 4.500598764069311, 'class_weight': None, 'kernel': {'degree': 4.0, 'gamma': 0.7868360256676079, 'kernel': 'poly'}, 'type': 'svc'}\n",
      "{'loss': 1.3866099193448869, 'accuracy': 0.40644462279510946, 'status': 'ok'}\n",
      "{'class_weight': None, 'criterion': 'entropy', 'max_depth': 18.0, 'min_samples_leaf': 0.12986479785323563, 'type': 'dtc'}\n",
      "{'loss': 1.2229530400985154, 'accuracy': 0.4241423065098263, 'status': 'ok'}\n",
      "{'C': 3.9803101678201234, 'class_weight': 'balanced', 'kernel': {'gamma': 0.011471333394077906, 'kernel': 'rbf'}, 'type': 'svc'}\n",
      "{'loss': 1.1392200106017891, 'accuracy': 0.5157290266113266, 'status': 'ok'}\n",
      "{'C': 4.3725103747499325, 'class_weight': 'balanced', 'kernel': {'gamma': 0.1392305351159897, 'kernel': 'rbf'}, 'type': 'svc'}\n",
      "{'loss': 1.108621972864381, 'accuracy': 0.5227728968153446, 'status': 'ok'}\n",
      "{'C': 4.19409297181007, 'class_weight': 'balanced', 'kernel': {'gamma': 0.11925632780106354, 'kernel': 'rbf'}, 'type': 'svc'}\n",
      "{'loss': 1.109203927561229, 'accuracy': 0.5140729567888003, 'status': 'ok'}\n",
      "{'C': 4.0971617246345575, 'class_weight': 'balanced', 'kernel': {'kernel': 'linear'}, 'type': 'svc'}\n",
      "{'loss': 1.184164487175896, 'accuracy': 0.5211207512487253, 'status': 'ok'}\n",
      "{'length_scale': 0.15848929298218462, 'type': 'gpc'}\n",
      "{'loss': 1.1521255992594956, 'accuracy': 0.5368095880667979, 'status': 'ok'}\n",
      "{'C': 4.561732847383688, 'class_weight': 'balanced', 'kernel': {'gamma': 0.08362652114805867, 'kernel': 'rbf'}, 'type': 'svc'}\n",
      "{'loss': 1.0995840358672009, 'accuracy': 0.5190253677433743, 'status': 'ok'}\n",
      "{'C': 4.32134838968215, 'class_weight': 'balanced', 'kernel': {'gamma': 0.0416139697293395, 'kernel': 'rbf'}, 'type': 'svc'}\n",
      "{'loss': 1.0912740260748708, 'accuracy': 0.5292755580021262, 'status': 'ok'}\n",
      "{'C': 3.915403487863898, 'class_weight': 'balanced', 'kernel': {'gamma': 0.06644037383423784, 'kernel': 'rbf'}, 'type': 'svc'}\n",
      "{'loss': 1.0929409938753527, 'accuracy': 0.5259216047337892, 'status': 'ok'}\n",
      "{'alpha': 0.9420688268034196, 'l1_ratio': 0.7167228977608316, 'penalty': 'l1', 'type': 'sgd'}\n",
      "{'loss': 1.3696133720396602, 'accuracy': 0.31441300709505465, 'status': 'ok'}\n",
      "{'C': 4.452855938973463, 'class_weight': 'balanced', 'kernel': {'gamma': 0.17992280594448287, 'kernel': 'rbf'}, 'type': 'svc'}\n",
      "{'loss': 1.114009304175266, 'accuracy': 0.5243944940795158, 'status': 'ok'}\n",
      "{'C': 4.646270860711646, 'class_weight': 'balanced', 'kernel': {'gamma': 0.6429042024086475, 'kernel': 'sigmoid'}, 'type': 'svc'}\n",
      "{'loss': 1.3213465213981304, 'accuracy': 0.28545917041771407, 'status': 'ok'}\n",
      "{'class_weight': 'balanced', 'criterion': 'entropy', 'max_depth': 10.0, 'min_samples_leaf': 0.38323221006967584, 'n_estimators': 45.0, 'type': 'rfc'}\n",
      "{'loss': 1.3862807114027453, 'accuracy': 0.2491034766742229, 'status': 'ok'}\n",
      "{'C': 4.80150860086749, 'class_weight': 'balanced', 'kernel': {'gamma': 0.02826759918379381, 'kernel': 'rbf'}, 'type': 'svc'}\n",
      "{'loss': 1.101996953249801, 'accuracy': 0.5228148795875904, 'status': 'ok'}\n",
      "{'C': 4.262815644911594, 'class_weight': 'balanced', 'kernel': {'gamma': 0.011589960437799043, 'kernel': 'rbf'}, 'type': 'svc'}\n",
      "{'loss': 1.136906402906666, 'accuracy': 0.5157759485332485, 'status': 'ok'}\n",
      "{'C': 4.525003153613657, 'class_weight': 'balanced', 'kernel': {'gamma': 0.05764716572121281, 'kernel': 'rbf'}, 'type': 'svc'}\n",
      "{'loss': 1.0934667068849946, 'accuracy': 0.5277728724578941, 'status': 'ok'}\n",
      "{'class_weight': 'balanced', 'criterion': 'gini', 'max_depth': 16.0, 'min_samples_leaf': 0.2845670022042419, 'type': 'dtc'}\n",
      "{'loss': 1.274828952043153, 'accuracy': 0.46152388870485483, 'status': 'ok'}\n",
      "{'C': 4.673209748144545, 'class_weight': 'balanced', 'kernel': {'gamma': 0.04323962860325402, 'kernel': 'rbf'}, 'type': 'svc'}\n",
      "{'loss': 1.0910358662306106, 'accuracy': 0.5309878867692495, 'status': 'ok'}\n",
      "{'C': 4.614182163619838, 'class_weight': 'balanced', 'kernel': {'gamma': 0.044997316654718206, 'kernel': 'rbf'}, 'type': 'svc'}\n",
      "{'loss': 1.0915866735255202, 'accuracy': 0.5292993403461139, 'status': 'ok'}\n",
      "{'C': 4.430837196775011, 'class_weight': 'balanced', 'kernel': {'gamma': 0.06958539292196833, 'kernel': 'rbf'}, 'type': 'svc'}\n",
      "{'loss': 1.0955816947370236, 'accuracy': 0.5311061557231348, 'status': 'ok'}\n",
      "{'C': 4.5510534904220314, 'class_weight': 'balanced', 'kernel': {'gamma': 0.023393967702360505, 'kernel': 'rbf'}, 'type': 'svc'}\n",
      "{'loss': 1.107627895572353, 'accuracy': 0.5312632951083743, 'status': 'ok'}\n",
      "{'C': 4.775290769885675, 'class_weight': 'balanced', 'kernel': {'gamma': 0.05250232531440631, 'kernel': 'rbf'}, 'type': 'svc'}\n",
      "{'loss': 1.0911873276753783, 'accuracy': 0.5328860764152762, 'status': 'ok'}\n",
      "{'C': 4.678410664161792, 'class_weight': 'balanced', 'kernel': {'gamma': 0.0746530211612923, 'kernel': 'rbf'}, 'type': 'svc'}\n",
      "{'loss': 1.0972776780082765, 'accuracy': 0.5275907666859362, 'status': 'ok'}\n",
      "{'C': 4.503866841102075, 'class_weight': 'balanced', 'kernel': {'gamma': 0.010087556955112091, 'kernel': 'rbf'}, 'type': 'svc'}\n",
      "{'loss': 1.140829987548273, 'accuracy': 0.5191098745645429, 'status': 'ok'}\n",
      "{'C': 4.380858137892984, 'class_weight': 'balanced', 'kernel': {'gamma': 0.02773111263181562, 'kernel': 'rbf'}, 'type': 'svc'}\n",
      "{'loss': 1.1013643571657583, 'accuracy': 0.5244364768517616, 'status': 'ok'}\n",
      "{'C': 0.7157646486536029, 'class_weight': 'balanced', 'kernel': {'gamma': 0.04685769726572874, 'kernel': 'rbf'}, 'type': 'svc'}\n",
      "{'loss': 1.1318172742082653, 'accuracy': 0.4986476202229627, 'status': 'ok'}\n",
      "{'C': 4.717771723220817, 'class_weight': 'balanced', 'kernel': {'gamma': 0.08496920606136076, 'kernel': 'rbf'}, 'type': 'svc'}\n",
      "{'loss': 1.1015093191532483, 'accuracy': 0.517313038976251, 'status': 'ok'}\n",
      "{'C': 4.566457182163294, 'class_weight': 'balanced', 'kernel': {'gamma': 0.06031069172152238, 'kernel': 'rbf'}, 'type': 'svc'}\n",
      "{'loss': 1.091478689885851, 'accuracy': 0.5276577158449004, 'status': 'ok'}\n",
      "{'C': 4.871270422544717, 'class_weight': 'balanced', 'kernel': {'gamma': 0.011350422661624865, 'kernel': 'rbf'}, 'type': 'svc'}\n",
      "{'loss': 1.1333033282960212, 'accuracy': 0.5242030512848825, 'status': 'ok'}\n",
      "{'C': 4.644726788307122, 'class_weight': 'balanced', 'kernel': {'gamma': 0.03842153585399649, 'kernel': 'rbf'}, 'type': 'svc'}\n",
      "{'loss': 1.0943772425543066, 'accuracy': 0.5224224878266875, 'status': 'ok'}\n",
      "{'C': 4.457696541839679, 'class_weight': 'balanced', 'kernel': {'gamma': 0.011217699160720504, 'kernel': 'rbf'}, 'type': 'svc'}\n",
      "{'loss': 1.1356168665287765, 'accuracy': 0.5157528089553144, 'status': 'ok'}\n",
      "{'C': 4.8158794460154795, 'class_weight': 'balanced', 'kernel': {'gamma': 0.0975669315563951, 'kernel': 'rbf'}, 'type': 'svc'}\n",
      "{'loss': 1.1014007510592638, 'accuracy': 0.5087745347185686, 'status': 'ok'}\n",
      "{'C': 4.3773293953321435, 'class_weight': 'balanced', 'kernel': {'gamma': 0.07332705857552119, 'kernel': 'rbf'}, 'type': 'svc'}\n",
      "{'loss': 1.0982323634624942, 'accuracy': 0.5258784379188128, 'status': 'ok'}\n",
      "{'C': 4.5724895129206775, 'class_weight': 'balanced', 'kernel': {'gamma': 0.010593134148043155, 'kernel': 'rbf'}, 'type': 'svc'}\n",
      "{'loss': 1.1384706212612563, 'accuracy': 0.5157528089553144, 'status': 'ok'}\n",
      "{'C': 4.7251010874460375, 'class_weight': 'balanced', 'kernel': {'gamma': 0.0399011655581395, 'kernel': 'rbf'}, 'type': 'svc'}\n",
      "{'loss': 1.0910719438634016, 'accuracy': 0.5309878867692495, 'status': 'ok'}\n",
      "{'C': 4.838304917008851, 'class_weight': 'balanced', 'kernel': {'gamma': 0.09907881769592593, 'kernel': 'rbf'}, 'type': 'svc'}\n",
      "{'loss': 1.1022889500757318, 'accuracy': 0.5156238497870618, 'status': 'ok'}\n",
      "{'C': 4.919205901004048, 'class_weight': 'balanced', 'kernel': {'gamma': 0.05831293560228366, 'kernel': 'rbf'}, 'type': 'svc'}\n",
      "{'loss': 1.0934050894520704, 'accuracy': 0.5311061557231348, 'status': 'ok'}\n",
      "{'C': 4.491391747664722, 'class_weight': 'balanced', 'kernel': {'gamma': 0.028207708506422808, 'kernel': 'rbf'}, 'type': 'svc'}\n",
      "{'loss': 1.0991124011648146, 'accuracy': 0.5278611343860082, 'status': 'ok'}\n",
      "{'C': 4.630103973368235, 'class_weight': 'balanced', 'kernel': {'gamma': 0.08229238027974622, 'kernel': 'rbf'}, 'type': 'svc'}\n",
      "{'loss': 1.100230764536355, 'accuracy': 0.5190253677433743, 'status': 'ok'}\n",
      "{'C': 4.328381745753485, 'class_weight': 'balanced', 'kernel': {'gamma': 0.05617530033545504, 'kernel': 'rbf'}, 'type': 'svc'}\n",
      "{'loss': 1.0934458124584792, 'accuracy': 0.5260605436907708, 'status': 'ok'}\n",
      "{'C': 4.740281165916598, 'class_weight': 'balanced', 'kernel': {'gamma': 0.029507322726120767, 'kernel': 'rbf'}, 'type': 'svc'}\n",
      "{'loss': 1.0974435545307708, 'accuracy': 0.5210549861324916, 'status': 'ok'}\n",
      "{'C': 4.41555082525168, 'class_weight': 'balanced', 'kernel': {'gamma': 0.1153080237149045, 'kernel': 'rbf'}, 'type': 'svc'}\n",
      "{'loss': 1.1075885599382704, 'accuracy': 0.5123368456776892, 'status': 'ok'}\n",
      "{'C': 4.995345062292841, 'class_weight': 'balanced', 'kernel': {'gamma': 0.010843923999355552, 'kernel': 'rbf'}, 'type': 'svc'}\n",
      "{'loss': 1.1367259699398016, 'accuracy': 0.5174206853753537, 'status': 'ok'}\n",
      "{'C': 4.6058314333086905, 'class_weight': 'balanced', 'kernel': {'gamma': 0.0741547040687269, 'kernel': 'rbf'}, 'type': 'svc'}\n",
      "{'loss': 1.0970830123729298, 'accuracy': 0.5241423268077017, 'status': 'ok'}\n",
      "{'C': 4.897442623493388, 'class_weight': 'balanced', 'kernel': {'gamma': 0.01020128551421614, 'kernel': 'rbf'}, 'type': 'svc'}\n",
      "{'loss': 1.1387291586436774, 'accuracy': 0.5123512909990019, 'status': 'ok'}\n",
      "{'C': 4.464567632134176, 'class_weight': 'balanced', 'kernel': {'gamma': 0.04521145321427077, 'kernel': 'rbf'}, 'type': 'svc'}\n",
      "{'loss': 1.0901623525594024, 'accuracy': 0.5292993403461139, 'status': 'ok'}\n",
      "{'C': 4.278141479641705, 'class_weight': 'balanced', 'kernel': {'gamma': 0.09659558433469523, 'kernel': 'rbf'}, 'type': 'svc'}\n",
      "{'loss': 1.1023295685833094, 'accuracy': 0.5155562578620437, 'status': 'ok'}\n",
      "{'C': 4.678436121277667, 'class_weight': 'balanced', 'kernel': {'gamma': 0.06873465920035174, 'kernel': 'rbf'}, 'type': 'svc'}\n",
      "{'loss': 1.095620792702346, 'accuracy': 0.5310385637981168, 'status': 'ok'}\n",
      "{'C': 4.7805647469557915, 'class_weight': 'balanced', 'kernel': {'gamma': 0.0281059360230011, 'kernel': 'rbf'}, 'type': 'svc'}\n",
      "{'loss': 1.0997966106594785, 'accuracy': 0.5228148795875904, 'status': 'ok'}\n",
      "{'C': 4.384979105720477, 'class_weight': 'balanced', 'kernel': {'gamma': 0.010086290767190809, 'kernel': 'rbf'}, 'type': 'svc'}\n",
      "{'loss': 1.1438710820068407, 'accuracy': 0.5173737634534318, 'status': 'ok'}\n",
      "{'C': 4.521603858001654, 'class_weight': 'balanced', 'kernel': {'gamma': 0.08475329356863107, 'kernel': 'rbf'}, 'type': 'svc'}\n",
      "{'loss': 1.0995220566780537, 'accuracy': 0.5190253677433743, 'status': 'ok'}\n",
      "{'C': 4.943074334389247, 'class_weight': 'balanced', 'kernel': {'gamma': 0.052205265524723043, 'kernel': 'rbf'}, 'type': 'svc'}\n",
      "{'loss': 1.0916906705054021, 'accuracy': 0.5311737476481528, 'status': 'ok'}\n",
      "{'C': 4.584675708471724, 'class_weight': 'balanced', 'kernel': {'gamma': 0.11057402609691205, 'kernel': 'rbf'}, 'type': 'svc'}\n",
      "{'loss': 1.1036062854356283, 'accuracy': 0.5156707717089837, 'status': 'ok'}\n",
      "{'C': 5.0585211987076715, 'class_weight': 'balanced', 'kernel': {'gamma': 0.010142763611859063, 'kernel': 'rbf'}, 'type': 'svc'}\n",
      "{'loss': 1.1387889467099463, 'accuracy': 0.5140636197661252, 'status': 'ok'}\n",
      "{'C': 4.811563934951035, 'class_weight': 'balanced', 'kernel': {'gamma': 0.03899273665777831, 'kernel': 'rbf'}, 'type': 'svc'}\n",
      "{'loss': 1.089917049702159, 'accuracy': 0.5309878867692495, 'status': 'ok'}\n",
      "{'C': 4.72836675757243, 'class_weight': 'balanced', 'kernel': {'gamma': 0.0639783522710094, 'kernel': 'rbf'}, 'type': 'svc'}\n",
      "{'loss': 1.092558385527234, 'accuracy': 0.5293938269560114, 'status': 'ok'}\n",
      "{'C': 4.285111915904345, 'class_weight': 'balanced', 'kernel': {'gamma': 0.5157251493263498, 'kernel': 'rbf'}, 'type': 'svc'}\n",
      "{'loss': 1.1726558267864318, 'accuracy': 0.46953674564975934, 'status': 'ok'}\n",
      "{'C': 4.650417257544677, 'class_weight': 'balanced', 'kernel': {'gamma': 0.0903783178165621, 'kernel': 'rbf'}, 'type': 'svc'}\n",
      "{'loss': 1.1013379442381086, 'accuracy': 0.5172009947041489, 'status': 'ok'}\n",
      "{'C': 4.50531954154784, 'class_weight': 'balanced', 'kernel': {'gamma': 0.12421159172820831, 'kernel': 'rbf'}, 'type': 'svc'}\n",
      "{'loss': 1.1085417862356948, 'accuracy': 0.5123806552587195, 'status': 'ok'}\n",
      "{'C': 4.876472987700691, 'class_weight': 'balanced', 'kernel': {'gamma': 0.010693044733469853, 'kernel': 'rbf'}, 'type': 'svc'}\n",
      "{'loss': 1.137943663083259, 'accuracy': 0.5157759485332485, 'status': 'ok'}\n",
      "{'C': 4.369504188162347, 'class_weight': 'balanced', 'kernel': {'gamma': 0.03322970297776281, 'kernel': 'rbf'}, 'type': 'svc'}\n",
      "{'loss': 1.0969803647220024, 'accuracy': 0.5193188750213804, 'status': 'ok'}\n",
      "{'C': 4.17260752317461, 'class_weight': 'balanced', 'kernel': {'gamma': 0.07615166605050225, 'kernel': 'rbf'}, 'type': 'svc'}\n",
      "{'loss': 1.0977066216293934, 'accuracy': 0.5242337010767075, 'status': 'ok'}\n",
      "{'C': 4.539555221974047, 'class_weight': 'balanced', 'kernel': {'gamma': 0.10628022888146738, 'kernel': 'rbf'}, 'type': 'svc'}\n",
      "{'loss': 1.1047956338427167, 'accuracy': 0.5156476321310496, 'status': 'ok'}\n",
      "{'C': 4.6653858519469935, 'class_weight': 'balanced', 'kernel': {'gamma': 0.05231830679059264, 'kernel': 'rbf'}, 'type': 'svc'}\n",
      "{'loss': 1.0909097289191425, 'accuracy': 0.5311737476481528, 'status': 'ok'}\n",
      "{'C': 4.233945632228592, 'class_weight': 'balanced', 'kernel': {'gamma': 0.026808828407519802, 'kernel': 'rbf'}, 'type': 'svc'}\n",
      "{'loss': 1.104474535071247, 'accuracy': 0.5293913573811735, 'status': 'ok'}\n",
      "{'C': 4.971910396057882, 'class_weight': 'balanced', 'kernel': {'degree': 2.0, 'gamma': 0.034811030411350086, 'kernel': 'poly'}, 'type': 'svc'}\n",
      "{'loss': 1.3482461221569393, 'accuracy': 0.2955354078844526, 'status': 'ok'}\n",
      "{'C': 5.089654678779939, 'class_weight': 'balanced', 'kernel': {'gamma': 0.010066779765208221, 'kernel': 'rbf'}, 'type': 'svc'}\n",
      "{'loss': 1.1380815757651015, 'accuracy': 0.5157997308772363, 'status': 'ok'}\n",
      "{'C': 4.451770441161943, 'class_weight': 'balanced', 'kernel': {'gamma': 0.06415219219067246, 'kernel': 'rbf'}, 'type': 'svc'}\n",
      "{'loss': 1.0930174401109822, 'accuracy': 0.5276814981888882, 'status': 'ok'}\n",
      "{'C': 4.704719749879795, 'class_weight': 'balanced', 'kernel': {'gamma': 0.09394736329104728, 'kernel': 'rbf'}, 'type': 'svc'}\n",
      "{'loss': 1.1026305507760812, 'accuracy': 0.5172923689731548, 'status': 'ok'}\n",
      "{'C': 4.803921954780197, 'class_weight': 'balanced', 'kernel': {'gamma': 0.039910770255131095, 'kernel': 'rbf'}, 'type': 'svc'}\n",
      "{'loss': 1.089974775831421, 'accuracy': 0.5309878867692495, 'status': 'ok'}\n",
      "{'C': 4.587196099895482, 'class_weight': 'balanced', 'kernel': {'kernel': 'linear'}, 'type': 'svc'}\n",
      "{'loss': 1.1799605467930205, 'accuracy': 0.5211207512487253, 'status': 'ok'}\n",
      "{'C': 4.343364053797948, 'class_weight': None, 'kernel': {'gamma': 0.12898819610692544, 'kernel': 'rbf'}, 'type': 'svc'}\n",
      "{'loss': 1.1137992028869703, 'accuracy': 0.5398511908628167, 'status': 'ok'}\n",
      "{'C': 4.880676998075013, 'class_weight': 'balanced', 'kernel': {'gamma': 0.07867775524668974, 'kernel': 'rbf'}, 'type': 'svc'}\n",
      "{'loss': 1.0998765428495507, 'accuracy': 0.5172892566322631, 'status': 'ok'}\n",
      "{'C': 4.449667994594036, 'class_weight': 'balanced', 'kernel': {'gamma': 0.05189681338549258, 'kernel': 'rbf'}, 'type': 'svc'}\n",
      "{'loss': 1.0907944018839608, 'accuracy': 0.5277253077699184, 'status': 'ok'}\n",
      "{'C': 4.747328306038207, 'class_weight': 'balanced', 'kernel': {'gamma': 0.6926045303026007, 'kernel': 'sigmoid'}, 'type': 'svc'}\n",
      "{'loss': 1.3293566186260648, 'accuracy': 0.3127487842925839, 'status': 'ok'}\n",
      "{'C': 4.5882386710745084, 'class_weight': 'balanced', 'kernel': {'gamma': 0.027835558955513182, 'kernel': 'rbf'}, 'type': 'svc'}\n",
      "{'loss': 1.1038265988051221, 'accuracy': 0.5278611343860082, 'status': 'ok'}\n",
      "{'C': 4.997425733494227, 'class_weight': 'balanced', 'kernel': {'gamma': 0.110814213727253, 'kernel': 'rbf'}, 'type': 'svc'}\n",
      "{'loss': 1.10494895331802, 'accuracy': 0.5157615032119358, 'status': 'ok'}\n",
      "{'C': 4.235502661014906, 'class_weight': 'balanced', 'kernel': {'gamma': 0.0622363441162287, 'kernel': 'rbf'}, 'type': 'svc'}\n",
      "{'loss': 1.0929632956745166, 'accuracy': 0.5293938269560114, 'status': 'ok'}\n",
      "{'C': 4.485726734096596, 'class_weight': 'balanced', 'kernel': {'gamma': 0.14654432790397307, 'kernel': 'rbf'}, 'type': 'svc'}\n",
      "{'loss': 1.1109674544935295, 'accuracy': 0.5210367857042334, 'status': 'ok'}\n",
      "{'C': 4.815576625465742, 'class_weight': 'balanced', 'kernel': {'gamma': 0.08766488159526296, 'kernel': 'rbf'}, 'type': 'svc'}\n",
      "{'loss': 1.1009225272139038, 'accuracy': 0.5138439290949204, 'status': 'ok'}\n"
     ]
    }
   ],
   "source": [
    "warnings.filterwarnings('ignore')\n",
    "best_model_choice = fmin(score_fn,\n",
    "                         space=opt_space,\n",
    "                         algo=tpe.suggest,\n",
    "                         max_evals=2000,\n",
    "                         trials=model_choice_trials)"
   ]
  },
  {
   "cell_type": "code",
   "execution_count": 565,
   "metadata": {},
   "outputs": [],
   "source": [
    "loss_model_choice = min((t for t in model_choice_trials.results), \n",
    "                        key= lambda x: x['loss'])"
   ]
  },
  {
   "cell_type": "code",
   "execution_count": 566,
   "metadata": {},
   "outputs": [
    {
     "data": {
      "text/plain": [
       "dict_items([('model_type', 1), ('svc_C', 4.907407475117302), ('svc_class_wt', 1), ('svc_gamma_rbf', 0.041596476259419986), ('svc_kernel', 1)])"
      ]
     },
     "execution_count": 566,
     "metadata": {},
     "output_type": "execute_result"
    }
   ],
   "source": [
    "best_model_choice.items()"
   ]
  },
  {
   "cell_type": "code",
   "execution_count": 567,
   "metadata": {},
   "outputs": [
    {
     "data": {
      "text/plain": [
       "{'loss': 1.0875375999197772, 'accuracy': 0.5309878867692495, 'status': 'ok'}"
      ]
     },
     "execution_count": 567,
     "metadata": {},
     "output_type": "execute_result"
    }
   ],
   "source": [
    "loss_model_choice"
   ]
  },
  {
   "cell_type": "code",
   "execution_count": 568,
   "metadata": {},
   "outputs": [],
   "source": [
    "with open('best_model_choice_1.pickle', 'wb') as f:\n",
    "    pickle.dump(best_model_choice, f)"
   ]
  },
  {
   "cell_type": "markdown",
   "metadata": {},
   "source": [
    "#### Combining 3 models with voting:"
   ]
  },
  {
   "cell_type": "code",
   "execution_count": 15,
   "metadata": {},
   "outputs": [],
   "source": [
    "opt_space = {\n",
    "    # model averaging params\n",
    "    \n",
    "    # random forest params\n",
    "    'max_depth': hp.quniform('rfc_max_depth', 2, 7, 1),\n",
    "    'class_weight': hp.choice('rfc_class_wt', rfc_class_weight_options),\n",
    "    \n",
    "    # support vector machine params\n",
    "            'C': hp.lognormal('svc_C', 0, 1),\n",
    "        'kernel': hp.choice('svc_kernel', svc_kernel_options),\n",
    "    \n",
    "    # elastic net logistic regression params\n",
    "        'alpha': hp.uniform('sgd_alpha', 0.01, 1),\n",
    "        'l1_ratio': hp.uniform('sgd_ratio', 0, 1)\n",
    "    }"
   ]
  },
  {
   "cell_type": "code",
   "execution_count": 17,
   "metadata": {},
   "outputs": [],
   "source": [
    "3_model_average_trials = Trials()"
   ]
  },
  {
   "cell_type": "code",
   "execution_count": 16,
   "metadata": {},
   "outputs": [],
   "source": [
    "def score_fn(params):\n",
    "    print(params)\n",
    "    rfc_model = RandomForestClassifier(class_weight=params['class_weight'],\n",
    "                                       max_depth=params['max_depth'])\n",
    "    svc_model = SVC(C=params['C'], \n",
    "                    kernel=params['kernel'], \n",
    "                    probability=True)\n",
    "    sgd_model = SGDClassifier(penalty='elasticnet',\n",
    "                              loss='log',\n",
    "                              alpha=params['alpha'], \n",
    "                              l1_ratio=params['l1_ratio'])\n",
    "    \n",
    "    pipe = make_pipeline(StandardScaler(), VotingClassifier([('rfc', rfc_model),('svc', svc_model),('sgd', sgd_model)],\n",
    "                                                           voting='soft',\n",
    "                                                           n_jobs=3))\n",
    "    # for loop used to fit model 3 times, \n",
    "        # aiming to reduce variance of chosen model by averaging results\n",
    "    # losses = []\n",
    "    # for i in range(3):\n",
    "    #    logloss, _ = validate_model(pipe)\n",
    "    #    losses.append(logloss)\n",
    "    # return np.mean(losses)\n",
    "    \n",
    "    logloss, acc = validate_model(pipe)\n",
    "    return_dict = {'loss': logloss, 'accuracy': acc, 'status':'ok'}\n",
    "    return return_dict"
   ]
  },
  {
   "cell_type": "code",
   "execution_count": 17,
   "metadata": {},
   "outputs": [],
   "source": [
    "3_model_average_trials = Trials()"
   ]
  },
  {
   "cell_type": "code",
   "execution_count": null,
   "metadata": {},
   "outputs": [],
   "source": [
    "best_3_model_average = fmin(score_fn,\n",
    "                            space=opt_space,\n",
    "                            algo=tpe.suggest,\n",
    "                            max_evals=500,\n",
    "                            trials=3_model_average_trials)"
   ]
  },
  {
   "cell_type": "code",
   "execution_count": null,
   "metadata": {},
   "outputs": [],
   "source": [
    "loss_3_model_average = min((t for t in 3_model_average_trials.results), \n",
    "                           key= lambda x: x['loss'])"
   ]
  },
  {
   "cell_type": "code",
   "execution_count": 22,
   "metadata": {},
   "outputs": [
    {
     "data": {
      "text/plain": [
       "dict_items([('rfc_class_wt', 0), ('rfc_max_depth', 7.0), ('sgd_alpha', 0.010539786505872572), ('sgd_ratio', 0.0014216596194842057), ('svc_C', 5.507782328751656), ('svc_kernel', 1)])"
      ]
     },
     "execution_count": 22,
     "metadata": {},
     "output_type": "execute_result"
    }
   ],
   "source": [
    "best_3_model_average.items()"
   ]
  },
  {
   "cell_type": "code",
   "execution_count": 67,
   "metadata": {},
   "outputs": [
    {
     "data": {
      "text/plain": [
       "dict_items([('rfc_class_wt', 0), ('rfc_max_depth', 8.0), ('sgd_alpha', 0.010229842208984985), ('sgd_ratio', 0.4188119344512063), ('svc_C', 5.465872847016365), ('svc_kernel', 1)])"
      ]
     },
     "execution_count": 67,
     "metadata": {},
     "output_type": "execute_result"
    }
   ],
   "source": [
    "# from initial run selecting from models\n",
    "best.items()"
   ]
  },
  {
   "cell_type": "code",
   "execution_count": null,
   "metadata": {},
   "outputs": [],
   "source": [
    "min((t for t in trials.results), key= lambda x: x['loss'])"
   ]
  },
  {
   "cell_type": "code",
   "execution_count": 180,
   "metadata": {},
   "outputs": [],
   "source": [
    "## Note: with top 18 countries, my best model was \n",
    "## SVC(C=1.976739553459949, kernel = 'rbf'])\n",
    "## {'loss': 2.2062940176075414, 'accuracy': 0.3471951411055378, 'status': 'ok'}\n",
    "\n",
    "## Note: with top 6 countries, my best model was\n",
    "## SVC(C=1.4143304319182868, kernel = 'rbf'])\n",
    "## {'loss': 1.4168561022650243, 'accuracy': 0.4670597725598205, 'status': 'ok'}\n",
    "\n",
    "## Note: with top 4 countries, my best model was\n",
    "## SVC(C=1.8407176183255418, kernel='rbf')\n",
    "## {'loss': 1.0963919629609573, 'accuracy': 0.5518888120276008, 'status': 'ok'}\n"
   ]
  },
  {
   "cell_type": "markdown",
   "metadata": {},
   "source": [
    "## Plotting Hyperparameter Tuning"
   ]
  },
  {
   "cell_type": "code",
   "execution_count": 569,
   "metadata": {},
   "outputs": [],
   "source": [
    "losses = model_choice_trials.losses()"
   ]
  },
  {
   "cell_type": "code",
   "execution_count": 570,
   "metadata": {},
   "outputs": [],
   "source": [
    "trials, model_types = zip(*((trial_n, trial_dict['misc']['vals']['model_type']) for trial_n, trial_dict in enumerate(model_choice_trials.trials)))"
   ]
  },
  {
   "cell_type": "code",
   "execution_count": 571,
   "metadata": {},
   "outputs": [
    {
     "data": {
      "text/plain": [
       "[4]"
      ]
     },
     "execution_count": 571,
     "metadata": {},
     "output_type": "execute_result"
    }
   ],
   "source": [
    "model_choice_trials.trials[2]['misc']['vals']['model_type']"
   ]
  },
  {
   "cell_type": "code",
   "execution_count": 572,
   "metadata": {},
   "outputs": [],
   "source": [
    "%matplotlib inline"
   ]
  },
  {
   "cell_type": "code",
   "execution_count": 722,
   "metadata": {},
   "outputs": [
    {
     "data": {
      "image/png": "[encoded data removed]",
      "text/plain": [
       "<Figure size 864x432 with 1 Axes>"
      ]
     },
     "metadata": {},
     "output_type": "display_data"
    }
   ],
   "source": [
    "import matplotlib.patches as mpatches\n",
    "\n",
    "x = list(trials)\n",
    "y = list(losses)\n",
    "classifiers = ('Random Forest', 'Support Vector Machine', 'Logistic Regression', \n",
    "               'Gaussian Process', 'Decision Tree')\n",
    "label = list((num_list[0] for num_list in model_types))\n",
    "colors = ['#d98f5e', '#664C3e', '#9cd81e', '#6eb6be', '#9b98fd']\n",
    "cmap = matplotlib.colors.ListedColormap(colors)\n",
    "fig = plt.figure(figsize=(12,6))\n",
    "ax = fig.add_subplot(1, 1, 1)\n",
    "plt.scatter(x, y, c=label, cmap=cmap, alpha=0.8)\n",
    "plt.yscale('log')\n",
    "plt.ylim(1.05,1.5)\n",
    "plt.yticks([1.05, 1.1, 1.15, 1.2, 1.25, 1.3, 1.35, 1.3862 , 1.4, 1.45],\n",
    "           ['1.05', '1.1', '1.15', '1.2', '1.25', '1.3', '1.35', 'Random', '1.4', '1.45'])\n",
    "plt.ylabel('Log Loss')\n",
    "plt.xlabel('Trials')\n",
    "\n",
    "#ax.xaxis.label.set_fontsize(12)\n",
    "#ax.yaxis.label.set_fontsize(12)\n",
    "\n",
    "\n",
    "ax.set_facecolor('#fffbf0')\n",
    "\n",
    "c = [mpatches.Circle((0.5, 0.5), radius = 0.25, facecolor=colors[i], edgecolor=\"none\") for i in range(len(classifiers))]\n",
    "plt.legend(c,classifiers,loc=(1.01,0.8), facecolor='none', edgecolor='none')\n",
    "\n",
    "#cb = plt.colorbar()\n",
    "#loc = np.arange(0,max(label),max(label)/float(len(colors)))\n",
    "#cb.set_ticks([0.5,1.5,2.2,3,4,5])\n",
    "#cb.set_ticklabels(classifiers)\n",
    "plt.savefig('hyperopt1.png', transparent=True)\n",
    "plt.show()"
   ]
  },
  {
   "cell_type": "code",
   "execution_count": 575,
   "metadata": {},
   "outputs": [
    {
     "data": {
      "text/plain": [
       "tuple"
      ]
     },
     "execution_count": 575,
     "metadata": {},
     "output_type": "execute_result"
    }
   ],
   "source": [
    "type(trials)"
   ]
  },
  {
   "cell_type": "code",
   "execution_count": 576,
   "metadata": {},
   "outputs": [
    {
     "data": {
      "text/plain": [
       "list"
      ]
     },
     "execution_count": 576,
     "metadata": {},
     "output_type": "execute_result"
    }
   ],
   "source": [
    "type(losses)"
   ]
  },
  {
   "cell_type": "code",
   "execution_count": null,
   "metadata": {},
   "outputs": [],
   "source": []
  },
  {
   "cell_type": "markdown",
   "metadata": {},
   "source": [
    "## Implementing best model"
   ]
  },
  {
   "cell_type": "code",
   "execution_count": 577,
   "metadata": {},
   "outputs": [
    {
     "data": {
      "text/plain": [
       "Pipeline(memory=None,\n",
       "     steps=[('standardscaler', StandardScaler(copy=True, with_mean=True, with_std=True)), ('svc', SVC(C=4.907407475117302, cache_size=200, class_weight=None, coef0=0.0,\n",
       "  decision_function_shape='ovr', degree=3, gamma=0.041596476259419986,\n",
       "  kernel='rbf', max_iter=-1, probability=True, random_state=None,\n",
       "  shrinking=True, tol=0.001, verbose=False))])"
      ]
     },
     "execution_count": 577,
     "metadata": {},
     "output_type": "execute_result"
    }
   ],
   "source": [
    "best_pipeline = make_pipeline(StandardScaler(), SVC(kernel='rbf', \n",
    "                                                    gamma=best_model_choice['svc_gamma_rbf'], \n",
    "                                                    C=best_model_choice['svc_C'],\n",
    "                                                    probability = True))\n",
    "best_pipeline.fit(X_train, y_train)"
   ]
  },
  {
   "cell_type": "code",
   "execution_count": 578,
   "metadata": {},
   "outputs": [],
   "source": [
    "y_pred = best_pipeline.predict(X_test)"
   ]
  },
  {
   "cell_type": "code",
   "execution_count": 739,
   "metadata": {},
   "outputs": [
    {
     "data": {
      "text/plain": [
       "array([1, 3, 1, 1, 3, 2, 3, 0, 3, 3, 3, 3, 1, 3, 2, 3, 3, 0, 3, 1, 1, 3,\n",
       "       1, 3, 1, 2, 0, 1, 3, 3, 2, 3, 1, 3, 2, 1, 3, 1, 1, 2, 1, 1, 0, 3,\n",
       "       1, 2, 0, 2, 2, 3, 3, 2, 3, 3, 2, 2, 1, 3, 1, 1, 1, 3, 3, 3, 3, 2,\n",
       "       3, 2, 2, 2, 1, 2, 3, 1, 1, 1, 3, 3, 1, 0, 1, 3, 3, 3, 3, 3, 1, 3,\n",
       "       1, 1, 3, 2, 1, 1, 2, 1, 0, 3, 2, 1, 2, 3, 2, 2, 1, 2, 2, 1, 2, 3,\n",
       "       0, 3, 1, 3, 2, 1, 0, 3, 1, 3, 1, 2, 3, 3, 1, 3, 3, 3, 1, 1, 2, 1,\n",
       "       3, 3, 2, 1, 3, 2, 0, 3, 2, 3, 3, 1, 3, 3, 3])"
      ]
     },
     "execution_count": 739,
     "metadata": {},
     "output_type": "execute_result"
    }
   ],
   "source": [
    "pd.Series(y_pred).apply(lambda x: class_dict[x]).values"
   ]
  },
  {
   "cell_type": "code",
   "execution_count": 741,
   "metadata": {},
   "outputs": [
    {
     "data": {
      "text/plain": [
       "array([1, 2, 1, 2, 3, 1, 3, 0, 0, 3, 3, 3, 0, 3, 3, 3, 3, 1, 2, 1, 0, 0,\n",
       "       1, 3, 1, 2, 1, 1, 3, 3, 3, 0, 2, 3, 2, 1, 3, 2, 2, 2, 1, 1, 0, 3,\n",
       "       2, 2, 0, 2, 2, 0, 2, 3, 2, 3, 0, 2, 0, 0, 0, 1, 2, 2, 1, 1, 3, 2,\n",
       "       0, 2, 2, 2, 0, 0, 3, 2, 1, 3, 1, 2, 2, 2, 1, 3, 2, 0, 3, 3, 1, 0,\n",
       "       1, 3, 0, 1, 1, 1, 2, 0, 0, 3, 2, 3, 2, 3, 2, 3, 1, 2, 3, 3, 2, 0,\n",
       "       3, 3, 1, 1, 2, 0, 0, 3, 1, 3, 3, 2, 3, 1, 1, 3, 3, 3, 3, 1, 0, 1,\n",
       "       0, 3, 1, 1, 3, 1, 3, 1, 1, 3, 3, 1, 0, 2, 3])"
      ]
     },
     "execution_count": 741,
     "metadata": {},
     "output_type": "execute_result"
    }
   ],
   "source": [
    "pd.Series(y_test).apply(lambda x: class_dict[x]).values"
   ]
  },
  {
   "cell_type": "code",
   "execution_count": 742,
   "metadata": {},
   "outputs": [
    {
     "data": {
      "text/plain": [
       "0.5578231292517006"
      ]
     },
     "execution_count": 742,
     "metadata": {},
     "output_type": "execute_result"
    }
   ],
   "source": [
    "y_pred_t = pd.get_dummies(pd.Series(y_pred),)\n",
    "y_test_t = pd.Series(y_test).apply(lambda x: class_dict[x]).values\n",
    "\n",
    "accuracy_score(y_test, y_pred)"
   ]
  },
  {
   "cell_type": "markdown",
   "metadata": {},
   "source": [
    "## Plotting Results of SVM Classifier:"
   ]
  },
  {
   "cell_type": "code",
   "execution_count": 579,
   "metadata": {},
   "outputs": [],
   "source": [
    "from sklearn.metrics import confusion_matrix\n",
    "\n",
    "conf_mat = confusion_matrix(y_test, y_pred, labels=['Brazil','Colombia','Guatemala','Mexico'])"
   ]
  },
  {
   "cell_type": "code",
   "execution_count": 580,
   "metadata": {},
   "outputs": [],
   "source": [
    "class_dict = {'Brazil':0, 'Colombia':1, 'Guatemala':2, 'Mexico':3}"
   ]
  },
  {
   "cell_type": "code",
   "execution_count": 581,
   "metadata": {},
   "outputs": [
    {
     "data": {
      "image/png": "[encoded data removed]",
      "text/plain": [
       "<Figure size 576x396 with 2 Axes>"
      ]
     },
     "metadata": {},
     "output_type": "display_data"
    }
   ],
   "source": [
    "plt.figure(figsize = (8,5.5))\n",
    "conf_heatmap = sns.heatmap(conf_mat, annot=True, xticklabels=['Brazil','Colombia','Guatemala','Mexico'], \n",
    "                           yticklabels=['Brazil','Colombia','Guatemala','Mexico'],\n",
    "                           cmap = sns.color_palette(\"GnBu_d\"))\n",
    "plt.xlabel('Predicted')\n",
    "plt.ylabel('True')\n",
    "conf_heatmap.figure.savefig('conf_heatmap1.png', transparent=True)"
   ]
  },
  {
   "cell_type": "code",
   "execution_count": 582,
   "metadata": {},
   "outputs": [
    {
     "data": {
      "text/plain": [
       "Mexico       47\n",
       "Colombia     37\n",
       "Guatemala    36\n",
       "Brazil       27\n",
       "Name: Country.of.Origin, dtype: int64"
      ]
     },
     "execution_count": 582,
     "metadata": {},
     "output_type": "execute_result"
    }
   ],
   "source": [
    "y_test.value_counts()"
   ]
  },
  {
   "cell_type": "code",
   "execution_count": 703,
   "metadata": {},
   "outputs": [
    {
     "data": {
      "image/png": "[encoded data removed]",
      "text/plain": [
       "<Figure size 576x288 with 2 Axes>"
      ]
     },
     "metadata": {},
     "output_type": "display_data"
    }
   ],
   "source": [
    "# add jitter\n",
    "def rand_jitter(arr):\n",
    "    stdev = .02*(max(arr)-min(arr))\n",
    "    return arr + np.random.randn(len(arr)) * stdev\n",
    "\n",
    "x = X_test['Balance']\n",
    "x = rand_jitter(x)\n",
    "y = y_test.apply(lambda x: class_dict[x])\n",
    "y = rand_jitter(y)\n",
    "label = pd.Series(y_pred).apply(lambda x: class_dict[x])\n",
    "colors = ['#d98f5e', '#664C3e', '#6eb6be', '#9b98fd']\n",
    "countries = ['Brazil','Colombia','Guatemala','Mexico']\n",
    "\n",
    "fig = plt.figure(figsize=(8,4))\n",
    "ax = fig.add_subplot(1, 1, 1)\n",
    "ax.set_facecolor('#fffbf0')\n",
    "\n",
    "plt.scatter(x, y, c=label, cmap=matplotlib.colors.ListedColormap(colors), alpha=0.7)\n",
    "\n",
    "plt.yticks([0,1,2,3,4], countries)\n",
    "plt.ylabel('True Country of Origin')\n",
    "plt.xlabel('Rating: Balance')\n",
    "\n",
    "cb = plt.colorbar()\n",
    "cb.set_label('Predicted', rotation=270)\n",
    "loc = np.arange(0,max(label),max(label)/float(len(colors)))\n",
    "cb.set_ticks([0.5,1,2,2.5])\n",
    "cb.set_ticklabels(countries)\n",
    "plt.savefig('label_scatter1.png', transparent=True)"
   ]
  },
  {
   "cell_type": "code",
   "execution_count": null,
   "metadata": {},
   "outputs": [],
   "source": []
  },
  {
   "cell_type": "markdown",
   "metadata": {},
   "source": [
    "## Permutation Importance: Gaining Insight into Feature Importance"
   ]
  },
  {
   "cell_type": "code",
   "execution_count": 614,
   "metadata": {},
   "outputs": [],
   "source": [
    "class_dict = {'Brazil':0, 'Colombia':1, 'Guatemala':2, 'Mexico':3}"
   ]
  },
  {
   "cell_type": "code",
   "execution_count": 670,
   "metadata": {},
   "outputs": [],
   "source": [
    "def perm_import(fitted_pipeline, X_test, y_test):\n",
    "    y_pred = fitted_pipeline.predict_proba(X_test)\n",
    "    y_test_n = [class_dict[country] for country in y_test]\n",
    "    y_test_n = pd.get_dummies(y_test_n)\n",
    "    \n",
    "    loss = log_loss(y_test_n, y_pred)\n",
    "    print(loss)\n",
    "    \n",
    "    feature_importances = {}\n",
    "    for feat in X_test.columns:\n",
    "        X_test_copy = deepcopy(X_test)\n",
    "        feat_to_randomize = deepcopy(X_test[feat])\n",
    "        feat_to_randomize = feat_to_randomize.sample(frac=1)\n",
    "        feat_to_randomize.reset_index(inplace=True, drop=True)\n",
    "        X_test_copy.loc[:,feat] = feat_to_randomize.values\n",
    "        \n",
    "        y_pred = fitted_pipeline.predict_proba(X_test_copy)\n",
    "        feat_loss = log_loss(y_test_n, y_pred)\n",
    "        feat_import = feat_loss - loss\n",
    "        feature_importances[feat] = feat_import\n",
    "        \n",
    "    return feature_importances\n",
    "    \n",
    "    "
   ]
  },
  {
   "cell_type": "code",
   "execution_count": 671,
   "metadata": {},
   "outputs": [
    {
     "data": {
      "text/plain": [
       "dict_items([('model_type', 1), ('svc_C', 4.907407475117302), ('svc_class_wt', 1), ('svc_gamma_rbf', 0.041596476259419986), ('svc_kernel', 1)])"
      ]
     },
     "execution_count": 671,
     "metadata": {},
     "output_type": "execute_result"
    }
   ],
   "source": [
    "best_model_choice.items()"
   ]
  },
  {
   "cell_type": "code",
   "execution_count": 672,
   "metadata": {},
   "outputs": [
    {
     "name": "stdout",
     "output_type": "stream",
     "text": [
      "1.1116275577089507\n"
     ]
    }
   ],
   "source": [
    "feature_importances = perm_import(best_pipeline, X_test, y_test)"
   ]
  },
  {
   "cell_type": "code",
   "execution_count": 673,
   "metadata": {},
   "outputs": [
    {
     "data": {
      "text/plain": [
       "{'Aroma': 0.12974963285426688,\n",
       " 'Flavor': 0.12986393224749793,\n",
       " 'Aftertaste': 0.297953623431086,\n",
       " 'Acidity': 0.11474525186340512,\n",
       " 'Body': 0.13717283406064418,\n",
       " 'Balance': 0.20671520759942474,\n",
       " 'Sweetness': 0.008909692224236654,\n",
       " 'Uniformity': 0.03899295746267728,\n",
       " 'Clean.Cup': 0.022873536880897216}"
      ]
     },
     "execution_count": 673,
     "metadata": {},
     "output_type": "execute_result"
    }
   ],
   "source": [
    "feature_importances"
   ]
  },
  {
   "cell_type": "code",
   "execution_count": 656,
   "metadata": {},
   "outputs": [],
   "source": [
    "#with open('best_pipeline_no_gpctune.pickle', 'wb') as f:\n",
    "#    pickle.dump(best_pipeline, f)\n",
    "#with open('feat_imp_no_gpctune.pickle', 'wb') as f:\n",
    "#    pickle.dump(feature_importances, f)\n"
   ]
  },
  {
   "cell_type": "code",
   "execution_count": 674,
   "metadata": {},
   "outputs": [
    {
     "data": {
      "text/plain": [
       "[('Aftertaste', 0.297953623431086),\n",
       " ('Balance', 0.20671520759942474),\n",
       " ('Body', 0.13717283406064418),\n",
       " ('Flavor', 0.12986393224749793),\n",
       " ('Aroma', 0.12974963285426688),\n",
       " ('Acidity', 0.11474525186340512),\n",
       " ('Uniformity', 0.03899295746267728),\n",
       " ('Clean.Cup', 0.022873536880897216),\n",
       " ('Sweetness', 0.008909692224236654)]"
      ]
     },
     "execution_count": 674,
     "metadata": {},
     "output_type": "execute_result"
    }
   ],
   "source": [
    "feats_by_importance = sorted(feature_importances.items(), key= lambda x: x[1], reverse=True)\n",
    "feats_by_importance"
   ]
  },
  {
   "cell_type": "code",
   "execution_count": 675,
   "metadata": {},
   "outputs": [],
   "source": [
    "feats, perm_imps = zip(*(feats_by_importance))"
   ]
  },
  {
   "cell_type": "code",
   "execution_count": 678,
   "metadata": {},
   "outputs": [
    {
     "data": {
      "text/plain": [
       "(0.297953623431086,\n",
       " 0.20671520759942474,\n",
       " 0.13717283406064418,\n",
       " 0.12986393224749793,\n",
       " 0.12974963285426688,\n",
       " 0.11474525186340512,\n",
       " 0.03899295746267728,\n",
       " 0.022873536880897216,\n",
       " 0.008909692224236654)"
      ]
     },
     "execution_count": 678,
     "metadata": {},
     "output_type": "execute_result"
    }
   ],
   "source": [
    "perm_imps"
   ]
  },
  {
   "cell_type": "code",
   "execution_count": 718,
   "metadata": {},
   "outputs": [
    {
     "data": {
      "image/png": "[encoded data removed]",
      "text/plain": [
       "<Figure size 432x288 with 1 Axes>"
      ]
     },
     "metadata": {},
     "output_type": "display_data"
    }
   ],
   "source": [
    "plt.barh(y=sorted(range(len(feats)), reverse=True), width=perm_imps, height=0.8, tick_label=feat, color='#664C3e')\n",
    "plt.savefig('feat_importances1.png', transparent=True)"
   ]
  },
  {
   "cell_type": "code",
   "execution_count": 744,
   "metadata": {},
   "outputs": [
    {
     "data": {
      "text/plain": [
       "Aroma         7.545260\n",
       "Flavor        7.495820\n",
       "Aftertaste    7.350123\n",
       "Acidity       7.517801\n",
       "Body          7.490874\n",
       "Balance       7.495109\n",
       "Sweetness     9.938019\n",
       "Uniformity    9.843866\n",
       "Clean.Cup     9.822336\n",
       "dtype: float64"
      ]
     },
     "execution_count": 744,
     "metadata": {},
     "output_type": "execute_result"
    }
   ],
   "source": [
    "to_model.mean()"
   ]
  },
  {
   "cell_type": "code",
   "execution_count": 553,
   "metadata": {},
   "outputs": [
    {
     "data": {
      "text/html": [
       "<div>\n",
       "<style scoped>\n",
       "    .dataframe tbody tr th:only-of-type {\n",
       "        vertical-align: middle;\n",
       "    }\n",
       "\n",
       "    .dataframe tbody tr th {\n",
       "        vertical-align: top;\n",
       "    }\n",
       "\n",
       "    .dataframe thead tr th {\n",
       "        text-align: left;\n",
       "    }\n",
       "\n",
       "    .dataframe thead tr:last-of-type th {\n",
       "        text-align: right;\n",
       "    }\n",
       "</style>\n",
       "<table border=\"1\" class=\"dataframe\">\n",
       "  <thead>\n",
       "    <tr>\n",
       "      <th></th>\n",
       "      <th colspan=\"2\" halign=\"left\">Aroma</th>\n",
       "      <th colspan=\"2\" halign=\"left\">Flavor</th>\n",
       "      <th colspan=\"2\" halign=\"left\">Aftertaste</th>\n",
       "      <th colspan=\"2\" halign=\"left\">Acidity</th>\n",
       "      <th colspan=\"2\" halign=\"left\">Body</th>\n",
       "      <th colspan=\"2\" halign=\"left\">Balance</th>\n",
       "      <th colspan=\"2\" halign=\"left\">Sweetness</th>\n",
       "      <th colspan=\"2\" halign=\"left\">Uniformity</th>\n",
       "      <th colspan=\"2\" halign=\"left\">Clean.Cup</th>\n",
       "    </tr>\n",
       "    <tr>\n",
       "      <th></th>\n",
       "      <th>mean</th>\n",
       "      <th>std</th>\n",
       "      <th>mean</th>\n",
       "      <th>std</th>\n",
       "      <th>mean</th>\n",
       "      <th>std</th>\n",
       "      <th>mean</th>\n",
       "      <th>std</th>\n",
       "      <th>mean</th>\n",
       "      <th>std</th>\n",
       "      <th>mean</th>\n",
       "      <th>std</th>\n",
       "      <th>mean</th>\n",
       "      <th>std</th>\n",
       "      <th>mean</th>\n",
       "      <th>std</th>\n",
       "      <th>mean</th>\n",
       "      <th>std</th>\n",
       "    </tr>\n",
       "    <tr>\n",
       "      <th>Country.of.Origin</th>\n",
       "      <th></th>\n",
       "      <th></th>\n",
       "      <th></th>\n",
       "      <th></th>\n",
       "      <th></th>\n",
       "      <th></th>\n",
       "      <th></th>\n",
       "      <th></th>\n",
       "      <th></th>\n",
       "      <th></th>\n",
       "      <th></th>\n",
       "      <th></th>\n",
       "      <th></th>\n",
       "      <th></th>\n",
       "      <th></th>\n",
       "      <th></th>\n",
       "      <th></th>\n",
       "      <th></th>\n",
       "    </tr>\n",
       "  </thead>\n",
       "  <tbody>\n",
       "    <tr>\n",
       "      <th>Brazil</th>\n",
       "      <td>7.553106</td>\n",
       "      <td>0.327135</td>\n",
       "      <td>7.573561</td>\n",
       "      <td>0.277525</td>\n",
       "      <td>7.440530</td>\n",
       "      <td>0.273022</td>\n",
       "      <td>7.511439</td>\n",
       "      <td>0.258676</td>\n",
       "      <td>7.544545</td>\n",
       "      <td>0.252754</td>\n",
       "      <td>7.531515</td>\n",
       "      <td>0.297861</td>\n",
       "      <td>9.949394</td>\n",
       "      <td>0.314962</td>\n",
       "      <td>9.884924</td>\n",
       "      <td>0.475702</td>\n",
       "      <td>9.853485</td>\n",
       "      <td>0.612465</td>\n",
       "    </tr>\n",
       "    <tr>\n",
       "      <th>Colombia</th>\n",
       "      <td>7.653060</td>\n",
       "      <td>0.268421</td>\n",
       "      <td>7.597104</td>\n",
       "      <td>0.176936</td>\n",
       "      <td>7.524699</td>\n",
       "      <td>0.210470</td>\n",
       "      <td>7.560000</td>\n",
       "      <td>0.283138</td>\n",
       "      <td>7.609508</td>\n",
       "      <td>0.270332</td>\n",
       "      <td>7.708415</td>\n",
       "      <td>0.259393</td>\n",
       "      <td>9.952678</td>\n",
       "      <td>0.363029</td>\n",
       "      <td>9.934426</td>\n",
       "      <td>0.383193</td>\n",
       "      <td>9.945355</td>\n",
       "      <td>0.368744</td>\n",
       "    </tr>\n",
       "    <tr>\n",
       "      <th>Guatemala</th>\n",
       "      <td>7.544862</td>\n",
       "      <td>0.310297</td>\n",
       "      <td>7.489006</td>\n",
       "      <td>0.372653</td>\n",
       "      <td>7.266851</td>\n",
       "      <td>0.376273</td>\n",
       "      <td>7.596409</td>\n",
       "      <td>0.278054</td>\n",
       "      <td>7.475746</td>\n",
       "      <td>0.295157</td>\n",
       "      <td>7.469890</td>\n",
       "      <td>0.322361</td>\n",
       "      <td>9.870884</td>\n",
       "      <td>0.696395</td>\n",
       "      <td>9.852486</td>\n",
       "      <td>0.407275</td>\n",
       "      <td>9.889337</td>\n",
       "      <td>0.687100</td>\n",
       "    </tr>\n",
       "    <tr>\n",
       "      <th>Mexico</th>\n",
       "      <td>7.457585</td>\n",
       "      <td>0.274343</td>\n",
       "      <td>7.379025</td>\n",
       "      <td>0.328595</td>\n",
       "      <td>7.228051</td>\n",
       "      <td>0.315775</td>\n",
       "      <td>7.428347</td>\n",
       "      <td>0.266398</td>\n",
       "      <td>7.380466</td>\n",
       "      <td>0.212731</td>\n",
       "      <td>7.328686</td>\n",
       "      <td>0.313179</td>\n",
       "      <td>9.971780</td>\n",
       "      <td>0.219766</td>\n",
       "      <td>9.744068</td>\n",
       "      <td>0.600346</td>\n",
       "      <td>9.658136</td>\n",
       "      <td>1.210437</td>\n",
       "    </tr>\n",
       "  </tbody>\n",
       "</table>\n",
       "</div>"
      ],
      "text/plain": [
       "                      Aroma              Flavor           Aftertaste  \\\n",
       "                       mean       std      mean       std       mean   \n",
       "Country.of.Origin                                                      \n",
       "Brazil             7.553106  0.327135  7.573561  0.277525   7.440530   \n",
       "Colombia           7.653060  0.268421  7.597104  0.176936   7.524699   \n",
       "Guatemala          7.544862  0.310297  7.489006  0.372653   7.266851   \n",
       "Mexico             7.457585  0.274343  7.379025  0.328595   7.228051   \n",
       "\n",
       "                              Acidity                Body             Balance  \\\n",
       "                        std      mean       std      mean       std      mean   \n",
       "Country.of.Origin                                                               \n",
       "Brazil             0.273022  7.511439  0.258676  7.544545  0.252754  7.531515   \n",
       "Colombia           0.210470  7.560000  0.283138  7.609508  0.270332  7.708415   \n",
       "Guatemala          0.376273  7.596409  0.278054  7.475746  0.295157  7.469890   \n",
       "Mexico             0.315775  7.428347  0.266398  7.380466  0.212731  7.328686   \n",
       "\n",
       "                            Sweetness           Uniformity            \\\n",
       "                        std      mean       std       mean       std   \n",
       "Country.of.Origin                                                      \n",
       "Brazil             0.297861  9.949394  0.314962   9.884924  0.475702   \n",
       "Colombia           0.259393  9.952678  0.363029   9.934426  0.383193   \n",
       "Guatemala          0.322361  9.870884  0.696395   9.852486  0.407275   \n",
       "Mexico             0.313179  9.971780  0.219766   9.744068  0.600346   \n",
       "\n",
       "                  Clean.Cup            \n",
       "                       mean       std  \n",
       "Country.of.Origin                      \n",
       "Brazil             9.853485  0.612465  \n",
       "Colombia           9.945355  0.368744  \n",
       "Guatemala          9.889337  0.687100  \n",
       "Mexico             9.658136  1.210437  "
      ]
     },
     "execution_count": 553,
     "metadata": {},
     "output_type": "execute_result"
    }
   ],
   "source": [
    "to_model.groupby(by='Country.of.Origin').agg([np.mean, np.std])"
   ]
  },
  {
   "cell_type": "code",
   "execution_count": 704,
   "metadata": {},
   "outputs": [
    {
     "data": {
      "image/png": "[encoded data removed]",
      "text/plain": [
       "<Figure size 432x324 with 1 Axes>"
      ]
     },
     "metadata": {},
     "output_type": "display_data"
    }
   ],
   "source": [
    "# add jitter\n",
    "def rand_jitter(arr):\n",
    "    stdev = .005*(max(arr)-min(arr))\n",
    "    return arr + np.random.randn(len(arr)) * stdev\n",
    "\n",
    "class_dict = {'Brazil':0, 'Colombia':1, 'Guatemala':2, 'Mexico':3}\n",
    "\n",
    "feat1 = 'Balance'\n",
    "feat2 = 'Flavor'\n",
    "\n",
    "\n",
    "x = X[feat1]\n",
    "x = rand_jitter(x)\n",
    "y = X[feat2]\n",
    "y = rand_jitter(y)\n",
    "label = pd.Series(to_model['Country.of.Origin']).apply(lambda x: class_dict[x])\n",
    "colors = ['#d98f5e', '#664C3e', '#6eb6be', '#9b98fd']\n",
    "countries = ['Brazil','Colombia','Guatemala','Mexico']\n",
    "\n",
    "fig = plt.figure(figsize=(6,4.5))\n",
    "ax = fig.add_subplot(1, 1, 1)\n",
    "ax.set_facecolor('#fffbf0')\n",
    "\n",
    "plt.scatter(x, y, c=label, cmap=matplotlib.colors.ListedColormap(colors), alpha=0.5)\n",
    "#plt.xlim(6.5,8.5)\n",
    "plt.xlabel('Rating: '+ feat1)\n",
    "plt.ylabel('Rating: '+ feat2)\n",
    "\n",
    "c = [mpatches.Circle((0.5, 0.5), radius = 0.25, facecolor=colors[i], edgecolor=\"none\") for i in range(len(countries))]\n",
    "plt.legend(c,countries,loc=(1.01,0.5), facecolor='none', edgecolor='none')\n",
    "plt.savefig('feat1VSfeat2.png', transparent=True)\n",
    "plt.show()"
   ]
  },
  {
   "cell_type": "code",
   "execution_count": 715,
   "metadata": {},
   "outputs": [
    {
     "data": {
      "text/plain": [
       "range(0, 4)"
      ]
     },
     "execution_count": 715,
     "metadata": {},
     "output_type": "execute_result"
    }
   ],
   "source": [
    "range(len(countries))"
   ]
  },
  {
   "cell_type": "code",
   "execution_count": 731,
   "metadata": {},
   "outputs": [
    {
     "data": {
      "image/png": "[encoded data removed]",
      "text/plain": [
       "<Figure size 288x180 with 1 Axes>"
      ]
     },
     "metadata": {},
     "output_type": "display_data"
    }
   ],
   "source": [
    "plt.figure(figsize=(4,2.5))\n",
    "plt.barh(width = sorted(list(y_test.value_counts())), y=range(len(countries)), height=0.5, tick_label=countries, color=['#664C3e','#664C3e','#664C3e','#9b98fd'])\n",
    "plt.savefig('country_counts1.png', transparent=True)"
   ]
  },
  {
   "cell_type": "code",
   "execution_count": 712,
   "metadata": {},
   "outputs": [
    {
     "data": {
      "text/plain": [
       "[47, 37, 36, 27]"
      ]
     },
     "execution_count": 712,
     "metadata": {},
     "output_type": "execute_result"
    }
   ],
   "source": [
    "list(y_test.value_counts())"
   ]
  },
  {
   "cell_type": "code",
   "execution_count": null,
   "metadata": {},
   "outputs": [],
   "source": []
  }
 ],
 "metadata": {
  "kernelspec": {
   "display_name": "Python 3",
   "language": "python",
   "name": "python3"
  },
  "language_info": {
   "codemirror_mode": {
    "name": "ipython",
    "version": 3
   },
   "file_extension": ".py",
   "mimetype": "text/x-python",
   "name": "python",
   "nbconvert_exporter": "python",
   "pygments_lexer": "ipython3",
   "version": "3.6.6"
  }
 },
 "nbformat": 4,
 "nbformat_minor": 2
}
